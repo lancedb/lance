{
 "cells": [
  {
   "cell_type": "code",
   "execution_count": 1,
   "id": "8daaca79",
   "metadata": {},
   "outputs": [],
   "source": [
    "import lance\n",
    "import duckdb\n",
    "import numpy as np\n",
    "import pandas as pd\n",
    "import pyarrow as pa\n",
    "import pyarrow.dataset\n",
    "import shutil"
   ]
  },
  {
   "cell_type": "markdown",
   "id": "e6a08856",
   "metadata": {},
   "source": [
    "## Creating datasets\n",
    "\n",
    "Via pyarrow it's really easy to create lance datasets"
   ]
  },
  {
   "cell_type": "markdown",
   "id": "1af35939",
   "metadata": {},
   "source": [
    "Create a dataframe"
   ]
  },
  {
   "cell_type": "code",
   "execution_count": 2,
   "id": "e595a4dc",
   "metadata": {},
   "outputs": [
    {
     "data": {
      "text/html": [
       "<div>\n",
       "<style scoped>\n",
       "    .dataframe tbody tr th:only-of-type {\n",
       "        vertical-align: middle;\n",
       "    }\n",
       "\n",
       "    .dataframe tbody tr th {\n",
       "        vertical-align: top;\n",
       "    }\n",
       "\n",
       "    .dataframe thead th {\n",
       "        text-align: right;\n",
       "    }\n",
       "</style>\n",
       "<table border=\"1\" class=\"dataframe\">\n",
       "  <thead>\n",
       "    <tr style=\"text-align: right;\">\n",
       "      <th></th>\n",
       "      <th>a</th>\n",
       "    </tr>\n",
       "  </thead>\n",
       "  <tbody>\n",
       "    <tr>\n",
       "      <th>0</th>\n",
       "      <td>5</td>\n",
       "    </tr>\n",
       "  </tbody>\n",
       "</table>\n",
       "</div>"
      ],
      "text/plain": [
       "   a\n",
       "0  5"
      ]
     },
     "execution_count": 2,
     "metadata": {},
     "output_type": "execute_result"
    }
   ],
   "source": [
    "df = pd.DataFrame({\"a\": [5]})\n",
    "df"
   ]
  },
  {
   "cell_type": "markdown",
   "id": "aaba1ba2",
   "metadata": {},
   "source": [
    "Write it to lance"
   ]
  },
  {
   "cell_type": "code",
   "execution_count": 3,
   "id": "0f81f858",
   "metadata": {},
   "outputs": [
    {
     "data": {
      "text/html": [
       "<div>\n",
       "<style scoped>\n",
       "    .dataframe tbody tr th:only-of-type {\n",
       "        vertical-align: middle;\n",
       "    }\n",
       "\n",
       "    .dataframe tbody tr th {\n",
       "        vertical-align: top;\n",
       "    }\n",
       "\n",
       "    .dataframe thead th {\n",
       "        text-align: right;\n",
       "    }\n",
       "</style>\n",
       "<table border=\"1\" class=\"dataframe\">\n",
       "  <thead>\n",
       "    <tr style=\"text-align: right;\">\n",
       "      <th></th>\n",
       "      <th>a</th>\n",
       "    </tr>\n",
       "  </thead>\n",
       "  <tbody>\n",
       "    <tr>\n",
       "      <th>0</th>\n",
       "      <td>5</td>\n",
       "    </tr>\n",
       "  </tbody>\n",
       "</table>\n",
       "</div>"
      ],
      "text/plain": [
       "   a\n",
       "0  5"
      ]
     },
     "execution_count": 3,
     "metadata": {},
     "output_type": "execute_result"
    }
   ],
   "source": [
    "shutil.rmtree(\"/tmp/test_df.lance\", ignore_errors=True)\n",
    "\n",
    "dataset = lance.write_dataset(df, \"/tmp/test_df.lance\")\n",
    "dataset.to_table().to_pandas()"
   ]
  },
  {
   "cell_type": "markdown",
   "id": "c70bc8b7",
   "metadata": {},
   "source": [
    "### Converting from parquet"
   ]
  },
  {
   "cell_type": "code",
   "execution_count": 4,
   "id": "6b059ca3",
   "metadata": {},
   "outputs": [
    {
     "data": {
      "text/html": [
       "<div>\n",
       "<style scoped>\n",
       "    .dataframe tbody tr th:only-of-type {\n",
       "        vertical-align: middle;\n",
       "    }\n",
       "\n",
       "    .dataframe tbody tr th {\n",
       "        vertical-align: top;\n",
       "    }\n",
       "\n",
       "    .dataframe thead th {\n",
       "        text-align: right;\n",
       "    }\n",
       "</style>\n",
       "<table border=\"1\" class=\"dataframe\">\n",
       "  <thead>\n",
       "    <tr style=\"text-align: right;\">\n",
       "      <th></th>\n",
       "      <th>a</th>\n",
       "    </tr>\n",
       "  </thead>\n",
       "  <tbody>\n",
       "    <tr>\n",
       "      <th>0</th>\n",
       "      <td>5</td>\n",
       "    </tr>\n",
       "  </tbody>\n",
       "</table>\n",
       "</div>"
      ],
      "text/plain": [
       "   a\n",
       "0  5"
      ]
     },
     "execution_count": 4,
     "metadata": {},
     "output_type": "execute_result"
    }
   ],
   "source": [
    "shutil.rmtree(\"/tmp/test.parquet\", ignore_errors=True)\n",
    "shutil.rmtree(\"/tmp/test_parquet.lance\", ignore_errors=True)\n",
    "\n",
    "tbl = pa.Table.from_pandas(df)\n",
    "pa.dataset.write_dataset(tbl, \"/tmp/test.parquet\", format='parquet')\n",
    "\n",
    "parquet = pa.dataset.dataset(\"/tmp/test.parquet\")\n",
    "parquet.to_table().to_pandas()"
   ]
  },
  {
   "cell_type": "markdown",
   "id": "796bd0ed",
   "metadata": {},
   "source": [
    "Write to lance in 1 line"
   ]
  },
  {
   "cell_type": "code",
   "execution_count": 5,
   "id": "49f3267e",
   "metadata": {},
   "outputs": [],
   "source": [
    "dataset = lance.write_dataset(parquet, \"/tmp/test_parquet.lance\")"
   ]
  },
  {
   "cell_type": "code",
   "execution_count": 6,
   "id": "181dc238",
   "metadata": {},
   "outputs": [
    {
     "data": {
      "text/html": [
       "<div>\n",
       "<style scoped>\n",
       "    .dataframe tbody tr th:only-of-type {\n",
       "        vertical-align: middle;\n",
       "    }\n",
       "\n",
       "    .dataframe tbody tr th {\n",
       "        vertical-align: top;\n",
       "    }\n",
       "\n",
       "    .dataframe thead th {\n",
       "        text-align: right;\n",
       "    }\n",
       "</style>\n",
       "<table border=\"1\" class=\"dataframe\">\n",
       "  <thead>\n",
       "    <tr style=\"text-align: right;\">\n",
       "      <th></th>\n",
       "      <th>a</th>\n",
       "    </tr>\n",
       "  </thead>\n",
       "  <tbody>\n",
       "    <tr>\n",
       "      <th>0</th>\n",
       "      <td>5</td>\n",
       "    </tr>\n",
       "  </tbody>\n",
       "</table>\n",
       "</div>"
      ],
      "text/plain": [
       "   a\n",
       "0  5"
      ]
     },
     "execution_count": 6,
     "metadata": {},
     "output_type": "execute_result"
    }
   ],
   "source": [
    "# make sure it's the same\n",
    "dataset.to_table().to_pandas()"
   ]
  },
  {
   "cell_type": "markdown",
   "id": "dd3bb968",
   "metadata": {},
   "source": [
    "## Versioning"
   ]
  },
  {
   "cell_type": "markdown",
   "id": "afe83b1a",
   "metadata": {},
   "source": [
    "We can append rows"
   ]
  },
  {
   "cell_type": "code",
   "execution_count": 7,
   "id": "8d35cb2f",
   "metadata": {},
   "outputs": [
    {
     "data": {
      "text/html": [
       "<div>\n",
       "<style scoped>\n",
       "    .dataframe tbody tr th:only-of-type {\n",
       "        vertical-align: middle;\n",
       "    }\n",
       "\n",
       "    .dataframe tbody tr th {\n",
       "        vertical-align: top;\n",
       "    }\n",
       "\n",
       "    .dataframe thead th {\n",
       "        text-align: right;\n",
       "    }\n",
       "</style>\n",
       "<table border=\"1\" class=\"dataframe\">\n",
       "  <thead>\n",
       "    <tr style=\"text-align: right;\">\n",
       "      <th></th>\n",
       "      <th>a</th>\n",
       "    </tr>\n",
       "  </thead>\n",
       "  <tbody>\n",
       "    <tr>\n",
       "      <th>0</th>\n",
       "      <td>50</td>\n",
       "    </tr>\n",
       "    <tr>\n",
       "      <th>1</th>\n",
       "      <td>100</td>\n",
       "    </tr>\n",
       "    <tr>\n",
       "      <th>2</th>\n",
       "      <td>10</td>\n",
       "    </tr>\n",
       "  </tbody>\n",
       "</table>\n",
       "</div>"
      ],
      "text/plain": [
       "     a\n",
       "0   50\n",
       "1  100\n",
       "2   10"
      ]
     },
     "execution_count": 7,
     "metadata": {},
     "output_type": "execute_result"
    }
   ],
   "source": [
    "df = pd.DataFrame({\"a\": [10]})\n",
    "tbl = pa.Table.from_pandas(df)\n",
    "dataset = lance.write_dataset(tbl, \"/tmp/test.lance\", mode=\"append\")\n",
    "\n",
    "dataset.to_table().to_pandas()"
   ]
  },
  {
   "cell_type": "markdown",
   "id": "5fbe4d27",
   "metadata": {},
   "source": [
    "We can overwrite the data and create a new version"
   ]
  },
  {
   "cell_type": "code",
   "execution_count": 8,
   "id": "00a1d2ab",
   "metadata": {},
   "outputs": [],
   "source": [
    "df = pd.DataFrame({\"a\": [50, 100]})\n",
    "tbl = pa.Table.from_pandas(df)\n",
    "dataset = lance.write_dataset(tbl, \"/tmp/test.lance\", mode=\"overwrite\")"
   ]
  },
  {
   "cell_type": "code",
   "execution_count": 9,
   "id": "999f9514",
   "metadata": {},
   "outputs": [
    {
     "data": {
      "text/html": [
       "<div>\n",
       "<style scoped>\n",
       "    .dataframe tbody tr th:only-of-type {\n",
       "        vertical-align: middle;\n",
       "    }\n",
       "\n",
       "    .dataframe tbody tr th {\n",
       "        vertical-align: top;\n",
       "    }\n",
       "\n",
       "    .dataframe thead th {\n",
       "        text-align: right;\n",
       "    }\n",
       "</style>\n",
       "<table border=\"1\" class=\"dataframe\">\n",
       "  <thead>\n",
       "    <tr style=\"text-align: right;\">\n",
       "      <th></th>\n",
       "      <th>a</th>\n",
       "    </tr>\n",
       "  </thead>\n",
       "  <tbody>\n",
       "    <tr>\n",
       "      <th>0</th>\n",
       "      <td>50</td>\n",
       "    </tr>\n",
       "    <tr>\n",
       "      <th>1</th>\n",
       "      <td>100</td>\n",
       "    </tr>\n",
       "  </tbody>\n",
       "</table>\n",
       "</div>"
      ],
      "text/plain": [
       "     a\n",
       "0   50\n",
       "1  100"
      ]
     },
     "execution_count": 9,
     "metadata": {},
     "output_type": "execute_result"
    }
   ],
   "source": [
    "dataset.to_table().to_pandas()"
   ]
  },
  {
   "cell_type": "markdown",
   "id": "1780e384",
   "metadata": {},
   "source": [
    "The old version is still there"
   ]
  },
  {
   "cell_type": "code",
   "execution_count": 10,
   "id": "717e1d0e",
   "metadata": {},
   "outputs": [
    {
     "data": {
      "text/plain": [
       "[{'version': 8,\n",
       "  'timestamp': datetime.datetime(2023, 2, 13, 14, 54, 18),\n",
       "  'metadata': {}},\n",
       " {'version': 9,\n",
       "  'timestamp': datetime.datetime(2023, 2, 13, 14, 54, 18),\n",
       "  'metadata': {}},\n",
       " {'version': 2,\n",
       "  'timestamp': datetime.datetime(2023, 2, 13, 14, 54, 18),\n",
       "  'metadata': {}},\n",
       " {'version': 3,\n",
       "  'timestamp': datetime.datetime(2023, 2, 13, 14, 54, 18),\n",
       "  'metadata': {}},\n",
       " {'version': 5,\n",
       "  'timestamp': datetime.datetime(2023, 2, 13, 14, 54, 18),\n",
       "  'metadata': {}},\n",
       " {'version': 4,\n",
       "  'timestamp': datetime.datetime(2023, 2, 13, 14, 54, 18),\n",
       "  'metadata': {}},\n",
       " {'version': 1,\n",
       "  'timestamp': datetime.datetime(2023, 2, 13, 14, 54, 18),\n",
       "  'metadata': {}},\n",
       " {'version': 6,\n",
       "  'timestamp': datetime.datetime(2023, 2, 13, 14, 54, 18),\n",
       "  'metadata': {}},\n",
       " {'version': 7,\n",
       "  'timestamp': datetime.datetime(2023, 2, 13, 14, 54, 18),\n",
       "  'metadata': {}}]"
      ]
     },
     "execution_count": 10,
     "metadata": {},
     "output_type": "execute_result"
    }
   ],
   "source": [
    "dataset.versions()"
   ]
  },
  {
   "cell_type": "code",
   "execution_count": 11,
   "id": "be1a982f",
   "metadata": {},
   "outputs": [
    {
     "data": {
      "text/html": [
       "<div>\n",
       "<style scoped>\n",
       "    .dataframe tbody tr th:only-of-type {\n",
       "        vertical-align: middle;\n",
       "    }\n",
       "\n",
       "    .dataframe tbody tr th {\n",
       "        vertical-align: top;\n",
       "    }\n",
       "\n",
       "    .dataframe thead th {\n",
       "        text-align: right;\n",
       "    }\n",
       "</style>\n",
       "<table border=\"1\" class=\"dataframe\">\n",
       "  <thead>\n",
       "    <tr style=\"text-align: right;\">\n",
       "      <th></th>\n",
       "      <th>a</th>\n",
       "    </tr>\n",
       "  </thead>\n",
       "  <tbody>\n",
       "    <tr>\n",
       "      <th>0</th>\n",
       "      <td>5</td>\n",
       "    </tr>\n",
       "  </tbody>\n",
       "</table>\n",
       "</div>"
      ],
      "text/plain": [
       "   a\n",
       "0  5"
      ]
     },
     "execution_count": 11,
     "metadata": {},
     "output_type": "execute_result"
    }
   ],
   "source": [
    "lance.dataset('/tmp/test.lance', version=1).to_table().to_pandas()"
   ]
  },
  {
   "cell_type": "code",
   "execution_count": 12,
   "id": "4ee907e0",
   "metadata": {},
   "outputs": [
    {
     "data": {
      "text/html": [
       "<div>\n",
       "<style scoped>\n",
       "    .dataframe tbody tr th:only-of-type {\n",
       "        vertical-align: middle;\n",
       "    }\n",
       "\n",
       "    .dataframe tbody tr th {\n",
       "        vertical-align: top;\n",
       "    }\n",
       "\n",
       "    .dataframe thead th {\n",
       "        text-align: right;\n",
       "    }\n",
       "</style>\n",
       "<table border=\"1\" class=\"dataframe\">\n",
       "  <thead>\n",
       "    <tr style=\"text-align: right;\">\n",
       "      <th></th>\n",
       "      <th>a</th>\n",
       "    </tr>\n",
       "  </thead>\n",
       "  <tbody>\n",
       "    <tr>\n",
       "      <th>0</th>\n",
       "      <td>5</td>\n",
       "    </tr>\n",
       "    <tr>\n",
       "      <th>1</th>\n",
       "      <td>10</td>\n",
       "    </tr>\n",
       "  </tbody>\n",
       "</table>\n",
       "</div>"
      ],
      "text/plain": [
       "    a\n",
       "0   5\n",
       "1  10"
      ]
     },
     "execution_count": 12,
     "metadata": {},
     "output_type": "execute_result"
    }
   ],
   "source": [
    "lance.dataset('/tmp/test.lance', version=2).to_table().to_pandas()"
   ]
  },
  {
   "cell_type": "markdown",
   "id": "fd02c885",
   "metadata": {},
   "source": [
    "## Vectors"
   ]
  },
  {
   "cell_type": "markdown",
   "id": "b0e2ad5a",
   "metadata": {},
   "source": [
    "### Data preparation"
   ]
  },
  {
   "cell_type": "markdown",
   "id": "881aba7e",
   "metadata": {},
   "source": [
    "For this tutorial let's use the Sift 1M dataset:\n",
    "\n",
    "- Download `ANN_SIFT1M` from: http://corpus-texmex.irisa.fr/\n",
    "- Direct link should be `ftp://ftp.irisa.fr/local/texmex/corpus/sift.tar.gz`\n",
    "- Download and then unzip the tarball"
   ]
  },
  {
   "cell_type": "code",
   "execution_count": 13,
   "id": "2ac159fa",
   "metadata": {},
   "outputs": [
    {
     "name": "stdout",
     "output_type": "stream",
     "text": [
      "--2023-02-13 14:54:18--  ftp://ftp.irisa.fr/local/texmex/corpus/sift.tar.gz\n",
      "           => ‘sift.tar.gz’\n",
      "Resolving ftp.irisa.fr (ftp.irisa.fr)... 131.254.254.45\n",
      "Connecting to ftp.irisa.fr (ftp.irisa.fr)|131.254.254.45|:21... connected.\n",
      "Logging in as anonymous ... Logged in!\n",
      "==> SYST ... done.    ==> PWD ... done.\n",
      "==> TYPE I ... done.  ==> CWD (1) /local/texmex/corpus ... done.\n",
      "==> SIZE sift.tar.gz ... 168280445\n",
      "==> PASV ... done.    ==> RETR sift.tar.gz ... done.\n",
      "Length: 168280445 (160M) (unauthoritative)\n",
      "\n",
      "sift.tar.gz         100%[===================>] 160.48M  6.16MB/s    in 31s     \n",
      "\n",
      "2023-02-13 14:54:52 (5.21 MB/s) - ‘sift.tar.gz’ saved [168280445]\n",
      "\n"
     ]
    }
   ],
   "source": [
    "!rm -rf sift* vec_data.lance\n",
    "!wget ftp://ftp.irisa.fr/local/texmex/corpus/sift.tar.gz\n",
    "!tar -xzf sift.tar.gz"
   ]
  },
  {
   "cell_type": "markdown",
   "id": "5786faee",
   "metadata": {},
   "source": [
    "Convert it to Lance"
   ]
  },
  {
   "cell_type": "code",
   "execution_count": 14,
   "id": "63993672",
   "metadata": {},
   "outputs": [],
   "source": [
    "import struct\n",
    "\n",
    "uri = \"vec_data.lance\"\n",
    "\n",
    "with open(\"sift/sift_base.fvecs\", mode=\"rb\") as fobj:\n",
    "    buf = fobj.read()\n",
    "    data = np.array(struct.unpack(\"<128000000f\", buf[4 : 4 + 4 * 1000000 * 128]))\n",
    "\n",
    "    table = pa.Table.from_arrays([\n",
    "        pa.array(range(1000000), type=pa.uint32()),\n",
    "        pa.FixedSizeListArray.from_arrays(pa.array(data, type=pa.float32()), list_size=128)\n",
    "    ], names=[\"id\", \"vector\"])\n",
    "\n",
    "    lance.write_dataset(table, uri, max_rows_per_group=8192, max_rows_per_file=1024*1024)"
   ]
  },
  {
   "cell_type": "code",
   "execution_count": 15,
   "id": "6b164493",
   "metadata": {},
   "outputs": [],
   "source": [
    "uri = \"vec_data.lance\"\n",
    "sift1m = lance.dataset(uri)"
   ]
  },
  {
   "cell_type": "markdown",
   "id": "d9485bc3",
   "metadata": {},
   "source": [
    "### KNN (no index)"
   ]
  },
  {
   "cell_type": "markdown",
   "id": "5d79e3ca",
   "metadata": {},
   "source": [
    "Sample 100 vectors as query vectors"
   ]
  },
  {
   "cell_type": "code",
   "execution_count": 16,
   "id": "0c7132b8",
   "metadata": {
    "pycharm": {
     "is_executing": true
    }
   },
   "outputs": [
    {
     "data": {
      "text/plain": [
       "0     [53.0, 51.0, 4.0, 0.0, 0.0, 0.0, 25.0, 52.0, 3...\n",
       "1     [130.0, 13.0, 0.0, 0.0, 0.0, 9.0, 15.0, 58.0, ...\n",
       "2     [8.0, 1.793662034335766e-43, 56.0, 10.0, 15.0,...\n",
       "3     [47.0, 41.0, 11.0, 1.0, 1.0, 2.0, 25.0, 4.0, 1...\n",
       "4     [28.0, 113.0, 89.0, 78.0, 23.0, 9.0, 39.0, 12....\n",
       "                            ...                        \n",
       "95    [7.0, 35.0, 102.0, 113.0, 11.0, 0.0, 0.0, 0.0,...\n",
       "96    [0.0, 0.0, 0.0, 130.0, 147.0, 11.0, 0.0, 0.0, ...\n",
       "97    [112.0, 126.0, 70.0, 3.0, 1.0, 0.0, 0.0, 33.0,...\n",
       "98    [8.0, 16.0, 123.0, 42.0, 0.0, 0.0, 2.0, 5.0, 2...\n",
       "99    [4.0, 1.793662034335766e-43, 19.0, 7.0, 60.0, ...\n",
       "Name: vector, Length: 100, dtype: object"
      ]
     },
     "execution_count": 16,
     "metadata": {},
     "output_type": "execute_result"
    }
   ],
   "source": [
    "import duckdb\n",
    "# if this segfaults make sure duckdb v0.7+ is installed\n",
    "samples = duckdb.query(\"SELECT vector FROM sift1m USING SAMPLE 100\").to_df().vector\n",
    "samples"
   ]
  },
  {
   "cell_type": "markdown",
   "id": "1d07fb90",
   "metadata": {},
   "source": [
    "Call nearest neighbors (no ANN index here)"
   ]
  },
  {
   "cell_type": "code",
   "execution_count": 17,
   "id": "879875b8",
   "metadata": {
    "pycharm": {
     "is_executing": true
    }
   },
   "outputs": [
    {
     "name": "stdout",
     "output_type": "stream",
     "text": [
      "Time(sec): 0.1079111099243164\n",
      "       id                                             vector    score\n",
      "0  665287  [53.0, 51.0, 4.0, 0.0, 0.0, 0.0, 25.0, 52.0, 3...      0.0\n",
      "1  777904  [30.0, 24.0, 10.0, 4.0, 4.0, 16.0, 15.0, 10.0,...  79038.0\n",
      "2  998236  [44.0, 5.0, 0.0, 0.0, 0.0, 0.0, 0.0, 7.0, 25.0...  83997.0\n",
      "3   70597  [41.0, 33.0, 13.0, 1.0, 0.0, 0.0, 0.0, 2.0, 14...  86389.0\n",
      "4  532417  [0.0, 29.0, 10.0, 30.0, 12.0, 8.0, 4.0, 21.0, ...  86972.0\n",
      "5  957472  [14.0, 59.0, 24.0, 0.0, 1.0, 0.0, 0.0, 12.0, 1...  87866.0\n",
      "6  274933  [10.0, 6.0, 0.0, 3.0, 12.0, 28.0, 16.0, 4.0, 1...  92838.0\n",
      "7  744622  [50.0, 21.0, 8.0, 0.0, 0.0, 17.0, 15.0, 1.0, 4...  94371.0\n",
      "8  815572  [0.0, 2.0, 0.0, 2.0, 6.0, 11.0, 35.0, 17.0, 6....  96181.0\n",
      "9  845758  [24.0, 0.0, 0.0, 15.0, 4.0, 2.0, 15.0, 102.0, ...  97002.0\n"
     ]
    }
   ],
   "source": [
    "import time\n",
    "\n",
    "start = time.time()\n",
    "tbl = sift1m.to_table(columns=[\"id\"], nearest={\"column\": \"vector\", \"q\": samples[0], \"k\": 10})\n",
    "end = time.time()\n",
    "\n",
    "print(f\"Time(sec): {end-start}\")\n",
    "print(tbl.to_pandas())"
   ]
  },
  {
   "cell_type": "markdown",
   "id": "31c79385",
   "metadata": {},
   "source": [
    "Without the index this is scanning through the whole dataset to compute the distance. <br/>\n",
    "\n",
    "For real-time serving we can do much better with an ANN index"
   ]
  },
  {
   "cell_type": "markdown",
   "id": "10bfa213",
   "metadata": {},
   "source": [
    "### Build index"
   ]
  },
  {
   "cell_type": "markdown",
   "id": "256f717a",
   "metadata": {},
   "source": [
    "Now let's build an index. We haven't implemented HNSW but IVF+PQ is shown here"
   ]
  },
  {
   "cell_type": "markdown",
   "id": "3832459d",
   "metadata": {},
   "source": [
    "**NOTE** If you'd rather not wait for index build, you can download a version with the index pre-built from [here](https://eto-public.s3.us-west-2.amazonaws.com/datasets/sift/sift_ivf256_pq16.tar.gz) and skip the next cell"
   ]
  },
  {
   "cell_type": "code",
   "execution_count": 18,
   "id": "c99fdd57",
   "metadata": {
    "pycharm": {
     "is_executing": true
    }
   },
   "outputs": [
    {
     "name": "stdout",
     "output_type": "stream",
     "text": [
      "CPU times: user 2min 21s, sys: 3.44 s, total: 2min 24sBuilding vector index: IVF256,PQ16\n",
      "\n",
      "Wall time: 23.4 s\n",
      "Sample 65536 out of 1000000 to train kmeans of 128 dim, 256 clusters\n",
      "Sample 65536 out of 1000000 to train kmeans of 8 dim, 256 clusters\n",
      "Sample 65536 out of 1000000 to train kmeans of 8 dim, 256 clusters\n",
      "Sample 65536 out of 1000000 to train kmeans of 8 dim, 256 clusters\n",
      "Sample 65536 out of 1000000 to train kmeans of 8 dim, 256 clusters\n",
      "Sample 65536 out of 1000000 to train kmeans of 8 dim, 256 clusters\n",
      "Sample 65536 out of 1000000 to train kmeans of 8 dim, 256 clusters\n",
      "Sample 65536 out of 1000000 to train kmeans of 8 dim, 256 clusters\n",
      "Sample 65536 out of 1000000 to train kmeans of 8 dim, 256 clusters\n",
      "Sample 65536 out of 1000000 to train kmeans of 8 dim, 256 clusters\n",
      "Sample 65536 out of 1000000 to train kmeans of 8 dim, 256 clusters\n",
      "Sample 65536 out of 1000000 to train kmeans of 8 dim, 256 clusters\n",
      "Sample 65536 out of 1000000 to train kmeans of 8 dim, 256 clusters\n",
      "Sample 65536 out of 1000000 to train kmeans of 8 dim, 256 clusters\n",
      "Sample 65536 out of 1000000 to train kmeans of 8 dim, 256 clusters\n",
      "Sample 65536 out of 1000000 to train kmeans of 8 dim, 256 clusters\n",
      "Sample 65536 out of 1000000 to train kmeans of 8 dim, 256 clusters\n"
     ]
    }
   ],
   "source": [
    "%%time \n",
    "\n",
    "sift1m.create_index(\"vector\",\n",
    "                    index_type=\"IVF_PQ\", \n",
    "                    num_partitions=256,  # IVF\n",
    "                    num_sub_vectors=16)  # PQ"
   ]
  },
  {
   "cell_type": "markdown",
   "id": "cbfb0750",
   "metadata": {},
   "source": [
    "**NOTE** If you're trying this on your own data, make sure your vector (dimensions / num_sub_vectors) % 8 == 0, or else index creation will take much longer than expected due to SIMD misalignment"
   ]
  },
  {
   "cell_type": "markdown",
   "id": "e241cc5c",
   "metadata": {},
   "source": [
    "### Try nearest neighbors again with ANN index\n",
    "\n",
    "Let's look for nearest neighbors again"
   ]
  },
  {
   "cell_type": "code",
   "execution_count": 19,
   "id": "5e99289f",
   "metadata": {
    "pycharm": {
     "is_executing": true
    }
   },
   "outputs": [],
   "source": [
    "sift1m = lance.dataset(uri)"
   ]
  },
  {
   "cell_type": "code",
   "execution_count": 20,
   "id": "166c7f7f",
   "metadata": {
    "pycharm": {
     "is_executing": true
    }
   },
   "outputs": [
    {
     "name": "stdout",
     "output_type": "stream",
     "text": [
      "Avg(sec): 0.0009833168983459472\n",
      "       id                                             vector          score\n",
      "0  150287  [4.0, 1.8e-43, 19.0, 7.0, 60.0, 59.0, 3.0, 0.0...   32261.166016\n",
      "1  215147  [9.0, 1.0, 3.0, 3.0, 0.0, 0.0, 55.0, 47.0, 0.0...  134006.796875\n",
      "2  745853  [0.0, 0.0, 0.0, 1.0, 12.0, 17.0, 32.0, 13.0, 4...  134962.703125\n",
      "3  653489  [4.0, 13.0, 8.0, 0.0, 35.0, 46.0, 21.0, 0.0, 2...  141667.125000\n",
      "4   15447  [5.0, 0.0, 0.0, 6.0, 5.0, 27.0, 73.0, 7.0, 2.0...  142773.187500\n",
      "5  130910  [1.0, 0.0, 2.0, 2.0, 12.0, 25.0, 59.0, 7.0, 1....  144413.062500\n",
      "6  404906  [2.0, 0.0, 1.0, 1.0, 0.0, 0.0, 50.0, 0.0, 5.0,...  146264.437500\n",
      "7  618526  [24.0, 0.0, 2.0, 40.0, 47.0, 121.0, 45.0, 4.0,...  146655.453125\n",
      "8  306866  [34.0, 1.0, 0.0, 4.0, 3.0, 1.0, 35.0, 5.0, 3.0...  147506.906250\n",
      "9  609371  [29.0, 21.0, 1.0, 0.0, 0.0, 0.0, 0.0, 7.0, 9.0...  148649.437500\n"
     ]
    }
   ],
   "source": [
    "import time\n",
    "\n",
    "tot = 0\n",
    "for q in samples:\n",
    "    start = time.time()\n",
    "    tbl = sift1m.to_table(nearest={\"column\": \"vector\", \"q\": q, \"k\": 10})\n",
    "    end = time.time()\n",
    "    tot += (end - start)\n",
    "\n",
    "print(f\"Avg(sec): {tot / len(samples)}\")\n",
    "print(tbl.to_pandas())"
   ]
  },
  {
   "cell_type": "markdown",
   "id": "dbe69490",
   "metadata": {},
   "source": [
    "**NOTE** on performance, your actual numbers will vary by your storage. These numbers are run on local disk on an M2 Macbook Air. If you're querying S3 directly, HDD, or network drives, performance will be slower."
   ]
  },
  {
   "cell_type": "markdown",
   "id": "ff28eb34",
   "metadata": {},
   "source": [
    "The latency vs recall is tunable via:\n",
    "- nprobes: how many IVF partitions to search\n",
    "- refine_factor: determines how many vectors are retrieved during re-ranking"
   ]
  },
  {
   "cell_type": "code",
   "execution_count": 21,
   "id": "d26e2b27",
   "metadata": {
    "pycharm": {
     "is_executing": true
    }
   },
   "outputs": [
    {
     "name": "stdout",
     "output_type": "stream",
     "text": [
      "CPU times: user 2.35 ms, sys: 4.22 ms, total: 6.57 ms\n",
      "Wall time: 5.06 ms\n"
     ]
    },
    {
     "data": {
      "text/html": [
       "<div>\n",
       "<style scoped>\n",
       "    .dataframe tbody tr th:only-of-type {\n",
       "        vertical-align: middle;\n",
       "    }\n",
       "\n",
       "    .dataframe tbody tr th {\n",
       "        vertical-align: top;\n",
       "    }\n",
       "\n",
       "    .dataframe thead th {\n",
       "        text-align: right;\n",
       "    }\n",
       "</style>\n",
       "<table border=\"1\" class=\"dataframe\">\n",
       "  <thead>\n",
       "    <tr style=\"text-align: right;\">\n",
       "      <th></th>\n",
       "      <th>id</th>\n",
       "      <th>vector</th>\n",
       "      <th>score</th>\n",
       "    </tr>\n",
       "  </thead>\n",
       "  <tbody>\n",
       "    <tr>\n",
       "      <th>0</th>\n",
       "      <td>665287</td>\n",
       "      <td>[53.0, 51.0, 4.0, 0.0, 0.0, 0.0, 25.0, 52.0, 3...</td>\n",
       "      <td>0.0</td>\n",
       "    </tr>\n",
       "    <tr>\n",
       "      <th>1</th>\n",
       "      <td>777904</td>\n",
       "      <td>[30.0, 24.0, 10.0, 4.0, 4.0, 16.0, 15.0, 10.0,...</td>\n",
       "      <td>79038.0</td>\n",
       "    </tr>\n",
       "    <tr>\n",
       "      <th>2</th>\n",
       "      <td>998236</td>\n",
       "      <td>[44.0, 5.0, 0.0, 0.0, 0.0, 0.0, 0.0, 7.0, 25.0...</td>\n",
       "      <td>83997.0</td>\n",
       "    </tr>\n",
       "    <tr>\n",
       "      <th>3</th>\n",
       "      <td>70597</td>\n",
       "      <td>[41.0, 33.0, 13.0, 1.0, 0.0, 0.0, 0.0, 2.0, 14...</td>\n",
       "      <td>86389.0</td>\n",
       "    </tr>\n",
       "    <tr>\n",
       "      <th>4</th>\n",
       "      <td>532417</td>\n",
       "      <td>[0.0, 29.0, 10.0, 30.0, 12.0, 8.0, 4.0, 21.0, ...</td>\n",
       "      <td>86972.0</td>\n",
       "    </tr>\n",
       "    <tr>\n",
       "      <th>5</th>\n",
       "      <td>957472</td>\n",
       "      <td>[14.0, 59.0, 24.0, 0.0, 1.0, 0.0, 0.0, 12.0, 1...</td>\n",
       "      <td>87866.0</td>\n",
       "    </tr>\n",
       "    <tr>\n",
       "      <th>6</th>\n",
       "      <td>274933</td>\n",
       "      <td>[10.0, 6.0, 0.0, 3.0, 12.0, 28.0, 16.0, 4.0, 1...</td>\n",
       "      <td>92838.0</td>\n",
       "    </tr>\n",
       "    <tr>\n",
       "      <th>7</th>\n",
       "      <td>744622</td>\n",
       "      <td>[50.0, 21.0, 8.0, 0.0, 0.0, 17.0, 15.0, 1.0, 4...</td>\n",
       "      <td>94371.0</td>\n",
       "    </tr>\n",
       "    <tr>\n",
       "      <th>8</th>\n",
       "      <td>815572</td>\n",
       "      <td>[0.0, 2.0, 0.0, 2.0, 6.0, 11.0, 35.0, 17.0, 6....</td>\n",
       "      <td>96181.0</td>\n",
       "    </tr>\n",
       "    <tr>\n",
       "      <th>9</th>\n",
       "      <td>845758</td>\n",
       "      <td>[24.0, 0.0, 0.0, 15.0, 4.0, 2.0, 15.0, 102.0, ...</td>\n",
       "      <td>97002.0</td>\n",
       "    </tr>\n",
       "  </tbody>\n",
       "</table>\n",
       "</div>"
      ],
      "text/plain": [
       "       id                                             vector    score\n",
       "0  665287  [53.0, 51.0, 4.0, 0.0, 0.0, 0.0, 25.0, 52.0, 3...      0.0\n",
       "1  777904  [30.0, 24.0, 10.0, 4.0, 4.0, 16.0, 15.0, 10.0,...  79038.0\n",
       "2  998236  [44.0, 5.0, 0.0, 0.0, 0.0, 0.0, 0.0, 7.0, 25.0...  83997.0\n",
       "3   70597  [41.0, 33.0, 13.0, 1.0, 0.0, 0.0, 0.0, 2.0, 14...  86389.0\n",
       "4  532417  [0.0, 29.0, 10.0, 30.0, 12.0, 8.0, 4.0, 21.0, ...  86972.0\n",
       "5  957472  [14.0, 59.0, 24.0, 0.0, 1.0, 0.0, 0.0, 12.0, 1...  87866.0\n",
       "6  274933  [10.0, 6.0, 0.0, 3.0, 12.0, 28.0, 16.0, 4.0, 1...  92838.0\n",
       "7  744622  [50.0, 21.0, 8.0, 0.0, 0.0, 17.0, 15.0, 1.0, 4...  94371.0\n",
       "8  815572  [0.0, 2.0, 0.0, 2.0, 6.0, 11.0, 35.0, 17.0, 6....  96181.0\n",
       "9  845758  [24.0, 0.0, 0.0, 15.0, 4.0, 2.0, 15.0, 102.0, ...  97002.0"
      ]
     },
     "execution_count": 21,
     "metadata": {},
     "output_type": "execute_result"
    }
   ],
   "source": [
    "%%time\n",
    "\n",
    "sift1m.to_table(nearest={\"column\": \"vector\", \n",
    "                         \"q\": samples[0], \n",
    "                         \"k\": 10, \n",
    "                         \"nprobes\": 10, \n",
    "                         \"refine_factor\": 5}).to_pandas()"
   ]
  },
  {
   "cell_type": "markdown",
   "id": "7f34575d",
   "metadata": {},
   "source": [
    "q => sample vector\n",
    "\n",
    "k => how many neighbors to return\n",
    "\n",
    "nprobes => how many partitions (in the coarse quantizer) to probe\n",
    "\n",
    "refine_factor => controls \"re-ranking\". If k=10 and refine_factor=5 then retrieve 50 nearest neighbors by ANN and re-sort using actual distances then return top 10. This improves recall without sacrificing performance too much"
   ]
  },
  {
   "cell_type": "markdown",
   "id": "25b9d50f",
   "metadata": {},
   "source": [
    "**NOTE** the latencies above include file io as lance currently doesn't hold anything in memory. Along with index building speed, creating a purely in memory version of the dataset would make the biggest impact on performance."
   ]
  },
  {
   "cell_type": "markdown",
   "id": "7f94fcec",
   "metadata": {},
   "source": [
    "### Features and vector can be retrieved together\n",
    "\n",
    "Usually we have other feature or metadata columns that need to be stored and fetched together.\n",
    "If you're managing data and the index separately, you to do a bunch of annoying plumbing to put stuff together. With Lance it's a single call"
   ]
  },
  {
   "cell_type": "code",
   "execution_count": 22,
   "id": "846ea382",
   "metadata": {
    "pycharm": {
     "is_executing": true
    }
   },
   "outputs": [
    {
     "data": {
      "text/html": [
       "<div>\n",
       "<style scoped>\n",
       "    .dataframe tbody tr th:only-of-type {\n",
       "        vertical-align: middle;\n",
       "    }\n",
       "\n",
       "    .dataframe tbody tr th {\n",
       "        vertical-align: top;\n",
       "    }\n",
       "\n",
       "    .dataframe thead th {\n",
       "        text-align: right;\n",
       "    }\n",
       "</style>\n",
       "<table border=\"1\" class=\"dataframe\">\n",
       "  <thead>\n",
       "    <tr style=\"text-align: right;\">\n",
       "      <th></th>\n",
       "      <th>id</th>\n",
       "      <th>vector</th>\n",
       "      <th>item_id</th>\n",
       "      <th>revenue</th>\n",
       "    </tr>\n",
       "  </thead>\n",
       "  <tbody>\n",
       "    <tr>\n",
       "      <th>0</th>\n",
       "      <td>0</td>\n",
       "      <td>[0.0, 16.0, 35.0, 5.0, 32.0, 31.0, 14.0, 10.0,...</td>\n",
       "      <td>0</td>\n",
       "      <td>4243.469146</td>\n",
       "    </tr>\n",
       "    <tr>\n",
       "      <th>1</th>\n",
       "      <td>1</td>\n",
       "      <td>[1.8e-43, 14.0, 35.0, 19.0, 20.0, 3.0, 1.0, 13...</td>\n",
       "      <td>1</td>\n",
       "      <td>5544.403387</td>\n",
       "    </tr>\n",
       "    <tr>\n",
       "      <th>2</th>\n",
       "      <td>2</td>\n",
       "      <td>[33.0, 1.8e-43, 0.0, 1.0, 5.0, 3.0, 44.0, 40.0...</td>\n",
       "      <td>2</td>\n",
       "      <td>5349.198998</td>\n",
       "    </tr>\n",
       "    <tr>\n",
       "      <th>3</th>\n",
       "      <td>3</td>\n",
       "      <td>[23.0, 10.0, 1.8e-43, 12.0, 47.0, 14.0, 25.0, ...</td>\n",
       "      <td>3</td>\n",
       "      <td>4404.137670</td>\n",
       "    </tr>\n",
       "    <tr>\n",
       "      <th>4</th>\n",
       "      <td>4</td>\n",
       "      <td>[27.0, 29.0, 21.0, 1.8e-43, 1.0, 1.0, 0.0, 0.0...</td>\n",
       "      <td>4</td>\n",
       "      <td>4975.389960</td>\n",
       "    </tr>\n",
       "    <tr>\n",
       "      <th>...</th>\n",
       "      <td>...</td>\n",
       "      <td>...</td>\n",
       "      <td>...</td>\n",
       "      <td>...</td>\n",
       "    </tr>\n",
       "    <tr>\n",
       "      <th>999995</th>\n",
       "      <td>999995</td>\n",
       "      <td>[8.0, 9.0, 5.0, 0.0, 10.0, 39.0, 72.0, 68.0, 3...</td>\n",
       "      <td>999995</td>\n",
       "      <td>4474.915652</td>\n",
       "    </tr>\n",
       "    <tr>\n",
       "      <th>999996</th>\n",
       "      <td>999996</td>\n",
       "      <td>[3.0, 28.0, 55.0, 29.0, 35.0, 12.0, 1.0, 2.0, ...</td>\n",
       "      <td>999996</td>\n",
       "      <td>3742.964504</td>\n",
       "    </tr>\n",
       "    <tr>\n",
       "      <th>999997</th>\n",
       "      <td>999997</td>\n",
       "      <td>[0.0, 13.0, 41.0, 72.0, 40.0, 9.0, 0.0, 0.0, 0...</td>\n",
       "      <td>999997</td>\n",
       "      <td>5641.371131</td>\n",
       "    </tr>\n",
       "    <tr>\n",
       "      <th>999998</th>\n",
       "      <td>999998</td>\n",
       "      <td>[41.0, 121.0, 4.0, 0.0, 0.0, 0.0, 0.0, 0.0, 24...</td>\n",
       "      <td>999998</td>\n",
       "      <td>5701.500194</td>\n",
       "    </tr>\n",
       "    <tr>\n",
       "      <th>999999</th>\n",
       "      <td>999999</td>\n",
       "      <td>[2.0, 4.0, 8.0, 8.0, 26.0, 72.0, 63.0, 0.0, 0....</td>\n",
       "      <td>999999</td>\n",
       "      <td>5548.817871</td>\n",
       "    </tr>\n",
       "  </tbody>\n",
       "</table>\n",
       "<p>1000000 rows × 4 columns</p>\n",
       "</div>"
      ],
      "text/plain": [
       "            id                                             vector  item_id  \\\n",
       "0            0  [0.0, 16.0, 35.0, 5.0, 32.0, 31.0, 14.0, 10.0,...        0   \n",
       "1            1  [1.8e-43, 14.0, 35.0, 19.0, 20.0, 3.0, 1.0, 13...        1   \n",
       "2            2  [33.0, 1.8e-43, 0.0, 1.0, 5.0, 3.0, 44.0, 40.0...        2   \n",
       "3            3  [23.0, 10.0, 1.8e-43, 12.0, 47.0, 14.0, 25.0, ...        3   \n",
       "4            4  [27.0, 29.0, 21.0, 1.8e-43, 1.0, 1.0, 0.0, 0.0...        4   \n",
       "...        ...                                                ...      ...   \n",
       "999995  999995  [8.0, 9.0, 5.0, 0.0, 10.0, 39.0, 72.0, 68.0, 3...   999995   \n",
       "999996  999996  [3.0, 28.0, 55.0, 29.0, 35.0, 12.0, 1.0, 2.0, ...   999996   \n",
       "999997  999997  [0.0, 13.0, 41.0, 72.0, 40.0, 9.0, 0.0, 0.0, 0...   999997   \n",
       "999998  999998  [41.0, 121.0, 4.0, 0.0, 0.0, 0.0, 0.0, 0.0, 24...   999998   \n",
       "999999  999999  [2.0, 4.0, 8.0, 8.0, 26.0, 72.0, 63.0, 0.0, 0....   999999   \n",
       "\n",
       "            revenue  \n",
       "0       4243.469146  \n",
       "1       5544.403387  \n",
       "2       5349.198998  \n",
       "3       4404.137670  \n",
       "4       4975.389960  \n",
       "...             ...  \n",
       "999995  4474.915652  \n",
       "999996  3742.964504  \n",
       "999997  5641.371131  \n",
       "999998  5701.500194  \n",
       "999999  5548.817871  \n",
       "\n",
       "[1000000 rows x 4 columns]"
      ]
     },
     "execution_count": 22,
     "metadata": {},
     "output_type": "execute_result"
    }
   ],
   "source": [
    "tbl = sift1m.to_table()\n",
    "tbl = tbl.append_column(\"item_id\", pa.array(range(len(tbl))))\n",
    "tbl = tbl.append_column(\"revenue\", pa.array((np.random.randn(len(tbl))+5)*1000))\n",
    "tbl.to_pandas()"
   ]
  },
  {
   "cell_type": "code",
   "execution_count": 23,
   "id": "2a1fefe2",
   "metadata": {
    "pycharm": {
     "is_executing": true
    }
   },
   "outputs": [],
   "source": [
    "sift1m = lance.write_dataset(tbl, uri, mode=\"overwrite\")"
   ]
  },
  {
   "cell_type": "code",
   "execution_count": 24,
   "id": "4bca1a31",
   "metadata": {
    "pycharm": {
     "is_executing": true
    }
   },
   "outputs": [
    {
     "data": {
      "text/html": [
       "<div>\n",
       "<style scoped>\n",
       "    .dataframe tbody tr th:only-of-type {\n",
       "        vertical-align: middle;\n",
       "    }\n",
       "\n",
       "    .dataframe tbody tr th {\n",
       "        vertical-align: top;\n",
       "    }\n",
       "\n",
       "    .dataframe thead th {\n",
       "        text-align: right;\n",
       "    }\n",
       "</style>\n",
       "<table border=\"1\" class=\"dataframe\">\n",
       "  <thead>\n",
       "    <tr style=\"text-align: right;\">\n",
       "      <th></th>\n",
       "      <th>revenue</th>\n",
       "      <th>vector</th>\n",
       "      <th>score</th>\n",
       "    </tr>\n",
       "  </thead>\n",
       "  <tbody>\n",
       "    <tr>\n",
       "      <th>0</th>\n",
       "      <td>6180.891855</td>\n",
       "      <td>[53.0, 51.0, 4.0, 0.0, 0.0, 0.0, 25.0, 52.0, 3...</td>\n",
       "      <td>0.0</td>\n",
       "    </tr>\n",
       "    <tr>\n",
       "      <th>1</th>\n",
       "      <td>5512.782565</td>\n",
       "      <td>[30.0, 24.0, 10.0, 4.0, 4.0, 16.0, 15.0, 10.0,...</td>\n",
       "      <td>79038.0</td>\n",
       "    </tr>\n",
       "    <tr>\n",
       "      <th>2</th>\n",
       "      <td>4737.476359</td>\n",
       "      <td>[44.0, 5.0, 0.0, 0.0, 0.0, 0.0, 0.0, 7.0, 25.0...</td>\n",
       "      <td>83997.0</td>\n",
       "    </tr>\n",
       "    <tr>\n",
       "      <th>3</th>\n",
       "      <td>6207.208024</td>\n",
       "      <td>[41.0, 33.0, 13.0, 1.0, 0.0, 0.0, 0.0, 2.0, 14...</td>\n",
       "      <td>86389.0</td>\n",
       "    </tr>\n",
       "    <tr>\n",
       "      <th>4</th>\n",
       "      <td>5637.503015</td>\n",
       "      <td>[0.0, 29.0, 10.0, 30.0, 12.0, 8.0, 4.0, 21.0, ...</td>\n",
       "      <td>86972.0</td>\n",
       "    </tr>\n",
       "    <tr>\n",
       "      <th>5</th>\n",
       "      <td>3658.692489</td>\n",
       "      <td>[14.0, 59.0, 24.0, 0.0, 1.0, 0.0, 0.0, 12.0, 1...</td>\n",
       "      <td>87866.0</td>\n",
       "    </tr>\n",
       "    <tr>\n",
       "      <th>6</th>\n",
       "      <td>5273.637749</td>\n",
       "      <td>[10.0, 6.0, 0.0, 3.0, 12.0, 28.0, 16.0, 4.0, 1...</td>\n",
       "      <td>92838.0</td>\n",
       "    </tr>\n",
       "    <tr>\n",
       "      <th>7</th>\n",
       "      <td>3833.229825</td>\n",
       "      <td>[50.0, 21.0, 8.0, 0.0, 0.0, 17.0, 15.0, 1.0, 4...</td>\n",
       "      <td>94371.0</td>\n",
       "    </tr>\n",
       "    <tr>\n",
       "      <th>8</th>\n",
       "      <td>4826.840337</td>\n",
       "      <td>[0.0, 2.0, 0.0, 2.0, 6.0, 11.0, 35.0, 17.0, 6....</td>\n",
       "      <td>96181.0</td>\n",
       "    </tr>\n",
       "    <tr>\n",
       "      <th>9</th>\n",
       "      <td>4060.225937</td>\n",
       "      <td>[24.0, 0.0, 0.0, 15.0, 4.0, 2.0, 15.0, 102.0, ...</td>\n",
       "      <td>97002.0</td>\n",
       "    </tr>\n",
       "  </tbody>\n",
       "</table>\n",
       "</div>"
      ],
      "text/plain": [
       "       revenue                                             vector    score\n",
       "0  6180.891855  [53.0, 51.0, 4.0, 0.0, 0.0, 0.0, 25.0, 52.0, 3...      0.0\n",
       "1  5512.782565  [30.0, 24.0, 10.0, 4.0, 4.0, 16.0, 15.0, 10.0,...  79038.0\n",
       "2  4737.476359  [44.0, 5.0, 0.0, 0.0, 0.0, 0.0, 0.0, 7.0, 25.0...  83997.0\n",
       "3  6207.208024  [41.0, 33.0, 13.0, 1.0, 0.0, 0.0, 0.0, 2.0, 14...  86389.0\n",
       "4  5637.503015  [0.0, 29.0, 10.0, 30.0, 12.0, 8.0, 4.0, 21.0, ...  86972.0\n",
       "5  3658.692489  [14.0, 59.0, 24.0, 0.0, 1.0, 0.0, 0.0, 12.0, 1...  87866.0\n",
       "6  5273.637749  [10.0, 6.0, 0.0, 3.0, 12.0, 28.0, 16.0, 4.0, 1...  92838.0\n",
       "7  3833.229825  [50.0, 21.0, 8.0, 0.0, 0.0, 17.0, 15.0, 1.0, 4...  94371.0\n",
       "8  4826.840337  [0.0, 2.0, 0.0, 2.0, 6.0, 11.0, 35.0, 17.0, 6....  96181.0\n",
       "9  4060.225937  [24.0, 0.0, 0.0, 15.0, 4.0, 2.0, 15.0, 102.0, ...  97002.0"
      ]
     },
     "execution_count": 24,
     "metadata": {},
     "output_type": "execute_result"
    }
   ],
   "source": [
    "sift1m.to_table(columns=[\"revenue\"], nearest={\"column\": \"vector\", \"q\": samples[0], \"k\": 10}).to_pandas()"
   ]
  },
  {
   "cell_type": "code",
   "execution_count": null,
   "id": "75ae2d1f",
   "metadata": {
    "pycharm": {
     "is_executing": true
    }
   },
   "outputs": [],
   "source": []
  }
 ],
 "metadata": {
  "kernelspec": {
   "display_name": "Python 3 (ipykernel)",
   "language": "python",
   "name": "python3"
  },
  "language_info": {
   "codemirror_mode": {
    "name": "ipython",
    "version": 3
   },
   "file_extension": ".py",
   "mimetype": "text/x-python",
   "name": "python",
   "nbconvert_exporter": "python",
   "pygments_lexer": "ipython3",
   "version": "3.10.9"
  }
 },
 "nbformat": 4,
 "nbformat_minor": 5
}
