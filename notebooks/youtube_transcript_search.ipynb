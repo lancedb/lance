{
 "cells": [
  {
   "cell_type": "markdown",
   "id": "42bf01fb",
   "metadata": {},
   "source": [
    "# We're going to build question and answer bot\n",
    "\n",
    "That allow you to search through youtube transcripts using natural language"
   ]
  },
  {
   "cell_type": "code",
   "execution_count": 16,
   "id": "48547ddb",
   "metadata": {},
   "outputs": [
    {
     "name": "stdout",
     "output_type": "stream",
     "text": [
      "\n",
      "\u001b[1m[\u001b[0m\u001b[34;49mnotice\u001b[0m\u001b[1;39;49m]\u001b[0m\u001b[39;49m A new release of pip is available: \u001b[0m\u001b[31;49m23.0\u001b[0m\u001b[39;49m -> \u001b[0m\u001b[32;49m23.0.1\u001b[0m\n",
      "\u001b[1m[\u001b[0m\u001b[34;49mnotice\u001b[0m\u001b[1;39;49m]\u001b[0m\u001b[39;49m To update, run: \u001b[0m\u001b[32;49mpip install --upgrade pip\u001b[0m\n",
      "Note: you may need to restart the kernel to use updated packages.\n"
     ]
    }
   ],
   "source": [
    "pip install --quiet openai tqdm ratelimiter retry"
   ]
  },
  {
   "cell_type": "markdown",
   "id": "22e570f4",
   "metadata": {},
   "source": [
    "## Download the data\n",
    "700 videos and 208619 sentences"
   ]
  },
  {
   "cell_type": "code",
   "execution_count": 2,
   "id": "a8987fcb",
   "metadata": {},
   "outputs": [
    {
     "name": "stderr",
     "output_type": "stream",
     "text": [
      "Found cached dataset json (/Users/changshe/.cache/huggingface/datasets/jamescalam___json/jamescalam--youtube-transcriptions-08d889f6a5386b9b/0.0.0/0f7e3662623656454fcd2b650f34e886a7db4b9104504885bd462096cc7a9f51)\n"
     ]
    },
    {
     "data": {
      "text/plain": [
       "Dataset({\n",
       "    features: ['title', 'published', 'url', 'video_id', 'channel_id', 'id', 'text', 'start', 'end'],\n",
       "    num_rows: 208619\n",
       "})"
      ]
     },
     "execution_count": 2,
     "metadata": {},
     "output_type": "execute_result"
    }
   ],
   "source": [
    "from datasets import load_dataset\n",
    "\n",
    "data = load_dataset('jamescalam/youtube-transcriptions', split='train')\n",
    "data"
   ]
  },
  {
   "cell_type": "code",
   "execution_count": 109,
   "id": "893c60d4",
   "metadata": {},
   "outputs": [
    {
     "data": {
      "text/plain": [
       "700"
      ]
     },
     "execution_count": 109,
     "metadata": {},
     "output_type": "execute_result"
    }
   ],
   "source": [
    "data.to_pandas().title.nunique()"
   ]
  },
  {
   "cell_type": "markdown",
   "id": "5ac2b6a3",
   "metadata": {},
   "source": [
    "## Prepare context\n",
    "\n",
    "Create context of 20 sentences"
   ]
  },
  {
   "cell_type": "code",
   "execution_count": 12,
   "id": "121a7087",
   "metadata": {},
   "outputs": [],
   "source": [
    "import numpy as np\n",
    "import pandas as pd\n",
    "\n",
    "window = 20\n",
    "stride = 4"
   ]
  },
  {
   "cell_type": "code",
   "execution_count": 87,
   "id": "107ef00e",
   "metadata": {},
   "outputs": [],
   "source": [
    "def contextualize(raw_df, window, stride):\n",
    "    def process_video(vid):\n",
    "        # For each video, create the text rolling window\n",
    "        text = vid.text.values\n",
    "        time_end = vid[\"end\"].values\n",
    "        contexts = vid.iloc[:-window:stride, :].copy()\n",
    "        contexts[\"text\"] = [' '.join(text[start_i:start_i+window])\n",
    "                            for start_i in range(0, len(vid)-window, stride)]\n",
    "        contexts[\"end\"] = [time_end[start_i+window-1]\n",
    "                            for start_i in range(0, len(vid)-window, stride)]        \n",
    "        return contexts\n",
    "    # concat result from all videos\n",
    "    return pd.concat([process_video(vid) for _, vid in raw_df.groupby(\"title\")])\n",
    "\n",
    "df = contextualize(data.to_pandas(), 20, 4)"
   ]
  },
  {
   "cell_type": "code",
   "execution_count": 88,
   "id": "a71ac56c",
   "metadata": {},
   "outputs": [
    {
     "data": {
      "text/plain": [
       "48935"
      ]
     },
     "execution_count": 88,
     "metadata": {},
     "output_type": "execute_result"
    }
   ],
   "source": [
    "len(df)"
   ]
  },
  {
   "cell_type": "markdown",
   "id": "3044e0b0",
   "metadata": {},
   "source": [
    "## Create embedding function\n",
    "We'll call the OpenAI embeddings API to get embeddings"
   ]
  },
  {
   "cell_type": "code",
   "execution_count": 117,
   "id": "8eefc159",
   "metadata": {},
   "outputs": [],
   "source": [
    "import functools\n",
    "import openai\n",
    "import ratelimiter\n",
    "from retry import retry\n",
    "\n",
    "embed_model = \"text-embedding-ada-002\"\n",
    "\n",
    "# API limit at 60/min == 1/sec\n",
    "limiter = ratelimiter.RateLimiter(max_calls=0.9, period=1.0)\n",
    "\n",
    "# Get the embedding with retry\n",
    "@retry(tries=10, delay=1, max_delay=30, backoff=3, jitter=1)\n",
    "def embed_func(c):    \n",
    "    rs = openai.Embedding.create(input=c, engine=embed_model)\n",
    "    return [record[\"embedding\"] for record in rs[\"data\"]]\n",
    "\n",
    "rate_limited = limiter(embed_func)"
   ]
  },
  {
   "cell_type": "code",
   "execution_count": 118,
   "id": "7f5b9a5e",
   "metadata": {},
   "outputs": [
    {
     "data": {
      "application/vnd.jupyter.widget-view+json": {
       "model_id": "84194f89598140b2bebbfa55c90cdcc9",
       "version_major": 2,
       "version_minor": 0
      },
      "text/plain": [
       "  0%|          | 0/49 [00:00<?, ?it/s]"
      ]
     },
     "metadata": {},
     "output_type": "display_data"
    }
   ],
   "source": [
    "from tqdm.auto import tqdm\n",
    "import math\n",
    "\n",
    "# We request in batches rather than 1 embedding at a time\n",
    "def to_batches(arr, batch_size):\n",
    "    length = len(arr)\n",
    "    def _chunker(arr):\n",
    "        for start_i in range(0, len(df), batch_size):\n",
    "            yield arr[start_i:start_i+batch_size]\n",
    "    # add progress meter\n",
    "    yield from tqdm(_chunker(arr), total=math.ceil(length / batch_size))\n",
    "    \n",
    "batch_size = 1000\n",
    "batches = to_batches(df.text.values.tolist(), batch_size)\n",
    "embeds = [emb for c in batches for emb in rate_limited(c)]"
   ]
  },
  {
   "cell_type": "markdown",
   "id": "86ea0449",
   "metadata": {},
   "source": [
    "## Create Lance dataset to support vector search"
   ]
  },
  {
   "cell_type": "code",
   "execution_count": 121,
   "id": "e957b520",
   "metadata": {},
   "outputs": [],
   "source": [
    "import lance\n",
    "import pyarrow as pa\n",
    "from lance.vector import vec_to_table\n",
    "\n",
    "table = vec_to_table(np.array(embeds))\n",
    "combined = pa.Table.from_pandas(df).append_column(\"vector\", table[\"vector\"])\n",
    "ds = lance.write_dataset(combined, \"chatbot.lance\")"
   ]
  },
  {
   "cell_type": "code",
   "execution_count": 122,
   "id": "ab509cbb",
   "metadata": {},
   "outputs": [
    {
     "name": "stdout",
     "output_type": "stream",
     "text": [
      "Building vector index: IVF64,OPQ96, metric=l2\n",
      "Sample 16384 out of 48935 to train kmeans of 1536 dim, 64 clusters\n"
     ]
    }
   ],
   "source": [
    "ds = ds.create_index(\"vector\",\n",
    "                     index_type=\"IVF_PQ\", \n",
    "                     num_partitions=64,  # IVF\n",
    "                     num_sub_vectors=96)  # PQ"
   ]
  },
  {
   "cell_type": "markdown",
   "id": "23afc2f9",
   "metadata": {},
   "source": [
    "## Create and answer the prompt"
   ]
  },
  {
   "cell_type": "code",
   "execution_count": 124,
   "id": "06d8b867",
   "metadata": {},
   "outputs": [],
   "source": [
    "def create_prompt(query, context):\n",
    "    limit = 3750\n",
    "\n",
    "    prompt_start = (\n",
    "        \"Answer the question based on the context below.\\n\\n\"+\n",
    "        \"Context:\\n\"\n",
    "    )\n",
    "    prompt_end = (\n",
    "        f\"\\n\\nQuestion: {query}\\nAnswer:\"\n",
    "    )\n",
    "    # append contexts until hitting limit\n",
    "    for i in range(1, len(context)):\n",
    "        if len(\"\\n\\n---\\n\\n\".join(context.text[:i])) >= limit:\n",
    "            prompt = (\n",
    "                prompt_start +\n",
    "                \"\\n\\n---\\n\\n\".join(context.text[:i-1]) +\n",
    "                prompt_end\n",
    "            )\n",
    "            break\n",
    "        elif i == len(context)-1:\n",
    "            prompt = (\n",
    "                prompt_start +\n",
    "                \"\\n\\n---\\n\\n\".join(context.text) +\n",
    "                prompt_end\n",
    "            )    \n",
    "    return prompt"
   ]
  },
  {
   "cell_type": "code",
   "execution_count": 123,
   "id": "e09c5142",
   "metadata": {},
   "outputs": [
    {
     "data": {
      "text/plain": [
       "'The 12th person on the moon was Harrison Schmitt, and he landed on December 11, 1972.'"
      ]
     },
     "execution_count": 123,
     "metadata": {},
     "output_type": "execute_result"
    }
   ],
   "source": [
    "def complete(prompt):\n",
    "    # query text-davinci-003\n",
    "    res = openai.Completion.create(\n",
    "        engine='text-davinci-003',\n",
    "        prompt=prompt,\n",
    "        temperature=0,\n",
    "        max_tokens=400,\n",
    "        top_p=1,\n",
    "        frequency_penalty=0,\n",
    "        presence_penalty=0,\n",
    "        stop=None\n",
    "    )\n",
    "    return res['choices'][0]['text'].strip()\n",
    "\n",
    "# check that it works\n",
    "query = \"who was the 12th person on the moon and when did they land?\"\n",
    "complete(query)"
   ]
  },
  {
   "cell_type": "code",
   "execution_count": 125,
   "id": "8fcef773",
   "metadata": {},
   "outputs": [],
   "source": [
    "def answer(question):\n",
    "    emb = embed_func(query)[0]\n",
    "    context = ds.to_table(\n",
    "        nearest={\n",
    "            \"column\": \"vector\",\n",
    "            \"k\": 3,\n",
    "            \"q\": emb,\n",
    "            \"nprobes\": 20,\n",
    "            \"refine_factor\": 100\n",
    "        }).to_pandas()\n",
    "    prompt = create_prompt(question, context)\n",
    "    return complete(prompt), context.reset_index()"
   ]
  },
  {
   "cell_type": "code",
   "execution_count": 126,
   "id": "57b5d672",
   "metadata": {},
   "outputs": [],
   "source": [
    "from IPython.display import YouTubeVideo"
   ]
  },
  {
   "cell_type": "markdown",
   "id": "28705959",
   "metadata": {},
   "source": [
    "## Show the answer and show the video at the right place"
   ]
  },
  {
   "cell_type": "code",
   "execution_count": 127,
   "id": "25714299",
   "metadata": {},
   "outputs": [
    {
     "name": "stdout",
     "output_type": "stream",
     "text": [
      "NLI with multiple negative ranking loss.\n"
     ]
    },
    {
     "data": {
      "image/jpeg": "[encoded data removed]",
      "text/html": [
       "\n",
       "        <iframe\n",
       "            width=\"400\"\n",
       "            height=\"300\"\n",
       "            src=\"https://www.youtube.com/embed/pNvujJ1XyeQ?start=289.76\"\n",
       "            frameborder=\"0\"\n",
       "            allowfullscreen\n",
       "            \n",
       "        ></iframe>\n",
       "        "
      ],
      "text/plain": [
       "<IPython.lib.display.YouTubeVideo at 0x3998fea40>"
      ]
     },
     "execution_count": 127,
     "metadata": {},
     "output_type": "execute_result"
    }
   ],
   "source": [
    "query = (\"Which training method should I use for sentence transformers \"\n",
    "         \"when I only have pairs of related sentences?\")\n",
    "completion, context = answer(query)\n",
    "\n",
    "print(completion)\n",
    "top_match = context.iloc[0]\n",
    "YouTubeVideo(top_match[\"url\"].split(\"/\")[-1], start=top_match[\"start\"])"
   ]
  },
  {
   "cell_type": "code",
   "execution_count": null,
   "id": "784d6a65",
   "metadata": {},
   "outputs": [],
   "source": []
  }
 ],
 "metadata": {
  "kernelspec": {
   "display_name": "Python 3 (ipykernel)",
   "language": "python",
   "name": "python3"
  },
  "language_info": {
   "codemirror_mode": {
    "name": "ipython",
    "version": 3
   },
   "file_extension": ".py",
   "mimetype": "text/x-python",
   "name": "python",
   "nbconvert_exporter": "python",
   "pygments_lexer": "ipython3",
   "version": "3.10.9"
  }
 },
 "nbformat": 4,
 "nbformat_minor": 5
}
