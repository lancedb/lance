{
 "cells": [
  {
   "cell_type": "code",
   "execution_count": 1,
   "id": "d71bc8d8-8acb-4f71-a2c0-c1bc965e34a1",
   "metadata": {},
   "outputs": [],
   "source": [
    "import sys\n",
    "sys.dont_write_bytecode = True\n",
    "\n",
    "import os\n",
    "\n",
    "module_path = os.path.abspath(os.path.join('.'))\n",
    "if module_path not in sys.path:\n",
    "    sys.path.append(module_path)"
   ]
  },
  {
   "cell_type": "code",
   "execution_count": 2,
   "id": "2d95e5a1-fcec-4566-96d9-2e717d53414e",
   "metadata": {},
   "outputs": [],
   "source": [
    "from _lib import knn, write_lance, _get_nyt_vectors\n",
    "\n",
    "import numpy as np\n",
    "import tempfile\n",
    "import random\n",
    "import lance\n",
    "import pandas as pd\n",
    "import seaborn as sns\n",
    "\n",
    "from matplotlib import pyplot as plt\n",
    "from tqdm.auto import tqdm"
   ]
  },
  {
   "cell_type": "code",
   "execution_count": 15,
   "id": "9fe600ec-7018-4605-a860-d18042d4eb5f",
   "metadata": {},
   "outputs": [],
   "source": [
    "def run_test(\n",
    "    data,\n",
    "    query,\n",
    "    metric,\n",
    "    num_partitions=256,\n",
    "    num_sub_vectors=8,\n",
    "    nprobes_list=[1, 2, 5, 10, 16],\n",
    "    refine_factor_list=[1, 2, 5, 10, 20],\n",
    "):\n",
    "    in_sample = data[random.sample(range(data.shape[0]), 1000), :]\n",
    "    # ground truth\n",
    "    print(\"generating gt\")\n",
    "\n",
    "    gt = knn(query, data, metric, 10)\n",
    "    gt_in_sample = knn(in_sample, data, metric, 10)\n",
    "\n",
    "    print(\"generated gt\")\n",
    "    \n",
    "    with tempfile.TemporaryDirectory() as d:\n",
    "        write_lance(d, data)\n",
    "        ds = lance.dataset(d)\n",
    "\n",
    "        for q, target in zip(tqdm(in_sample, desc=\"checking brute force\"), gt_in_sample):\n",
    "            res = ds.to_table(nearest={\n",
    "                \"column\": \"vec\",\n",
    "                \"q\": q,\n",
    "                \"k\": 10,\n",
    "                \"metric\": metric,\n",
    "            }, columns=[\"id\"])\n",
    "            assert len(np.intersect1d(res[\"id\"].to_numpy(), target)) == 10\n",
    "    \n",
    "        ds = ds.create_index(\"vec\", \"IVF_PQ\", metric=metric, num_partitions=num_partitions, num_sub_vectors=num_sub_vectors)\n",
    "    \n",
    "        recall_data = []\n",
    "        for nprobes in nprobes_list:\n",
    "            for refine_factor in refine_factor_list:\n",
    "                hits = 0\n",
    "                # check that brute force impl is correct\n",
    "                for q, target in zip(tqdm(query, desc=f\"out of sample, nprobes={nprobes}, refine={refine_factor}\"), gt):\n",
    "                    res = ds.to_table(nearest={\n",
    "                        \"column\": \"vec\",\n",
    "                        \"q\": q,\n",
    "                        \"k\": 10,\n",
    "                        \"nprobes\": nprobes,\n",
    "                        \"refine_factor\": refine_factor,\n",
    "                    }, columns=[\"id\"])[\"id\"].to_numpy()\n",
    "                    hits += len(np.intersect1d(res, target))\n",
    "                recall_data.append([\n",
    "                    \"out_of_sample\",\n",
    "                    nprobes,\n",
    "                    refine_factor,\n",
    "                    hits / 10 / len(gt),\n",
    "                ])\n",
    "                # check that brute force impl is correct\n",
    "                for q, target in zip(tqdm(in_sample, desc=f\"in sample nprobes={nprobes}, refine={refine_factor}\"), gt_in_sample):\n",
    "                    res = ds.to_table(nearest={\n",
    "                        \"column\": \"vec\",\n",
    "                        \"q\": q,\n",
    "                        \"k\": 10,\n",
    "                        \"nprobes\": nprobes,\n",
    "                        \"refine_factor\": refine_factor,\n",
    "                    }, columns=[\"id\"])[\"id\"].to_numpy()\n",
    "                    hits += len(np.intersect1d(res, target))\n",
    "                recall_data.append([\n",
    "                    \"in_sample\",\n",
    "                    nprobes,\n",
    "                    refine_factor,\n",
    "                    hits / 10 / len(gt_in_sample),\n",
    "                ])\n",
    "    return recall_data"
   ]
  },
  {
   "cell_type": "code",
   "execution_count": 16,
   "id": "a68e21fb-7d4a-49af-9242-cd052874a98a",
   "metadata": {},
   "outputs": [],
   "source": [
    "def make_plot(recall_data):\n",
    "    df = pd.DataFrame(recall_data, columns=[\"case\", \"nprobes\", \"refine_factor\", \"recall\"])\n",
    "    \n",
    "    num_cases = len(df[\"case\"].unique())\n",
    "    (fig, axs) = plt.subplots(1, 2, figsize=(16, 8))\n",
    "    \n",
    "    for case, ax in zip(df[\"case\"].unique(), axs):\n",
    "        current_case = df[df[\"case\"] == case]\n",
    "        sns.heatmap(\n",
    "            current_case.drop(columns=[\"case\"]).set_index([\"nprobes\", \"refine_factor\"])[\"recall\"].unstack(),\n",
    "            annot=True,\n",
    "            ax=ax,\n",
    "        ).set(title=f\"Recall -- {case}\")"
   ]
  },
  {
   "cell_type": "code",
   "execution_count": 19,
   "id": "9eee7907-3494-47a5-ac8a-a4bff2ab7055",
   "metadata": {},
   "outputs": [
    {
     "data": {
      "image/png": "[encoded data removed]",
      "text/plain": [
       "<Figure size 1600x800 with 4 Axes>"
      ]
     },
     "metadata": {},
     "output_type": "display_data"
    }
   ],
   "source": [
    "# test randomly generated data\n",
    "data = np.random.standard_normal((100000, 64))\n",
    "query = np.random.standard_normal((1000, 64))\n",
    "\n",
    "recall_data = run_test(\n",
    "    data,\n",
    "    query,\n",
    "    \"L2\",\n",
    ")\n",
    "\n",
    "make_plot(recall_data)"
   ]
  },
  {
   "cell_type": "code",
   "execution_count": 22,
   "id": "0bf731d5-7a4d-46d4-8405-4abadb5d754d",
   "metadata": {},
   "outputs": [
    {
     "name": "stdout",
     "output_type": "stream",
     "text": [
      "generating gt\n",
      "generated gt\n"
     ]
    },
    {
     "data": {
      "application/vnd.jupyter.widget-view+json": {
       "model_id": "fcdd5f7276cc4bf29f7b81a0d0de895b",
       "version_major": 2,
       "version_minor": 0
      },
      "text/plain": [
       "checking brute force:   0%|          | 0/1000 [00:00<?, ?it/s]"
      ]
     },
     "metadata": {},
     "output_type": "display_data"
    },
    {
     "name": "stderr",
     "output_type": "stream",
     "text": [
      "[2024-03-01T06:14:10Z WARN  lance_linalg::kmeans] KMeans: more than 10% of clusters are empty: 221 of 256.\n",
      "    Help: this could mean your dataset is too small to have a meaningful index (less than 5000 vectors) or has many duplicate vectors.\n",
      "[2024-03-01T06:14:10Z WARN  lance_linalg::kmeans] KMeans: more than 10% of clusters are empty: 197 of 256.\n",
      "    Help: this could mean your dataset is too small to have a meaningful index (less than 5000 vectors) or has many duplicate vectors.\n",
      "[2024-03-01T06:14:10Z WARN  lance_linalg::kmeans] KMeans: more than 10% of clusters are empty: 104 of 256.\n",
      "    Help: this could mean your dataset is too small to have a meaningful index (less than 5000 vectors) or has many duplicate vectors.\n",
      "[2024-03-01T06:14:10Z WARN  lance_linalg::kmeans] KMeans: more than 10% of clusters are empty: 29 of 256.\n",
      "    Help: this could mean your dataset is too small to have a meaningful index (less than 5000 vectors) or has many duplicate vectors.\n"
     ]
    },
    {
     "data": {
      "application/vnd.jupyter.widget-view+json": {
       "model_id": "c6406ecb22a84340908f3f4bdd201bdf",
       "version_major": 2,
       "version_minor": 0
      },
      "text/plain": [
       "out of sample, nprobes=1, refine=1:   0%|          | 0/1000 [00:00<?, ?it/s]"
      ]
     },
     "metadata": {},
     "output_type": "display_data"
    },
    {
     "data": {
      "application/vnd.jupyter.widget-view+json": {
       "model_id": "fc4d399fa993434bba94a07ae16d930d",
       "version_major": 2,
       "version_minor": 0
      },
      "text/plain": [
       "in sample nprobes=1, refine=1:   0%|          | 0/1000 [00:00<?, ?it/s]"
      ]
     },
     "metadata": {},
     "output_type": "display_data"
    },
    {
     "data": {
      "application/vnd.jupyter.widget-view+json": {
       "model_id": "0336a86222f049b0bafb1c233270e7ba",
       "version_major": 2,
       "version_minor": 0
      },
      "text/plain": [
       "out of sample, nprobes=1, refine=2:   0%|          | 0/1000 [00:00<?, ?it/s]"
      ]
     },
     "metadata": {},
     "output_type": "display_data"
    },
    {
     "data": {
      "application/vnd.jupyter.widget-view+json": {
       "model_id": "2bd45486d46347b7a19ab7b5b1c234d0",
       "version_major": 2,
       "version_minor": 0
      },
      "text/plain": [
       "in sample nprobes=1, refine=2:   0%|          | 0/1000 [00:00<?, ?it/s]"
      ]
     },
     "metadata": {},
     "output_type": "display_data"
    },
    {
     "data": {
      "application/vnd.jupyter.widget-view+json": {
       "model_id": "dc1f8f32d3a64ed5981e6c02f695b6e7",
       "version_major": 2,
       "version_minor": 0
      },
      "text/plain": [
       "out of sample, nprobes=1, refine=5:   0%|          | 0/1000 [00:00<?, ?it/s]"
      ]
     },
     "metadata": {},
     "output_type": "display_data"
    },
    {
     "data": {
      "application/vnd.jupyter.widget-view+json": {
       "model_id": "aa4ec62435274d278ae3c3624311b5d2",
       "version_major": 2,
       "version_minor": 0
      },
      "text/plain": [
       "in sample nprobes=1, refine=5:   0%|          | 0/1000 [00:00<?, ?it/s]"
      ]
     },
     "metadata": {},
     "output_type": "display_data"
    },
    {
     "data": {
      "application/vnd.jupyter.widget-view+json": {
       "model_id": "f294dfc4126542c789adb06f3bdd71bb",
       "version_major": 2,
       "version_minor": 0
      },
      "text/plain": [
       "out of sample, nprobes=1, refine=10:   0%|          | 0/1000 [00:00<?, ?it/s]"
      ]
     },
     "metadata": {},
     "output_type": "display_data"
    },
    {
     "data": {
      "application/vnd.jupyter.widget-view+json": {
       "model_id": "398b9b677caf44778f25952c228f4435",
       "version_major": 2,
       "version_minor": 0
      },
      "text/plain": [
       "in sample nprobes=1, refine=10:   0%|          | 0/1000 [00:00<?, ?it/s]"
      ]
     },
     "metadata": {},
     "output_type": "display_data"
    },
    {
     "data": {
      "application/vnd.jupyter.widget-view+json": {
       "model_id": "524783c9747e4ed7b948e8b515c1e109",
       "version_major": 2,
       "version_minor": 0
      },
      "text/plain": [
       "out of sample, nprobes=1, refine=20:   0%|          | 0/1000 [00:00<?, ?it/s]"
      ]
     },
     "metadata": {},
     "output_type": "display_data"
    },
    {
     "data": {
      "application/vnd.jupyter.widget-view+json": {
       "model_id": "afd0a179b02848ada38d8445e83a2c47",
       "version_major": 2,
       "version_minor": 0
      },
      "text/plain": [
       "in sample nprobes=1, refine=20:   0%|          | 0/1000 [00:00<?, ?it/s]"
      ]
     },
     "metadata": {},
     "output_type": "display_data"
    },
    {
     "data": {
      "application/vnd.jupyter.widget-view+json": {
       "model_id": "4d713120c5ec4065bd0c49ddd452bd5f",
       "version_major": 2,
       "version_minor": 0
      },
      "text/plain": [
       "out of sample, nprobes=2, refine=1:   0%|          | 0/1000 [00:00<?, ?it/s]"
      ]
     },
     "metadata": {},
     "output_type": "display_data"
    },
    {
     "data": {
      "application/vnd.jupyter.widget-view+json": {
       "model_id": "20a7da8e2f5d4976b1348b2419428854",
       "version_major": 2,
       "version_minor": 0
      },
      "text/plain": [
       "in sample nprobes=2, refine=1:   0%|          | 0/1000 [00:00<?, ?it/s]"
      ]
     },
     "metadata": {},
     "output_type": "display_data"
    },
    {
     "data": {
      "application/vnd.jupyter.widget-view+json": {
       "model_id": "f207976dad924a95a0c9b49b719d2c89",
       "version_major": 2,
       "version_minor": 0
      },
      "text/plain": [
       "out of sample, nprobes=2, refine=2:   0%|          | 0/1000 [00:00<?, ?it/s]"
      ]
     },
     "metadata": {},
     "output_type": "display_data"
    },
    {
     "data": {
      "application/vnd.jupyter.widget-view+json": {
       "model_id": "398aba52197a48d1a1ebf04c5957198c",
       "version_major": 2,
       "version_minor": 0
      },
      "text/plain": [
       "in sample nprobes=2, refine=2:   0%|          | 0/1000 [00:00<?, ?it/s]"
      ]
     },
     "metadata": {},
     "output_type": "display_data"
    },
    {
     "data": {
      "application/vnd.jupyter.widget-view+json": {
       "model_id": "a2a861c99ff149aab56ed38f95867a9c",
       "version_major": 2,
       "version_minor": 0
      },
      "text/plain": [
       "out of sample, nprobes=2, refine=5:   0%|          | 0/1000 [00:00<?, ?it/s]"
      ]
     },
     "metadata": {},
     "output_type": "display_data"
    },
    {
     "data": {
      "application/vnd.jupyter.widget-view+json": {
       "model_id": "98720d7a7dfe49928150c37449c67f7e",
       "version_major": 2,
       "version_minor": 0
      },
      "text/plain": [
       "in sample nprobes=2, refine=5:   0%|          | 0/1000 [00:00<?, ?it/s]"
      ]
     },
     "metadata": {},
     "output_type": "display_data"
    },
    {
     "data": {
      "application/vnd.jupyter.widget-view+json": {
       "model_id": "af2667b5cd4f494ea1a4cbfcf6d4d23a",
       "version_major": 2,
       "version_minor": 0
      },
      "text/plain": [
       "out of sample, nprobes=2, refine=10:   0%|          | 0/1000 [00:00<?, ?it/s]"
      ]
     },
     "metadata": {},
     "output_type": "display_data"
    },
    {
     "data": {
      "application/vnd.jupyter.widget-view+json": {
       "model_id": "b01cf7073a9a462b840bd7614a951acf",
       "version_major": 2,
       "version_minor": 0
      },
      "text/plain": [
       "in sample nprobes=2, refine=10:   0%|          | 0/1000 [00:00<?, ?it/s]"
      ]
     },
     "metadata": {},
     "output_type": "display_data"
    },
    {
     "data": {
      "application/vnd.jupyter.widget-view+json": {
       "model_id": "f5982bf698c841e4b03c332c96595325",
       "version_major": 2,
       "version_minor": 0
      },
      "text/plain": [
       "out of sample, nprobes=2, refine=20:   0%|          | 0/1000 [00:00<?, ?it/s]"
      ]
     },
     "metadata": {},
     "output_type": "display_data"
    },
    {
     "data": {
      "application/vnd.jupyter.widget-view+json": {
       "model_id": "5931b46eed7142eb9961d58c39319638",
       "version_major": 2,
       "version_minor": 0
      },
      "text/plain": [
       "in sample nprobes=2, refine=20:   0%|          | 0/1000 [00:00<?, ?it/s]"
      ]
     },
     "metadata": {},
     "output_type": "display_data"
    },
    {
     "data": {
      "application/vnd.jupyter.widget-view+json": {
       "model_id": "bfe4356aedc94afabe9fd96aa21d38df",
       "version_major": 2,
       "version_minor": 0
      },
      "text/plain": [
       "out of sample, nprobes=5, refine=1:   0%|          | 0/1000 [00:00<?, ?it/s]"
      ]
     },
     "metadata": {},
     "output_type": "display_data"
    },
    {
     "data": {
      "application/vnd.jupyter.widget-view+json": {
       "model_id": "e85d8e6206f64191beae694aa99ae0f3",
       "version_major": 2,
       "version_minor": 0
      },
      "text/plain": [
       "in sample nprobes=5, refine=1:   0%|          | 0/1000 [00:00<?, ?it/s]"
      ]
     },
     "metadata": {},
     "output_type": "display_data"
    },
    {
     "data": {
      "application/vnd.jupyter.widget-view+json": {
       "model_id": "e153cd4b26744d4a8b426e8258de821d",
       "version_major": 2,
       "version_minor": 0
      },
      "text/plain": [
       "out of sample, nprobes=5, refine=2:   0%|          | 0/1000 [00:00<?, ?it/s]"
      ]
     },
     "metadata": {},
     "output_type": "display_data"
    },
    {
     "data": {
      "application/vnd.jupyter.widget-view+json": {
       "model_id": "b4b7015600594985acea1e9049d7aead",
       "version_major": 2,
       "version_minor": 0
      },
      "text/plain": [
       "in sample nprobes=5, refine=2:   0%|          | 0/1000 [00:00<?, ?it/s]"
      ]
     },
     "metadata": {},
     "output_type": "display_data"
    },
    {
     "data": {
      "application/vnd.jupyter.widget-view+json": {
       "model_id": "c1cc432be72040bfba1512ef15b977ff",
       "version_major": 2,
       "version_minor": 0
      },
      "text/plain": [
       "out of sample, nprobes=5, refine=5:   0%|          | 0/1000 [00:00<?, ?it/s]"
      ]
     },
     "metadata": {},
     "output_type": "display_data"
    },
    {
     "data": {
      "application/vnd.jupyter.widget-view+json": {
       "model_id": "13f7e55bb006462d92b737362f8bb1c8",
       "version_major": 2,
       "version_minor": 0
      },
      "text/plain": [
       "in sample nprobes=5, refine=5:   0%|          | 0/1000 [00:00<?, ?it/s]"
      ]
     },
     "metadata": {},
     "output_type": "display_data"
    },
    {
     "data": {
      "application/vnd.jupyter.widget-view+json": {
       "model_id": "2acabe91cdee46ccbdc50e182d3738d2",
       "version_major": 2,
       "version_minor": 0
      },
      "text/plain": [
       "out of sample, nprobes=5, refine=10:   0%|          | 0/1000 [00:00<?, ?it/s]"
      ]
     },
     "metadata": {},
     "output_type": "display_data"
    },
    {
     "data": {
      "application/vnd.jupyter.widget-view+json": {
       "model_id": "04d6fa93645f468f8b6282857708d6d4",
       "version_major": 2,
       "version_minor": 0
      },
      "text/plain": [
       "in sample nprobes=5, refine=10:   0%|          | 0/1000 [00:00<?, ?it/s]"
      ]
     },
     "metadata": {},
     "output_type": "display_data"
    },
    {
     "data": {
      "application/vnd.jupyter.widget-view+json": {
       "model_id": "be4b01bfa3a74323a8c908a9acaffbf5",
       "version_major": 2,
       "version_minor": 0
      },
      "text/plain": [
       "out of sample, nprobes=5, refine=20:   0%|          | 0/1000 [00:00<?, ?it/s]"
      ]
     },
     "metadata": {},
     "output_type": "display_data"
    },
    {
     "data": {
      "application/vnd.jupyter.widget-view+json": {
       "model_id": "3303e0536ec548249f504bb3b0c9b641",
       "version_major": 2,
       "version_minor": 0
      },
      "text/plain": [
       "in sample nprobes=5, refine=20:   0%|          | 0/1000 [00:00<?, ?it/s]"
      ]
     },
     "metadata": {},
     "output_type": "display_data"
    },
    {
     "data": {
      "application/vnd.jupyter.widget-view+json": {
       "model_id": "e003f7b5b6e34584936fbab6ba0a1bbc",
       "version_major": 2,
       "version_minor": 0
      },
      "text/plain": [
       "out of sample, nprobes=10, refine=1:   0%|          | 0/1000 [00:00<?, ?it/s]"
      ]
     },
     "metadata": {},
     "output_type": "display_data"
    },
    {
     "data": {
      "application/vnd.jupyter.widget-view+json": {
       "model_id": "5fb7060953974ae283f19695b977a369",
       "version_major": 2,
       "version_minor": 0
      },
      "text/plain": [
       "in sample nprobes=10, refine=1:   0%|          | 0/1000 [00:00<?, ?it/s]"
      ]
     },
     "metadata": {},
     "output_type": "display_data"
    },
    {
     "data": {
      "application/vnd.jupyter.widget-view+json": {
       "model_id": "c6b697c6d3264835a379c65efbc3dd32",
       "version_major": 2,
       "version_minor": 0
      },
      "text/plain": [
       "out of sample, nprobes=10, refine=2:   0%|          | 0/1000 [00:00<?, ?it/s]"
      ]
     },
     "metadata": {},
     "output_type": "display_data"
    },
    {
     "data": {
      "application/vnd.jupyter.widget-view+json": {
       "model_id": "8e1dce7456824da3bb20f4a2fdbc7c71",
       "version_major": 2,
       "version_minor": 0
      },
      "text/plain": [
       "in sample nprobes=10, refine=2:   0%|          | 0/1000 [00:00<?, ?it/s]"
      ]
     },
     "metadata": {},
     "output_type": "display_data"
    },
    {
     "data": {
      "application/vnd.jupyter.widget-view+json": {
       "model_id": "419619adcc8e4d6e904d5be6c04a44a1",
       "version_major": 2,
       "version_minor": 0
      },
      "text/plain": [
       "out of sample, nprobes=10, refine=5:   0%|          | 0/1000 [00:00<?, ?it/s]"
      ]
     },
     "metadata": {},
     "output_type": "display_data"
    },
    {
     "data": {
      "application/vnd.jupyter.widget-view+json": {
       "model_id": "21daf925710d4d7f81091444205f9981",
       "version_major": 2,
       "version_minor": 0
      },
      "text/plain": [
       "in sample nprobes=10, refine=5:   0%|          | 0/1000 [00:00<?, ?it/s]"
      ]
     },
     "metadata": {},
     "output_type": "display_data"
    },
    {
     "data": {
      "application/vnd.jupyter.widget-view+json": {
       "model_id": "57674bd73bd744d1a376915008b2b2e2",
       "version_major": 2,
       "version_minor": 0
      },
      "text/plain": [
       "out of sample, nprobes=10, refine=10:   0%|          | 0/1000 [00:00<?, ?it/s]"
      ]
     },
     "metadata": {},
     "output_type": "display_data"
    },
    {
     "data": {
      "application/vnd.jupyter.widget-view+json": {
       "model_id": "6e8f4379268340df89d157ab65c0b4f0",
       "version_major": 2,
       "version_minor": 0
      },
      "text/plain": [
       "in sample nprobes=10, refine=10:   0%|          | 0/1000 [00:00<?, ?it/s]"
      ]
     },
     "metadata": {},
     "output_type": "display_data"
    },
    {
     "data": {
      "application/vnd.jupyter.widget-view+json": {
       "model_id": "ca1c000cb6b04dfc8b5cccc4bf9fcc9b",
       "version_major": 2,
       "version_minor": 0
      },
      "text/plain": [
       "out of sample, nprobes=10, refine=20:   0%|          | 0/1000 [00:00<?, ?it/s]"
      ]
     },
     "metadata": {},
     "output_type": "display_data"
    },
    {
     "data": {
      "application/vnd.jupyter.widget-view+json": {
       "model_id": "e30f4adf4ff74a3788ad425f9c1e058f",
       "version_major": 2,
       "version_minor": 0
      },
      "text/plain": [
       "in sample nprobes=10, refine=20:   0%|          | 0/1000 [00:00<?, ?it/s]"
      ]
     },
     "metadata": {},
     "output_type": "display_data"
    },
    {
     "data": {
      "application/vnd.jupyter.widget-view+json": {
       "model_id": "6f423f2235874cac85efb3da6f7f567c",
       "version_major": 2,
       "version_minor": 0
      },
      "text/plain": [
       "out of sample, nprobes=16, refine=1:   0%|          | 0/1000 [00:00<?, ?it/s]"
      ]
     },
     "metadata": {},
     "output_type": "display_data"
    },
    {
     "data": {
      "application/vnd.jupyter.widget-view+json": {
       "model_id": "456c896d0d054645b0a63778dee2fc1a",
       "version_major": 2,
       "version_minor": 0
      },
      "text/plain": [
       "in sample nprobes=16, refine=1:   0%|          | 0/1000 [00:00<?, ?it/s]"
      ]
     },
     "metadata": {},
     "output_type": "display_data"
    },
    {
     "data": {
      "application/vnd.jupyter.widget-view+json": {
       "model_id": "35874591d3c14aba9ea0051064c48f33",
       "version_major": 2,
       "version_minor": 0
      },
      "text/plain": [
       "out of sample, nprobes=16, refine=2:   0%|          | 0/1000 [00:00<?, ?it/s]"
      ]
     },
     "metadata": {},
     "output_type": "display_data"
    },
    {
     "data": {
      "application/vnd.jupyter.widget-view+json": {
       "model_id": "6d333c9bb7a34472881e4367806b9600",
       "version_major": 2,
       "version_minor": 0
      },
      "text/plain": [
       "in sample nprobes=16, refine=2:   0%|          | 0/1000 [00:00<?, ?it/s]"
      ]
     },
     "metadata": {},
     "output_type": "display_data"
    },
    {
     "data": {
      "application/vnd.jupyter.widget-view+json": {
       "model_id": "db9e427d4b7b4d24a1d724e286245ae3",
       "version_major": 2,
       "version_minor": 0
      },
      "text/plain": [
       "out of sample, nprobes=16, refine=5:   0%|          | 0/1000 [00:00<?, ?it/s]"
      ]
     },
     "metadata": {},
     "output_type": "display_data"
    },
    {
     "data": {
      "application/vnd.jupyter.widget-view+json": {
       "model_id": "fb360097a4964e9f8ea97e4d73f9f413",
       "version_major": 2,
       "version_minor": 0
      },
      "text/plain": [
       "in sample nprobes=16, refine=5:   0%|          | 0/1000 [00:00<?, ?it/s]"
      ]
     },
     "metadata": {},
     "output_type": "display_data"
    },
    {
     "data": {
      "application/vnd.jupyter.widget-view+json": {
       "model_id": "e355c060855e4c29852c6409e882fed3",
       "version_major": 2,
       "version_minor": 0
      },
      "text/plain": [
       "out of sample, nprobes=16, refine=10:   0%|          | 0/1000 [00:00<?, ?it/s]"
      ]
     },
     "metadata": {},
     "output_type": "display_data"
    },
    {
     "data": {
      "application/vnd.jupyter.widget-view+json": {
       "model_id": "a090a522b04442119f8c147465a0231f",
       "version_major": 2,
       "version_minor": 0
      },
      "text/plain": [
       "in sample nprobes=16, refine=10:   0%|          | 0/1000 [00:00<?, ?it/s]"
      ]
     },
     "metadata": {},
     "output_type": "display_data"
    },
    {
     "data": {
      "application/vnd.jupyter.widget-view+json": {
       "model_id": "d4ec053e1b124f3b861227f74c3740cd",
       "version_major": 2,
       "version_minor": 0
      },
      "text/plain": [
       "out of sample, nprobes=16, refine=20:   0%|          | 0/1000 [00:00<?, ?it/s]"
      ]
     },
     "metadata": {},
     "output_type": "display_data"
    },
    {
     "data": {
      "application/vnd.jupyter.widget-view+json": {
       "model_id": "7182fe1a09e34da49b0655c9d08bf7ba",
       "version_major": 2,
       "version_minor": 0
      },
      "text/plain": [
       "in sample nprobes=16, refine=20:   0%|          | 0/1000 [00:00<?, ?it/s]"
      ]
     },
     "metadata": {},
     "output_type": "display_data"
    },
    {
     "data": {
      "image/png": "[encoded data removed]",
      "text/plain": [
       "<Figure size 1600x800 with 4 Axes>"
      ]
     },
     "metadata": {},
     "output_type": "display_data"
    }
   ],
   "source": [
    "# test randomly generated data -- cosine\n",
    "data = np.random.standard_normal((100000, 64))\n",
    "query = np.random.standard_normal((1000, 64))\n",
    "\n",
    "recall_data = run_test(\n",
    "    data,\n",
    "    query,\n",
    "    \"cosine\",\n",
    ")\n",
    "\n",
    "make_plot(recall_data)"
   ]
  },
  {
   "cell_type": "code",
   "execution_count": 22,
   "id": "f8243a51-5222-4446-9696-a031281f17a6",
   "metadata": {},
   "outputs": [
    {
     "name": "stdout",
     "output_type": "stream",
     "text": [
      "loading from cache\n",
      "generating gt\n",
      "generated gt\n"
     ]
    },
    {
     "data": {
      "application/vnd.jupyter.widget-view+json": {
       "model_id": "6afedef81f134cefac769b2c2afc5e96",
       "version_major": 2,
       "version_minor": 0
      },
      "text/plain": [
       "checking brute force:   0%|          | 0/1000 [00:00<?, ?it/s]"
      ]
     },
     "metadata": {},
     "output_type": "display_data"
    },
    {
     "data": {
      "application/vnd.jupyter.widget-view+json": {
       "model_id": "924edcc8518b45259934e74b867b8563",
       "version_major": 2,
       "version_minor": 0
      },
      "text/plain": [
       "out of sample, nprobes=1, refine=1:   0%|          | 0/100 [00:00<?, ?it/s]"
      ]
     },
     "metadata": {},
     "output_type": "display_data"
    },
    {
     "data": {
      "application/vnd.jupyter.widget-view+json": {
       "model_id": "97cd2aa87d974a02a4695c726068830a",
       "version_major": 2,
       "version_minor": 0
      },
      "text/plain": [
       "in sample nprobes=1, refine=1:   0%|          | 0/1000 [00:00<?, ?it/s]"
      ]
     },
     "metadata": {},
     "output_type": "display_data"
    },
    {
     "data": {
      "application/vnd.jupyter.widget-view+json": {
       "model_id": "70b6819d2ecb48caa5e78fa79eef1afa",
       "version_major": 2,
       "version_minor": 0
      },
      "text/plain": [
       "out of sample, nprobes=1, refine=2:   0%|          | 0/100 [00:00<?, ?it/s]"
      ]
     },
     "metadata": {},
     "output_type": "display_data"
    },
    {
     "data": {
      "application/vnd.jupyter.widget-view+json": {
       "model_id": "496f78313d8448c796ccce13f4ccf019",
       "version_major": 2,
       "version_minor": 0
      },
      "text/plain": [
       "in sample nprobes=1, refine=2:   0%|          | 0/1000 [00:00<?, ?it/s]"
      ]
     },
     "metadata": {},
     "output_type": "display_data"
    },
    {
     "data": {
      "application/vnd.jupyter.widget-view+json": {
       "model_id": "b8bfeb500f3846379e37025263ac528e",
       "version_major": 2,
       "version_minor": 0
      },
      "text/plain": [
       "out of sample, nprobes=1, refine=5:   0%|          | 0/100 [00:00<?, ?it/s]"
      ]
     },
     "metadata": {},
     "output_type": "display_data"
    },
    {
     "data": {
      "application/vnd.jupyter.widget-view+json": {
       "model_id": "4abc75110e3449e382e0c6e6fe1f92e0",
       "version_major": 2,
       "version_minor": 0
      },
      "text/plain": [
       "in sample nprobes=1, refine=5:   0%|          | 0/1000 [00:00<?, ?it/s]"
      ]
     },
     "metadata": {},
     "output_type": "display_data"
    },
    {
     "data": {
      "application/vnd.jupyter.widget-view+json": {
       "model_id": "709f036a4e544323b5ade1649d2ca80d",
       "version_major": 2,
       "version_minor": 0
      },
      "text/plain": [
       "out of sample, nprobes=1, refine=10:   0%|          | 0/100 [00:00<?, ?it/s]"
      ]
     },
     "metadata": {},
     "output_type": "display_data"
    },
    {
     "data": {
      "application/vnd.jupyter.widget-view+json": {
       "model_id": "48e94c93e0564671978785e102db8a08",
       "version_major": 2,
       "version_minor": 0
      },
      "text/plain": [
       "in sample nprobes=1, refine=10:   0%|          | 0/1000 [00:00<?, ?it/s]"
      ]
     },
     "metadata": {},
     "output_type": "display_data"
    },
    {
     "data": {
      "application/vnd.jupyter.widget-view+json": {
       "model_id": "dc353c63cbb644f2be9e8168d0bf7615",
       "version_major": 2,
       "version_minor": 0
      },
      "text/plain": [
       "out of sample, nprobes=1, refine=20:   0%|          | 0/100 [00:00<?, ?it/s]"
      ]
     },
     "metadata": {},
     "output_type": "display_data"
    },
    {
     "data": {
      "application/vnd.jupyter.widget-view+json": {
       "model_id": "e55ca9b3f3c945f2a21329d71eeb9f5c",
       "version_major": 2,
       "version_minor": 0
      },
      "text/plain": [
       "in sample nprobes=1, refine=20:   0%|          | 0/1000 [00:00<?, ?it/s]"
      ]
     },
     "metadata": {},
     "output_type": "display_data"
    },
    {
     "data": {
      "application/vnd.jupyter.widget-view+json": {
       "model_id": "d736399c259e48bc8783fcfb5a445f19",
       "version_major": 2,
       "version_minor": 0
      },
      "text/plain": [
       "out of sample, nprobes=2, refine=1:   0%|          | 0/100 [00:00<?, ?it/s]"
      ]
     },
     "metadata": {},
     "output_type": "display_data"
    },
    {
     "data": {
      "application/vnd.jupyter.widget-view+json": {
       "model_id": "91f144fbcdcf43a6a50d7b21c30c0781",
       "version_major": 2,
       "version_minor": 0
      },
      "text/plain": [
       "in sample nprobes=2, refine=1:   0%|          | 0/1000 [00:00<?, ?it/s]"
      ]
     },
     "metadata": {},
     "output_type": "display_data"
    },
    {
     "data": {
      "application/vnd.jupyter.widget-view+json": {
       "model_id": "5d2d5d2244b94a958383f2d4c7f69255",
       "version_major": 2,
       "version_minor": 0
      },
      "text/plain": [
       "out of sample, nprobes=2, refine=2:   0%|          | 0/100 [00:00<?, ?it/s]"
      ]
     },
     "metadata": {},
     "output_type": "display_data"
    },
    {
     "data": {
      "application/vnd.jupyter.widget-view+json": {
       "model_id": "bc43362dbe29422a9445e6d42dff3848",
       "version_major": 2,
       "version_minor": 0
      },
      "text/plain": [
       "in sample nprobes=2, refine=2:   0%|          | 0/1000 [00:00<?, ?it/s]"
      ]
     },
     "metadata": {},
     "output_type": "display_data"
    },
    {
     "data": {
      "application/vnd.jupyter.widget-view+json": {
       "model_id": "ae23f5985b3046d1858e8174eb24541d",
       "version_major": 2,
       "version_minor": 0
      },
      "text/plain": [
       "out of sample, nprobes=2, refine=5:   0%|          | 0/100 [00:00<?, ?it/s]"
      ]
     },
     "metadata": {},
     "output_type": "display_data"
    },
    {
     "data": {
      "application/vnd.jupyter.widget-view+json": {
       "model_id": "69add85ecaca47b9a5797383628c2b1d",
       "version_major": 2,
       "version_minor": 0
      },
      "text/plain": [
       "in sample nprobes=2, refine=5:   0%|          | 0/1000 [00:00<?, ?it/s]"
      ]
     },
     "metadata": {},
     "output_type": "display_data"
    },
    {
     "data": {
      "application/vnd.jupyter.widget-view+json": {
       "model_id": "3b28b14efc8342a5b098172db49dec46",
       "version_major": 2,
       "version_minor": 0
      },
      "text/plain": [
       "out of sample, nprobes=2, refine=10:   0%|          | 0/100 [00:00<?, ?it/s]"
      ]
     },
     "metadata": {},
     "output_type": "display_data"
    },
    {
     "data": {
      "application/vnd.jupyter.widget-view+json": {
       "model_id": "e89aeca09e6348e6b2886dd724b82d36",
       "version_major": 2,
       "version_minor": 0
      },
      "text/plain": [
       "in sample nprobes=2, refine=10:   0%|          | 0/1000 [00:00<?, ?it/s]"
      ]
     },
     "metadata": {},
     "output_type": "display_data"
    },
    {
     "data": {
      "application/vnd.jupyter.widget-view+json": {
       "model_id": "168521e5812d4660a869d0f3a00843d3",
       "version_major": 2,
       "version_minor": 0
      },
      "text/plain": [
       "out of sample, nprobes=2, refine=20:   0%|          | 0/100 [00:00<?, ?it/s]"
      ]
     },
     "metadata": {},
     "output_type": "display_data"
    },
    {
     "data": {
      "application/vnd.jupyter.widget-view+json": {
       "model_id": "3c8b7558bfe248a68f9d214a4f2578d4",
       "version_major": 2,
       "version_minor": 0
      },
      "text/plain": [
       "in sample nprobes=2, refine=20:   0%|          | 0/1000 [00:00<?, ?it/s]"
      ]
     },
     "metadata": {},
     "output_type": "display_data"
    },
    {
     "data": {
      "application/vnd.jupyter.widget-view+json": {
       "model_id": "90402288247646c5a7c9ea2627696189",
       "version_major": 2,
       "version_minor": 0
      },
      "text/plain": [
       "out of sample, nprobes=5, refine=1:   0%|          | 0/100 [00:00<?, ?it/s]"
      ]
     },
     "metadata": {},
     "output_type": "display_data"
    },
    {
     "data": {
      "application/vnd.jupyter.widget-view+json": {
       "model_id": "f053e9b5f67045b89445400804fa0f0e",
       "version_major": 2,
       "version_minor": 0
      },
      "text/plain": [
       "in sample nprobes=5, refine=1:   0%|          | 0/1000 [00:00<?, ?it/s]"
      ]
     },
     "metadata": {},
     "output_type": "display_data"
    },
    {
     "data": {
      "application/vnd.jupyter.widget-view+json": {
       "model_id": "43aea415aed846ce953a53c3d4941338",
       "version_major": 2,
       "version_minor": 0
      },
      "text/plain": [
       "out of sample, nprobes=5, refine=2:   0%|          | 0/100 [00:00<?, ?it/s]"
      ]
     },
     "metadata": {},
     "output_type": "display_data"
    },
    {
     "data": {
      "application/vnd.jupyter.widget-view+json": {
       "model_id": "f1fd86121c894470b6ad64c650485811",
       "version_major": 2,
       "version_minor": 0
      },
      "text/plain": [
       "in sample nprobes=5, refine=2:   0%|          | 0/1000 [00:00<?, ?it/s]"
      ]
     },
     "metadata": {},
     "output_type": "display_data"
    },
    {
     "data": {
      "application/vnd.jupyter.widget-view+json": {
       "model_id": "912a045b19cf403c973f6b3018310d63",
       "version_major": 2,
       "version_minor": 0
      },
      "text/plain": [
       "out of sample, nprobes=5, refine=5:   0%|          | 0/100 [00:00<?, ?it/s]"
      ]
     },
     "metadata": {},
     "output_type": "display_data"
    },
    {
     "data": {
      "application/vnd.jupyter.widget-view+json": {
       "model_id": "be1096438c224fed853cfd3bae0cd6d2",
       "version_major": 2,
       "version_minor": 0
      },
      "text/plain": [
       "in sample nprobes=5, refine=5:   0%|          | 0/1000 [00:00<?, ?it/s]"
      ]
     },
     "metadata": {},
     "output_type": "display_data"
    },
    {
     "data": {
      "application/vnd.jupyter.widget-view+json": {
       "model_id": "6b424ba89ecd44d39aa6c41f740ce369",
       "version_major": 2,
       "version_minor": 0
      },
      "text/plain": [
       "out of sample, nprobes=5, refine=10:   0%|          | 0/100 [00:00<?, ?it/s]"
      ]
     },
     "metadata": {},
     "output_type": "display_data"
    },
    {
     "data": {
      "application/vnd.jupyter.widget-view+json": {
       "model_id": "8c196e40a694462381a00112731a7b58",
       "version_major": 2,
       "version_minor": 0
      },
      "text/plain": [
       "in sample nprobes=5, refine=10:   0%|          | 0/1000 [00:00<?, ?it/s]"
      ]
     },
     "metadata": {},
     "output_type": "display_data"
    },
    {
     "data": {
      "application/vnd.jupyter.widget-view+json": {
       "model_id": "14ba57fc240b4613b94d073de0fbc2c0",
       "version_major": 2,
       "version_minor": 0
      },
      "text/plain": [
       "out of sample, nprobes=5, refine=20:   0%|          | 0/100 [00:00<?, ?it/s]"
      ]
     },
     "metadata": {},
     "output_type": "display_data"
    },
    {
     "data": {
      "application/vnd.jupyter.widget-view+json": {
       "model_id": "834530eecf864799bc3ebda8401efd16",
       "version_major": 2,
       "version_minor": 0
      },
      "text/plain": [
       "in sample nprobes=5, refine=20:   0%|          | 0/1000 [00:00<?, ?it/s]"
      ]
     },
     "metadata": {},
     "output_type": "display_data"
    },
    {
     "data": {
      "application/vnd.jupyter.widget-view+json": {
       "model_id": "21666b3d9a414b58814262b6c2cecc07",
       "version_major": 2,
       "version_minor": 0
      },
      "text/plain": [
       "out of sample, nprobes=10, refine=1:   0%|          | 0/100 [00:00<?, ?it/s]"
      ]
     },
     "metadata": {},
     "output_type": "display_data"
    },
    {
     "data": {
      "application/vnd.jupyter.widget-view+json": {
       "model_id": "c83eb24404a848e0a8685cbdc478e411",
       "version_major": 2,
       "version_minor": 0
      },
      "text/plain": [
       "in sample nprobes=10, refine=1:   0%|          | 0/1000 [00:00<?, ?it/s]"
      ]
     },
     "metadata": {},
     "output_type": "display_data"
    },
    {
     "data": {
      "application/vnd.jupyter.widget-view+json": {
       "model_id": "4386c33470974b4a90c66c6712096d4d",
       "version_major": 2,
       "version_minor": 0
      },
      "text/plain": [
       "out of sample, nprobes=10, refine=2:   0%|          | 0/100 [00:00<?, ?it/s]"
      ]
     },
     "metadata": {},
     "output_type": "display_data"
    },
    {
     "data": {
      "application/vnd.jupyter.widget-view+json": {
       "model_id": "f90b324ab93642a88fbaf24b51e069e7",
       "version_major": 2,
       "version_minor": 0
      },
      "text/plain": [
       "in sample nprobes=10, refine=2:   0%|          | 0/1000 [00:00<?, ?it/s]"
      ]
     },
     "metadata": {},
     "output_type": "display_data"
    },
    {
     "data": {
      "application/vnd.jupyter.widget-view+json": {
       "model_id": "e4a916edfccd43f897ddf222382385f2",
       "version_major": 2,
       "version_minor": 0
      },
      "text/plain": [
       "out of sample, nprobes=10, refine=5:   0%|          | 0/100 [00:00<?, ?it/s]"
      ]
     },
     "metadata": {},
     "output_type": "display_data"
    },
    {
     "data": {
      "application/vnd.jupyter.widget-view+json": {
       "model_id": "62822ec4bab54e1f92b286fc450d40ae",
       "version_major": 2,
       "version_minor": 0
      },
      "text/plain": [
       "in sample nprobes=10, refine=5:   0%|          | 0/1000 [00:00<?, ?it/s]"
      ]
     },
     "metadata": {},
     "output_type": "display_data"
    },
    {
     "data": {
      "application/vnd.jupyter.widget-view+json": {
       "model_id": "e77d1ceb8e3c4cf4af7b83c070811af6",
       "version_major": 2,
       "version_minor": 0
      },
      "text/plain": [
       "out of sample, nprobes=10, refine=10:   0%|          | 0/100 [00:00<?, ?it/s]"
      ]
     },
     "metadata": {},
     "output_type": "display_data"
    },
    {
     "data": {
      "application/vnd.jupyter.widget-view+json": {
       "model_id": "14b4b0a77f2e48c7b9656d54819a1074",
       "version_major": 2,
       "version_minor": 0
      },
      "text/plain": [
       "in sample nprobes=10, refine=10:   0%|          | 0/1000 [00:00<?, ?it/s]"
      ]
     },
     "metadata": {},
     "output_type": "display_data"
    },
    {
     "data": {
      "application/vnd.jupyter.widget-view+json": {
       "model_id": "9d993ddaf7bd4c6eaa5e51f95a0dd40a",
       "version_major": 2,
       "version_minor": 0
      },
      "text/plain": [
       "out of sample, nprobes=10, refine=20:   0%|          | 0/100 [00:00<?, ?it/s]"
      ]
     },
     "metadata": {},
     "output_type": "display_data"
    },
    {
     "data": {
      "application/vnd.jupyter.widget-view+json": {
       "model_id": "efacaa6f9c1e4ff9bc32b73ed2b53b2b",
       "version_major": 2,
       "version_minor": 0
      },
      "text/plain": [
       "in sample nprobes=10, refine=20:   0%|          | 0/1000 [00:00<?, ?it/s]"
      ]
     },
     "metadata": {},
     "output_type": "display_data"
    },
    {
     "data": {
      "application/vnd.jupyter.widget-view+json": {
       "model_id": "029888e8666a44328f4e3ca3c6341ae9",
       "version_major": 2,
       "version_minor": 0
      },
      "text/plain": [
       "out of sample, nprobes=16, refine=1:   0%|          | 0/100 [00:00<?, ?it/s]"
      ]
     },
     "metadata": {},
     "output_type": "display_data"
    },
    {
     "data": {
      "application/vnd.jupyter.widget-view+json": {
       "model_id": "67afdef20963464c9ff552b06e3701ce",
       "version_major": 2,
       "version_minor": 0
      },
      "text/plain": [
       "in sample nprobes=16, refine=1:   0%|          | 0/1000 [00:00<?, ?it/s]"
      ]
     },
     "metadata": {},
     "output_type": "display_data"
    },
    {
     "data": {
      "application/vnd.jupyter.widget-view+json": {
       "model_id": "78c5ef407d284f438efb861479311052",
       "version_major": 2,
       "version_minor": 0
      },
      "text/plain": [
       "out of sample, nprobes=16, refine=2:   0%|          | 0/100 [00:00<?, ?it/s]"
      ]
     },
     "metadata": {},
     "output_type": "display_data"
    },
    {
     "data": {
      "application/vnd.jupyter.widget-view+json": {
       "model_id": "bb63726d4edc4247a4ebfcdda3f71863",
       "version_major": 2,
       "version_minor": 0
      },
      "text/plain": [
       "in sample nprobes=16, refine=2:   0%|          | 0/1000 [00:00<?, ?it/s]"
      ]
     },
     "metadata": {},
     "output_type": "display_data"
    },
    {
     "data": {
      "application/vnd.jupyter.widget-view+json": {
       "model_id": "fca4921320c449049ea21ce5ed8ec7da",
       "version_major": 2,
       "version_minor": 0
      },
      "text/plain": [
       "out of sample, nprobes=16, refine=5:   0%|          | 0/100 [00:00<?, ?it/s]"
      ]
     },
     "metadata": {},
     "output_type": "display_data"
    },
    {
     "data": {
      "application/vnd.jupyter.widget-view+json": {
       "model_id": "65607ddb49164019b10b743cc83cb9b0",
       "version_major": 2,
       "version_minor": 0
      },
      "text/plain": [
       "in sample nprobes=16, refine=5:   0%|          | 0/1000 [00:00<?, ?it/s]"
      ]
     },
     "metadata": {},
     "output_type": "display_data"
    },
    {
     "data": {
      "application/vnd.jupyter.widget-view+json": {
       "model_id": "624ed6ae6a0f4e118821f4e6c4e66278",
       "version_major": 2,
       "version_minor": 0
      },
      "text/plain": [
       "out of sample, nprobes=16, refine=10:   0%|          | 0/100 [00:00<?, ?it/s]"
      ]
     },
     "metadata": {},
     "output_type": "display_data"
    },
    {
     "data": {
      "application/vnd.jupyter.widget-view+json": {
       "model_id": "1bb79be7a1ef45ee959618f5ba7e9364",
       "version_major": 2,
       "version_minor": 0
      },
      "text/plain": [
       "in sample nprobes=16, refine=10:   0%|          | 0/1000 [00:00<?, ?it/s]"
      ]
     },
     "metadata": {},
     "output_type": "display_data"
    },
    {
     "data": {
      "application/vnd.jupyter.widget-view+json": {
       "model_id": "28d4724ceb01431787242e95dadd2fe1",
       "version_major": 2,
       "version_minor": 0
      },
      "text/plain": [
       "out of sample, nprobes=16, refine=20:   0%|          | 0/100 [00:00<?, ?it/s]"
      ]
     },
     "metadata": {},
     "output_type": "display_data"
    },
    {
     "data": {
      "application/vnd.jupyter.widget-view+json": {
       "model_id": "eb75991b1c764c53b1ae73344fb36d86",
       "version_major": 2,
       "version_minor": 0
      },
      "text/plain": [
       "in sample nprobes=16, refine=20:   0%|          | 0/1000 [00:00<?, ?it/s]"
      ]
     },
     "metadata": {},
     "output_type": "display_data"
    },
    {
     "data": {
      "image/png": "[encoded data removed]",
      "text/plain": [
       "<Figure size 1600x800 with 4 Axes>"
      ]
     },
     "metadata": {},
     "output_type": "display_data"
    }
   ],
   "source": [
    "# test NYT -- TF-IDF sparse vectors projected on to 256D dense -- cosine\n",
    "data = _get_nyt_vectors()\n",
    "data = data[np.linalg.norm(data, axis=1) != 0]\n",
    "data = np.unique(data, axis=0)\n",
    "query = np.random.standard_normal((100, 256))\n",
    "\n",
    "recall_data = run_test(\n",
    "    data,\n",
    "    query,\n",
    "    \"cosine\",\n",
    "    num_partitions=256,\n",
    "    num_sub_vectors=32,\n",
    ")\n",
    "\n",
    "make_plot(recall_data)"
   ]
  },
  {
   "cell_type": "code",
   "execution_count": 19,
   "id": "8c5fbd36-6f14-4ae4-adcf-97b103331c90",
   "metadata": {},
   "outputs": [
    {
     "name": "stdout",
     "output_type": "stream",
     "text": [
      "loading from cache\n",
      "generating gt\n",
      "generated gt\n"
     ]
    },
    {
     "data": {
      "application/vnd.jupyter.widget-view+json": {
       "model_id": "dfc2ca7d16704ff99a653810421a6ade",
       "version_major": 2,
       "version_minor": 0
      },
      "text/plain": [
       "checking brute force:   0%|          | 0/1000 [00:00<?, ?it/s]"
      ]
     },
     "metadata": {},
     "output_type": "display_data"
    },
    {
     "data": {
      "application/vnd.jupyter.widget-view+json": {
       "model_id": "c52e2091dfb94076be940feba1d90bb6",
       "version_major": 2,
       "version_minor": 0
      },
      "text/plain": [
       "out of sample, nprobes=1, refine=1:   0%|          | 0/100 [00:00<?, ?it/s]"
      ]
     },
     "metadata": {},
     "output_type": "display_data"
    },
    {
     "data": {
      "application/vnd.jupyter.widget-view+json": {
       "model_id": "622af34110514fa4a6cb2151081fe862",
       "version_major": 2,
       "version_minor": 0
      },
      "text/plain": [
       "in sample nprobes=1, refine=1:   0%|          | 0/1000 [00:00<?, ?it/s]"
      ]
     },
     "metadata": {},
     "output_type": "display_data"
    },
    {
     "data": {
      "application/vnd.jupyter.widget-view+json": {
       "model_id": "5897d44f59d8417a9ed99616fd4310ae",
       "version_major": 2,
       "version_minor": 0
      },
      "text/plain": [
       "out of sample, nprobes=1, refine=2:   0%|          | 0/100 [00:00<?, ?it/s]"
      ]
     },
     "metadata": {},
     "output_type": "display_data"
    },
    {
     "data": {
      "application/vnd.jupyter.widget-view+json": {
       "model_id": "ac20497304ad44eea0dbf19575da5f6b",
       "version_major": 2,
       "version_minor": 0
      },
      "text/plain": [
       "in sample nprobes=1, refine=2:   0%|          | 0/1000 [00:00<?, ?it/s]"
      ]
     },
     "metadata": {},
     "output_type": "display_data"
    },
    {
     "data": {
      "application/vnd.jupyter.widget-view+json": {
       "model_id": "245672d757dd4768a69a0c72abc7b134",
       "version_major": 2,
       "version_minor": 0
      },
      "text/plain": [
       "out of sample, nprobes=1, refine=5:   0%|          | 0/100 [00:00<?, ?it/s]"
      ]
     },
     "metadata": {},
     "output_type": "display_data"
    },
    {
     "data": {
      "application/vnd.jupyter.widget-view+json": {
       "model_id": "4151372561474e5c9b2c0bd3cc6e343e",
       "version_major": 2,
       "version_minor": 0
      },
      "text/plain": [
       "in sample nprobes=1, refine=5:   0%|          | 0/1000 [00:00<?, ?it/s]"
      ]
     },
     "metadata": {},
     "output_type": "display_data"
    },
    {
     "data": {
      "application/vnd.jupyter.widget-view+json": {
       "model_id": "c3546d78a1c34539b5ebdf5bf5da1c7a",
       "version_major": 2,
       "version_minor": 0
      },
      "text/plain": [
       "out of sample, nprobes=1, refine=10:   0%|          | 0/100 [00:00<?, ?it/s]"
      ]
     },
     "metadata": {},
     "output_type": "display_data"
    },
    {
     "data": {
      "application/vnd.jupyter.widget-view+json": {
       "model_id": "afd094b975c94f4f9258e908ead6c319",
       "version_major": 2,
       "version_minor": 0
      },
      "text/plain": [
       "in sample nprobes=1, refine=10:   0%|          | 0/1000 [00:00<?, ?it/s]"
      ]
     },
     "metadata": {},
     "output_type": "display_data"
    },
    {
     "data": {
      "application/vnd.jupyter.widget-view+json": {
       "model_id": "49a1cb146ec94a6bb1391aeef3994cbd",
       "version_major": 2,
       "version_minor": 0
      },
      "text/plain": [
       "out of sample, nprobes=1, refine=20:   0%|          | 0/100 [00:00<?, ?it/s]"
      ]
     },
     "metadata": {},
     "output_type": "display_data"
    },
    {
     "data": {
      "application/vnd.jupyter.widget-view+json": {
       "model_id": "cef8a37d7b194a4cb99b6bb836577d57",
       "version_major": 2,
       "version_minor": 0
      },
      "text/plain": [
       "in sample nprobes=1, refine=20:   0%|          | 0/1000 [00:00<?, ?it/s]"
      ]
     },
     "metadata": {},
     "output_type": "display_data"
    },
    {
     "data": {
      "application/vnd.jupyter.widget-view+json": {
       "model_id": "5d3539daa1a243318cae63461744ac4c",
       "version_major": 2,
       "version_minor": 0
      },
      "text/plain": [
       "out of sample, nprobes=2, refine=1:   0%|          | 0/100 [00:00<?, ?it/s]"
      ]
     },
     "metadata": {},
     "output_type": "display_data"
    },
    {
     "data": {
      "application/vnd.jupyter.widget-view+json": {
       "model_id": "c226c672f10a4c0090a86594f0524419",
       "version_major": 2,
       "version_minor": 0
      },
      "text/plain": [
       "in sample nprobes=2, refine=1:   0%|          | 0/1000 [00:00<?, ?it/s]"
      ]
     },
     "metadata": {},
     "output_type": "display_data"
    },
    {
     "data": {
      "application/vnd.jupyter.widget-view+json": {
       "model_id": "8f4ac498a2cb4a499e2069101e5d7ed6",
       "version_major": 2,
       "version_minor": 0
      },
      "text/plain": [
       "out of sample, nprobes=2, refine=2:   0%|          | 0/100 [00:00<?, ?it/s]"
      ]
     },
     "metadata": {},
     "output_type": "display_data"
    },
    {
     "data": {
      "application/vnd.jupyter.widget-view+json": {
       "model_id": "77337a6e3a5a45799f0923ec6e308d66",
       "version_major": 2,
       "version_minor": 0
      },
      "text/plain": [
       "in sample nprobes=2, refine=2:   0%|          | 0/1000 [00:00<?, ?it/s]"
      ]
     },
     "metadata": {},
     "output_type": "display_data"
    },
    {
     "data": {
      "application/vnd.jupyter.widget-view+json": {
       "model_id": "f9b7ae6781944672b95cfa0cae57e87e",
       "version_major": 2,
       "version_minor": 0
      },
      "text/plain": [
       "out of sample, nprobes=2, refine=5:   0%|          | 0/100 [00:00<?, ?it/s]"
      ]
     },
     "metadata": {},
     "output_type": "display_data"
    },
    {
     "data": {
      "application/vnd.jupyter.widget-view+json": {
       "model_id": "4802fb3bc31b4a2787ba90a17a08b5a5",
       "version_major": 2,
       "version_minor": 0
      },
      "text/plain": [
       "in sample nprobes=2, refine=5:   0%|          | 0/1000 [00:00<?, ?it/s]"
      ]
     },
     "metadata": {},
     "output_type": "display_data"
    },
    {
     "data": {
      "application/vnd.jupyter.widget-view+json": {
       "model_id": "05d47bb6c3d2444588c48e8e3f924e2e",
       "version_major": 2,
       "version_minor": 0
      },
      "text/plain": [
       "out of sample, nprobes=2, refine=10:   0%|          | 0/100 [00:00<?, ?it/s]"
      ]
     },
     "metadata": {},
     "output_type": "display_data"
    },
    {
     "data": {
      "application/vnd.jupyter.widget-view+json": {
       "model_id": "59086357ea9844d7979cc1b598dd0629",
       "version_major": 2,
       "version_minor": 0
      },
      "text/plain": [
       "in sample nprobes=2, refine=10:   0%|          | 0/1000 [00:00<?, ?it/s]"
      ]
     },
     "metadata": {},
     "output_type": "display_data"
    },
    {
     "data": {
      "application/vnd.jupyter.widget-view+json": {
       "model_id": "a0d66c1bc509408ab998b748c6b16210",
       "version_major": 2,
       "version_minor": 0
      },
      "text/plain": [
       "out of sample, nprobes=2, refine=20:   0%|          | 0/100 [00:00<?, ?it/s]"
      ]
     },
     "metadata": {},
     "output_type": "display_data"
    },
    {
     "data": {
      "application/vnd.jupyter.widget-view+json": {
       "model_id": "be18686ec95540b38347cc8c69be05ff",
       "version_major": 2,
       "version_minor": 0
      },
      "text/plain": [
       "in sample nprobes=2, refine=20:   0%|          | 0/1000 [00:00<?, ?it/s]"
      ]
     },
     "metadata": {},
     "output_type": "display_data"
    },
    {
     "data": {
      "application/vnd.jupyter.widget-view+json": {
       "model_id": "267f00a19de149b18afcd8a84d1db00d",
       "version_major": 2,
       "version_minor": 0
      },
      "text/plain": [
       "out of sample, nprobes=5, refine=1:   0%|          | 0/100 [00:00<?, ?it/s]"
      ]
     },
     "metadata": {},
     "output_type": "display_data"
    },
    {
     "data": {
      "application/vnd.jupyter.widget-view+json": {
       "model_id": "f22d583cc4734d179f9c85a494ff45ca",
       "version_major": 2,
       "version_minor": 0
      },
      "text/plain": [
       "in sample nprobes=5, refine=1:   0%|          | 0/1000 [00:00<?, ?it/s]"
      ]
     },
     "metadata": {},
     "output_type": "display_data"
    },
    {
     "data": {
      "application/vnd.jupyter.widget-view+json": {
       "model_id": "fccc4916f54243cb84608d974a22480c",
       "version_major": 2,
       "version_minor": 0
      },
      "text/plain": [
       "out of sample, nprobes=5, refine=2:   0%|          | 0/100 [00:00<?, ?it/s]"
      ]
     },
     "metadata": {},
     "output_type": "display_data"
    },
    {
     "data": {
      "application/vnd.jupyter.widget-view+json": {
       "model_id": "6b970f4befbc421f876a67591f2e2539",
       "version_major": 2,
       "version_minor": 0
      },
      "text/plain": [
       "in sample nprobes=5, refine=2:   0%|          | 0/1000 [00:00<?, ?it/s]"
      ]
     },
     "metadata": {},
     "output_type": "display_data"
    },
    {
     "data": {
      "application/vnd.jupyter.widget-view+json": {
       "model_id": "584f55a2862e4e24a52fb990ba2df322",
       "version_major": 2,
       "version_minor": 0
      },
      "text/plain": [
       "out of sample, nprobes=5, refine=5:   0%|          | 0/100 [00:00<?, ?it/s]"
      ]
     },
     "metadata": {},
     "output_type": "display_data"
    },
    {
     "data": {
      "application/vnd.jupyter.widget-view+json": {
       "model_id": "63a5af7145324658982dddf0386c6ace",
       "version_major": 2,
       "version_minor": 0
      },
      "text/plain": [
       "in sample nprobes=5, refine=5:   0%|          | 0/1000 [00:00<?, ?it/s]"
      ]
     },
     "metadata": {},
     "output_type": "display_data"
    },
    {
     "data": {
      "application/vnd.jupyter.widget-view+json": {
       "model_id": "119ad3c475b24914b4bcc85bd1de85b5",
       "version_major": 2,
       "version_minor": 0
      },
      "text/plain": [
       "out of sample, nprobes=5, refine=10:   0%|          | 0/100 [00:00<?, ?it/s]"
      ]
     },
     "metadata": {},
     "output_type": "display_data"
    },
    {
     "data": {
      "application/vnd.jupyter.widget-view+json": {
       "model_id": "d53636167837409baa7b4f3a60fbf137",
       "version_major": 2,
       "version_minor": 0
      },
      "text/plain": [
       "in sample nprobes=5, refine=10:   0%|          | 0/1000 [00:00<?, ?it/s]"
      ]
     },
     "metadata": {},
     "output_type": "display_data"
    },
    {
     "data": {
      "application/vnd.jupyter.widget-view+json": {
       "model_id": "04b93e0f5f5045d48aab165554da1def",
       "version_major": 2,
       "version_minor": 0
      },
      "text/plain": [
       "out of sample, nprobes=5, refine=20:   0%|          | 0/100 [00:00<?, ?it/s]"
      ]
     },
     "metadata": {},
     "output_type": "display_data"
    },
    {
     "data": {
      "application/vnd.jupyter.widget-view+json": {
       "model_id": "b029ce69276c493cbf9d983be8e08acf",
       "version_major": 2,
       "version_minor": 0
      },
      "text/plain": [
       "in sample nprobes=5, refine=20:   0%|          | 0/1000 [00:00<?, ?it/s]"
      ]
     },
     "metadata": {},
     "output_type": "display_data"
    },
    {
     "data": {
      "application/vnd.jupyter.widget-view+json": {
       "model_id": "7e1e1cf9e6974c6f8723e9bf15ab1c2c",
       "version_major": 2,
       "version_minor": 0
      },
      "text/plain": [
       "out of sample, nprobes=10, refine=1:   0%|          | 0/100 [00:00<?, ?it/s]"
      ]
     },
     "metadata": {},
     "output_type": "display_data"
    },
    {
     "data": {
      "application/vnd.jupyter.widget-view+json": {
       "model_id": "9f6a9ffcedfc4daabe0fefb542da9f59",
       "version_major": 2,
       "version_minor": 0
      },
      "text/plain": [
       "in sample nprobes=10, refine=1:   0%|          | 0/1000 [00:00<?, ?it/s]"
      ]
     },
     "metadata": {},
     "output_type": "display_data"
    },
    {
     "data": {
      "application/vnd.jupyter.widget-view+json": {
       "model_id": "1afe5c03c3e24072ab1a83478f5311d9",
       "version_major": 2,
       "version_minor": 0
      },
      "text/plain": [
       "out of sample, nprobes=10, refine=2:   0%|          | 0/100 [00:00<?, ?it/s]"
      ]
     },
     "metadata": {},
     "output_type": "display_data"
    },
    {
     "data": {
      "application/vnd.jupyter.widget-view+json": {
       "model_id": "92bc3fcc262f45f6806c2a59ea713c89",
       "version_major": 2,
       "version_minor": 0
      },
      "text/plain": [
       "in sample nprobes=10, refine=2:   0%|          | 0/1000 [00:00<?, ?it/s]"
      ]
     },
     "metadata": {},
     "output_type": "display_data"
    },
    {
     "data": {
      "application/vnd.jupyter.widget-view+json": {
       "model_id": "003c9dbd0a9d461da3cbcc360ebcb433",
       "version_major": 2,
       "version_minor": 0
      },
      "text/plain": [
       "out of sample, nprobes=10, refine=5:   0%|          | 0/100 [00:00<?, ?it/s]"
      ]
     },
     "metadata": {},
     "output_type": "display_data"
    },
    {
     "data": {
      "application/vnd.jupyter.widget-view+json": {
       "model_id": "c6c291f435a444b19a4c429785581331",
       "version_major": 2,
       "version_minor": 0
      },
      "text/plain": [
       "in sample nprobes=10, refine=5:   0%|          | 0/1000 [00:00<?, ?it/s]"
      ]
     },
     "metadata": {},
     "output_type": "display_data"
    },
    {
     "data": {
      "application/vnd.jupyter.widget-view+json": {
       "model_id": "d036644c93574c5781cb68487a27b9aa",
       "version_major": 2,
       "version_minor": 0
      },
      "text/plain": [
       "out of sample, nprobes=10, refine=10:   0%|          | 0/100 [00:00<?, ?it/s]"
      ]
     },
     "metadata": {},
     "output_type": "display_data"
    },
    {
     "data": {
      "application/vnd.jupyter.widget-view+json": {
       "model_id": "4770f7c60a1141ccbbd6a47d9492e829",
       "version_major": 2,
       "version_minor": 0
      },
      "text/plain": [
       "in sample nprobes=10, refine=10:   0%|          | 0/1000 [00:00<?, ?it/s]"
      ]
     },
     "metadata": {},
     "output_type": "display_data"
    },
    {
     "data": {
      "application/vnd.jupyter.widget-view+json": {
       "model_id": "d7d3c8ed7f4c4b328ef1ed6fb101fa96",
       "version_major": 2,
       "version_minor": 0
      },
      "text/plain": [
       "out of sample, nprobes=10, refine=20:   0%|          | 0/100 [00:00<?, ?it/s]"
      ]
     },
     "metadata": {},
     "output_type": "display_data"
    },
    {
     "data": {
      "application/vnd.jupyter.widget-view+json": {
       "model_id": "36ca7701a389444dbe7c0d3c7ad09d1c",
       "version_major": 2,
       "version_minor": 0
      },
      "text/plain": [
       "in sample nprobes=10, refine=20:   0%|          | 0/1000 [00:00<?, ?it/s]"
      ]
     },
     "metadata": {},
     "output_type": "display_data"
    },
    {
     "data": {
      "application/vnd.jupyter.widget-view+json": {
       "model_id": "6cf75c73abf94da989e8ffe722af72e8",
       "version_major": 2,
       "version_minor": 0
      },
      "text/plain": [
       "out of sample, nprobes=16, refine=1:   0%|          | 0/100 [00:00<?, ?it/s]"
      ]
     },
     "metadata": {},
     "output_type": "display_data"
    },
    {
     "data": {
      "application/vnd.jupyter.widget-view+json": {
       "model_id": "554cc401c15043c9b6a3cdfbcbb25f11",
       "version_major": 2,
       "version_minor": 0
      },
      "text/plain": [
       "in sample nprobes=16, refine=1:   0%|          | 0/1000 [00:00<?, ?it/s]"
      ]
     },
     "metadata": {},
     "output_type": "display_data"
    },
    {
     "data": {
      "application/vnd.jupyter.widget-view+json": {
       "model_id": "33192bd5e36c492f9c4553a4a5fdca1f",
       "version_major": 2,
       "version_minor": 0
      },
      "text/plain": [
       "out of sample, nprobes=16, refine=2:   0%|          | 0/100 [00:00<?, ?it/s]"
      ]
     },
     "metadata": {},
     "output_type": "display_data"
    },
    {
     "data": {
      "application/vnd.jupyter.widget-view+json": {
       "model_id": "1961f1fad3cc44318e9af4a237acc3b4",
       "version_major": 2,
       "version_minor": 0
      },
      "text/plain": [
       "in sample nprobes=16, refine=2:   0%|          | 0/1000 [00:00<?, ?it/s]"
      ]
     },
     "metadata": {},
     "output_type": "display_data"
    },
    {
     "data": {
      "application/vnd.jupyter.widget-view+json": {
       "model_id": "2cceda24b99941ec9ce41fa0f38fea8d",
       "version_major": 2,
       "version_minor": 0
      },
      "text/plain": [
       "out of sample, nprobes=16, refine=5:   0%|          | 0/100 [00:00<?, ?it/s]"
      ]
     },
     "metadata": {},
     "output_type": "display_data"
    },
    {
     "data": {
      "application/vnd.jupyter.widget-view+json": {
       "model_id": "19ad7ed517e64e298907c99ff12f0925",
       "version_major": 2,
       "version_minor": 0
      },
      "text/plain": [
       "in sample nprobes=16, refine=5:   0%|          | 0/1000 [00:00<?, ?it/s]"
      ]
     },
     "metadata": {},
     "output_type": "display_data"
    },
    {
     "data": {
      "application/vnd.jupyter.widget-view+json": {
       "model_id": "a19d9c4b8d8d4fa4bff1bdedf2edea22",
       "version_major": 2,
       "version_minor": 0
      },
      "text/plain": [
       "out of sample, nprobes=16, refine=10:   0%|          | 0/100 [00:00<?, ?it/s]"
      ]
     },
     "metadata": {},
     "output_type": "display_data"
    },
    {
     "data": {
      "application/vnd.jupyter.widget-view+json": {
       "model_id": "c983aea660ef45bb8010840f28c71cef",
       "version_major": 2,
       "version_minor": 0
      },
      "text/plain": [
       "in sample nprobes=16, refine=10:   0%|          | 0/1000 [00:00<?, ?it/s]"
      ]
     },
     "metadata": {},
     "output_type": "display_data"
    },
    {
     "data": {
      "application/vnd.jupyter.widget-view+json": {
       "model_id": "fad3a14be94843fcadd24a1895fe6435",
       "version_major": 2,
       "version_minor": 0
      },
      "text/plain": [
       "out of sample, nprobes=16, refine=20:   0%|          | 0/100 [00:00<?, ?it/s]"
      ]
     },
     "metadata": {},
     "output_type": "display_data"
    },
    {
     "data": {
      "application/vnd.jupyter.widget-view+json": {
       "model_id": "19b1bae8f0fe469783b9b725e07c6476",
       "version_major": 2,
       "version_minor": 0
      },
      "text/plain": [
       "in sample nprobes=16, refine=20:   0%|          | 0/1000 [00:00<?, ?it/s]"
      ]
     },
     "metadata": {},
     "output_type": "display_data"
    },
    {
     "data": {
      "image/png": "[encoded data removed]",
      "text/plain": [
       "<Figure size 1600x800 with 4 Axes>"
      ]
     },
     "metadata": {},
     "output_type": "display_data"
    }
   ],
   "source": [
    "# test NYT -- TF-IDF sparse vectors projected on to 256D dense -- normalized L2\n",
    "data = _get_nyt_vectors()\n",
    "data = data[np.linalg.norm(data, axis=1) != 0]\n",
    "data = np.unique(data, axis=0)\n",
    "data /= np.linalg.norm(data, axis=1)[:, None]\n",
    "\n",
    "# use the same out of sample query\n",
    "\n",
    "\n",
    "recall_data = run_test(\n",
    "    data,\n",
    "    query,\n",
    "    \"L2\",\n",
    "    num_partitions=512,\n",
    "    num_sub_vectors=32,\n",
    ")\n",
    "\n",
    "make_plot(recall_data)"
   ]
  },
  {
   "cell_type": "code",
   "execution_count": null,
   "id": "45249d41-24c5-4845-8313-942d4d9853c2",
   "metadata": {},
   "outputs": [],
   "source": []
  }
 ],
 "metadata": {
  "kernelspec": {
   "display_name": "Python 3 (ipykernel)",
   "language": "python",
   "name": "python3"
  },
  "language_info": {
   "codemirror_mode": {
    "name": "ipython",
    "version": 3
   },
   "file_extension": ".py",
   "mimetype": "text/x-python",
   "name": "python",
   "nbconvert_exporter": "python",
   "pygments_lexer": "ipython3",
   "version": "3.11.4"
  }
 },
 "nbformat": 4,
 "nbformat_minor": 5
}
