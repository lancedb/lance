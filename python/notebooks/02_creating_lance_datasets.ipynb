{
  "cells": [
    {
      "cell_type": "markdown",
      "id": "053c0371",
      "metadata": {
        "id": "053c0371"
      },
      "source": [
        "# 2 - Creating Lance Datasets\n",
        "\n",
        "<a target=\"_blank\" href=\"https://colab.research.google.com/github/eto-ai/lance/blob/main/python/notebooks/02_creating_lance_datasets.ipynb\">\n",
        "  <img src=\"https://colab.research.google.com/assets/colab-badge.svg\" alt=\"Open In Colab\"/>\n",
        "</a>\n",
        "\n",
        "Lance's python API makes it easy for you to create Lance datasets from a variety of sources\n",
        "\n",
        "⤜ pandas dataframes <br/>\n",
        "⤜ pyarrow tables <br/>\n",
        "⤜ parquet datasets <br/>\n",
        "⤜ [coming soon] known open-source dataset formats <br/>"
      ]
    },
    {
      "cell_type": "code",
      "source": [
        "!pip install --quiet pylance\n",
        "!rm -rf /tmp/toy.lance /tmp/oxford_pet*"
      ],
      "metadata": {
        "id": "T0i2kSK9farj"
      },
      "id": "T0i2kSK9farj",
      "execution_count": 1,
      "outputs": []
    },
    {
      "cell_type": "code",
      "execution_count": 2,
      "id": "5d8b2cde",
      "metadata": {
        "id": "5d8b2cde"
      },
      "outputs": [],
      "source": [
        "import lance\n",
        "from lance import LanceFileFormat\n",
        "import pyarrow as pa"
      ]
    },
    {
      "cell_type": "markdown",
      "id": "ebff93d1",
      "metadata": {
        "id": "ebff93d1"
      },
      "source": [
        "## Warmup: write a toy dataframe"
      ]
    },
    {
      "cell_type": "code",
      "execution_count": 3,
      "id": "1cba8dc7",
      "metadata": {
        "id": "1cba8dc7",
        "outputId": "17c4cdeb-be6d-4f26-9d1b-34fad4aed705",
        "colab": {
          "base_uri": "https://localhost:8080/",
          "height": 206
        }
      },
      "outputs": [
        {
          "output_type": "execute_result",
          "data": {
            "text/plain": [
              "          a     b          c\n",
              "0 -0.052295   cat 2022-01-01\n",
              "1 -0.125469  duck 2022-01-02\n",
              "2  0.339519  duck 2022-01-03\n",
              "3 -0.594905   cat 2022-01-04\n",
              "4 -1.890206  duck 2022-01-05"
            ],
            "text/html": [
              "\n",
              "  <div id=\"df-7ed857d8-8e30-4110-ac7f-2af2e6c20692\">\n",
              "    <div class=\"colab-df-container\">\n",
              "      <div>\n",
              "<style scoped>\n",
              "    .dataframe tbody tr th:only-of-type {\n",
              "        vertical-align: middle;\n",
              "    }\n",
              "\n",
              "    .dataframe tbody tr th {\n",
              "        vertical-align: top;\n",
              "    }\n",
              "\n",
              "    .dataframe thead th {\n",
              "        text-align: right;\n",
              "    }\n",
              "</style>\n",
              "<table border=\"1\" class=\"dataframe\">\n",
              "  <thead>\n",
              "    <tr style=\"text-align: right;\">\n",
              "      <th></th>\n",
              "      <th>a</th>\n",
              "      <th>b</th>\n",
              "      <th>c</th>\n",
              "    </tr>\n",
              "  </thead>\n",
              "  <tbody>\n",
              "    <tr>\n",
              "      <th>0</th>\n",
              "      <td>-0.052295</td>\n",
              "      <td>cat</td>\n",
              "      <td>2022-01-01</td>\n",
              "    </tr>\n",
              "    <tr>\n",
              "      <th>1</th>\n",
              "      <td>-0.125469</td>\n",
              "      <td>duck</td>\n",
              "      <td>2022-01-02</td>\n",
              "    </tr>\n",
              "    <tr>\n",
              "      <th>2</th>\n",
              "      <td>0.339519</td>\n",
              "      <td>duck</td>\n",
              "      <td>2022-01-03</td>\n",
              "    </tr>\n",
              "    <tr>\n",
              "      <th>3</th>\n",
              "      <td>-0.594905</td>\n",
              "      <td>cat</td>\n",
              "      <td>2022-01-04</td>\n",
              "    </tr>\n",
              "    <tr>\n",
              "      <th>4</th>\n",
              "      <td>-1.890206</td>\n",
              "      <td>duck</td>\n",
              "      <td>2022-01-05</td>\n",
              "    </tr>\n",
              "  </tbody>\n",
              "</table>\n",
              "</div>\n",
              "      <button class=\"colab-df-convert\" onclick=\"convertToInteractive('df-7ed857d8-8e30-4110-ac7f-2af2e6c20692')\"\n",
              "              title=\"Convert this dataframe to an interactive table.\"\n",
              "              style=\"display:none;\">\n",
              "        \n",
              "  <svg xmlns=\"http://www.w3.org/2000/svg\" height=\"24px\"viewBox=\"0 0 24 24\"\n",
              "       width=\"24px\">\n",
              "    <path d=\"M0 0h24v24H0V0z\" fill=\"none\"/>\n",
              "    <path d=\"M18.56 5.44l.94 2.06.94-2.06 2.06-.94-2.06-.94-.94-2.06-.94 2.06-2.06.94zm-11 1L8.5 8.5l.94-2.06 2.06-.94-2.06-.94L8.5 2.5l-.94 2.06-2.06.94zm10 10l.94 2.06.94-2.06 2.06-.94-2.06-.94-.94-2.06-.94 2.06-2.06.94z\"/><path d=\"M17.41 7.96l-1.37-1.37c-.4-.4-.92-.59-1.43-.59-.52 0-1.04.2-1.43.59L10.3 9.45l-7.72 7.72c-.78.78-.78 2.05 0 2.83L4 21.41c.39.39.9.59 1.41.59.51 0 1.02-.2 1.41-.59l7.78-7.78 2.81-2.81c.8-.78.8-2.07 0-2.86zM5.41 20L4 18.59l7.72-7.72 1.47 1.35L5.41 20z\"/>\n",
              "  </svg>\n",
              "      </button>\n",
              "      \n",
              "  <style>\n",
              "    .colab-df-container {\n",
              "      display:flex;\n",
              "      flex-wrap:wrap;\n",
              "      gap: 12px;\n",
              "    }\n",
              "\n",
              "    .colab-df-convert {\n",
              "      background-color: #E8F0FE;\n",
              "      border: none;\n",
              "      border-radius: 50%;\n",
              "      cursor: pointer;\n",
              "      display: none;\n",
              "      fill: #1967D2;\n",
              "      height: 32px;\n",
              "      padding: 0 0 0 0;\n",
              "      width: 32px;\n",
              "    }\n",
              "\n",
              "    .colab-df-convert:hover {\n",
              "      background-color: #E2EBFA;\n",
              "      box-shadow: 0px 1px 2px rgba(60, 64, 67, 0.3), 0px 1px 3px 1px rgba(60, 64, 67, 0.15);\n",
              "      fill: #174EA6;\n",
              "    }\n",
              "\n",
              "    [theme=dark] .colab-df-convert {\n",
              "      background-color: #3B4455;\n",
              "      fill: #D2E3FC;\n",
              "    }\n",
              "\n",
              "    [theme=dark] .colab-df-convert:hover {\n",
              "      background-color: #434B5C;\n",
              "      box-shadow: 0px 1px 3px 1px rgba(0, 0, 0, 0.15);\n",
              "      filter: drop-shadow(0px 1px 2px rgba(0, 0, 0, 0.3));\n",
              "      fill: #FFFFFF;\n",
              "    }\n",
              "  </style>\n",
              "\n",
              "      <script>\n",
              "        const buttonEl =\n",
              "          document.querySelector('#df-7ed857d8-8e30-4110-ac7f-2af2e6c20692 button.colab-df-convert');\n",
              "        buttonEl.style.display =\n",
              "          google.colab.kernel.accessAllowed ? 'block' : 'none';\n",
              "\n",
              "        async function convertToInteractive(key) {\n",
              "          const element = document.querySelector('#df-7ed857d8-8e30-4110-ac7f-2af2e6c20692');\n",
              "          const dataTable =\n",
              "            await google.colab.kernel.invokeFunction('convertToInteractive',\n",
              "                                                     [key], {});\n",
              "          if (!dataTable) return;\n",
              "\n",
              "          const docLinkHtml = 'Like what you see? Visit the ' +\n",
              "            '<a target=\"_blank\" href=https://colab.research.google.com/notebooks/data_table.ipynb>data table notebook</a>'\n",
              "            + ' to learn more about interactive tables.';\n",
              "          element.innerHTML = '';\n",
              "          dataTable['output_type'] = 'display_data';\n",
              "          await google.colab.output.renderOutput(dataTable, element);\n",
              "          const docLink = document.createElement('div');\n",
              "          docLink.innerHTML = docLinkHtml;\n",
              "          element.appendChild(docLink);\n",
              "        }\n",
              "      </script>\n",
              "    </div>\n",
              "  </div>\n",
              "  "
            ]
          },
          "metadata": {},
          "execution_count": 3
        }
      ],
      "source": [
        "import numpy as np\n",
        "import pandas as pd\n",
        "\n",
        "toy = pd.DataFrame({\n",
        "    'a': np.random.randn(5),\n",
        "    'b': pd.Categorical.from_codes(np.random.randint(0, 5, 5),\n",
        "                                   ['cat', 'dog', 'person', 'car', 'duck']),\n",
        "    'c': pd.date_range('2022-01-01', freq='D', periods=5)\n",
        "})\n",
        "toy"
      ]
    },
    {
      "cell_type": "markdown",
      "id": "559eb775",
      "metadata": {
        "id": "559eb775"
      },
      "source": [
        "<div class=\"alert alert-info\">\n",
        "    Write an Arrow Table to Lance format in 1 line\n",
        "    </div>"
      ]
    },
    {
      "cell_type": "code",
      "execution_count": 4,
      "id": "6da4e641",
      "metadata": {
        "id": "6da4e641"
      },
      "outputs": [],
      "source": [
        "lance.write_dataset(toy, '/tmp/toy.lance')"
      ]
    },
    {
      "cell_type": "markdown",
      "id": "c8f839fe",
      "metadata": {
        "id": "c8f839fe"
      },
      "source": [
        "read it back out"
      ]
    },
    {
      "cell_type": "code",
      "execution_count": 5,
      "id": "e8c76f73",
      "metadata": {
        "id": "e8c76f73",
        "outputId": "3d0e7fae-2712-467c-f9d9-27e7c4144b85",
        "colab": {
          "base_uri": "https://localhost:8080/",
          "height": 206
        }
      },
      "outputs": [
        {
          "output_type": "execute_result",
          "data": {
            "text/plain": [
              "          a     b          c\n",
              "0 -0.052295   cat 2022-01-01\n",
              "1 -0.125469  duck 2022-01-02\n",
              "2  0.339519  duck 2022-01-03\n",
              "3 -0.594905   cat 2022-01-04\n",
              "4 -1.890206  duck 2022-01-05"
            ],
            "text/html": [
              "\n",
              "  <div id=\"df-885547a9-ee6f-4ac4-aa73-7a1f88859ada\">\n",
              "    <div class=\"colab-df-container\">\n",
              "      <div>\n",
              "<style scoped>\n",
              "    .dataframe tbody tr th:only-of-type {\n",
              "        vertical-align: middle;\n",
              "    }\n",
              "\n",
              "    .dataframe tbody tr th {\n",
              "        vertical-align: top;\n",
              "    }\n",
              "\n",
              "    .dataframe thead th {\n",
              "        text-align: right;\n",
              "    }\n",
              "</style>\n",
              "<table border=\"1\" class=\"dataframe\">\n",
              "  <thead>\n",
              "    <tr style=\"text-align: right;\">\n",
              "      <th></th>\n",
              "      <th>a</th>\n",
              "      <th>b</th>\n",
              "      <th>c</th>\n",
              "    </tr>\n",
              "  </thead>\n",
              "  <tbody>\n",
              "    <tr>\n",
              "      <th>0</th>\n",
              "      <td>-0.052295</td>\n",
              "      <td>cat</td>\n",
              "      <td>2022-01-01</td>\n",
              "    </tr>\n",
              "    <tr>\n",
              "      <th>1</th>\n",
              "      <td>-0.125469</td>\n",
              "      <td>duck</td>\n",
              "      <td>2022-01-02</td>\n",
              "    </tr>\n",
              "    <tr>\n",
              "      <th>2</th>\n",
              "      <td>0.339519</td>\n",
              "      <td>duck</td>\n",
              "      <td>2022-01-03</td>\n",
              "    </tr>\n",
              "    <tr>\n",
              "      <th>3</th>\n",
              "      <td>-0.594905</td>\n",
              "      <td>cat</td>\n",
              "      <td>2022-01-04</td>\n",
              "    </tr>\n",
              "    <tr>\n",
              "      <th>4</th>\n",
              "      <td>-1.890206</td>\n",
              "      <td>duck</td>\n",
              "      <td>2022-01-05</td>\n",
              "    </tr>\n",
              "  </tbody>\n",
              "</table>\n",
              "</div>\n",
              "      <button class=\"colab-df-convert\" onclick=\"convertToInteractive('df-885547a9-ee6f-4ac4-aa73-7a1f88859ada')\"\n",
              "              title=\"Convert this dataframe to an interactive table.\"\n",
              "              style=\"display:none;\">\n",
              "        \n",
              "  <svg xmlns=\"http://www.w3.org/2000/svg\" height=\"24px\"viewBox=\"0 0 24 24\"\n",
              "       width=\"24px\">\n",
              "    <path d=\"M0 0h24v24H0V0z\" fill=\"none\"/>\n",
              "    <path d=\"M18.56 5.44l.94 2.06.94-2.06 2.06-.94-2.06-.94-.94-2.06-.94 2.06-2.06.94zm-11 1L8.5 8.5l.94-2.06 2.06-.94-2.06-.94L8.5 2.5l-.94 2.06-2.06.94zm10 10l.94 2.06.94-2.06 2.06-.94-2.06-.94-.94-2.06-.94 2.06-2.06.94z\"/><path d=\"M17.41 7.96l-1.37-1.37c-.4-.4-.92-.59-1.43-.59-.52 0-1.04.2-1.43.59L10.3 9.45l-7.72 7.72c-.78.78-.78 2.05 0 2.83L4 21.41c.39.39.9.59 1.41.59.51 0 1.02-.2 1.41-.59l7.78-7.78 2.81-2.81c.8-.78.8-2.07 0-2.86zM5.41 20L4 18.59l7.72-7.72 1.47 1.35L5.41 20z\"/>\n",
              "  </svg>\n",
              "      </button>\n",
              "      \n",
              "  <style>\n",
              "    .colab-df-container {\n",
              "      display:flex;\n",
              "      flex-wrap:wrap;\n",
              "      gap: 12px;\n",
              "    }\n",
              "\n",
              "    .colab-df-convert {\n",
              "      background-color: #E8F0FE;\n",
              "      border: none;\n",
              "      border-radius: 50%;\n",
              "      cursor: pointer;\n",
              "      display: none;\n",
              "      fill: #1967D2;\n",
              "      height: 32px;\n",
              "      padding: 0 0 0 0;\n",
              "      width: 32px;\n",
              "    }\n",
              "\n",
              "    .colab-df-convert:hover {\n",
              "      background-color: #E2EBFA;\n",
              "      box-shadow: 0px 1px 2px rgba(60, 64, 67, 0.3), 0px 1px 3px 1px rgba(60, 64, 67, 0.15);\n",
              "      fill: #174EA6;\n",
              "    }\n",
              "\n",
              "    [theme=dark] .colab-df-convert {\n",
              "      background-color: #3B4455;\n",
              "      fill: #D2E3FC;\n",
              "    }\n",
              "\n",
              "    [theme=dark] .colab-df-convert:hover {\n",
              "      background-color: #434B5C;\n",
              "      box-shadow: 0px 1px 3px 1px rgba(0, 0, 0, 0.15);\n",
              "      filter: drop-shadow(0px 1px 2px rgba(0, 0, 0, 0.3));\n",
              "      fill: #FFFFFF;\n",
              "    }\n",
              "  </style>\n",
              "\n",
              "      <script>\n",
              "        const buttonEl =\n",
              "          document.querySelector('#df-885547a9-ee6f-4ac4-aa73-7a1f88859ada button.colab-df-convert');\n",
              "        buttonEl.style.display =\n",
              "          google.colab.kernel.accessAllowed ? 'block' : 'none';\n",
              "\n",
              "        async function convertToInteractive(key) {\n",
              "          const element = document.querySelector('#df-885547a9-ee6f-4ac4-aa73-7a1f88859ada');\n",
              "          const dataTable =\n",
              "            await google.colab.kernel.invokeFunction('convertToInteractive',\n",
              "                                                     [key], {});\n",
              "          if (!dataTable) return;\n",
              "\n",
              "          const docLinkHtml = 'Like what you see? Visit the ' +\n",
              "            '<a target=\"_blank\" href=https://colab.research.google.com/notebooks/data_table.ipynb>data table notebook</a>'\n",
              "            + ' to learn more about interactive tables.';\n",
              "          element.innerHTML = '';\n",
              "          dataTable['output_type'] = 'display_data';\n",
              "          await google.colab.output.renderOutput(dataTable, element);\n",
              "          const docLink = document.createElement('div');\n",
              "          docLink.innerHTML = docLinkHtml;\n",
              "          element.appendChild(docLink);\n",
              "        }\n",
              "      </script>\n",
              "    </div>\n",
              "  </div>\n",
              "  "
            ]
          },
          "metadata": {},
          "execution_count": 5
        }
      ],
      "source": [
        "(lance.dataset('/tmp/toy.lance')\n",
        " .to_table()\n",
        " .to_pandas())"
      ]
    },
    {
      "cell_type": "markdown",
      "id": "1c49e9c5",
      "metadata": {
        "id": "1c49e9c5"
      },
      "source": [
        "## Workout: create pets dataset\n",
        "\n",
        "Let's create a custom dataset"
      ]
    },
    {
      "cell_type": "markdown",
      "id": "12eff552",
      "metadata": {
        "id": "12eff552"
      },
      "source": [
        "We'll need some raw data. For convenience, let's use fastai to get the oxford_pet dataset"
      ]
    },
    {
      "cell_type": "code",
      "execution_count": 6,
      "id": "daa7a65c",
      "metadata": {
        "id": "daa7a65c"
      },
      "outputs": [],
      "source": [
        "!pip install --quiet fastai"
      ]
    },
    {
      "cell_type": "code",
      "execution_count": 7,
      "id": "69863c67",
      "metadata": {
        "id": "69863c67"
      },
      "outputs": [],
      "source": [
        "from fastai.vision.all import untar_data, URLs\n",
        "path = untar_data(URLs.PETS)"
      ]
    },
    {
      "cell_type": "markdown",
      "id": "daa9bb71",
      "metadata": {
        "id": "daa9bb71"
      },
      "source": [
        "### Now we'll create a dataset with the image and some labeling information"
      ]
    },
    {
      "cell_type": "markdown",
      "id": "03306180",
      "metadata": {
        "id": "03306180"
      },
      "source": [
        "First we get the images"
      ]
    },
    {
      "cell_type": "code",
      "execution_count": 8,
      "id": "ee1b4988",
      "metadata": {
        "scrolled": true,
        "id": "ee1b4988",
        "outputId": "dbf859fb-b336-4d49-cd02-9f63a737b8d5",
        "colab": {
          "base_uri": "https://localhost:8080/",
          "height": 206
        }
      },
      "outputs": [
        {
          "output_type": "execute_result",
          "data": {
            "text/plain": [
              "                                                                 image\n",
              "0  /root/.fastai/data/oxford-iiit-pet/images/yorkshire_terrier_196.jpg\n",
              "1       /root/.fastai/data/oxford-iiit-pet/images/saint_bernard_45.jpg\n",
              "2                 /root/.fastai/data/oxford-iiit-pet/images/pug_82.jpg\n",
              "3   /root/.fastai/data/oxford-iiit-pet/images/american_bulldog_176.jpg\n",
              "4           /root/.fastai/data/oxford-iiit-pet/images/havanese_125.jpg"
            ],
            "text/html": [
              "\n",
              "  <div id=\"df-11da7f28-e5ef-400d-a1cb-10e0c812219b\">\n",
              "    <div class=\"colab-df-container\">\n",
              "      <div>\n",
              "<style scoped>\n",
              "    .dataframe tbody tr th:only-of-type {\n",
              "        vertical-align: middle;\n",
              "    }\n",
              "\n",
              "    .dataframe tbody tr th {\n",
              "        vertical-align: top;\n",
              "    }\n",
              "\n",
              "    .dataframe thead th {\n",
              "        text-align: right;\n",
              "    }\n",
              "</style>\n",
              "<table border=\"1\" class=\"dataframe\">\n",
              "  <thead>\n",
              "    <tr style=\"text-align: right;\">\n",
              "      <th></th>\n",
              "      <th>image</th>\n",
              "    </tr>\n",
              "  </thead>\n",
              "  <tbody>\n",
              "    <tr>\n",
              "      <th>0</th>\n",
              "      <td>/root/.fastai/data/oxford-iiit-pet/images/yorkshire_terrier_196.jpg</td>\n",
              "    </tr>\n",
              "    <tr>\n",
              "      <th>1</th>\n",
              "      <td>/root/.fastai/data/oxford-iiit-pet/images/saint_bernard_45.jpg</td>\n",
              "    </tr>\n",
              "    <tr>\n",
              "      <th>2</th>\n",
              "      <td>/root/.fastai/data/oxford-iiit-pet/images/pug_82.jpg</td>\n",
              "    </tr>\n",
              "    <tr>\n",
              "      <th>3</th>\n",
              "      <td>/root/.fastai/data/oxford-iiit-pet/images/american_bulldog_176.jpg</td>\n",
              "    </tr>\n",
              "    <tr>\n",
              "      <th>4</th>\n",
              "      <td>/root/.fastai/data/oxford-iiit-pet/images/havanese_125.jpg</td>\n",
              "    </tr>\n",
              "  </tbody>\n",
              "</table>\n",
              "</div>\n",
              "      <button class=\"colab-df-convert\" onclick=\"convertToInteractive('df-11da7f28-e5ef-400d-a1cb-10e0c812219b')\"\n",
              "              title=\"Convert this dataframe to an interactive table.\"\n",
              "              style=\"display:none;\">\n",
              "        \n",
              "  <svg xmlns=\"http://www.w3.org/2000/svg\" height=\"24px\"viewBox=\"0 0 24 24\"\n",
              "       width=\"24px\">\n",
              "    <path d=\"M0 0h24v24H0V0z\" fill=\"none\"/>\n",
              "    <path d=\"M18.56 5.44l.94 2.06.94-2.06 2.06-.94-2.06-.94-.94-2.06-.94 2.06-2.06.94zm-11 1L8.5 8.5l.94-2.06 2.06-.94-2.06-.94L8.5 2.5l-.94 2.06-2.06.94zm10 10l.94 2.06.94-2.06 2.06-.94-2.06-.94-.94-2.06-.94 2.06-2.06.94z\"/><path d=\"M17.41 7.96l-1.37-1.37c-.4-.4-.92-.59-1.43-.59-.52 0-1.04.2-1.43.59L10.3 9.45l-7.72 7.72c-.78.78-.78 2.05 0 2.83L4 21.41c.39.39.9.59 1.41.59.51 0 1.02-.2 1.41-.59l7.78-7.78 2.81-2.81c.8-.78.8-2.07 0-2.86zM5.41 20L4 18.59l7.72-7.72 1.47 1.35L5.41 20z\"/>\n",
              "  </svg>\n",
              "      </button>\n",
              "      \n",
              "  <style>\n",
              "    .colab-df-container {\n",
              "      display:flex;\n",
              "      flex-wrap:wrap;\n",
              "      gap: 12px;\n",
              "    }\n",
              "\n",
              "    .colab-df-convert {\n",
              "      background-color: #E8F0FE;\n",
              "      border: none;\n",
              "      border-radius: 50%;\n",
              "      cursor: pointer;\n",
              "      display: none;\n",
              "      fill: #1967D2;\n",
              "      height: 32px;\n",
              "      padding: 0 0 0 0;\n",
              "      width: 32px;\n",
              "    }\n",
              "\n",
              "    .colab-df-convert:hover {\n",
              "      background-color: #E2EBFA;\n",
              "      box-shadow: 0px 1px 2px rgba(60, 64, 67, 0.3), 0px 1px 3px 1px rgba(60, 64, 67, 0.15);\n",
              "      fill: #174EA6;\n",
              "    }\n",
              "\n",
              "    [theme=dark] .colab-df-convert {\n",
              "      background-color: #3B4455;\n",
              "      fill: #D2E3FC;\n",
              "    }\n",
              "\n",
              "    [theme=dark] .colab-df-convert:hover {\n",
              "      background-color: #434B5C;\n",
              "      box-shadow: 0px 1px 3px 1px rgba(0, 0, 0, 0.15);\n",
              "      filter: drop-shadow(0px 1px 2px rgba(0, 0, 0, 0.3));\n",
              "      fill: #FFFFFF;\n",
              "    }\n",
              "  </style>\n",
              "\n",
              "      <script>\n",
              "        const buttonEl =\n",
              "          document.querySelector('#df-11da7f28-e5ef-400d-a1cb-10e0c812219b button.colab-df-convert');\n",
              "        buttonEl.style.display =\n",
              "          google.colab.kernel.accessAllowed ? 'block' : 'none';\n",
              "\n",
              "        async function convertToInteractive(key) {\n",
              "          const element = document.querySelector('#df-11da7f28-e5ef-400d-a1cb-10e0c812219b');\n",
              "          const dataTable =\n",
              "            await google.colab.kernel.invokeFunction('convertToInteractive',\n",
              "                                                     [key], {});\n",
              "          if (!dataTable) return;\n",
              "\n",
              "          const docLinkHtml = 'Like what you see? Visit the ' +\n",
              "            '<a target=\"_blank\" href=https://colab.research.google.com/notebooks/data_table.ipynb>data table notebook</a>'\n",
              "            + ' to learn more about interactive tables.';\n",
              "          element.innerHTML = '';\n",
              "          dataTable['output_type'] = 'display_data';\n",
              "          await google.colab.output.renderOutput(dataTable, element);\n",
              "          const docLink = document.createElement('div');\n",
              "          docLink.innerHTML = docLinkHtml;\n",
              "          element.appendChild(docLink);\n",
              "        }\n",
              "      </script>\n",
              "    </div>\n",
              "  </div>\n",
              "  "
            ]
          },
          "metadata": {},
          "execution_count": 8
        }
      ],
      "source": [
        "from pathlib import Path\n",
        "images = path / 'images'\n",
        "\n",
        "df = pd.DataFrame({'image': pd.array(images.ls(), dtype='image[uri]')})\n",
        "df.head()"
      ]
    },
    {
      "cell_type": "markdown",
      "id": "818a1464",
      "metadata": {
        "id": "818a1464"
      },
      "source": [
        "Images are defined as extension types in pandas that know how to:\n",
        "- display themselves\n",
        "- convert to numpy / tensor\n",
        "- convert to PIL"
      ]
    },
    {
      "cell_type": "code",
      "execution_count": 9,
      "id": "219edb3d",
      "metadata": {
        "id": "219edb3d",
        "outputId": "0f9c4012-a853-4955-e461-3e323bb4e49a",
        "colab": {
          "base_uri": "https://localhost:8080/",
          "height": 355
        }
      },
      "outputs": [
        {
          "output_type": "execute_result",
          "data": {
            "text/html": [
              "<img src=\"data:image;base64,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\"/>"
            ],
            "text/plain": [
              "Image(/root/.fastai/data/oxford-iiit-pet/images/yorkshire_terrier_196.jpg)"
            ]
          },
          "metadata": {},
          "execution_count": 9
        }
      ],
      "source": [
        "df.image.values[0]"
      ]
    },
    {
      "cell_type": "code",
      "execution_count": 10,
      "id": "069b9fab",
      "metadata": {
        "id": "069b9fab",
        "outputId": "df7ab400-8b98-4cca-c12d-c55d33571c81",
        "colab": {
          "base_uri": "https://localhost:8080/"
        }
      },
      "outputs": [
        {
          "output_type": "stream",
          "name": "stdout",
          "text": [
            "<class 'PIL.Image.Image'>\n",
            "<class 'numpy.ndarray'>\n"
          ]
        }
      ],
      "source": [
        "print(type(df.image[0].to_pil()))\n",
        "print(type(df.image[0].to_numpy()))"
      ]
    },
    {
      "cell_type": "markdown",
      "id": "616b69b0",
      "metadata": {
        "id": "616b69b0"
      },
      "source": [
        "### pandas integration makes data preparation really easy"
      ]
    },
    {
      "cell_type": "markdown",
      "id": "d45b881d",
      "metadata": {
        "id": "d45b881d"
      },
      "source": [
        "parse the filename"
      ]
    },
    {
      "cell_type": "code",
      "execution_count": 11,
      "id": "36d6b264",
      "metadata": {
        "id": "36d6b264"
      },
      "outputs": [],
      "source": [
        "df['filename'] = df.image.apply(lambda s: Path(s).name)"
      ]
    },
    {
      "cell_type": "markdown",
      "id": "d5c1467a",
      "metadata": {
        "id": "d5c1467a"
      },
      "source": [
        "Now get the class name"
      ]
    },
    {
      "cell_type": "code",
      "execution_count": 12,
      "id": "411ec6a5",
      "metadata": {
        "id": "411ec6a5"
      },
      "outputs": [],
      "source": [
        "df['class'] = df.filename.str.rsplit('_', n=1).str[0].astype('category')"
      ]
    },
    {
      "cell_type": "markdown",
      "id": "61ef6e3e",
      "metadata": {
        "id": "61ef6e3e"
      },
      "source": [
        "Get the species name"
      ]
    },
    {
      "cell_type": "code",
      "execution_count": 13,
      "id": "3671020d",
      "metadata": {
        "id": "3671020d"
      },
      "outputs": [],
      "source": [
        "is_cat = df['class'].str[0].str.isupper()\n",
        "df['species'] = pd.Categorical.from_codes(codes=is_cat.astype(int), \n",
        "                                          categories=['dog', 'cat'])"
      ]
    },
    {
      "cell_type": "markdown",
      "id": "42adc65a",
      "metadata": {
        "id": "42adc65a"
      },
      "source": [
        "Let's see what it looks like altogether"
      ]
    },
    {
      "cell_type": "code",
      "execution_count": 14,
      "id": "bb9fdb74",
      "metadata": {
        "id": "bb9fdb74",
        "outputId": "d6b01fd2-1ae1-49af-e869-b3a5ddf69ff8",
        "colab": {
          "base_uri": "https://localhost:8080/",
          "height": 206
        }
      },
      "outputs": [
        {
          "output_type": "execute_result",
          "data": {
            "text/plain": [
              "                                                                 image  \\\n",
              "0  /root/.fastai/data/oxford-iiit-pet/images/yorkshire_terrier_196.jpg   \n",
              "1       /root/.fastai/data/oxford-iiit-pet/images/saint_bernard_45.jpg   \n",
              "2                 /root/.fastai/data/oxford-iiit-pet/images/pug_82.jpg   \n",
              "3   /root/.fastai/data/oxford-iiit-pet/images/american_bulldog_176.jpg   \n",
              "4           /root/.fastai/data/oxford-iiit-pet/images/havanese_125.jpg   \n",
              "\n",
              "                    filename              class species  \n",
              "0  yorkshire_terrier_196.jpg  yorkshire_terrier     dog  \n",
              "1       saint_bernard_45.jpg      saint_bernard     dog  \n",
              "2                 pug_82.jpg                pug     dog  \n",
              "3   american_bulldog_176.jpg   american_bulldog     dog  \n",
              "4           havanese_125.jpg           havanese     dog  "
            ],
            "text/html": [
              "\n",
              "  <div id=\"df-1ca59ee1-ee4b-4bdd-81f2-d19910d1cf09\">\n",
              "    <div class=\"colab-df-container\">\n",
              "      <div>\n",
              "<style scoped>\n",
              "    .dataframe tbody tr th:only-of-type {\n",
              "        vertical-align: middle;\n",
              "    }\n",
              "\n",
              "    .dataframe tbody tr th {\n",
              "        vertical-align: top;\n",
              "    }\n",
              "\n",
              "    .dataframe thead th {\n",
              "        text-align: right;\n",
              "    }\n",
              "</style>\n",
              "<table border=\"1\" class=\"dataframe\">\n",
              "  <thead>\n",
              "    <tr style=\"text-align: right;\">\n",
              "      <th></th>\n",
              "      <th>image</th>\n",
              "      <th>filename</th>\n",
              "      <th>class</th>\n",
              "      <th>species</th>\n",
              "    </tr>\n",
              "  </thead>\n",
              "  <tbody>\n",
              "    <tr>\n",
              "      <th>0</th>\n",
              "      <td>/root/.fastai/data/oxford-iiit-pet/images/yorkshire_terrier_196.jpg</td>\n",
              "      <td>yorkshire_terrier_196.jpg</td>\n",
              "      <td>yorkshire_terrier</td>\n",
              "      <td>dog</td>\n",
              "    </tr>\n",
              "    <tr>\n",
              "      <th>1</th>\n",
              "      <td>/root/.fastai/data/oxford-iiit-pet/images/saint_bernard_45.jpg</td>\n",
              "      <td>saint_bernard_45.jpg</td>\n",
              "      <td>saint_bernard</td>\n",
              "      <td>dog</td>\n",
              "    </tr>\n",
              "    <tr>\n",
              "      <th>2</th>\n",
              "      <td>/root/.fastai/data/oxford-iiit-pet/images/pug_82.jpg</td>\n",
              "      <td>pug_82.jpg</td>\n",
              "      <td>pug</td>\n",
              "      <td>dog</td>\n",
              "    </tr>\n",
              "    <tr>\n",
              "      <th>3</th>\n",
              "      <td>/root/.fastai/data/oxford-iiit-pet/images/american_bulldog_176.jpg</td>\n",
              "      <td>american_bulldog_176.jpg</td>\n",
              "      <td>american_bulldog</td>\n",
              "      <td>dog</td>\n",
              "    </tr>\n",
              "    <tr>\n",
              "      <th>4</th>\n",
              "      <td>/root/.fastai/data/oxford-iiit-pet/images/havanese_125.jpg</td>\n",
              "      <td>havanese_125.jpg</td>\n",
              "      <td>havanese</td>\n",
              "      <td>dog</td>\n",
              "    </tr>\n",
              "  </tbody>\n",
              "</table>\n",
              "</div>\n",
              "      <button class=\"colab-df-convert\" onclick=\"convertToInteractive('df-1ca59ee1-ee4b-4bdd-81f2-d19910d1cf09')\"\n",
              "              title=\"Convert this dataframe to an interactive table.\"\n",
              "              style=\"display:none;\">\n",
              "        \n",
              "  <svg xmlns=\"http://www.w3.org/2000/svg\" height=\"24px\"viewBox=\"0 0 24 24\"\n",
              "       width=\"24px\">\n",
              "    <path d=\"M0 0h24v24H0V0z\" fill=\"none\"/>\n",
              "    <path d=\"M18.56 5.44l.94 2.06.94-2.06 2.06-.94-2.06-.94-.94-2.06-.94 2.06-2.06.94zm-11 1L8.5 8.5l.94-2.06 2.06-.94-2.06-.94L8.5 2.5l-.94 2.06-2.06.94zm10 10l.94 2.06.94-2.06 2.06-.94-2.06-.94-.94-2.06-.94 2.06-2.06.94z\"/><path d=\"M17.41 7.96l-1.37-1.37c-.4-.4-.92-.59-1.43-.59-.52 0-1.04.2-1.43.59L10.3 9.45l-7.72 7.72c-.78.78-.78 2.05 0 2.83L4 21.41c.39.39.9.59 1.41.59.51 0 1.02-.2 1.41-.59l7.78-7.78 2.81-2.81c.8-.78.8-2.07 0-2.86zM5.41 20L4 18.59l7.72-7.72 1.47 1.35L5.41 20z\"/>\n",
              "  </svg>\n",
              "      </button>\n",
              "      \n",
              "  <style>\n",
              "    .colab-df-container {\n",
              "      display:flex;\n",
              "      flex-wrap:wrap;\n",
              "      gap: 12px;\n",
              "    }\n",
              "\n",
              "    .colab-df-convert {\n",
              "      background-color: #E8F0FE;\n",
              "      border: none;\n",
              "      border-radius: 50%;\n",
              "      cursor: pointer;\n",
              "      display: none;\n",
              "      fill: #1967D2;\n",
              "      height: 32px;\n",
              "      padding: 0 0 0 0;\n",
              "      width: 32px;\n",
              "    }\n",
              "\n",
              "    .colab-df-convert:hover {\n",
              "      background-color: #E2EBFA;\n",
              "      box-shadow: 0px 1px 2px rgba(60, 64, 67, 0.3), 0px 1px 3px 1px rgba(60, 64, 67, 0.15);\n",
              "      fill: #174EA6;\n",
              "    }\n",
              "\n",
              "    [theme=dark] .colab-df-convert {\n",
              "      background-color: #3B4455;\n",
              "      fill: #D2E3FC;\n",
              "    }\n",
              "\n",
              "    [theme=dark] .colab-df-convert:hover {\n",
              "      background-color: #434B5C;\n",
              "      box-shadow: 0px 1px 3px 1px rgba(0, 0, 0, 0.15);\n",
              "      filter: drop-shadow(0px 1px 2px rgba(0, 0, 0, 0.3));\n",
              "      fill: #FFFFFF;\n",
              "    }\n",
              "  </style>\n",
              "\n",
              "      <script>\n",
              "        const buttonEl =\n",
              "          document.querySelector('#df-1ca59ee1-ee4b-4bdd-81f2-d19910d1cf09 button.colab-df-convert');\n",
              "        buttonEl.style.display =\n",
              "          google.colab.kernel.accessAllowed ? 'block' : 'none';\n",
              "\n",
              "        async function convertToInteractive(key) {\n",
              "          const element = document.querySelector('#df-1ca59ee1-ee4b-4bdd-81f2-d19910d1cf09');\n",
              "          const dataTable =\n",
              "            await google.colab.kernel.invokeFunction('convertToInteractive',\n",
              "                                                     [key], {});\n",
              "          if (!dataTable) return;\n",
              "\n",
              "          const docLinkHtml = 'Like what you see? Visit the ' +\n",
              "            '<a target=\"_blank\" href=https://colab.research.google.com/notebooks/data_table.ipynb>data table notebook</a>'\n",
              "            + ' to learn more about interactive tables.';\n",
              "          element.innerHTML = '';\n",
              "          dataTable['output_type'] = 'display_data';\n",
              "          await google.colab.output.renderOutput(dataTable, element);\n",
              "          const docLink = document.createElement('div');\n",
              "          docLink.innerHTML = docLinkHtml;\n",
              "          element.appendChild(docLink);\n",
              "        }\n",
              "      </script>\n",
              "    </div>\n",
              "  </div>\n",
              "  "
            ]
          },
          "metadata": {},
          "execution_count": 14
        }
      ],
      "source": [
        "df.head()"
      ]
    },
    {
      "cell_type": "markdown",
      "id": "055212b2",
      "metadata": {
        "id": "055212b2"
      },
      "source": [
        "### Let's save our work"
      ]
    },
    {
      "cell_type": "code",
      "execution_count": 15,
      "id": "e0188380",
      "metadata": {
        "id": "e0188380"
      },
      "outputs": [],
      "source": [
        "lance.write_dataset(df, '/tmp/oxford_pet.lance')"
      ]
    },
    {
      "cell_type": "code",
      "execution_count": 16,
      "id": "8961a6d1",
      "metadata": {
        "id": "8961a6d1",
        "outputId": "e69785af-3357-4cc6-b6b9-ddf28c3dd0a9",
        "colab": {
          "base_uri": "https://localhost:8080/",
          "height": 206
        }
      },
      "outputs": [
        {
          "output_type": "execute_result",
          "data": {
            "text/plain": [
              "                                                                 image  \\\n",
              "0  /root/.fastai/data/oxford-iiit-pet/images/yorkshire_terrier_196.jpg   \n",
              "1       /root/.fastai/data/oxford-iiit-pet/images/saint_bernard_45.jpg   \n",
              "2                 /root/.fastai/data/oxford-iiit-pet/images/pug_82.jpg   \n",
              "3   /root/.fastai/data/oxford-iiit-pet/images/american_bulldog_176.jpg   \n",
              "4           /root/.fastai/data/oxford-iiit-pet/images/havanese_125.jpg   \n",
              "\n",
              "                    filename              class species  \n",
              "0  yorkshire_terrier_196.jpg  yorkshire_terrier     dog  \n",
              "1       saint_bernard_45.jpg      saint_bernard     dog  \n",
              "2                 pug_82.jpg                pug     dog  \n",
              "3   american_bulldog_176.jpg   american_bulldog     dog  \n",
              "4           havanese_125.jpg           havanese     dog  "
            ],
            "text/html": [
              "\n",
              "  <div id=\"df-18234fa6-7ebc-487a-80aa-103399411ea9\">\n",
              "    <div class=\"colab-df-container\">\n",
              "      <div>\n",
              "<style scoped>\n",
              "    .dataframe tbody tr th:only-of-type {\n",
              "        vertical-align: middle;\n",
              "    }\n",
              "\n",
              "    .dataframe tbody tr th {\n",
              "        vertical-align: top;\n",
              "    }\n",
              "\n",
              "    .dataframe thead th {\n",
              "        text-align: right;\n",
              "    }\n",
              "</style>\n",
              "<table border=\"1\" class=\"dataframe\">\n",
              "  <thead>\n",
              "    <tr style=\"text-align: right;\">\n",
              "      <th></th>\n",
              "      <th>image</th>\n",
              "      <th>filename</th>\n",
              "      <th>class</th>\n",
              "      <th>species</th>\n",
              "    </tr>\n",
              "  </thead>\n",
              "  <tbody>\n",
              "    <tr>\n",
              "      <th>0</th>\n",
              "      <td>/root/.fastai/data/oxford-iiit-pet/images/yorkshire_terrier_196.jpg</td>\n",
              "      <td>yorkshire_terrier_196.jpg</td>\n",
              "      <td>yorkshire_terrier</td>\n",
              "      <td>dog</td>\n",
              "    </tr>\n",
              "    <tr>\n",
              "      <th>1</th>\n",
              "      <td>/root/.fastai/data/oxford-iiit-pet/images/saint_bernard_45.jpg</td>\n",
              "      <td>saint_bernard_45.jpg</td>\n",
              "      <td>saint_bernard</td>\n",
              "      <td>dog</td>\n",
              "    </tr>\n",
              "    <tr>\n",
              "      <th>2</th>\n",
              "      <td>/root/.fastai/data/oxford-iiit-pet/images/pug_82.jpg</td>\n",
              "      <td>pug_82.jpg</td>\n",
              "      <td>pug</td>\n",
              "      <td>dog</td>\n",
              "    </tr>\n",
              "    <tr>\n",
              "      <th>3</th>\n",
              "      <td>/root/.fastai/data/oxford-iiit-pet/images/american_bulldog_176.jpg</td>\n",
              "      <td>american_bulldog_176.jpg</td>\n",
              "      <td>american_bulldog</td>\n",
              "      <td>dog</td>\n",
              "    </tr>\n",
              "    <tr>\n",
              "      <th>4</th>\n",
              "      <td>/root/.fastai/data/oxford-iiit-pet/images/havanese_125.jpg</td>\n",
              "      <td>havanese_125.jpg</td>\n",
              "      <td>havanese</td>\n",
              "      <td>dog</td>\n",
              "    </tr>\n",
              "  </tbody>\n",
              "</table>\n",
              "</div>\n",
              "      <button class=\"colab-df-convert\" onclick=\"convertToInteractive('df-18234fa6-7ebc-487a-80aa-103399411ea9')\"\n",
              "              title=\"Convert this dataframe to an interactive table.\"\n",
              "              style=\"display:none;\">\n",
              "        \n",
              "  <svg xmlns=\"http://www.w3.org/2000/svg\" height=\"24px\"viewBox=\"0 0 24 24\"\n",
              "       width=\"24px\">\n",
              "    <path d=\"M0 0h24v24H0V0z\" fill=\"none\"/>\n",
              "    <path d=\"M18.56 5.44l.94 2.06.94-2.06 2.06-.94-2.06-.94-.94-2.06-.94 2.06-2.06.94zm-11 1L8.5 8.5l.94-2.06 2.06-.94-2.06-.94L8.5 2.5l-.94 2.06-2.06.94zm10 10l.94 2.06.94-2.06 2.06-.94-2.06-.94-.94-2.06-.94 2.06-2.06.94z\"/><path d=\"M17.41 7.96l-1.37-1.37c-.4-.4-.92-.59-1.43-.59-.52 0-1.04.2-1.43.59L10.3 9.45l-7.72 7.72c-.78.78-.78 2.05 0 2.83L4 21.41c.39.39.9.59 1.41.59.51 0 1.02-.2 1.41-.59l7.78-7.78 2.81-2.81c.8-.78.8-2.07 0-2.86zM5.41 20L4 18.59l7.72-7.72 1.47 1.35L5.41 20z\"/>\n",
              "  </svg>\n",
              "      </button>\n",
              "      \n",
              "  <style>\n",
              "    .colab-df-container {\n",
              "      display:flex;\n",
              "      flex-wrap:wrap;\n",
              "      gap: 12px;\n",
              "    }\n",
              "\n",
              "    .colab-df-convert {\n",
              "      background-color: #E8F0FE;\n",
              "      border: none;\n",
              "      border-radius: 50%;\n",
              "      cursor: pointer;\n",
              "      display: none;\n",
              "      fill: #1967D2;\n",
              "      height: 32px;\n",
              "      padding: 0 0 0 0;\n",
              "      width: 32px;\n",
              "    }\n",
              "\n",
              "    .colab-df-convert:hover {\n",
              "      background-color: #E2EBFA;\n",
              "      box-shadow: 0px 1px 2px rgba(60, 64, 67, 0.3), 0px 1px 3px 1px rgba(60, 64, 67, 0.15);\n",
              "      fill: #174EA6;\n",
              "    }\n",
              "\n",
              "    [theme=dark] .colab-df-convert {\n",
              "      background-color: #3B4455;\n",
              "      fill: #D2E3FC;\n",
              "    }\n",
              "\n",
              "    [theme=dark] .colab-df-convert:hover {\n",
              "      background-color: #434B5C;\n",
              "      box-shadow: 0px 1px 3px 1px rgba(0, 0, 0, 0.15);\n",
              "      filter: drop-shadow(0px 1px 2px rgba(0, 0, 0, 0.3));\n",
              "      fill: #FFFFFF;\n",
              "    }\n",
              "  </style>\n",
              "\n",
              "      <script>\n",
              "        const buttonEl =\n",
              "          document.querySelector('#df-18234fa6-7ebc-487a-80aa-103399411ea9 button.colab-df-convert');\n",
              "        buttonEl.style.display =\n",
              "          google.colab.kernel.accessAllowed ? 'block' : 'none';\n",
              "\n",
              "        async function convertToInteractive(key) {\n",
              "          const element = document.querySelector('#df-18234fa6-7ebc-487a-80aa-103399411ea9');\n",
              "          const dataTable =\n",
              "            await google.colab.kernel.invokeFunction('convertToInteractive',\n",
              "                                                     [key], {});\n",
              "          if (!dataTable) return;\n",
              "\n",
              "          const docLinkHtml = 'Like what you see? Visit the ' +\n",
              "            '<a target=\"_blank\" href=https://colab.research.google.com/notebooks/data_table.ipynb>data table notebook</a>'\n",
              "            + ' to learn more about interactive tables.';\n",
              "          element.innerHTML = '';\n",
              "          dataTable['output_type'] = 'display_data';\n",
              "          await google.colab.output.renderOutput(dataTable, element);\n",
              "          const docLink = document.createElement('div');\n",
              "          docLink.innerHTML = docLinkHtml;\n",
              "          element.appendChild(docLink);\n",
              "        }\n",
              "      </script>\n",
              "    </div>\n",
              "  </div>\n",
              "  "
            ]
          },
          "metadata": {},
          "execution_count": 16
        }
      ],
      "source": [
        "(lance.dataset('/tmp/oxford_pet.lance')\n",
        " .to_table()\n",
        " .to_pandas()\n",
        " .head())"
      ]
    },
    {
      "cell_type": "markdown",
      "id": "1b05945b",
      "metadata": {
        "id": "1b05945b"
      },
      "source": [
        "## Cooldown: converting from parquet\n",
        "\n",
        "If you have existing dataset in parquet it's also very easy to\n",
        "convert the data to Lance"
      ]
    },
    {
      "cell_type": "markdown",
      "id": "3c67e11e",
      "metadata": {
        "id": "3c67e11e"
      },
      "source": [
        "Generate a parquet dataset"
      ]
    },
    {
      "cell_type": "code",
      "execution_count": 17,
      "id": "7fac0a7a",
      "metadata": {
        "id": "7fac0a7a"
      },
      "outputs": [],
      "source": [
        "import pyarrow.dataset as ds\n",
        "tbl = pa.Table.from_pandas(df)                 \n",
        "ds.write_dataset(tbl, '/tmp/oxford_pet.parquet',\n",
        "                 format='parquet')"
      ]
    },
    {
      "cell_type": "code",
      "execution_count": 18,
      "id": "4de1a75f",
      "metadata": {
        "id": "4de1a75f",
        "outputId": "093d9e18-2f1a-4589-98a6-b564e72e4c22",
        "colab": {
          "base_uri": "https://localhost:8080/",
          "height": 206
        }
      },
      "outputs": [
        {
          "output_type": "execute_result",
          "data": {
            "text/plain": [
              "                                                                 image  \\\n",
              "0  /root/.fastai/data/oxford-iiit-pet/images/yorkshire_terrier_196.jpg   \n",
              "1       /root/.fastai/data/oxford-iiit-pet/images/saint_bernard_45.jpg   \n",
              "2                 /root/.fastai/data/oxford-iiit-pet/images/pug_82.jpg   \n",
              "3   /root/.fastai/data/oxford-iiit-pet/images/american_bulldog_176.jpg   \n",
              "4           /root/.fastai/data/oxford-iiit-pet/images/havanese_125.jpg   \n",
              "\n",
              "                    filename              class species  \n",
              "0  yorkshire_terrier_196.jpg  yorkshire_terrier     dog  \n",
              "1       saint_bernard_45.jpg      saint_bernard     dog  \n",
              "2                 pug_82.jpg                pug     dog  \n",
              "3   american_bulldog_176.jpg   american_bulldog     dog  \n",
              "4           havanese_125.jpg           havanese     dog  "
            ],
            "text/html": [
              "\n",
              "  <div id=\"df-e57fc623-01ab-4552-a620-a3582b5792cd\">\n",
              "    <div class=\"colab-df-container\">\n",
              "      <div>\n",
              "<style scoped>\n",
              "    .dataframe tbody tr th:only-of-type {\n",
              "        vertical-align: middle;\n",
              "    }\n",
              "\n",
              "    .dataframe tbody tr th {\n",
              "        vertical-align: top;\n",
              "    }\n",
              "\n",
              "    .dataframe thead th {\n",
              "        text-align: right;\n",
              "    }\n",
              "</style>\n",
              "<table border=\"1\" class=\"dataframe\">\n",
              "  <thead>\n",
              "    <tr style=\"text-align: right;\">\n",
              "      <th></th>\n",
              "      <th>image</th>\n",
              "      <th>filename</th>\n",
              "      <th>class</th>\n",
              "      <th>species</th>\n",
              "    </tr>\n",
              "  </thead>\n",
              "  <tbody>\n",
              "    <tr>\n",
              "      <th>0</th>\n",
              "      <td>/root/.fastai/data/oxford-iiit-pet/images/yorkshire_terrier_196.jpg</td>\n",
              "      <td>yorkshire_terrier_196.jpg</td>\n",
              "      <td>yorkshire_terrier</td>\n",
              "      <td>dog</td>\n",
              "    </tr>\n",
              "    <tr>\n",
              "      <th>1</th>\n",
              "      <td>/root/.fastai/data/oxford-iiit-pet/images/saint_bernard_45.jpg</td>\n",
              "      <td>saint_bernard_45.jpg</td>\n",
              "      <td>saint_bernard</td>\n",
              "      <td>dog</td>\n",
              "    </tr>\n",
              "    <tr>\n",
              "      <th>2</th>\n",
              "      <td>/root/.fastai/data/oxford-iiit-pet/images/pug_82.jpg</td>\n",
              "      <td>pug_82.jpg</td>\n",
              "      <td>pug</td>\n",
              "      <td>dog</td>\n",
              "    </tr>\n",
              "    <tr>\n",
              "      <th>3</th>\n",
              "      <td>/root/.fastai/data/oxford-iiit-pet/images/american_bulldog_176.jpg</td>\n",
              "      <td>american_bulldog_176.jpg</td>\n",
              "      <td>american_bulldog</td>\n",
              "      <td>dog</td>\n",
              "    </tr>\n",
              "    <tr>\n",
              "      <th>4</th>\n",
              "      <td>/root/.fastai/data/oxford-iiit-pet/images/havanese_125.jpg</td>\n",
              "      <td>havanese_125.jpg</td>\n",
              "      <td>havanese</td>\n",
              "      <td>dog</td>\n",
              "    </tr>\n",
              "  </tbody>\n",
              "</table>\n",
              "</div>\n",
              "      <button class=\"colab-df-convert\" onclick=\"convertToInteractive('df-e57fc623-01ab-4552-a620-a3582b5792cd')\"\n",
              "              title=\"Convert this dataframe to an interactive table.\"\n",
              "              style=\"display:none;\">\n",
              "        \n",
              "  <svg xmlns=\"http://www.w3.org/2000/svg\" height=\"24px\"viewBox=\"0 0 24 24\"\n",
              "       width=\"24px\">\n",
              "    <path d=\"M0 0h24v24H0V0z\" fill=\"none\"/>\n",
              "    <path d=\"M18.56 5.44l.94 2.06.94-2.06 2.06-.94-2.06-.94-.94-2.06-.94 2.06-2.06.94zm-11 1L8.5 8.5l.94-2.06 2.06-.94-2.06-.94L8.5 2.5l-.94 2.06-2.06.94zm10 10l.94 2.06.94-2.06 2.06-.94-2.06-.94-.94-2.06-.94 2.06-2.06.94z\"/><path d=\"M17.41 7.96l-1.37-1.37c-.4-.4-.92-.59-1.43-.59-.52 0-1.04.2-1.43.59L10.3 9.45l-7.72 7.72c-.78.78-.78 2.05 0 2.83L4 21.41c.39.39.9.59 1.41.59.51 0 1.02-.2 1.41-.59l7.78-7.78 2.81-2.81c.8-.78.8-2.07 0-2.86zM5.41 20L4 18.59l7.72-7.72 1.47 1.35L5.41 20z\"/>\n",
              "  </svg>\n",
              "      </button>\n",
              "      \n",
              "  <style>\n",
              "    .colab-df-container {\n",
              "      display:flex;\n",
              "      flex-wrap:wrap;\n",
              "      gap: 12px;\n",
              "    }\n",
              "\n",
              "    .colab-df-convert {\n",
              "      background-color: #E8F0FE;\n",
              "      border: none;\n",
              "      border-radius: 50%;\n",
              "      cursor: pointer;\n",
              "      display: none;\n",
              "      fill: #1967D2;\n",
              "      height: 32px;\n",
              "      padding: 0 0 0 0;\n",
              "      width: 32px;\n",
              "    }\n",
              "\n",
              "    .colab-df-convert:hover {\n",
              "      background-color: #E2EBFA;\n",
              "      box-shadow: 0px 1px 2px rgba(60, 64, 67, 0.3), 0px 1px 3px 1px rgba(60, 64, 67, 0.15);\n",
              "      fill: #174EA6;\n",
              "    }\n",
              "\n",
              "    [theme=dark] .colab-df-convert {\n",
              "      background-color: #3B4455;\n",
              "      fill: #D2E3FC;\n",
              "    }\n",
              "\n",
              "    [theme=dark] .colab-df-convert:hover {\n",
              "      background-color: #434B5C;\n",
              "      box-shadow: 0px 1px 3px 1px rgba(0, 0, 0, 0.15);\n",
              "      filter: drop-shadow(0px 1px 2px rgba(0, 0, 0, 0.3));\n",
              "      fill: #FFFFFF;\n",
              "    }\n",
              "  </style>\n",
              "\n",
              "      <script>\n",
              "        const buttonEl =\n",
              "          document.querySelector('#df-e57fc623-01ab-4552-a620-a3582b5792cd button.colab-df-convert');\n",
              "        buttonEl.style.display =\n",
              "          google.colab.kernel.accessAllowed ? 'block' : 'none';\n",
              "\n",
              "        async function convertToInteractive(key) {\n",
              "          const element = document.querySelector('#df-e57fc623-01ab-4552-a620-a3582b5792cd');\n",
              "          const dataTable =\n",
              "            await google.colab.kernel.invokeFunction('convertToInteractive',\n",
              "                                                     [key], {});\n",
              "          if (!dataTable) return;\n",
              "\n",
              "          const docLinkHtml = 'Like what you see? Visit the ' +\n",
              "            '<a target=\"_blank\" href=https://colab.research.google.com/notebooks/data_table.ipynb>data table notebook</a>'\n",
              "            + ' to learn more about interactive tables.';\n",
              "          element.innerHTML = '';\n",
              "          dataTable['output_type'] = 'display_data';\n",
              "          await google.colab.output.renderOutput(dataTable, element);\n",
              "          const docLink = document.createElement('div');\n",
              "          docLink.innerHTML = docLinkHtml;\n",
              "          element.appendChild(docLink);\n",
              "        }\n",
              "      </script>\n",
              "    </div>\n",
              "  </div>\n",
              "  "
            ]
          },
          "metadata": {},
          "execution_count": 18
        }
      ],
      "source": [
        "parquet_dataset = ds.dataset('/tmp/oxford_pet.parquet')\n",
        "parquet_dataset.to_table().to_pandas().head()"
      ]
    },
    {
      "cell_type": "markdown",
      "id": "98520bdf",
      "metadata": {
        "id": "98520bdf"
      },
      "source": [
        "<div class=\"alert alert-info\">\n",
        "    Converting parquet to lance is also just 1 python statement\n",
        "    </div> "
      ]
    },
    {
      "cell_type": "code",
      "execution_count": 19,
      "id": "dc5a015e",
      "metadata": {
        "id": "dc5a015e"
      },
      "outputs": [],
      "source": [
        "lance.write_dataset(parquet_dataset, '/tmp/oxford_pet_from_parquet.lance')"
      ]
    },
    {
      "cell_type": "markdown",
      "id": "20b7a95a",
      "metadata": {
        "id": "20b7a95a"
      },
      "source": [
        "Again we can read it back out and see that it's the same"
      ]
    },
    {
      "cell_type": "code",
      "execution_count": 20,
      "id": "2971aa9a",
      "metadata": {
        "id": "2971aa9a",
        "outputId": "28994250-dc8f-4776-851f-8efa0412ff27",
        "colab": {
          "base_uri": "https://localhost:8080/",
          "height": 206
        }
      },
      "outputs": [
        {
          "output_type": "execute_result",
          "data": {
            "text/plain": [
              "                                                                 image  \\\n",
              "0  /root/.fastai/data/oxford-iiit-pet/images/yorkshire_terrier_196.jpg   \n",
              "1       /root/.fastai/data/oxford-iiit-pet/images/saint_bernard_45.jpg   \n",
              "2                 /root/.fastai/data/oxford-iiit-pet/images/pug_82.jpg   \n",
              "3   /root/.fastai/data/oxford-iiit-pet/images/american_bulldog_176.jpg   \n",
              "4           /root/.fastai/data/oxford-iiit-pet/images/havanese_125.jpg   \n",
              "\n",
              "                    filename              class species  \n",
              "0  yorkshire_terrier_196.jpg  yorkshire_terrier     dog  \n",
              "1       saint_bernard_45.jpg      saint_bernard     dog  \n",
              "2                 pug_82.jpg                pug     dog  \n",
              "3   american_bulldog_176.jpg   american_bulldog     dog  \n",
              "4           havanese_125.jpg           havanese     dog  "
            ],
            "text/html": [
              "\n",
              "  <div id=\"df-19c3e786-8191-4882-a2a9-3356655003be\">\n",
              "    <div class=\"colab-df-container\">\n",
              "      <div>\n",
              "<style scoped>\n",
              "    .dataframe tbody tr th:only-of-type {\n",
              "        vertical-align: middle;\n",
              "    }\n",
              "\n",
              "    .dataframe tbody tr th {\n",
              "        vertical-align: top;\n",
              "    }\n",
              "\n",
              "    .dataframe thead th {\n",
              "        text-align: right;\n",
              "    }\n",
              "</style>\n",
              "<table border=\"1\" class=\"dataframe\">\n",
              "  <thead>\n",
              "    <tr style=\"text-align: right;\">\n",
              "      <th></th>\n",
              "      <th>image</th>\n",
              "      <th>filename</th>\n",
              "      <th>class</th>\n",
              "      <th>species</th>\n",
              "    </tr>\n",
              "  </thead>\n",
              "  <tbody>\n",
              "    <tr>\n",
              "      <th>0</th>\n",
              "      <td>/root/.fastai/data/oxford-iiit-pet/images/yorkshire_terrier_196.jpg</td>\n",
              "      <td>yorkshire_terrier_196.jpg</td>\n",
              "      <td>yorkshire_terrier</td>\n",
              "      <td>dog</td>\n",
              "    </tr>\n",
              "    <tr>\n",
              "      <th>1</th>\n",
              "      <td>/root/.fastai/data/oxford-iiit-pet/images/saint_bernard_45.jpg</td>\n",
              "      <td>saint_bernard_45.jpg</td>\n",
              "      <td>saint_bernard</td>\n",
              "      <td>dog</td>\n",
              "    </tr>\n",
              "    <tr>\n",
              "      <th>2</th>\n",
              "      <td>/root/.fastai/data/oxford-iiit-pet/images/pug_82.jpg</td>\n",
              "      <td>pug_82.jpg</td>\n",
              "      <td>pug</td>\n",
              "      <td>dog</td>\n",
              "    </tr>\n",
              "    <tr>\n",
              "      <th>3</th>\n",
              "      <td>/root/.fastai/data/oxford-iiit-pet/images/american_bulldog_176.jpg</td>\n",
              "      <td>american_bulldog_176.jpg</td>\n",
              "      <td>american_bulldog</td>\n",
              "      <td>dog</td>\n",
              "    </tr>\n",
              "    <tr>\n",
              "      <th>4</th>\n",
              "      <td>/root/.fastai/data/oxford-iiit-pet/images/havanese_125.jpg</td>\n",
              "      <td>havanese_125.jpg</td>\n",
              "      <td>havanese</td>\n",
              "      <td>dog</td>\n",
              "    </tr>\n",
              "  </tbody>\n",
              "</table>\n",
              "</div>\n",
              "      <button class=\"colab-df-convert\" onclick=\"convertToInteractive('df-19c3e786-8191-4882-a2a9-3356655003be')\"\n",
              "              title=\"Convert this dataframe to an interactive table.\"\n",
              "              style=\"display:none;\">\n",
              "        \n",
              "  <svg xmlns=\"http://www.w3.org/2000/svg\" height=\"24px\"viewBox=\"0 0 24 24\"\n",
              "       width=\"24px\">\n",
              "    <path d=\"M0 0h24v24H0V0z\" fill=\"none\"/>\n",
              "    <path d=\"M18.56 5.44l.94 2.06.94-2.06 2.06-.94-2.06-.94-.94-2.06-.94 2.06-2.06.94zm-11 1L8.5 8.5l.94-2.06 2.06-.94-2.06-.94L8.5 2.5l-.94 2.06-2.06.94zm10 10l.94 2.06.94-2.06 2.06-.94-2.06-.94-.94-2.06-.94 2.06-2.06.94z\"/><path d=\"M17.41 7.96l-1.37-1.37c-.4-.4-.92-.59-1.43-.59-.52 0-1.04.2-1.43.59L10.3 9.45l-7.72 7.72c-.78.78-.78 2.05 0 2.83L4 21.41c.39.39.9.59 1.41.59.51 0 1.02-.2 1.41-.59l7.78-7.78 2.81-2.81c.8-.78.8-2.07 0-2.86zM5.41 20L4 18.59l7.72-7.72 1.47 1.35L5.41 20z\"/>\n",
              "  </svg>\n",
              "      </button>\n",
              "      \n",
              "  <style>\n",
              "    .colab-df-container {\n",
              "      display:flex;\n",
              "      flex-wrap:wrap;\n",
              "      gap: 12px;\n",
              "    }\n",
              "\n",
              "    .colab-df-convert {\n",
              "      background-color: #E8F0FE;\n",
              "      border: none;\n",
              "      border-radius: 50%;\n",
              "      cursor: pointer;\n",
              "      display: none;\n",
              "      fill: #1967D2;\n",
              "      height: 32px;\n",
              "      padding: 0 0 0 0;\n",
              "      width: 32px;\n",
              "    }\n",
              "\n",
              "    .colab-df-convert:hover {\n",
              "      background-color: #E2EBFA;\n",
              "      box-shadow: 0px 1px 2px rgba(60, 64, 67, 0.3), 0px 1px 3px 1px rgba(60, 64, 67, 0.15);\n",
              "      fill: #174EA6;\n",
              "    }\n",
              "\n",
              "    [theme=dark] .colab-df-convert {\n",
              "      background-color: #3B4455;\n",
              "      fill: #D2E3FC;\n",
              "    }\n",
              "\n",
              "    [theme=dark] .colab-df-convert:hover {\n",
              "      background-color: #434B5C;\n",
              "      box-shadow: 0px 1px 3px 1px rgba(0, 0, 0, 0.15);\n",
              "      filter: drop-shadow(0px 1px 2px rgba(0, 0, 0, 0.3));\n",
              "      fill: #FFFFFF;\n",
              "    }\n",
              "  </style>\n",
              "\n",
              "      <script>\n",
              "        const buttonEl =\n",
              "          document.querySelector('#df-19c3e786-8191-4882-a2a9-3356655003be button.colab-df-convert');\n",
              "        buttonEl.style.display =\n",
              "          google.colab.kernel.accessAllowed ? 'block' : 'none';\n",
              "\n",
              "        async function convertToInteractive(key) {\n",
              "          const element = document.querySelector('#df-19c3e786-8191-4882-a2a9-3356655003be');\n",
              "          const dataTable =\n",
              "            await google.colab.kernel.invokeFunction('convertToInteractive',\n",
              "                                                     [key], {});\n",
              "          if (!dataTable) return;\n",
              "\n",
              "          const docLinkHtml = 'Like what you see? Visit the ' +\n",
              "            '<a target=\"_blank\" href=https://colab.research.google.com/notebooks/data_table.ipynb>data table notebook</a>'\n",
              "            + ' to learn more about interactive tables.';\n",
              "          element.innerHTML = '';\n",
              "          dataTable['output_type'] = 'display_data';\n",
              "          await google.colab.output.renderOutput(dataTable, element);\n",
              "          const docLink = document.createElement('div');\n",
              "          docLink.innerHTML = docLinkHtml;\n",
              "          element.appendChild(docLink);\n",
              "        }\n",
              "      </script>\n",
              "    </div>\n",
              "  </div>\n",
              "  "
            ]
          },
          "metadata": {},
          "execution_count": 20
        }
      ],
      "source": [
        "lance_dataset = lance.dataset('/tmp/oxford_pet_from_parquet.lance')\n",
        "lance_dataset.to_table().to_pandas().head()"
      ]
    },
    {
      "cell_type": "markdown",
      "id": "86e647b9",
      "metadata": {
        "id": "86e647b9"
      },
      "source": [
        "## Try your own data!\n",
        "\n",
        "Nice work! In this tutorial, we've created Lance datasets from pandas, arrow, and parquet using only a few lines of code.\n",
        "\n",
        "Now you should try creating a Lance dataset with your own image data!"
      ]
    }
  ],
  "metadata": {
    "kernelspec": {
      "display_name": "Python 3 (ipykernel)",
      "language": "python",
      "name": "python3"
    },
    "language_info": {
      "codemirror_mode": {
        "name": "ipython",
        "version": 3
      },
      "file_extension": ".py",
      "mimetype": "text/x-python",
      "name": "python",
      "nbconvert_exporter": "python",
      "pygments_lexer": "ipython3",
      "version": "3.10.4"
    },
    "colab": {
      "provenance": []
    }
  },
  "nbformat": 4,
  "nbformat_minor": 5
}