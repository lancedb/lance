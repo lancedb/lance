{
 "cells": [
  {
   "cell_type": "markdown",
   "id": "053c0371",
   "metadata": {},
   "source": [
    "# 2 - Creating Lance Datasets\n",
    "\n",
    "Lance's python API makes it easy for you to create Lance datasets from a variety of sources\n",
    "\n",
    "⤜ pandas dataframes <br/>\n",
    "⤜ pyarrow tables <br/>\n",
    "⤜ parquet datasets <br/>\n",
    "⤜ [coming soon] known open-source dataset formats <br/>"
   ]
  },
  {
   "cell_type": "code",
   "execution_count": 1,
   "id": "5d8b2cde",
   "metadata": {},
   "outputs": [],
   "source": [
    "import lance\n",
    "from lance import LanceFileFormat\n",
    "import pyarrow as pa"
   ]
  },
  {
   "cell_type": "markdown",
   "id": "ebff93d1",
   "metadata": {},
   "source": [
    "## Warmup: write a toy dataframe"
   ]
  },
  {
   "cell_type": "code",
   "execution_count": 2,
   "id": "1cba8dc7",
   "metadata": {},
   "outputs": [
    {
     "data": {
      "text/html": [
       "<div>\n",
       "<style scoped>\n",
       "    .dataframe tbody tr th:only-of-type {\n",
       "        vertical-align: middle;\n",
       "    }\n",
       "\n",
       "    .dataframe tbody tr th {\n",
       "        vertical-align: top;\n",
       "    }\n",
       "\n",
       "    .dataframe thead th {\n",
       "        text-align: right;\n",
       "    }\n",
       "</style>\n",
       "<table border=\"1\" class=\"dataframe\">\n",
       "  <thead>\n",
       "    <tr style=\"text-align: right;\">\n",
       "      <th></th>\n",
       "      <th>a</th>\n",
       "      <th>b</th>\n",
       "      <th>c</th>\n",
       "    </tr>\n",
       "  </thead>\n",
       "  <tbody>\n",
       "    <tr>\n",
       "      <th>0</th>\n",
       "      <td>-0.046544</td>\n",
       "      <td>duck</td>\n",
       "      <td>2022-01-01</td>\n",
       "    </tr>\n",
       "    <tr>\n",
       "      <th>1</th>\n",
       "      <td>0.352004</td>\n",
       "      <td>car</td>\n",
       "      <td>2022-01-02</td>\n",
       "    </tr>\n",
       "    <tr>\n",
       "      <th>2</th>\n",
       "      <td>0.314334</td>\n",
       "      <td>person</td>\n",
       "      <td>2022-01-03</td>\n",
       "    </tr>\n",
       "    <tr>\n",
       "      <th>3</th>\n",
       "      <td>1.395114</td>\n",
       "      <td>cat</td>\n",
       "      <td>2022-01-04</td>\n",
       "    </tr>\n",
       "    <tr>\n",
       "      <th>4</th>\n",
       "      <td>-0.605658</td>\n",
       "      <td>person</td>\n",
       "      <td>2022-01-05</td>\n",
       "    </tr>\n",
       "  </tbody>\n",
       "</table>\n",
       "</div>"
      ],
      "text/plain": [
       "          a       b          c\n",
       "0 -0.046544    duck 2022-01-01\n",
       "1  0.352004     car 2022-01-02\n",
       "2  0.314334  person 2022-01-03\n",
       "3  1.395114     cat 2022-01-04\n",
       "4 -0.605658  person 2022-01-05"
      ]
     },
     "execution_count": 2,
     "metadata": {},
     "output_type": "execute_result"
    }
   ],
   "source": [
    "import numpy as np\n",
    "import pandas as pd\n",
    "\n",
    "toy = pd.DataFrame({\n",
    "    'a': np.random.randn(5),\n",
    "    'b': pd.Categorical.from_codes(np.random.randint(0, 5, 5),\n",
    "                                   ['cat', 'dog', 'person', 'car', 'duck']),\n",
    "    'c': pd.date_range('2022-01-01', freq='D', periods=5)\n",
    "})\n",
    "toy"
   ]
  },
  {
   "cell_type": "markdown",
   "id": "559eb775",
   "metadata": {},
   "source": [
    "<div class=\"alert alert-info\">\n",
    "    Write an Arrow Table to Lance format in 1 line\n",
    "    </div>"
   ]
  },
  {
   "cell_type": "code",
   "execution_count": 3,
   "id": "6da4e641",
   "metadata": {},
   "outputs": [],
   "source": [
    "tbl = pa.Table.from_pandas(toy)                \n",
    "lance.write_dataset(tbl, '/tmp/toy.lance')"
   ]
  },
  {
   "cell_type": "markdown",
   "id": "c8f839fe",
   "metadata": {},
   "source": [
    "read it back out"
   ]
  },
  {
   "cell_type": "code",
   "execution_count": 4,
   "id": "e8c76f73",
   "metadata": {},
   "outputs": [
    {
     "data": {
      "text/html": [
       "<div>\n",
       "<style scoped>\n",
       "    .dataframe tbody tr th:only-of-type {\n",
       "        vertical-align: middle;\n",
       "    }\n",
       "\n",
       "    .dataframe tbody tr th {\n",
       "        vertical-align: top;\n",
       "    }\n",
       "\n",
       "    .dataframe thead th {\n",
       "        text-align: right;\n",
       "    }\n",
       "</style>\n",
       "<table border=\"1\" class=\"dataframe\">\n",
       "  <thead>\n",
       "    <tr style=\"text-align: right;\">\n",
       "      <th></th>\n",
       "      <th>a</th>\n",
       "      <th>b</th>\n",
       "      <th>c</th>\n",
       "    </tr>\n",
       "  </thead>\n",
       "  <tbody>\n",
       "    <tr>\n",
       "      <th>0</th>\n",
       "      <td>-0.046544</td>\n",
       "      <td>duck</td>\n",
       "      <td>2022-01-01</td>\n",
       "    </tr>\n",
       "    <tr>\n",
       "      <th>1</th>\n",
       "      <td>0.352004</td>\n",
       "      <td>car</td>\n",
       "      <td>2022-01-02</td>\n",
       "    </tr>\n",
       "    <tr>\n",
       "      <th>2</th>\n",
       "      <td>0.314334</td>\n",
       "      <td>person</td>\n",
       "      <td>2022-01-03</td>\n",
       "    </tr>\n",
       "    <tr>\n",
       "      <th>3</th>\n",
       "      <td>1.395114</td>\n",
       "      <td>cat</td>\n",
       "      <td>2022-01-04</td>\n",
       "    </tr>\n",
       "    <tr>\n",
       "      <th>4</th>\n",
       "      <td>-0.605658</td>\n",
       "      <td>person</td>\n",
       "      <td>2022-01-05</td>\n",
       "    </tr>\n",
       "  </tbody>\n",
       "</table>\n",
       "</div>"
      ],
      "text/plain": [
       "          a       b          c\n",
       "0 -0.046544    duck 2022-01-01\n",
       "1  0.352004     car 2022-01-02\n",
       "2  0.314334  person 2022-01-03\n",
       "3  1.395114     cat 2022-01-04\n",
       "4 -0.605658  person 2022-01-05"
      ]
     },
     "execution_count": 4,
     "metadata": {},
     "output_type": "execute_result"
    }
   ],
   "source": [
    "(lance.dataset('/tmp/toy.lance')\n",
    " .to_table()\n",
    " .to_pandas())"
   ]
  },
  {
   "cell_type": "markdown",
   "id": "1c49e9c5",
   "metadata": {},
   "source": [
    "## Workout: create pets dataset\n",
    "\n",
    "Let's create a custom dataset"
   ]
  },
  {
   "cell_type": "markdown",
   "id": "12eff552",
   "metadata": {},
   "source": [
    "We'll need some raw data. For convenience, let's use fastai to get the oxford_pet dataset"
   ]
  },
  {
   "cell_type": "code",
   "execution_count": 5,
   "id": "daa7a65c",
   "metadata": {},
   "outputs": [],
   "source": [
    "!pip install --quiet fastai"
   ]
  },
  {
   "cell_type": "code",
   "execution_count": 6,
   "id": "69863c67",
   "metadata": {},
   "outputs": [],
   "source": [
    "from fastai.vision.all import untar_data, URLs\n",
    "path = untar_data(URLs.PETS)"
   ]
  },
  {
   "cell_type": "markdown",
   "id": "daa9bb71",
   "metadata": {},
   "source": [
    "### Now we'll create a dataset with the image and some labeling information"
   ]
  },
  {
   "cell_type": "markdown",
   "id": "03306180",
   "metadata": {},
   "source": [
    "First we get the images"
   ]
  },
  {
   "cell_type": "code",
   "execution_count": 7,
   "id": "ee1b4988",
   "metadata": {
    "scrolled": true
   },
   "outputs": [
    {
     "data": {
      "text/html": [
       "<div>\n",
       "<style scoped>\n",
       "    .dataframe tbody tr th:only-of-type {\n",
       "        vertical-align: middle;\n",
       "    }\n",
       "\n",
       "    .dataframe tbody tr th {\n",
       "        vertical-align: top;\n",
       "    }\n",
       "\n",
       "    .dataframe thead th {\n",
       "        text-align: right;\n",
       "    }\n",
       "</style>\n",
       "<table border=\"1\" class=\"dataframe\">\n",
       "  <thead>\n",
       "    <tr style=\"text-align: right;\">\n",
       "      <th></th>\n",
       "      <th>image</th>\n",
       "    </tr>\n",
       "  </thead>\n",
       "  <tbody>\n",
       "    <tr>\n",
       "      <th>0</th>\n",
       "      <td>/home/ubuntu/.fastai/data/oxford-iiit-pet/images/saint_bernard_50.jpg</td>\n",
       "    </tr>\n",
       "    <tr>\n",
       "      <th>1</th>\n",
       "      <td>/home/ubuntu/.fastai/data/oxford-iiit-pet/images/boxer_130.jpg</td>\n",
       "    </tr>\n",
       "    <tr>\n",
       "      <th>2</th>\n",
       "      <td>/home/ubuntu/.fastai/data/oxford-iiit-pet/images/Egyptian_Mau_215.jpg</td>\n",
       "    </tr>\n",
       "    <tr>\n",
       "      <th>3</th>\n",
       "      <td>/home/ubuntu/.fastai/data/oxford-iiit-pet/images/Maine_Coon_146.jpg</td>\n",
       "    </tr>\n",
       "    <tr>\n",
       "      <th>4</th>\n",
       "      <td>/home/ubuntu/.fastai/data/oxford-iiit-pet/images/boxer_55.jpg</td>\n",
       "    </tr>\n",
       "  </tbody>\n",
       "</table>\n",
       "</div>"
      ],
      "text/plain": [
       "                                                                   image\n",
       "0  /home/ubuntu/.fastai/data/oxford-iiit-pet/images/saint_bernard_50.jpg\n",
       "1         /home/ubuntu/.fastai/data/oxford-iiit-pet/images/boxer_130.jpg\n",
       "2  /home/ubuntu/.fastai/data/oxford-iiit-pet/images/Egyptian_Mau_215.jpg\n",
       "3    /home/ubuntu/.fastai/data/oxford-iiit-pet/images/Maine_Coon_146.jpg\n",
       "4          /home/ubuntu/.fastai/data/oxford-iiit-pet/images/boxer_55.jpg"
      ]
     },
     "execution_count": 7,
     "metadata": {},
     "output_type": "execute_result"
    }
   ],
   "source": [
    "from pathlib import Path\n",
    "images = path / 'images'\n",
    "\n",
    "df = pd.DataFrame({'image': pd.array(images.ls(), dtype='image[uri]')})\n",
    "df.head()"
   ]
  },
  {
   "cell_type": "markdown",
   "id": "818a1464",
   "metadata": {},
   "source": [
    "Images are defined as extension types in pandas that know how to:\n",
    "- display themselves\n",
    "- convert to numpy / tensor\n",
    "- convert to PIL"
   ]
  },
  {
   "cell_type": "code",
   "execution_count": 8,
   "id": "219edb3d",
   "metadata": {},
   "outputs": [
    {
     "data": {
      "text/html": [
       "<img src=\"data:image;base64,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\"/>"
      ],
      "text/plain": [
       "Image(/home/ubuntu/.fastai/data/oxford-iiit-pet/images/saint_bernard_50.jpg)"
      ]
     },
     "execution_count": 8,
     "metadata": {},
     "output_type": "execute_result"
    }
   ],
   "source": [
    "df.image.values[0]"
   ]
  },
  {
   "cell_type": "code",
   "execution_count": 9,
   "id": "069b9fab",
   "metadata": {},
   "outputs": [
    {
     "name": "stdout",
     "output_type": "stream",
     "text": [
      "<class 'PIL.Image.Image'>\n",
      "<class 'numpy.ndarray'>\n"
     ]
    }
   ],
   "source": [
    "print(type(df.image[0].to_pil()))\n",
    "print(type(df.image[0].to_numpy()))"
   ]
  },
  {
   "cell_type": "markdown",
   "id": "616b69b0",
   "metadata": {},
   "source": [
    "### pandas integration makes data preparation really easy"
   ]
  },
  {
   "cell_type": "markdown",
   "id": "d45b881d",
   "metadata": {},
   "source": [
    "parse the filename"
   ]
  },
  {
   "cell_type": "code",
   "execution_count": 10,
   "id": "36d6b264",
   "metadata": {},
   "outputs": [],
   "source": [
    "df['filename'] = df.image.apply(lambda s: Path(s).name)"
   ]
  },
  {
   "cell_type": "markdown",
   "id": "d5c1467a",
   "metadata": {},
   "source": [
    "Now get the class name"
   ]
  },
  {
   "cell_type": "code",
   "execution_count": 11,
   "id": "411ec6a5",
   "metadata": {},
   "outputs": [],
   "source": [
    "df['class'] = df.filename.str.rsplit('_', n=1).str[0].astype('category')"
   ]
  },
  {
   "cell_type": "markdown",
   "id": "61ef6e3e",
   "metadata": {},
   "source": [
    "Get the species name"
   ]
  },
  {
   "cell_type": "code",
   "execution_count": 12,
   "id": "3671020d",
   "metadata": {},
   "outputs": [],
   "source": [
    "is_cat = df['class'].str[0].str.isupper()\n",
    "df['species'] = pd.Categorical.from_codes(codes=is_cat.astype(int), \n",
    "                                          categories=['dog', 'cat'])"
   ]
  },
  {
   "cell_type": "markdown",
   "id": "42adc65a",
   "metadata": {},
   "source": [
    "Let's see what it looks like altogether"
   ]
  },
  {
   "cell_type": "code",
   "execution_count": 13,
   "id": "bb9fdb74",
   "metadata": {},
   "outputs": [
    {
     "data": {
      "text/html": [
       "<div>\n",
       "<style scoped>\n",
       "    .dataframe tbody tr th:only-of-type {\n",
       "        vertical-align: middle;\n",
       "    }\n",
       "\n",
       "    .dataframe tbody tr th {\n",
       "        vertical-align: top;\n",
       "    }\n",
       "\n",
       "    .dataframe thead th {\n",
       "        text-align: right;\n",
       "    }\n",
       "</style>\n",
       "<table border=\"1\" class=\"dataframe\">\n",
       "  <thead>\n",
       "    <tr style=\"text-align: right;\">\n",
       "      <th></th>\n",
       "      <th>image</th>\n",
       "      <th>filename</th>\n",
       "      <th>class</th>\n",
       "      <th>species</th>\n",
       "    </tr>\n",
       "  </thead>\n",
       "  <tbody>\n",
       "    <tr>\n",
       "      <th>0</th>\n",
       "      <td>/home/ubuntu/.fastai/data/oxford-iiit-pet/images/saint_bernard_50.jpg</td>\n",
       "      <td>saint_bernard_50.jpg</td>\n",
       "      <td>saint_bernard</td>\n",
       "      <td>dog</td>\n",
       "    </tr>\n",
       "    <tr>\n",
       "      <th>1</th>\n",
       "      <td>/home/ubuntu/.fastai/data/oxford-iiit-pet/images/boxer_130.jpg</td>\n",
       "      <td>boxer_130.jpg</td>\n",
       "      <td>boxer</td>\n",
       "      <td>dog</td>\n",
       "    </tr>\n",
       "    <tr>\n",
       "      <th>2</th>\n",
       "      <td>/home/ubuntu/.fastai/data/oxford-iiit-pet/images/Egyptian_Mau_215.jpg</td>\n",
       "      <td>Egyptian_Mau_215.jpg</td>\n",
       "      <td>Egyptian_Mau</td>\n",
       "      <td>cat</td>\n",
       "    </tr>\n",
       "    <tr>\n",
       "      <th>3</th>\n",
       "      <td>/home/ubuntu/.fastai/data/oxford-iiit-pet/images/Maine_Coon_146.jpg</td>\n",
       "      <td>Maine_Coon_146.jpg</td>\n",
       "      <td>Maine_Coon</td>\n",
       "      <td>cat</td>\n",
       "    </tr>\n",
       "    <tr>\n",
       "      <th>4</th>\n",
       "      <td>/home/ubuntu/.fastai/data/oxford-iiit-pet/images/boxer_55.jpg</td>\n",
       "      <td>boxer_55.jpg</td>\n",
       "      <td>boxer</td>\n",
       "      <td>dog</td>\n",
       "    </tr>\n",
       "  </tbody>\n",
       "</table>\n",
       "</div>"
      ],
      "text/plain": [
       "                                                                   image  \\\n",
       "0  /home/ubuntu/.fastai/data/oxford-iiit-pet/images/saint_bernard_50.jpg   \n",
       "1         /home/ubuntu/.fastai/data/oxford-iiit-pet/images/boxer_130.jpg   \n",
       "2  /home/ubuntu/.fastai/data/oxford-iiit-pet/images/Egyptian_Mau_215.jpg   \n",
       "3    /home/ubuntu/.fastai/data/oxford-iiit-pet/images/Maine_Coon_146.jpg   \n",
       "4          /home/ubuntu/.fastai/data/oxford-iiit-pet/images/boxer_55.jpg   \n",
       "\n",
       "               filename          class species  \n",
       "0  saint_bernard_50.jpg  saint_bernard     dog  \n",
       "1         boxer_130.jpg          boxer     dog  \n",
       "2  Egyptian_Mau_215.jpg   Egyptian_Mau     cat  \n",
       "3    Maine_Coon_146.jpg     Maine_Coon     cat  \n",
       "4          boxer_55.jpg          boxer     dog  "
      ]
     },
     "execution_count": 13,
     "metadata": {},
     "output_type": "execute_result"
    }
   ],
   "source": [
    "df.head()"
   ]
  },
  {
   "cell_type": "markdown",
   "id": "055212b2",
   "metadata": {},
   "source": [
    "### Let's save our work"
   ]
  },
  {
   "cell_type": "code",
   "execution_count": 14,
   "id": "e0188380",
   "metadata": {},
   "outputs": [],
   "source": [
    "tbl = pa.Table.from_pandas(df)            \n",
    "lance.write_dataset(tbl, '/tmp/oxford_pet.lance')"
   ]
  },
  {
   "cell_type": "code",
   "execution_count": 15,
   "id": "8961a6d1",
   "metadata": {},
   "outputs": [
    {
     "data": {
      "text/html": [
       "<div>\n",
       "<style scoped>\n",
       "    .dataframe tbody tr th:only-of-type {\n",
       "        vertical-align: middle;\n",
       "    }\n",
       "\n",
       "    .dataframe tbody tr th {\n",
       "        vertical-align: top;\n",
       "    }\n",
       "\n",
       "    .dataframe thead th {\n",
       "        text-align: right;\n",
       "    }\n",
       "</style>\n",
       "<table border=\"1\" class=\"dataframe\">\n",
       "  <thead>\n",
       "    <tr style=\"text-align: right;\">\n",
       "      <th></th>\n",
       "      <th>image</th>\n",
       "      <th>filename</th>\n",
       "      <th>class</th>\n",
       "      <th>species</th>\n",
       "    </tr>\n",
       "  </thead>\n",
       "  <tbody>\n",
       "    <tr>\n",
       "      <th>0</th>\n",
       "      <td>/home/ubuntu/.fastai/data/oxford-iiit-pet/images/saint_bernard_50.jpg</td>\n",
       "      <td>saint_bernard_50.jpg</td>\n",
       "      <td>saint_bernard</td>\n",
       "      <td>dog</td>\n",
       "    </tr>\n",
       "    <tr>\n",
       "      <th>1</th>\n",
       "      <td>/home/ubuntu/.fastai/data/oxford-iiit-pet/images/boxer_130.jpg</td>\n",
       "      <td>boxer_130.jpg</td>\n",
       "      <td>boxer</td>\n",
       "      <td>dog</td>\n",
       "    </tr>\n",
       "    <tr>\n",
       "      <th>2</th>\n",
       "      <td>/home/ubuntu/.fastai/data/oxford-iiit-pet/images/Egyptian_Mau_215.jpg</td>\n",
       "      <td>Egyptian_Mau_215.jpg</td>\n",
       "      <td>Egyptian_Mau</td>\n",
       "      <td>cat</td>\n",
       "    </tr>\n",
       "    <tr>\n",
       "      <th>3</th>\n",
       "      <td>/home/ubuntu/.fastai/data/oxford-iiit-pet/images/Maine_Coon_146.jpg</td>\n",
       "      <td>Maine_Coon_146.jpg</td>\n",
       "      <td>Maine_Coon</td>\n",
       "      <td>cat</td>\n",
       "    </tr>\n",
       "    <tr>\n",
       "      <th>4</th>\n",
       "      <td>/home/ubuntu/.fastai/data/oxford-iiit-pet/images/boxer_55.jpg</td>\n",
       "      <td>boxer_55.jpg</td>\n",
       "      <td>boxer</td>\n",
       "      <td>dog</td>\n",
       "    </tr>\n",
       "  </tbody>\n",
       "</table>\n",
       "</div>"
      ],
      "text/plain": [
       "                                                                   image  \\\n",
       "0  /home/ubuntu/.fastai/data/oxford-iiit-pet/images/saint_bernard_50.jpg   \n",
       "1         /home/ubuntu/.fastai/data/oxford-iiit-pet/images/boxer_130.jpg   \n",
       "2  /home/ubuntu/.fastai/data/oxford-iiit-pet/images/Egyptian_Mau_215.jpg   \n",
       "3    /home/ubuntu/.fastai/data/oxford-iiit-pet/images/Maine_Coon_146.jpg   \n",
       "4          /home/ubuntu/.fastai/data/oxford-iiit-pet/images/boxer_55.jpg   \n",
       "\n",
       "               filename          class species  \n",
       "0  saint_bernard_50.jpg  saint_bernard     dog  \n",
       "1         boxer_130.jpg          boxer     dog  \n",
       "2  Egyptian_Mau_215.jpg   Egyptian_Mau     cat  \n",
       "3    Maine_Coon_146.jpg     Maine_Coon     cat  \n",
       "4          boxer_55.jpg          boxer     dog  "
      ]
     },
     "execution_count": 15,
     "metadata": {},
     "output_type": "execute_result"
    }
   ],
   "source": [
    "(lance.dataset('/tmp/oxford_pet.lance')\n",
    " .to_table()\n",
    " .to_pandas()\n",
    " .head())"
   ]
  },
  {
   "cell_type": "markdown",
   "id": "1b05945b",
   "metadata": {},
   "source": [
    "## Cooldown: converting from parquet\n",
    "\n",
    "If you have existing dataset in parquet it's also very easy to\n",
    "convert the data to Lance"
   ]
  },
  {
   "cell_type": "markdown",
   "id": "3c67e11e",
   "metadata": {},
   "source": [
    "Generate a parquet dataset"
   ]
  },
  {
   "cell_type": "code",
   "execution_count": 16,
   "id": "7fac0a7a",
   "metadata": {},
   "outputs": [],
   "source": [
    "import pyarrow.dataset as ds\n",
    "tbl = pa.Table.from_pandas(df)                 \n",
    "ds.write_dataset(tbl, '/tmp/oxford_pet.parquet',\n",
    "                 format='parquet')"
   ]
  },
  {
   "cell_type": "code",
   "execution_count": 17,
   "id": "4de1a75f",
   "metadata": {},
   "outputs": [
    {
     "data": {
      "text/html": [
       "<div>\n",
       "<style scoped>\n",
       "    .dataframe tbody tr th:only-of-type {\n",
       "        vertical-align: middle;\n",
       "    }\n",
       "\n",
       "    .dataframe tbody tr th {\n",
       "        vertical-align: top;\n",
       "    }\n",
       "\n",
       "    .dataframe thead th {\n",
       "        text-align: right;\n",
       "    }\n",
       "</style>\n",
       "<table border=\"1\" class=\"dataframe\">\n",
       "  <thead>\n",
       "    <tr style=\"text-align: right;\">\n",
       "      <th></th>\n",
       "      <th>image</th>\n",
       "      <th>filename</th>\n",
       "      <th>class</th>\n",
       "      <th>species</th>\n",
       "    </tr>\n",
       "  </thead>\n",
       "  <tbody>\n",
       "    <tr>\n",
       "      <th>0</th>\n",
       "      <td>/home/ubuntu/.fastai/data/oxford-iiit-pet/images/saint_bernard_50.jpg</td>\n",
       "      <td>saint_bernard_50.jpg</td>\n",
       "      <td>saint_bernard</td>\n",
       "      <td>dog</td>\n",
       "    </tr>\n",
       "    <tr>\n",
       "      <th>1</th>\n",
       "      <td>/home/ubuntu/.fastai/data/oxford-iiit-pet/images/boxer_130.jpg</td>\n",
       "      <td>boxer_130.jpg</td>\n",
       "      <td>boxer</td>\n",
       "      <td>dog</td>\n",
       "    </tr>\n",
       "    <tr>\n",
       "      <th>2</th>\n",
       "      <td>/home/ubuntu/.fastai/data/oxford-iiit-pet/images/Egyptian_Mau_215.jpg</td>\n",
       "      <td>Egyptian_Mau_215.jpg</td>\n",
       "      <td>Egyptian_Mau</td>\n",
       "      <td>cat</td>\n",
       "    </tr>\n",
       "    <tr>\n",
       "      <th>3</th>\n",
       "      <td>/home/ubuntu/.fastai/data/oxford-iiit-pet/images/Maine_Coon_146.jpg</td>\n",
       "      <td>Maine_Coon_146.jpg</td>\n",
       "      <td>Maine_Coon</td>\n",
       "      <td>cat</td>\n",
       "    </tr>\n",
       "    <tr>\n",
       "      <th>4</th>\n",
       "      <td>/home/ubuntu/.fastai/data/oxford-iiit-pet/images/boxer_55.jpg</td>\n",
       "      <td>boxer_55.jpg</td>\n",
       "      <td>boxer</td>\n",
       "      <td>dog</td>\n",
       "    </tr>\n",
       "  </tbody>\n",
       "</table>\n",
       "</div>"
      ],
      "text/plain": [
       "                                                                   image  \\\n",
       "0  /home/ubuntu/.fastai/data/oxford-iiit-pet/images/saint_bernard_50.jpg   \n",
       "1         /home/ubuntu/.fastai/data/oxford-iiit-pet/images/boxer_130.jpg   \n",
       "2  /home/ubuntu/.fastai/data/oxford-iiit-pet/images/Egyptian_Mau_215.jpg   \n",
       "3    /home/ubuntu/.fastai/data/oxford-iiit-pet/images/Maine_Coon_146.jpg   \n",
       "4          /home/ubuntu/.fastai/data/oxford-iiit-pet/images/boxer_55.jpg   \n",
       "\n",
       "               filename          class species  \n",
       "0  saint_bernard_50.jpg  saint_bernard     dog  \n",
       "1         boxer_130.jpg          boxer     dog  \n",
       "2  Egyptian_Mau_215.jpg   Egyptian_Mau     cat  \n",
       "3    Maine_Coon_146.jpg     Maine_Coon     cat  \n",
       "4          boxer_55.jpg          boxer     dog  "
      ]
     },
     "execution_count": 17,
     "metadata": {},
     "output_type": "execute_result"
    }
   ],
   "source": [
    "parquet_dataset = ds.dataset('/tmp/oxford_pet.parquet')\n",
    "parquet_dataset.to_table().to_pandas().head()"
   ]
  },
  {
   "cell_type": "markdown",
   "id": "98520bdf",
   "metadata": {},
   "source": [
    "<div class=\"alert alert-info\">\n",
    "    Converting parquet to lance is also just 1 python statement\n",
    "    </div> "
   ]
  },
  {
   "cell_type": "code",
   "execution_count": 18,
   "id": "dc5a015e",
   "metadata": {},
   "outputs": [],
   "source": [
    "lance.write_dataset(parquet_dataset, '/tmp/oxford_pet_from_parquet.lance')"
   ]
  },
  {
   "cell_type": "markdown",
   "id": "20b7a95a",
   "metadata": {},
   "source": [
    "Again we can read it back out and see that it's the same"
   ]
  },
  {
   "cell_type": "code",
   "execution_count": 19,
   "id": "2971aa9a",
   "metadata": {},
   "outputs": [
    {
     "data": {
      "text/html": [
       "<div>\n",
       "<style scoped>\n",
       "    .dataframe tbody tr th:only-of-type {\n",
       "        vertical-align: middle;\n",
       "    }\n",
       "\n",
       "    .dataframe tbody tr th {\n",
       "        vertical-align: top;\n",
       "    }\n",
       "\n",
       "    .dataframe thead th {\n",
       "        text-align: right;\n",
       "    }\n",
       "</style>\n",
       "<table border=\"1\" class=\"dataframe\">\n",
       "  <thead>\n",
       "    <tr style=\"text-align: right;\">\n",
       "      <th></th>\n",
       "      <th>image</th>\n",
       "      <th>filename</th>\n",
       "      <th>class</th>\n",
       "      <th>species</th>\n",
       "    </tr>\n",
       "  </thead>\n",
       "  <tbody>\n",
       "    <tr>\n",
       "      <th>0</th>\n",
       "      <td>/home/ubuntu/.fastai/data/oxford-iiit-pet/images/saint_bernard_50.jpg</td>\n",
       "      <td>saint_bernard_50.jpg</td>\n",
       "      <td>saint_bernard</td>\n",
       "      <td>dog</td>\n",
       "    </tr>\n",
       "    <tr>\n",
       "      <th>1</th>\n",
       "      <td>/home/ubuntu/.fastai/data/oxford-iiit-pet/images/boxer_130.jpg</td>\n",
       "      <td>boxer_130.jpg</td>\n",
       "      <td>boxer</td>\n",
       "      <td>dog</td>\n",
       "    </tr>\n",
       "    <tr>\n",
       "      <th>2</th>\n",
       "      <td>/home/ubuntu/.fastai/data/oxford-iiit-pet/images/Egyptian_Mau_215.jpg</td>\n",
       "      <td>Egyptian_Mau_215.jpg</td>\n",
       "      <td>Egyptian_Mau</td>\n",
       "      <td>cat</td>\n",
       "    </tr>\n",
       "    <tr>\n",
       "      <th>3</th>\n",
       "      <td>/home/ubuntu/.fastai/data/oxford-iiit-pet/images/Maine_Coon_146.jpg</td>\n",
       "      <td>Maine_Coon_146.jpg</td>\n",
       "      <td>Maine_Coon</td>\n",
       "      <td>cat</td>\n",
       "    </tr>\n",
       "    <tr>\n",
       "      <th>4</th>\n",
       "      <td>/home/ubuntu/.fastai/data/oxford-iiit-pet/images/boxer_55.jpg</td>\n",
       "      <td>boxer_55.jpg</td>\n",
       "      <td>boxer</td>\n",
       "      <td>dog</td>\n",
       "    </tr>\n",
       "  </tbody>\n",
       "</table>\n",
       "</div>"
      ],
      "text/plain": [
       "                                                                   image  \\\n",
       "0  /home/ubuntu/.fastai/data/oxford-iiit-pet/images/saint_bernard_50.jpg   \n",
       "1         /home/ubuntu/.fastai/data/oxford-iiit-pet/images/boxer_130.jpg   \n",
       "2  /home/ubuntu/.fastai/data/oxford-iiit-pet/images/Egyptian_Mau_215.jpg   \n",
       "3    /home/ubuntu/.fastai/data/oxford-iiit-pet/images/Maine_Coon_146.jpg   \n",
       "4          /home/ubuntu/.fastai/data/oxford-iiit-pet/images/boxer_55.jpg   \n",
       "\n",
       "               filename          class species  \n",
       "0  saint_bernard_50.jpg  saint_bernard     dog  \n",
       "1         boxer_130.jpg          boxer     dog  \n",
       "2  Egyptian_Mau_215.jpg   Egyptian_Mau     cat  \n",
       "3    Maine_Coon_146.jpg     Maine_Coon     cat  \n",
       "4          boxer_55.jpg          boxer     dog  "
      ]
     },
     "execution_count": 19,
     "metadata": {},
     "output_type": "execute_result"
    }
   ],
   "source": [
    "lance_dataset = lance.dataset('/tmp/oxford_pet_from_parquet.lance')\n",
    "lance_dataset.to_table().to_pandas().head()"
   ]
  },
  {
   "cell_type": "markdown",
   "id": "86e647b9",
   "metadata": {},
   "source": [
    "## Try your own data!\n",
    "\n",
    "Nice work! In this tutorial, we've created Lance datasets from pandas, arrow, and parquet using only a few lines of code.\n",
    "\n",
    "Now you should try creating a Lance dataset with your own image data!"
   ]
  }
 ],
 "metadata": {
  "kernelspec": {
   "display_name": "Python 3 (ipykernel)",
   "language": "python",
   "name": "python3"
  },
  "language_info": {
   "codemirror_mode": {
    "name": "ipython",
    "version": 3
   },
   "file_extension": ".py",
   "mimetype": "text/x-python",
   "name": "python",
   "nbconvert_exporter": "python",
   "pygments_lexer": "ipython3",
   "version": "3.10.4"
  }
 },
 "nbformat": 4,
 "nbformat_minor": 5
}
