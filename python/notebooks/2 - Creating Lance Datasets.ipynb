{
 "cells": [
  {
   "cell_type": "markdown",
   "id": "053c0371",
   "metadata": {},
   "source": [
    "# 2 - Creating Lance Datasets\n",
    "\n",
    "Lance's python API makes it easy for you to create Lance datasets from a variety of sources\n",
    "\n",
    "⤜ pandas dataframes <br/>\n",
    "⤜ pyarrow tables <br/>\n",
    "⤜ parquet datasets <br/>\n",
    "⤜ [coming soon] known open-source dataset formats <br/>"
   ]
  },
  {
   "cell_type": "code",
   "execution_count": 1,
   "id": "5d8b2cde",
   "metadata": {},
   "outputs": [],
   "source": [
    "import lance\n",
    "from lance import LanceFileFormat\n",
    "import pyarrow as pa\n",
    "import pyarrow.dataset as ds"
   ]
  },
  {
   "cell_type": "markdown",
   "id": "ebff93d1",
   "metadata": {},
   "source": [
    "## Warmup: write a toy dataframe"
   ]
  },
  {
   "cell_type": "code",
   "execution_count": 2,
   "id": "1cba8dc7",
   "metadata": {},
   "outputs": [
    {
     "data": {
      "text/html": [
       "<div>\n",
       "<style scoped>\n",
       "    .dataframe tbody tr th:only-of-type {\n",
       "        vertical-align: middle;\n",
       "    }\n",
       "\n",
       "    .dataframe tbody tr th {\n",
       "        vertical-align: top;\n",
       "    }\n",
       "\n",
       "    .dataframe thead th {\n",
       "        text-align: right;\n",
       "    }\n",
       "</style>\n",
       "<table border=\"1\" class=\"dataframe\">\n",
       "  <thead>\n",
       "    <tr style=\"text-align: right;\">\n",
       "      <th></th>\n",
       "      <th>a</th>\n",
       "      <th>b</th>\n",
       "      <th>c</th>\n",
       "    </tr>\n",
       "  </thead>\n",
       "  <tbody>\n",
       "    <tr>\n",
       "      <th>0</th>\n",
       "      <td>0.273693</td>\n",
       "      <td>person</td>\n",
       "      <td>2022-01-01</td>\n",
       "    </tr>\n",
       "    <tr>\n",
       "      <th>1</th>\n",
       "      <td>-0.033034</td>\n",
       "      <td>cat</td>\n",
       "      <td>2022-01-02</td>\n",
       "    </tr>\n",
       "    <tr>\n",
       "      <th>2</th>\n",
       "      <td>2.064357</td>\n",
       "      <td>person</td>\n",
       "      <td>2022-01-03</td>\n",
       "    </tr>\n",
       "    <tr>\n",
       "      <th>3</th>\n",
       "      <td>-1.075681</td>\n",
       "      <td>person</td>\n",
       "      <td>2022-01-04</td>\n",
       "    </tr>\n",
       "    <tr>\n",
       "      <th>4</th>\n",
       "      <td>-0.078632</td>\n",
       "      <td>car</td>\n",
       "      <td>2022-01-05</td>\n",
       "    </tr>\n",
       "  </tbody>\n",
       "</table>\n",
       "</div>"
      ],
      "text/plain": [
       "          a       b          c\n",
       "0  0.273693  person 2022-01-01\n",
       "1 -0.033034     cat 2022-01-02\n",
       "2  2.064357  person 2022-01-03\n",
       "3 -1.075681  person 2022-01-04\n",
       "4 -0.078632     car 2022-01-05"
      ]
     },
     "execution_count": 2,
     "metadata": {},
     "output_type": "execute_result"
    }
   ],
   "source": [
    "import numpy as np\n",
    "import pandas as pd\n",
    "\n",
    "toy = pd.DataFrame({\n",
    "    'a': np.random.randn(5),\n",
    "    'b': pd.Categorical.from_codes(np.random.randint(0, 5, 5),\n",
    "                                   ['cat', 'dog', 'person', 'car', 'duck']),\n",
    "    'c': pd.date_range('2022-01-01', freq='D', periods=5)\n",
    "})\n",
    "toy"
   ]
  },
  {
   "cell_type": "markdown",
   "id": "559eb775",
   "metadata": {},
   "source": [
    "<div class=\"alert alert-info\">\n",
    "    Use standard pyarrow API to write Lance in 1 line\n",
    "    </div>"
   ]
  },
  {
   "cell_type": "code",
   "execution_count": 3,
   "id": "6da4e641",
   "metadata": {},
   "outputs": [],
   "source": [
    "ds.write_dataset(pa.Table.from_pandas(toy), \n",
    "                 base_dir='/tmp/oxford_pet.lance', \n",
    "                 format=LanceFileFormat(),\n",
    "                 existing_data_behavior='overwrite_or_ignore')"
   ]
  },
  {
   "cell_type": "markdown",
   "id": "c8f839fe",
   "metadata": {},
   "source": [
    "read it back out"
   ]
  },
  {
   "cell_type": "code",
   "execution_count": 4,
   "id": "e8c76f73",
   "metadata": {},
   "outputs": [
    {
     "data": {
      "text/html": [
       "<div>\n",
       "<style scoped>\n",
       "    .dataframe tbody tr th:only-of-type {\n",
       "        vertical-align: middle;\n",
       "    }\n",
       "\n",
       "    .dataframe tbody tr th {\n",
       "        vertical-align: top;\n",
       "    }\n",
       "\n",
       "    .dataframe thead th {\n",
       "        text-align: right;\n",
       "    }\n",
       "</style>\n",
       "<table border=\"1\" class=\"dataframe\">\n",
       "  <thead>\n",
       "    <tr style=\"text-align: right;\">\n",
       "      <th></th>\n",
       "      <th>a</th>\n",
       "      <th>b</th>\n",
       "      <th>c</th>\n",
       "    </tr>\n",
       "  </thead>\n",
       "  <tbody>\n",
       "    <tr>\n",
       "      <th>0</th>\n",
       "      <td>0.273693</td>\n",
       "      <td>person</td>\n",
       "      <td>2022-01-01</td>\n",
       "    </tr>\n",
       "    <tr>\n",
       "      <th>1</th>\n",
       "      <td>-0.033034</td>\n",
       "      <td>cat</td>\n",
       "      <td>2022-01-02</td>\n",
       "    </tr>\n",
       "    <tr>\n",
       "      <th>2</th>\n",
       "      <td>2.064357</td>\n",
       "      <td>person</td>\n",
       "      <td>2022-01-03</td>\n",
       "    </tr>\n",
       "    <tr>\n",
       "      <th>3</th>\n",
       "      <td>-1.075681</td>\n",
       "      <td>person</td>\n",
       "      <td>2022-01-04</td>\n",
       "    </tr>\n",
       "    <tr>\n",
       "      <th>4</th>\n",
       "      <td>-0.078632</td>\n",
       "      <td>car</td>\n",
       "      <td>2022-01-05</td>\n",
       "    </tr>\n",
       "  </tbody>\n",
       "</table>\n",
       "</div>"
      ],
      "text/plain": [
       "          a       b          c\n",
       "0  0.273693  person 2022-01-01\n",
       "1 -0.033034     cat 2022-01-02\n",
       "2  2.064357  person 2022-01-03\n",
       "3 -1.075681  person 2022-01-04\n",
       "4 -0.078632     car 2022-01-05"
      ]
     },
     "execution_count": 4,
     "metadata": {},
     "output_type": "execute_result"
    }
   ],
   "source": [
    "(lance.dataset('/tmp/oxford_pet.lance')\n",
    " .to_table()\n",
    " .to_pandas())"
   ]
  },
  {
   "cell_type": "markdown",
   "id": "1c49e9c5",
   "metadata": {},
   "source": [
    "## Workout: create pets dataset\n",
    "\n",
    "Let's create a custom dataset"
   ]
  },
  {
   "cell_type": "markdown",
   "id": "12eff552",
   "metadata": {},
   "source": [
    "We'll need some raw data. For convenience, let's use fastai to get the oxford_pet dataset"
   ]
  },
  {
   "cell_type": "code",
   "execution_count": 5,
   "id": "daa7a65c",
   "metadata": {},
   "outputs": [],
   "source": [
    "!pip install --quiet fastai"
   ]
  },
  {
   "cell_type": "code",
   "execution_count": 6,
   "id": "69863c67",
   "metadata": {},
   "outputs": [],
   "source": [
    "from fastai.vision.all import untar_data, URLs\n",
    "path = untar_data(URLs.PETS)"
   ]
  },
  {
   "cell_type": "markdown",
   "id": "daa9bb71",
   "metadata": {},
   "source": [
    "### Now we'll create a dataset with the image and some labeling information"
   ]
  },
  {
   "cell_type": "markdown",
   "id": "03306180",
   "metadata": {},
   "source": [
    "First we get the images"
   ]
  },
  {
   "cell_type": "code",
   "execution_count": 7,
   "id": "ee1b4988",
   "metadata": {
    "scrolled": true
   },
   "outputs": [
    {
     "data": {
      "text/html": [
       "<div>\n",
       "<style scoped>\n",
       "    .dataframe tbody tr th:only-of-type {\n",
       "        vertical-align: middle;\n",
       "    }\n",
       "\n",
       "    .dataframe tbody tr th {\n",
       "        vertical-align: top;\n",
       "    }\n",
       "\n",
       "    .dataframe thead th {\n",
       "        text-align: right;\n",
       "    }\n",
       "</style>\n",
       "<table border=\"1\" class=\"dataframe\">\n",
       "  <thead>\n",
       "    <tr style=\"text-align: right;\">\n",
       "      <th></th>\n",
       "      <th>image</th>\n",
       "    </tr>\n",
       "  </thead>\n",
       "  <tbody>\n",
       "    <tr>\n",
       "      <th>0</th>\n",
       "      <td>/Users/changshe/.fastai/data/oxford-iiit-pet/images/Egyptian_Mau_167.jpg</td>\n",
       "    </tr>\n",
       "    <tr>\n",
       "      <th>1</th>\n",
       "      <td>/Users/changshe/.fastai/data/oxford-iiit-pet/images/pug_52.jpg</td>\n",
       "    </tr>\n",
       "    <tr>\n",
       "      <th>2</th>\n",
       "      <td>/Users/changshe/.fastai/data/oxford-iiit-pet/images/basset_hound_112.jpg</td>\n",
       "    </tr>\n",
       "    <tr>\n",
       "      <th>3</th>\n",
       "      <td>/Users/changshe/.fastai/data/oxford-iiit-pet/images/Siamese_193.jpg</td>\n",
       "    </tr>\n",
       "    <tr>\n",
       "      <th>4</th>\n",
       "      <td>/Users/changshe/.fastai/data/oxford-iiit-pet/images/shiba_inu_122.jpg</td>\n",
       "    </tr>\n",
       "  </tbody>\n",
       "</table>\n",
       "</div>"
      ],
      "text/plain": [
       "                                                                      image\n",
       "0  /Users/changshe/.fastai/data/oxford-iiit-pet/images/Egyptian_Mau_167.jpg\n",
       "1            /Users/changshe/.fastai/data/oxford-iiit-pet/images/pug_52.jpg\n",
       "2  /Users/changshe/.fastai/data/oxford-iiit-pet/images/basset_hound_112.jpg\n",
       "3       /Users/changshe/.fastai/data/oxford-iiit-pet/images/Siamese_193.jpg\n",
       "4     /Users/changshe/.fastai/data/oxford-iiit-pet/images/shiba_inu_122.jpg"
      ]
     },
     "execution_count": 7,
     "metadata": {},
     "output_type": "execute_result"
    }
   ],
   "source": [
    "from pathlib import Path\n",
    "images = path / 'images'\n",
    "\n",
    "df = pd.DataFrame({'image': pd.array(images.ls(), dtype='image[uri]')})\n",
    "df.head()"
   ]
  },
  {
   "cell_type": "code",
   "execution_count": 8,
   "id": "219edb3d",
   "metadata": {},
   "outputs": [
    {
     "data": {
      "text/html": [
       "<img src=\"data:image;base64,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\"/>"
      ],
      "text/plain": [
       "Image(/Users/changshe/.fastai/data/oxford-iiit-pet/images/Egyptian_Mau_167.jpg)"
      ]
     },
     "execution_count": 8,
     "metadata": {},
     "output_type": "execute_result"
    }
   ],
   "source": [
    "df.image.values[0]"
   ]
  },
  {
   "cell_type": "markdown",
   "id": "d45b881d",
   "metadata": {},
   "source": [
    "Next parse the filename"
   ]
  },
  {
   "cell_type": "code",
   "execution_count": 9,
   "id": "36d6b264",
   "metadata": {},
   "outputs": [],
   "source": [
    "df['filename'] = df.image.apply(lambda s: Path(s).name)"
   ]
  },
  {
   "cell_type": "markdown",
   "id": "d5c1467a",
   "metadata": {},
   "source": [
    "Now get the class name"
   ]
  },
  {
   "cell_type": "code",
   "execution_count": 10,
   "id": "411ec6a5",
   "metadata": {},
   "outputs": [],
   "source": [
    "df['class'] = df.filename.str.rsplit('_', n=1).str[0].astype('category')"
   ]
  },
  {
   "cell_type": "markdown",
   "id": "61ef6e3e",
   "metadata": {},
   "source": [
    "Get the species name"
   ]
  },
  {
   "cell_type": "code",
   "execution_count": 11,
   "id": "3671020d",
   "metadata": {},
   "outputs": [],
   "source": [
    "is_cat = df['class'].str[0].str.isupper()\n",
    "df['species'] = pd.Categorical.from_codes(codes=is_cat.astype(int), \n",
    "                                          categories=['dog', 'cat'])"
   ]
  },
  {
   "cell_type": "markdown",
   "id": "42adc65a",
   "metadata": {},
   "source": [
    "Let's see what it looks like altogether"
   ]
  },
  {
   "cell_type": "code",
   "execution_count": 12,
   "id": "bb9fdb74",
   "metadata": {},
   "outputs": [
    {
     "data": {
      "text/html": [
       "<div>\n",
       "<style scoped>\n",
       "    .dataframe tbody tr th:only-of-type {\n",
       "        vertical-align: middle;\n",
       "    }\n",
       "\n",
       "    .dataframe tbody tr th {\n",
       "        vertical-align: top;\n",
       "    }\n",
       "\n",
       "    .dataframe thead th {\n",
       "        text-align: right;\n",
       "    }\n",
       "</style>\n",
       "<table border=\"1\" class=\"dataframe\">\n",
       "  <thead>\n",
       "    <tr style=\"text-align: right;\">\n",
       "      <th></th>\n",
       "      <th>image</th>\n",
       "      <th>filename</th>\n",
       "      <th>class</th>\n",
       "      <th>species</th>\n",
       "    </tr>\n",
       "  </thead>\n",
       "  <tbody>\n",
       "    <tr>\n",
       "      <th>0</th>\n",
       "      <td>/Users/changshe/.fastai/data/oxford-iiit-pet/images/Egyptian_Mau_167.jpg</td>\n",
       "      <td>Egyptian_Mau_167.jpg</td>\n",
       "      <td>Egyptian_Mau</td>\n",
       "      <td>cat</td>\n",
       "    </tr>\n",
       "    <tr>\n",
       "      <th>1</th>\n",
       "      <td>/Users/changshe/.fastai/data/oxford-iiit-pet/images/pug_52.jpg</td>\n",
       "      <td>pug_52.jpg</td>\n",
       "      <td>pug</td>\n",
       "      <td>dog</td>\n",
       "    </tr>\n",
       "    <tr>\n",
       "      <th>2</th>\n",
       "      <td>/Users/changshe/.fastai/data/oxford-iiit-pet/images/basset_hound_112.jpg</td>\n",
       "      <td>basset_hound_112.jpg</td>\n",
       "      <td>basset_hound</td>\n",
       "      <td>dog</td>\n",
       "    </tr>\n",
       "    <tr>\n",
       "      <th>3</th>\n",
       "      <td>/Users/changshe/.fastai/data/oxford-iiit-pet/images/Siamese_193.jpg</td>\n",
       "      <td>Siamese_193.jpg</td>\n",
       "      <td>Siamese</td>\n",
       "      <td>cat</td>\n",
       "    </tr>\n",
       "    <tr>\n",
       "      <th>4</th>\n",
       "      <td>/Users/changshe/.fastai/data/oxford-iiit-pet/images/shiba_inu_122.jpg</td>\n",
       "      <td>shiba_inu_122.jpg</td>\n",
       "      <td>shiba_inu</td>\n",
       "      <td>dog</td>\n",
       "    </tr>\n",
       "  </tbody>\n",
       "</table>\n",
       "</div>"
      ],
      "text/plain": [
       "                                                                      image  \\\n",
       "0  /Users/changshe/.fastai/data/oxford-iiit-pet/images/Egyptian_Mau_167.jpg   \n",
       "1            /Users/changshe/.fastai/data/oxford-iiit-pet/images/pug_52.jpg   \n",
       "2  /Users/changshe/.fastai/data/oxford-iiit-pet/images/basset_hound_112.jpg   \n",
       "3       /Users/changshe/.fastai/data/oxford-iiit-pet/images/Siamese_193.jpg   \n",
       "4     /Users/changshe/.fastai/data/oxford-iiit-pet/images/shiba_inu_122.jpg   \n",
       "\n",
       "               filename         class species  \n",
       "0  Egyptian_Mau_167.jpg  Egyptian_Mau     cat  \n",
       "1            pug_52.jpg           pug     dog  \n",
       "2  basset_hound_112.jpg  basset_hound     dog  \n",
       "3       Siamese_193.jpg       Siamese     cat  \n",
       "4     shiba_inu_122.jpg     shiba_inu     dog  "
      ]
     },
     "execution_count": 12,
     "metadata": {},
     "output_type": "execute_result"
    }
   ],
   "source": [
    "df.head()"
   ]
  },
  {
   "cell_type": "markdown",
   "id": "055212b2",
   "metadata": {},
   "source": [
    "### Let's save our work again"
   ]
  },
  {
   "cell_type": "code",
   "execution_count": 13,
   "id": "e0188380",
   "metadata": {},
   "outputs": [],
   "source": [
    "ds.write_dataset(pa.Table.from_pandas(df), \n",
    "                 '/tmp/oxford_pet.lance', \n",
    "                 format=LanceFileFormat(),\n",
    "                 existing_data_behavior='overwrite_or_ignore')"
   ]
  },
  {
   "cell_type": "code",
   "execution_count": 14,
   "id": "8961a6d1",
   "metadata": {},
   "outputs": [
    {
     "data": {
      "text/html": [
       "<div>\n",
       "<style scoped>\n",
       "    .dataframe tbody tr th:only-of-type {\n",
       "        vertical-align: middle;\n",
       "    }\n",
       "\n",
       "    .dataframe tbody tr th {\n",
       "        vertical-align: top;\n",
       "    }\n",
       "\n",
       "    .dataframe thead th {\n",
       "        text-align: right;\n",
       "    }\n",
       "</style>\n",
       "<table border=\"1\" class=\"dataframe\">\n",
       "  <thead>\n",
       "    <tr style=\"text-align: right;\">\n",
       "      <th></th>\n",
       "      <th>image</th>\n",
       "      <th>filename</th>\n",
       "      <th>class</th>\n",
       "      <th>species</th>\n",
       "    </tr>\n",
       "  </thead>\n",
       "  <tbody>\n",
       "    <tr>\n",
       "      <th>0</th>\n",
       "      <td>/Users/changshe/.fastai/data/oxford-iiit-pet/images/Egyptian_Mau_167.jpg</td>\n",
       "      <td>Egyptian_Mau_167.jpg</td>\n",
       "      <td>Egyptian_Mau</td>\n",
       "      <td>cat</td>\n",
       "    </tr>\n",
       "    <tr>\n",
       "      <th>1</th>\n",
       "      <td>/Users/changshe/.fastai/data/oxford-iiit-pet/images/pug_52.jpg</td>\n",
       "      <td>pug_52.jpg</td>\n",
       "      <td>pug</td>\n",
       "      <td>dog</td>\n",
       "    </tr>\n",
       "    <tr>\n",
       "      <th>2</th>\n",
       "      <td>/Users/changshe/.fastai/data/oxford-iiit-pet/images/basset_hound_112.jpg</td>\n",
       "      <td>basset_hound_112.jpg</td>\n",
       "      <td>basset_hound</td>\n",
       "      <td>dog</td>\n",
       "    </tr>\n",
       "    <tr>\n",
       "      <th>3</th>\n",
       "      <td>/Users/changshe/.fastai/data/oxford-iiit-pet/images/Siamese_193.jpg</td>\n",
       "      <td>Siamese_193.jpg</td>\n",
       "      <td>Siamese</td>\n",
       "      <td>cat</td>\n",
       "    </tr>\n",
       "    <tr>\n",
       "      <th>4</th>\n",
       "      <td>/Users/changshe/.fastai/data/oxford-iiit-pet/images/shiba_inu_122.jpg</td>\n",
       "      <td>shiba_inu_122.jpg</td>\n",
       "      <td>shiba_inu</td>\n",
       "      <td>dog</td>\n",
       "    </tr>\n",
       "  </tbody>\n",
       "</table>\n",
       "</div>"
      ],
      "text/plain": [
       "                                                                      image  \\\n",
       "0  /Users/changshe/.fastai/data/oxford-iiit-pet/images/Egyptian_Mau_167.jpg   \n",
       "1            /Users/changshe/.fastai/data/oxford-iiit-pet/images/pug_52.jpg   \n",
       "2  /Users/changshe/.fastai/data/oxford-iiit-pet/images/basset_hound_112.jpg   \n",
       "3       /Users/changshe/.fastai/data/oxford-iiit-pet/images/Siamese_193.jpg   \n",
       "4     /Users/changshe/.fastai/data/oxford-iiit-pet/images/shiba_inu_122.jpg   \n",
       "\n",
       "               filename         class species  \n",
       "0  Egyptian_Mau_167.jpg  Egyptian_Mau     cat  \n",
       "1            pug_52.jpg           pug     dog  \n",
       "2  basset_hound_112.jpg  basset_hound     dog  \n",
       "3       Siamese_193.jpg       Siamese     cat  \n",
       "4     shiba_inu_122.jpg     shiba_inu     dog  "
      ]
     },
     "execution_count": 14,
     "metadata": {},
     "output_type": "execute_result"
    }
   ],
   "source": [
    "(lance.dataset('/tmp/oxford_pet.lance')\n",
    " .to_table()\n",
    " .to_pandas()\n",
    " .head())"
   ]
  },
  {
   "cell_type": "markdown",
   "id": "1b05945b",
   "metadata": {},
   "source": [
    "## Cooldown: converting from parquet\n",
    "\n",
    "If you have existing dataset in parquet it's also very easy to\n",
    "convert the data to Lance"
   ]
  },
  {
   "cell_type": "markdown",
   "id": "3c67e11e",
   "metadata": {},
   "source": [
    "Generate a parquet dataset"
   ]
  },
  {
   "cell_type": "code",
   "execution_count": 15,
   "id": "7fac0a7a",
   "metadata": {},
   "outputs": [],
   "source": [
    "ds.write_dataset(pa.Table.from_pandas(df), \n",
    "                 '/tmp/oxford_pet.parquet', \n",
    "                 format=ds.ParquetFileFormat(),\n",
    "                 existing_data_behavior='overwrite_or_ignore')"
   ]
  },
  {
   "cell_type": "code",
   "execution_count": 16,
   "id": "4de1a75f",
   "metadata": {},
   "outputs": [
    {
     "data": {
      "text/html": [
       "<div>\n",
       "<style scoped>\n",
       "    .dataframe tbody tr th:only-of-type {\n",
       "        vertical-align: middle;\n",
       "    }\n",
       "\n",
       "    .dataframe tbody tr th {\n",
       "        vertical-align: top;\n",
       "    }\n",
       "\n",
       "    .dataframe thead th {\n",
       "        text-align: right;\n",
       "    }\n",
       "</style>\n",
       "<table border=\"1\" class=\"dataframe\">\n",
       "  <thead>\n",
       "    <tr style=\"text-align: right;\">\n",
       "      <th></th>\n",
       "      <th>image</th>\n",
       "      <th>filename</th>\n",
       "      <th>class</th>\n",
       "      <th>species</th>\n",
       "    </tr>\n",
       "  </thead>\n",
       "  <tbody>\n",
       "    <tr>\n",
       "      <th>0</th>\n",
       "      <td>/Users/changshe/.fastai/data/oxford-iiit-pet/images/Egyptian_Mau_167.jpg</td>\n",
       "      <td>Egyptian_Mau_167.jpg</td>\n",
       "      <td>Egyptian_Mau</td>\n",
       "      <td>cat</td>\n",
       "    </tr>\n",
       "    <tr>\n",
       "      <th>1</th>\n",
       "      <td>/Users/changshe/.fastai/data/oxford-iiit-pet/images/pug_52.jpg</td>\n",
       "      <td>pug_52.jpg</td>\n",
       "      <td>pug</td>\n",
       "      <td>dog</td>\n",
       "    </tr>\n",
       "    <tr>\n",
       "      <th>2</th>\n",
       "      <td>/Users/changshe/.fastai/data/oxford-iiit-pet/images/basset_hound_112.jpg</td>\n",
       "      <td>basset_hound_112.jpg</td>\n",
       "      <td>basset_hound</td>\n",
       "      <td>dog</td>\n",
       "    </tr>\n",
       "    <tr>\n",
       "      <th>3</th>\n",
       "      <td>/Users/changshe/.fastai/data/oxford-iiit-pet/images/Siamese_193.jpg</td>\n",
       "      <td>Siamese_193.jpg</td>\n",
       "      <td>Siamese</td>\n",
       "      <td>cat</td>\n",
       "    </tr>\n",
       "    <tr>\n",
       "      <th>4</th>\n",
       "      <td>/Users/changshe/.fastai/data/oxford-iiit-pet/images/shiba_inu_122.jpg</td>\n",
       "      <td>shiba_inu_122.jpg</td>\n",
       "      <td>shiba_inu</td>\n",
       "      <td>dog</td>\n",
       "    </tr>\n",
       "  </tbody>\n",
       "</table>\n",
       "</div>"
      ],
      "text/plain": [
       "                                                                      image  \\\n",
       "0  /Users/changshe/.fastai/data/oxford-iiit-pet/images/Egyptian_Mau_167.jpg   \n",
       "1            /Users/changshe/.fastai/data/oxford-iiit-pet/images/pug_52.jpg   \n",
       "2  /Users/changshe/.fastai/data/oxford-iiit-pet/images/basset_hound_112.jpg   \n",
       "3       /Users/changshe/.fastai/data/oxford-iiit-pet/images/Siamese_193.jpg   \n",
       "4     /Users/changshe/.fastai/data/oxford-iiit-pet/images/shiba_inu_122.jpg   \n",
       "\n",
       "               filename         class species  \n",
       "0  Egyptian_Mau_167.jpg  Egyptian_Mau     cat  \n",
       "1            pug_52.jpg           pug     dog  \n",
       "2  basset_hound_112.jpg  basset_hound     dog  \n",
       "3       Siamese_193.jpg       Siamese     cat  \n",
       "4     shiba_inu_122.jpg     shiba_inu     dog  "
      ]
     },
     "execution_count": 16,
     "metadata": {},
     "output_type": "execute_result"
    }
   ],
   "source": [
    "parquet_dataset = ds.dataset('/tmp/oxford_pet.parquet')\n",
    "parquet_dataset.to_table().to_pandas().head()"
   ]
  },
  {
   "cell_type": "markdown",
   "id": "98520bdf",
   "metadata": {},
   "source": [
    "<div class=\"alert alert-info\">\n",
    "    Converting parquet to lance is also just 1 python statement\n",
    "    </div> "
   ]
  },
  {
   "cell_type": "code",
   "execution_count": 17,
   "id": "dc5a015e",
   "metadata": {},
   "outputs": [],
   "source": [
    "ds.write_dataset(parquet_dataset, \n",
    "                 '/tmp/oxford_pet.lance', \n",
    "                 format=LanceFileFormat(),\n",
    "                 existing_data_behavior='overwrite_or_ignore')"
   ]
  },
  {
   "cell_type": "markdown",
   "id": "20b7a95a",
   "metadata": {},
   "source": [
    "Again we can read it back out and see that it's the same"
   ]
  },
  {
   "cell_type": "code",
   "execution_count": 18,
   "id": "2971aa9a",
   "metadata": {},
   "outputs": [
    {
     "data": {
      "text/html": [
       "<div>\n",
       "<style scoped>\n",
       "    .dataframe tbody tr th:only-of-type {\n",
       "        vertical-align: middle;\n",
       "    }\n",
       "\n",
       "    .dataframe tbody tr th {\n",
       "        vertical-align: top;\n",
       "    }\n",
       "\n",
       "    .dataframe thead th {\n",
       "        text-align: right;\n",
       "    }\n",
       "</style>\n",
       "<table border=\"1\" class=\"dataframe\">\n",
       "  <thead>\n",
       "    <tr style=\"text-align: right;\">\n",
       "      <th></th>\n",
       "      <th>image</th>\n",
       "      <th>filename</th>\n",
       "      <th>class</th>\n",
       "      <th>species</th>\n",
       "    </tr>\n",
       "  </thead>\n",
       "  <tbody>\n",
       "    <tr>\n",
       "      <th>0</th>\n",
       "      <td>/Users/changshe/.fastai/data/oxford-iiit-pet/images/Egyptian_Mau_167.jpg</td>\n",
       "      <td>Egyptian_Mau_167.jpg</td>\n",
       "      <td>Egyptian_Mau</td>\n",
       "      <td>cat</td>\n",
       "    </tr>\n",
       "    <tr>\n",
       "      <th>1</th>\n",
       "      <td>/Users/changshe/.fastai/data/oxford-iiit-pet/images/pug_52.jpg</td>\n",
       "      <td>pug_52.jpg</td>\n",
       "      <td>pug</td>\n",
       "      <td>dog</td>\n",
       "    </tr>\n",
       "    <tr>\n",
       "      <th>2</th>\n",
       "      <td>/Users/changshe/.fastai/data/oxford-iiit-pet/images/basset_hound_112.jpg</td>\n",
       "      <td>basset_hound_112.jpg</td>\n",
       "      <td>basset_hound</td>\n",
       "      <td>dog</td>\n",
       "    </tr>\n",
       "    <tr>\n",
       "      <th>3</th>\n",
       "      <td>/Users/changshe/.fastai/data/oxford-iiit-pet/images/Siamese_193.jpg</td>\n",
       "      <td>Siamese_193.jpg</td>\n",
       "      <td>Siamese</td>\n",
       "      <td>cat</td>\n",
       "    </tr>\n",
       "    <tr>\n",
       "      <th>4</th>\n",
       "      <td>/Users/changshe/.fastai/data/oxford-iiit-pet/images/shiba_inu_122.jpg</td>\n",
       "      <td>shiba_inu_122.jpg</td>\n",
       "      <td>shiba_inu</td>\n",
       "      <td>dog</td>\n",
       "    </tr>\n",
       "  </tbody>\n",
       "</table>\n",
       "</div>"
      ],
      "text/plain": [
       "                                                                      image  \\\n",
       "0  /Users/changshe/.fastai/data/oxford-iiit-pet/images/Egyptian_Mau_167.jpg   \n",
       "1            /Users/changshe/.fastai/data/oxford-iiit-pet/images/pug_52.jpg   \n",
       "2  /Users/changshe/.fastai/data/oxford-iiit-pet/images/basset_hound_112.jpg   \n",
       "3       /Users/changshe/.fastai/data/oxford-iiit-pet/images/Siamese_193.jpg   \n",
       "4     /Users/changshe/.fastai/data/oxford-iiit-pet/images/shiba_inu_122.jpg   \n",
       "\n",
       "               filename         class species  \n",
       "0  Egyptian_Mau_167.jpg  Egyptian_Mau     cat  \n",
       "1            pug_52.jpg           pug     dog  \n",
       "2  basset_hound_112.jpg  basset_hound     dog  \n",
       "3       Siamese_193.jpg       Siamese     cat  \n",
       "4     shiba_inu_122.jpg     shiba_inu     dog  "
      ]
     },
     "execution_count": 18,
     "metadata": {},
     "output_type": "execute_result"
    }
   ],
   "source": [
    "lance_dataset = lance.dataset('/tmp/oxford_pet.lance')\n",
    "lance_dataset.to_table().to_pandas().head()"
   ]
  },
  {
   "cell_type": "markdown",
   "id": "86e647b9",
   "metadata": {},
   "source": [
    "## Try your own data!\n",
    "\n",
    "Nice work! In this tutorial, we've created Lance datasets from pandas, arrow, and parquet using only a few lines of code.\n",
    "\n",
    "Now you should try creating a Lance dataset with your own image data!"
   ]
  }
 ],
 "metadata": {
  "kernelspec": {
   "display_name": "Python 3 (ipykernel)",
   "language": "python",
   "name": "python3"
  },
  "language_info": {
   "codemirror_mode": {
    "name": "ipython",
    "version": 3
   },
   "file_extension": ".py",
   "mimetype": "text/x-python",
   "name": "python",
   "nbconvert_exporter": "python",
   "pygments_lexer": "ipython3",
   "version": "3.10.8"
  }
 },
 "nbformat": 4,
 "nbformat_minor": 5
}
