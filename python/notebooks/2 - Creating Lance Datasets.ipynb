{
 "cells": [
  {
   "cell_type": "markdown",
   "id": "053c0371",
   "metadata": {},
   "source": [
    "# 2 - Creating Lance Datasets\n",
    "\n",
    "Lance's python API makes it easy for you to create Lance datasets from a variety of sources\n",
    "\n",
    "⤜ pandas dataframes <br/>\n",
    "⤜ pyarrow tables <br/>\n",
    "⤜ parquet datasets <br/>\n",
    "⤜ [coming soon] known open-source dataset formats <br/>"
   ]
  },
  {
   "cell_type": "code",
   "execution_count": 1,
   "id": "5d8b2cde",
   "metadata": {},
   "outputs": [],
   "source": [
    "import lance\n",
    "from lance import LanceFileFormat\n",
    "import pyarrow as pa\n",
    "import pyarrow.dataset as ds"
   ]
  },
  {
   "cell_type": "markdown",
   "id": "ebff93d1",
   "metadata": {},
   "source": [
    "## Warmup: write a toy dataframe"
   ]
  },
  {
   "cell_type": "code",
   "execution_count": 2,
   "id": "1cba8dc7",
   "metadata": {},
   "outputs": [
    {
     "data": {
      "text/html": [
       "<div>\n",
       "<style scoped>\n",
       "    .dataframe tbody tr th:only-of-type {\n",
       "        vertical-align: middle;\n",
       "    }\n",
       "\n",
       "    .dataframe tbody tr th {\n",
       "        vertical-align: top;\n",
       "    }\n",
       "\n",
       "    .dataframe thead th {\n",
       "        text-align: right;\n",
       "    }\n",
       "</style>\n",
       "<table border=\"1\" class=\"dataframe\">\n",
       "  <thead>\n",
       "    <tr style=\"text-align: right;\">\n",
       "      <th></th>\n",
       "      <th>a</th>\n",
       "      <th>b</th>\n",
       "      <th>c</th>\n",
       "    </tr>\n",
       "  </thead>\n",
       "  <tbody>\n",
       "    <tr>\n",
       "      <th>0</th>\n",
       "      <td>1.714642</td>\n",
       "      <td>dog</td>\n",
       "      <td>2022-01-01</td>\n",
       "    </tr>\n",
       "    <tr>\n",
       "      <th>1</th>\n",
       "      <td>-0.688943</td>\n",
       "      <td>person</td>\n",
       "      <td>2022-01-02</td>\n",
       "    </tr>\n",
       "    <tr>\n",
       "      <th>2</th>\n",
       "      <td>-1.089138</td>\n",
       "      <td>person</td>\n",
       "      <td>2022-01-03</td>\n",
       "    </tr>\n",
       "    <tr>\n",
       "      <th>3</th>\n",
       "      <td>0.200360</td>\n",
       "      <td>cat</td>\n",
       "      <td>2022-01-04</td>\n",
       "    </tr>\n",
       "    <tr>\n",
       "      <th>4</th>\n",
       "      <td>0.103577</td>\n",
       "      <td>dog</td>\n",
       "      <td>2022-01-05</td>\n",
       "    </tr>\n",
       "  </tbody>\n",
       "</table>\n",
       "</div>"
      ],
      "text/plain": [
       "          a       b          c\n",
       "0  1.714642     dog 2022-01-01\n",
       "1 -0.688943  person 2022-01-02\n",
       "2 -1.089138  person 2022-01-03\n",
       "3  0.200360     cat 2022-01-04\n",
       "4  0.103577     dog 2022-01-05"
      ]
     },
     "execution_count": 2,
     "metadata": {},
     "output_type": "execute_result"
    }
   ],
   "source": [
    "import numpy as np\n",
    "import pandas as pd\n",
    "\n",
    "toy = pd.DataFrame({\n",
    "    'a': np.random.randn(5),\n",
    "    'b': pd.Categorical.from_codes(np.random.randint(0, 5, 5),\n",
    "                                   ['cat', 'dog', 'person', 'car', 'duck']),\n",
    "    'c': pd.date_range('2022-01-01', freq='D', periods=5)\n",
    "})\n",
    "toy"
   ]
  },
  {
   "cell_type": "markdown",
   "id": "559eb775",
   "metadata": {},
   "source": [
    "<div class=\"alert alert-info\">\n",
    "    Use standard pyarrow API to write Lance in 1 line\n",
    "    </div>"
   ]
  },
  {
   "cell_type": "code",
   "execution_count": 3,
   "id": "6da4e641",
   "metadata": {},
   "outputs": [],
   "source": [
    "ds.write_dataset(pa.Table.from_pandas(toy), \n",
    "                 base_dir='/tmp/oxford_pet.lance', \n",
    "                 format=LanceFileFormat(),\n",
    "                 existing_data_behavior='overwrite_or_ignore')"
   ]
  },
  {
   "cell_type": "markdown",
   "id": "c8f839fe",
   "metadata": {},
   "source": [
    "read it back out"
   ]
  },
  {
   "cell_type": "code",
   "execution_count": 4,
   "id": "e8c76f73",
   "metadata": {},
   "outputs": [
    {
     "data": {
      "text/html": [
       "<div>\n",
       "<style scoped>\n",
       "    .dataframe tbody tr th:only-of-type {\n",
       "        vertical-align: middle;\n",
       "    }\n",
       "\n",
       "    .dataframe tbody tr th {\n",
       "        vertical-align: top;\n",
       "    }\n",
       "\n",
       "    .dataframe thead th {\n",
       "        text-align: right;\n",
       "    }\n",
       "</style>\n",
       "<table border=\"1\" class=\"dataframe\">\n",
       "  <thead>\n",
       "    <tr style=\"text-align: right;\">\n",
       "      <th></th>\n",
       "      <th>a</th>\n",
       "      <th>b</th>\n",
       "      <th>c</th>\n",
       "    </tr>\n",
       "  </thead>\n",
       "  <tbody>\n",
       "    <tr>\n",
       "      <th>0</th>\n",
       "      <td>1.714642</td>\n",
       "      <td>dog</td>\n",
       "      <td>2022-01-01</td>\n",
       "    </tr>\n",
       "    <tr>\n",
       "      <th>1</th>\n",
       "      <td>-0.688943</td>\n",
       "      <td>person</td>\n",
       "      <td>2022-01-02</td>\n",
       "    </tr>\n",
       "    <tr>\n",
       "      <th>2</th>\n",
       "      <td>-1.089138</td>\n",
       "      <td>person</td>\n",
       "      <td>2022-01-03</td>\n",
       "    </tr>\n",
       "    <tr>\n",
       "      <th>3</th>\n",
       "      <td>0.200360</td>\n",
       "      <td>cat</td>\n",
       "      <td>2022-01-04</td>\n",
       "    </tr>\n",
       "    <tr>\n",
       "      <th>4</th>\n",
       "      <td>0.103577</td>\n",
       "      <td>dog</td>\n",
       "      <td>2022-01-05</td>\n",
       "    </tr>\n",
       "  </tbody>\n",
       "</table>\n",
       "</div>"
      ],
      "text/plain": [
       "          a       b          c\n",
       "0  1.714642     dog 2022-01-01\n",
       "1 -0.688943  person 2022-01-02\n",
       "2 -1.089138  person 2022-01-03\n",
       "3  0.200360     cat 2022-01-04\n",
       "4  0.103577     dog 2022-01-05"
      ]
     },
     "execution_count": 4,
     "metadata": {},
     "output_type": "execute_result"
    }
   ],
   "source": [
    "(lance.dataset('/tmp/oxford_pet.lance')\n",
    " .to_table()\n",
    " .to_pandas())"
   ]
  },
  {
   "cell_type": "markdown",
   "id": "1c49e9c5",
   "metadata": {},
   "source": [
    "## Workout: create pets dataset\n",
    "\n",
    "Let's create a custom dataset"
   ]
  },
  {
   "cell_type": "markdown",
   "id": "12eff552",
   "metadata": {},
   "source": [
    "We'll need some raw data. For convenience, let's use fastai to get the oxford_pet dataset"
   ]
  },
  {
   "cell_type": "code",
   "execution_count": 5,
   "id": "daa7a65c",
   "metadata": {},
   "outputs": [],
   "source": [
    "!pip install --quiet fastai"
   ]
  },
  {
   "cell_type": "code",
   "execution_count": 6,
   "id": "69863c67",
   "metadata": {},
   "outputs": [],
   "source": [
    "from fastai.vision.all import untar_data, URLs\n",
    "path = untar_data(URLs.PETS)"
   ]
  },
  {
   "cell_type": "markdown",
   "id": "daa9bb71",
   "metadata": {},
   "source": [
    "### Now we'll create a dataset with the image and some labeling information"
   ]
  },
  {
   "cell_type": "markdown",
   "id": "03306180",
   "metadata": {},
   "source": [
    "First we get the images"
   ]
  },
  {
   "cell_type": "code",
   "execution_count": 7,
   "id": "ee1b4988",
   "metadata": {
    "scrolled": true
   },
   "outputs": [
    {
     "data": {
      "text/html": [
       "<div>\n",
       "<style scoped>\n",
       "    .dataframe tbody tr th:only-of-type {\n",
       "        vertical-align: middle;\n",
       "    }\n",
       "\n",
       "    .dataframe tbody tr th {\n",
       "        vertical-align: top;\n",
       "    }\n",
       "\n",
       "    .dataframe thead th {\n",
       "        text-align: right;\n",
       "    }\n",
       "</style>\n",
       "<table border=\"1\" class=\"dataframe\">\n",
       "  <thead>\n",
       "    <tr style=\"text-align: right;\">\n",
       "      <th></th>\n",
       "      <th>image</th>\n",
       "    </tr>\n",
       "  </thead>\n",
       "  <tbody>\n",
       "    <tr>\n",
       "      <th>0</th>\n",
       "      <td>Image(/Users/changshe/.fastai/data/oxford-iiit-pet/images/Egyptian_Mau_167.jpg)</td>\n",
       "    </tr>\n",
       "    <tr>\n",
       "      <th>1</th>\n",
       "      <td>Image(/Users/changshe/.fastai/data/oxford-iiit-pet/images/pug_52.jpg)</td>\n",
       "    </tr>\n",
       "    <tr>\n",
       "      <th>2</th>\n",
       "      <td>Image(/Users/changshe/.fastai/data/oxford-iiit-pet/images/basset_hound_112.jpg)</td>\n",
       "    </tr>\n",
       "    <tr>\n",
       "      <th>3</th>\n",
       "      <td>Image(/Users/changshe/.fastai/data/oxford-iiit-pet/images/Siamese_193.jpg)</td>\n",
       "    </tr>\n",
       "    <tr>\n",
       "      <th>4</th>\n",
       "      <td>Image(/Users/changshe/.fastai/data/oxford-iiit-pet/images/shiba_inu_122.jpg)</td>\n",
       "    </tr>\n",
       "  </tbody>\n",
       "</table>\n",
       "</div>"
      ],
      "text/plain": [
       "                                                                             image\n",
       "0  Image(/Users/changshe/.fastai/data/oxford-iiit-pet/images/Egyptian_Mau_167.jpg)\n",
       "1            Image(/Users/changshe/.fastai/data/oxford-iiit-pet/images/pug_52.jpg)\n",
       "2  Image(/Users/changshe/.fastai/data/oxford-iiit-pet/images/basset_hound_112.jpg)\n",
       "3       Image(/Users/changshe/.fastai/data/oxford-iiit-pet/images/Siamese_193.jpg)\n",
       "4     Image(/Users/changshe/.fastai/data/oxford-iiit-pet/images/shiba_inu_122.jpg)"
      ]
     },
     "execution_count": 7,
     "metadata": {},
     "output_type": "execute_result"
    }
   ],
   "source": [
    "from pathlib import Path\n",
    "images = path / 'images'\n",
    "\n",
    "df = pd.DataFrame({'image': pd.array(images.ls(), dtype='image')})\n",
    "df.head()"
   ]
  },
  {
   "cell_type": "markdown",
   "id": "d45b881d",
   "metadata": {},
   "source": [
    "Next parse the filename"
   ]
  },
  {
   "cell_type": "code",
   "execution_count": 8,
   "id": "36d6b264",
   "metadata": {},
   "outputs": [],
   "source": [
    "df['filename'] = df.image.apply(lambda s: Path(s.uri).name)"
   ]
  },
  {
   "cell_type": "markdown",
   "id": "d5c1467a",
   "metadata": {},
   "source": [
    "Now get the class name"
   ]
  },
  {
   "cell_type": "code",
   "execution_count": 9,
   "id": "411ec6a5",
   "metadata": {},
   "outputs": [],
   "source": [
    "df['class'] = df.filename.str.rsplit('_', n=1).str[0].astype('category')"
   ]
  },
  {
   "cell_type": "markdown",
   "id": "61ef6e3e",
   "metadata": {},
   "source": [
    "Get the species name"
   ]
  },
  {
   "cell_type": "code",
   "execution_count": 10,
   "id": "3671020d",
   "metadata": {},
   "outputs": [],
   "source": [
    "is_cat = df['class'].str[0].str.isupper()\n",
    "df['species'] = pd.Categorical.from_codes(codes=is_cat.astype(int), \n",
    "                                          categories=['dog', 'cat'])"
   ]
  },
  {
   "cell_type": "markdown",
   "id": "42adc65a",
   "metadata": {},
   "source": [
    "Let's see what it looks like altogether"
   ]
  },
  {
   "cell_type": "code",
   "execution_count": 11,
   "id": "bb9fdb74",
   "metadata": {},
   "outputs": [
    {
     "data": {
      "text/html": [
       "<div>\n",
       "<style scoped>\n",
       "    .dataframe tbody tr th:only-of-type {\n",
       "        vertical-align: middle;\n",
       "    }\n",
       "\n",
       "    .dataframe tbody tr th {\n",
       "        vertical-align: top;\n",
       "    }\n",
       "\n",
       "    .dataframe thead th {\n",
       "        text-align: right;\n",
       "    }\n",
       "</style>\n",
       "<table border=\"1\" class=\"dataframe\">\n",
       "  <thead>\n",
       "    <tr style=\"text-align: right;\">\n",
       "      <th></th>\n",
       "      <th>image</th>\n",
       "      <th>filename</th>\n",
       "      <th>class</th>\n",
       "      <th>species</th>\n",
       "    </tr>\n",
       "  </thead>\n",
       "  <tbody>\n",
       "    <tr>\n",
       "      <th>0</th>\n",
       "      <td>Image(/Users/changshe/.fastai/data/oxford-iiit-pet/images/Egyptian_Mau_167.jpg)</td>\n",
       "      <td>Egyptian_Mau_167.jpg</td>\n",
       "      <td>Egyptian_Mau</td>\n",
       "      <td>cat</td>\n",
       "    </tr>\n",
       "    <tr>\n",
       "      <th>1</th>\n",
       "      <td>Image(/Users/changshe/.fastai/data/oxford-iiit-pet/images/pug_52.jpg)</td>\n",
       "      <td>pug_52.jpg</td>\n",
       "      <td>pug</td>\n",
       "      <td>dog</td>\n",
       "    </tr>\n",
       "    <tr>\n",
       "      <th>2</th>\n",
       "      <td>Image(/Users/changshe/.fastai/data/oxford-iiit-pet/images/basset_hound_112.jpg)</td>\n",
       "      <td>basset_hound_112.jpg</td>\n",
       "      <td>basset_hound</td>\n",
       "      <td>dog</td>\n",
       "    </tr>\n",
       "    <tr>\n",
       "      <th>3</th>\n",
       "      <td>Image(/Users/changshe/.fastai/data/oxford-iiit-pet/images/Siamese_193.jpg)</td>\n",
       "      <td>Siamese_193.jpg</td>\n",
       "      <td>Siamese</td>\n",
       "      <td>cat</td>\n",
       "    </tr>\n",
       "    <tr>\n",
       "      <th>4</th>\n",
       "      <td>Image(/Users/changshe/.fastai/data/oxford-iiit-pet/images/shiba_inu_122.jpg)</td>\n",
       "      <td>shiba_inu_122.jpg</td>\n",
       "      <td>shiba_inu</td>\n",
       "      <td>dog</td>\n",
       "    </tr>\n",
       "  </tbody>\n",
       "</table>\n",
       "</div>"
      ],
      "text/plain": [
       "                                                                             image  \\\n",
       "0  Image(/Users/changshe/.fastai/data/oxford-iiit-pet/images/Egyptian_Mau_167.jpg)   \n",
       "1            Image(/Users/changshe/.fastai/data/oxford-iiit-pet/images/pug_52.jpg)   \n",
       "2  Image(/Users/changshe/.fastai/data/oxford-iiit-pet/images/basset_hound_112.jpg)   \n",
       "3       Image(/Users/changshe/.fastai/data/oxford-iiit-pet/images/Siamese_193.jpg)   \n",
       "4     Image(/Users/changshe/.fastai/data/oxford-iiit-pet/images/shiba_inu_122.jpg)   \n",
       "\n",
       "               filename         class species  \n",
       "0  Egyptian_Mau_167.jpg  Egyptian_Mau     cat  \n",
       "1            pug_52.jpg           pug     dog  \n",
       "2  basset_hound_112.jpg  basset_hound     dog  \n",
       "3       Siamese_193.jpg       Siamese     cat  \n",
       "4     shiba_inu_122.jpg     shiba_inu     dog  "
      ]
     },
     "execution_count": 11,
     "metadata": {},
     "output_type": "execute_result"
    }
   ],
   "source": [
    "df.head()"
   ]
  },
  {
   "cell_type": "markdown",
   "id": "055212b2",
   "metadata": {},
   "source": [
    "### Let's save our work again"
   ]
  },
  {
   "cell_type": "code",
   "execution_count": 12,
   "id": "e0188380",
   "metadata": {},
   "outputs": [],
   "source": [
    "ds.write_dataset(pa.Table.from_pandas(df), \n",
    "                 '/tmp/oxford_pet.lance', \n",
    "                 format=LanceFileFormat(),\n",
    "                 existing_data_behavior='overwrite_or_ignore')"
   ]
  },
  {
   "cell_type": "code",
   "execution_count": 13,
   "id": "8961a6d1",
   "metadata": {},
   "outputs": [
    {
     "data": {
      "text/html": [
       "<div>\n",
       "<style scoped>\n",
       "    .dataframe tbody tr th:only-of-type {\n",
       "        vertical-align: middle;\n",
       "    }\n",
       "\n",
       "    .dataframe tbody tr th {\n",
       "        vertical-align: top;\n",
       "    }\n",
       "\n",
       "    .dataframe thead th {\n",
       "        text-align: right;\n",
       "    }\n",
       "</style>\n",
       "<table border=\"1\" class=\"dataframe\">\n",
       "  <thead>\n",
       "    <tr style=\"text-align: right;\">\n",
       "      <th></th>\n",
       "      <th>image</th>\n",
       "      <th>filename</th>\n",
       "      <th>class</th>\n",
       "      <th>species</th>\n",
       "    </tr>\n",
       "  </thead>\n",
       "  <tbody>\n",
       "    <tr>\n",
       "      <th>0</th>\n",
       "      <td>Image(/Users/changshe/.fastai/data/oxford-iiit-pet/images/Egyptian_Mau_167.jpg)</td>\n",
       "      <td>Egyptian_Mau_167.jpg</td>\n",
       "      <td>Egyptian_Mau</td>\n",
       "      <td>cat</td>\n",
       "    </tr>\n",
       "    <tr>\n",
       "      <th>1</th>\n",
       "      <td>Image(/Users/changshe/.fastai/data/oxford-iiit-pet/images/pug_52.jpg)</td>\n",
       "      <td>pug_52.jpg</td>\n",
       "      <td>pug</td>\n",
       "      <td>dog</td>\n",
       "    </tr>\n",
       "    <tr>\n",
       "      <th>2</th>\n",
       "      <td>Image(/Users/changshe/.fastai/data/oxford-iiit-pet/images/basset_hound_112.jpg)</td>\n",
       "      <td>basset_hound_112.jpg</td>\n",
       "      <td>basset_hound</td>\n",
       "      <td>dog</td>\n",
       "    </tr>\n",
       "    <tr>\n",
       "      <th>3</th>\n",
       "      <td>Image(/Users/changshe/.fastai/data/oxford-iiit-pet/images/Siamese_193.jpg)</td>\n",
       "      <td>Siamese_193.jpg</td>\n",
       "      <td>Siamese</td>\n",
       "      <td>cat</td>\n",
       "    </tr>\n",
       "    <tr>\n",
       "      <th>4</th>\n",
       "      <td>Image(/Users/changshe/.fastai/data/oxford-iiit-pet/images/shiba_inu_122.jpg)</td>\n",
       "      <td>shiba_inu_122.jpg</td>\n",
       "      <td>shiba_inu</td>\n",
       "      <td>dog</td>\n",
       "    </tr>\n",
       "  </tbody>\n",
       "</table>\n",
       "</div>"
      ],
      "text/plain": [
       "                                                                             image  \\\n",
       "0  Image(/Users/changshe/.fastai/data/oxford-iiit-pet/images/Egyptian_Mau_167.jpg)   \n",
       "1            Image(/Users/changshe/.fastai/data/oxford-iiit-pet/images/pug_52.jpg)   \n",
       "2  Image(/Users/changshe/.fastai/data/oxford-iiit-pet/images/basset_hound_112.jpg)   \n",
       "3       Image(/Users/changshe/.fastai/data/oxford-iiit-pet/images/Siamese_193.jpg)   \n",
       "4     Image(/Users/changshe/.fastai/data/oxford-iiit-pet/images/shiba_inu_122.jpg)   \n",
       "\n",
       "               filename         class species  \n",
       "0  Egyptian_Mau_167.jpg  Egyptian_Mau     cat  \n",
       "1            pug_52.jpg           pug     dog  \n",
       "2  basset_hound_112.jpg  basset_hound     dog  \n",
       "3       Siamese_193.jpg       Siamese     cat  \n",
       "4     shiba_inu_122.jpg     shiba_inu     dog  "
      ]
     },
     "execution_count": 13,
     "metadata": {},
     "output_type": "execute_result"
    }
   ],
   "source": [
    "(lance.dataset('/tmp/oxford_pet.lance')\n",
    " .to_table()\n",
    " .to_pandas()\n",
    " .head())"
   ]
  },
  {
   "cell_type": "markdown",
   "id": "1b05945b",
   "metadata": {},
   "source": [
    "## Cooldown: converting from parquet\n",
    "\n",
    "If you have existing dataset in parquet it's also very easy to\n",
    "convert the data to Lance"
   ]
  },
  {
   "cell_type": "markdown",
   "id": "3c67e11e",
   "metadata": {},
   "source": [
    "Generate a parquet dataset"
   ]
  },
  {
   "cell_type": "code",
   "execution_count": 14,
   "id": "7fac0a7a",
   "metadata": {},
   "outputs": [],
   "source": [
    "ds.write_dataset(pa.Table.from_pandas(df), \n",
    "                 '/tmp/oxford_pet.parquet', \n",
    "                 format=ds.ParquetFileFormat(),\n",
    "                 existing_data_behavior='overwrite_or_ignore')"
   ]
  },
  {
   "cell_type": "code",
   "execution_count": 15,
   "id": "4de1a75f",
   "metadata": {},
   "outputs": [
    {
     "data": {
      "text/html": [
       "<div>\n",
       "<style scoped>\n",
       "    .dataframe tbody tr th:only-of-type {\n",
       "        vertical-align: middle;\n",
       "    }\n",
       "\n",
       "    .dataframe tbody tr th {\n",
       "        vertical-align: top;\n",
       "    }\n",
       "\n",
       "    .dataframe thead th {\n",
       "        text-align: right;\n",
       "    }\n",
       "</style>\n",
       "<table border=\"1\" class=\"dataframe\">\n",
       "  <thead>\n",
       "    <tr style=\"text-align: right;\">\n",
       "      <th></th>\n",
       "      <th>image</th>\n",
       "      <th>filename</th>\n",
       "      <th>class</th>\n",
       "      <th>species</th>\n",
       "    </tr>\n",
       "  </thead>\n",
       "  <tbody>\n",
       "    <tr>\n",
       "      <th>0</th>\n",
       "      <td>Image(/Users/changshe/.fastai/data/oxford-iiit-pet/images/Egyptian_Mau_167.jpg)</td>\n",
       "      <td>Egyptian_Mau_167.jpg</td>\n",
       "      <td>Egyptian_Mau</td>\n",
       "      <td>cat</td>\n",
       "    </tr>\n",
       "    <tr>\n",
       "      <th>1</th>\n",
       "      <td>Image(/Users/changshe/.fastai/data/oxford-iiit-pet/images/pug_52.jpg)</td>\n",
       "      <td>pug_52.jpg</td>\n",
       "      <td>pug</td>\n",
       "      <td>dog</td>\n",
       "    </tr>\n",
       "    <tr>\n",
       "      <th>2</th>\n",
       "      <td>Image(/Users/changshe/.fastai/data/oxford-iiit-pet/images/basset_hound_112.jpg)</td>\n",
       "      <td>basset_hound_112.jpg</td>\n",
       "      <td>basset_hound</td>\n",
       "      <td>dog</td>\n",
       "    </tr>\n",
       "    <tr>\n",
       "      <th>3</th>\n",
       "      <td>Image(/Users/changshe/.fastai/data/oxford-iiit-pet/images/Siamese_193.jpg)</td>\n",
       "      <td>Siamese_193.jpg</td>\n",
       "      <td>Siamese</td>\n",
       "      <td>cat</td>\n",
       "    </tr>\n",
       "    <tr>\n",
       "      <th>4</th>\n",
       "      <td>Image(/Users/changshe/.fastai/data/oxford-iiit-pet/images/shiba_inu_122.jpg)</td>\n",
       "      <td>shiba_inu_122.jpg</td>\n",
       "      <td>shiba_inu</td>\n",
       "      <td>dog</td>\n",
       "    </tr>\n",
       "  </tbody>\n",
       "</table>\n",
       "</div>"
      ],
      "text/plain": [
       "                                                                             image  \\\n",
       "0  Image(/Users/changshe/.fastai/data/oxford-iiit-pet/images/Egyptian_Mau_167.jpg)   \n",
       "1            Image(/Users/changshe/.fastai/data/oxford-iiit-pet/images/pug_52.jpg)   \n",
       "2  Image(/Users/changshe/.fastai/data/oxford-iiit-pet/images/basset_hound_112.jpg)   \n",
       "3       Image(/Users/changshe/.fastai/data/oxford-iiit-pet/images/Siamese_193.jpg)   \n",
       "4     Image(/Users/changshe/.fastai/data/oxford-iiit-pet/images/shiba_inu_122.jpg)   \n",
       "\n",
       "               filename         class species  \n",
       "0  Egyptian_Mau_167.jpg  Egyptian_Mau     cat  \n",
       "1            pug_52.jpg           pug     dog  \n",
       "2  basset_hound_112.jpg  basset_hound     dog  \n",
       "3       Siamese_193.jpg       Siamese     cat  \n",
       "4     shiba_inu_122.jpg     shiba_inu     dog  "
      ]
     },
     "execution_count": 15,
     "metadata": {},
     "output_type": "execute_result"
    }
   ],
   "source": [
    "parquet_dataset = ds.dataset('/tmp/oxford_pet.parquet')\n",
    "parquet_dataset.to_table().to_pandas().head()"
   ]
  },
  {
   "cell_type": "markdown",
   "id": "98520bdf",
   "metadata": {},
   "source": [
    "<div class=\"alert alert-info\">\n",
    "    Converting parquet to lance is also just 1 python statement\n",
    "    </div> "
   ]
  },
  {
   "cell_type": "code",
   "execution_count": 16,
   "id": "dc5a015e",
   "metadata": {},
   "outputs": [],
   "source": [
    "ds.write_dataset(parquet_dataset, \n",
    "                 '/tmp/oxford_pet.lance', \n",
    "                 format=LanceFileFormat(),\n",
    "                 existing_data_behavior='overwrite_or_ignore')"
   ]
  },
  {
   "cell_type": "markdown",
   "id": "20b7a95a",
   "metadata": {},
   "source": [
    "Again we can read it back out and see that it's the same"
   ]
  },
  {
   "cell_type": "code",
   "execution_count": 17,
   "id": "2971aa9a",
   "metadata": {},
   "outputs": [
    {
     "data": {
      "text/html": [
       "<div>\n",
       "<style scoped>\n",
       "    .dataframe tbody tr th:only-of-type {\n",
       "        vertical-align: middle;\n",
       "    }\n",
       "\n",
       "    .dataframe tbody tr th {\n",
       "        vertical-align: top;\n",
       "    }\n",
       "\n",
       "    .dataframe thead th {\n",
       "        text-align: right;\n",
       "    }\n",
       "</style>\n",
       "<table border=\"1\" class=\"dataframe\">\n",
       "  <thead>\n",
       "    <tr style=\"text-align: right;\">\n",
       "      <th></th>\n",
       "      <th>image</th>\n",
       "      <th>filename</th>\n",
       "      <th>class</th>\n",
       "      <th>species</th>\n",
       "    </tr>\n",
       "  </thead>\n",
       "  <tbody>\n",
       "    <tr>\n",
       "      <th>0</th>\n",
       "      <td>Image(/Users/changshe/.fastai/data/oxford-iiit-pet/images/Egyptian_Mau_167.jpg)</td>\n",
       "      <td>Egyptian_Mau_167.jpg</td>\n",
       "      <td>Egyptian_Mau</td>\n",
       "      <td>cat</td>\n",
       "    </tr>\n",
       "    <tr>\n",
       "      <th>1</th>\n",
       "      <td>Image(/Users/changshe/.fastai/data/oxford-iiit-pet/images/pug_52.jpg)</td>\n",
       "      <td>pug_52.jpg</td>\n",
       "      <td>pug</td>\n",
       "      <td>dog</td>\n",
       "    </tr>\n",
       "    <tr>\n",
       "      <th>2</th>\n",
       "      <td>Image(/Users/changshe/.fastai/data/oxford-iiit-pet/images/basset_hound_112.jpg)</td>\n",
       "      <td>basset_hound_112.jpg</td>\n",
       "      <td>basset_hound</td>\n",
       "      <td>dog</td>\n",
       "    </tr>\n",
       "    <tr>\n",
       "      <th>3</th>\n",
       "      <td>Image(/Users/changshe/.fastai/data/oxford-iiit-pet/images/Siamese_193.jpg)</td>\n",
       "      <td>Siamese_193.jpg</td>\n",
       "      <td>Siamese</td>\n",
       "      <td>cat</td>\n",
       "    </tr>\n",
       "    <tr>\n",
       "      <th>4</th>\n",
       "      <td>Image(/Users/changshe/.fastai/data/oxford-iiit-pet/images/shiba_inu_122.jpg)</td>\n",
       "      <td>shiba_inu_122.jpg</td>\n",
       "      <td>shiba_inu</td>\n",
       "      <td>dog</td>\n",
       "    </tr>\n",
       "  </tbody>\n",
       "</table>\n",
       "</div>"
      ],
      "text/plain": [
       "                                                                             image  \\\n",
       "0  Image(/Users/changshe/.fastai/data/oxford-iiit-pet/images/Egyptian_Mau_167.jpg)   \n",
       "1            Image(/Users/changshe/.fastai/data/oxford-iiit-pet/images/pug_52.jpg)   \n",
       "2  Image(/Users/changshe/.fastai/data/oxford-iiit-pet/images/basset_hound_112.jpg)   \n",
       "3       Image(/Users/changshe/.fastai/data/oxford-iiit-pet/images/Siamese_193.jpg)   \n",
       "4     Image(/Users/changshe/.fastai/data/oxford-iiit-pet/images/shiba_inu_122.jpg)   \n",
       "\n",
       "               filename         class species  \n",
       "0  Egyptian_Mau_167.jpg  Egyptian_Mau     cat  \n",
       "1            pug_52.jpg           pug     dog  \n",
       "2  basset_hound_112.jpg  basset_hound     dog  \n",
       "3       Siamese_193.jpg       Siamese     cat  \n",
       "4     shiba_inu_122.jpg     shiba_inu     dog  "
      ]
     },
     "execution_count": 17,
     "metadata": {},
     "output_type": "execute_result"
    }
   ],
   "source": [
    "lance_dataset = lance.dataset('/tmp/oxford_pet.lance')\n",
    "lance_dataset.to_table().to_pandas().head()"
   ]
  },
  {
   "cell_type": "markdown",
   "id": "86e647b9",
   "metadata": {},
   "source": [
    "## Try your own data!\n",
    "\n",
    "Nice work! In this tutorial, we've created Lance datasets from pandas, arrow, and parquet using only a few lines of code.\n",
    "\n",
    "Now you should try creating a Lance dataset with your own image data!"
   ]
  }
 ],
 "metadata": {
  "kernelspec": {
   "display_name": "Python 3 (ipykernel)",
   "language": "python",
   "name": "python3"
  },
  "language_info": {
   "codemirror_mode": {
    "name": "ipython",
    "version": 3
   },
   "file_extension": ".py",
   "mimetype": "text/x-python",
   "name": "python",
   "nbconvert_exporter": "python",
   "pygments_lexer": "ipython3",
   "version": "3.10.8"
  }
 },
 "nbformat": 4,
 "nbformat_minor": 5
}
