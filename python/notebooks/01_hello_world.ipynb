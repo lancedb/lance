{
 "cells": [
  {
   "cell_type": "markdown",
   "id": "a31b981b",
   "metadata": {},
   "source": [
    "# Hi World! Hi Lance!\n",
    "\n",
    "This tutorial will help you make sure you have Lance installed correctly <br>\n",
    "and you're ready to do some basic analytics"
   ]
  },
  {
   "cell_type": "markdown",
   "id": "cbe86176",
   "metadata": {},
   "source": [
    "## Installation\n",
    "\n",
    "Installing Lance is easy via pip"
   ]
  },
  {
   "cell_type": "markdown",
   "id": "f715a509",
   "metadata": {},
   "source": [
    "pip install --quiet pylance"
   ]
  },
  {
   "cell_type": "markdown",
   "id": "da452d2c",
   "metadata": {},
   "source": [
    "## Verify"
   ]
  },
  {
   "cell_type": "code",
   "execution_count": 1,
   "id": "98cf7e4f",
   "metadata": {},
   "outputs": [
    {
     "data": {
      "text/plain": [
       "'0.2.2.dev0'"
      ]
     },
     "execution_count": 1,
     "metadata": {},
     "output_type": "execute_result"
    }
   ],
   "source": [
    "import lance\n",
    "lance.__version__"
   ]
  },
  {
   "cell_type": "markdown",
   "id": "e7d51e45",
   "metadata": {},
   "source": [
    "## Working with Lance data"
   ]
  },
  {
   "cell_type": "code",
   "execution_count": 2,
   "id": "c92c2238",
   "metadata": {},
   "outputs": [],
   "source": [
    "uri = 's3://eto-public/datasets/oxford_pet/oxford_pet.lance'\n",
    "oxford_pet = lance.dataset(uri)"
   ]
  },
  {
   "cell_type": "markdown",
   "id": "b195d959",
   "metadata": {},
   "source": [
    "Lance is Apache Arrow compatible"
   ]
  },
  {
   "cell_type": "code",
   "execution_count": 3,
   "id": "4e3535c5",
   "metadata": {},
   "outputs": [
    {
     "data": {
      "text/plain": [
       "True"
      ]
     },
     "execution_count": 3,
     "metadata": {},
     "output_type": "execute_result"
    }
   ],
   "source": [
    "import pyarrow.dataset as ds\n",
    "isinstance(oxford_pet, ds.Dataset)"
   ]
  },
  {
   "cell_type": "markdown",
   "id": "26cbfda5",
   "metadata": {},
   "source": [
    "And we can immediately query it with duckdb"
   ]
  },
  {
   "cell_type": "code",
   "execution_count": 4,
   "id": "7e3af7d0",
   "metadata": {
    "scrolled": true
   },
   "outputs": [
    {
     "data": {
      "text/html": [
       "<div>\n",
       "<style scoped>\n",
       "    .dataframe tbody tr th:only-of-type {\n",
       "        vertical-align: middle;\n",
       "    }\n",
       "\n",
       "    .dataframe tbody tr th {\n",
       "        vertical-align: top;\n",
       "    }\n",
       "\n",
       "    .dataframe thead th {\n",
       "        text-align: right;\n",
       "    }\n",
       "</style>\n",
       "<table border=\"1\" class=\"dataframe\">\n",
       "  <thead>\n",
       "    <tr style=\"text-align: right;\">\n",
       "      <th></th>\n",
       "      <th>class</th>\n",
       "      <th>cnt</th>\n",
       "    </tr>\n",
       "  </thead>\n",
       "  <tbody>\n",
       "    <tr>\n",
       "      <th>0</th>\n",
       "      <td>pomeranian</td>\n",
       "      <td>200</td>\n",
       "    </tr>\n",
       "    <tr>\n",
       "      <th>1</th>\n",
       "      <td>pug</td>\n",
       "      <td>200</td>\n",
       "    </tr>\n",
       "    <tr>\n",
       "      <th>2</th>\n",
       "      <td>Ragdoll</td>\n",
       "      <td>200</td>\n",
       "    </tr>\n",
       "    <tr>\n",
       "      <th>3</th>\n",
       "      <td>Russian_Blue</td>\n",
       "      <td>200</td>\n",
       "    </tr>\n",
       "    <tr>\n",
       "      <th>4</th>\n",
       "      <td>saint_bernard</td>\n",
       "      <td>200</td>\n",
       "    </tr>\n",
       "  </tbody>\n",
       "</table>\n",
       "</div>"
      ],
      "text/plain": [
       "           class  cnt\n",
       "0     pomeranian  200\n",
       "1            pug  200\n",
       "2        Ragdoll  200\n",
       "3   Russian_Blue  200\n",
       "4  saint_bernard  200"
      ]
     },
     "execution_count": 4,
     "metadata": {},
     "output_type": "execute_result"
    }
   ],
   "source": [
    "import duckdb\n",
    "con = duckdb.connect()\n",
    "con.query(\"\"\"\n",
    "SELECT class, count(1) as cnt \n",
    "FROM oxford_pet \n",
    "GROUP BY 1\n",
    "\"\"\").to_df().head()"
   ]
  },
  {
   "cell_type": "markdown",
   "id": "0fad7a6d",
   "metadata": {},
   "source": [
    "## Congrats\n",
    "\n",
    "Now you have Lance setup and you're ready to work with your computer vision data\n",
    "using familiar tools like pandas, numpy, SQL via duckdb!"
   ]
  }
 ],
 "metadata": {
  "kernelspec": {
   "display_name": "Python 3 (ipykernel)",
   "language": "python",
   "name": "python3"
  },
  "language_info": {
   "codemirror_mode": {
    "name": "ipython",
    "version": 3
   },
   "file_extension": ".py",
   "mimetype": "text/x-python",
   "name": "python",
   "nbconvert_exporter": "python",
   "pygments_lexer": "ipython3",
   "version": "3.10.4"
  }
 },
 "nbformat": 4,
 "nbformat_minor": 5
}
