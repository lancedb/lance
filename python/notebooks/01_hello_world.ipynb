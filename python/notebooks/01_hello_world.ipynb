{
 "cells": [
  {
   "cell_type": "markdown",
   "id": "a31b981b",
   "metadata": {
    "id": "a31b981b"
   },
   "source": [
    "# Hi World! Hi Lance!\n",
    "\n",
    "<a target=\"_blank\" href=\"https://colab.research.google.com/github/eto-ai/lance/blob/main/python/notebooks/01_hello_world.ipynb\">\n",
    "  <img src=\"https://colab.research.google.com/assets/colab-badge.svg\" alt=\"Open In Colab\"/>\n",
    "</a>\n",
    "\n",
    "This tutorial will help you make sure you have Lance installed correctly <br>\n",
    "and you're ready to do some basic analytics"
   ]
  },
  {
   "cell_type": "markdown",
   "id": "cbe86176",
   "metadata": {
    "id": "cbe86176"
   },
   "source": [
    "## Installation\n",
    "\n",
    "Installing Lance is easy via pip"
   ]
  },
  {
   "cell_type": "code",
   "execution_count": 1,
   "id": "dQryaRG0ZM3w",
   "metadata": {
    "id": "dQryaRG0ZM3w"
   },
   "outputs": [],
   "source": [
    "!pip install --quiet pylance duckdb"
   ]
  },
  {
   "cell_type": "markdown",
   "id": "da452d2c",
   "metadata": {
    "id": "da452d2c"
   },
   "source": [
    "## Verify"
   ]
  },
  {
   "cell_type": "code",
   "execution_count": 2,
   "id": "98cf7e4f",
   "metadata": {
    "colab": {
     "base_uri": "https://localhost:8080/",
     "height": 35
    },
    "id": "98cf7e4f",
    "outputId": "0ad7e00e-5bdd-4716-b9a2-d00c56cd3cb6"
   },
   "outputs": [
    {
     "data": {
      "text/plain": [
       "'0.2.7.dev0'"
      ]
     },
     "execution_count": 2,
     "metadata": {},
     "output_type": "execute_result"
    }
   ],
   "source": [
    "import lance\n",
    "lance.__version__"
   ]
  },
  {
   "cell_type": "markdown",
   "id": "e7d51e45",
   "metadata": {
    "id": "e7d51e45"
   },
   "source": [
    "## Working with Lance data"
   ]
  },
  {
   "cell_type": "markdown",
   "id": "be5b1fae",
   "metadata": {},
   "source": [
    "We have some data setup in a public s3 bucket <br/>\n",
    "Any valid s3 credentials can be used to access this bucket <br/>\n",
    "In case you don't have s3 credentials setup, you can always download\n",
    "the data locally"
   ]
  },
  {
   "cell_type": "code",
   "execution_count": 3,
   "id": "b165c2ce",
   "metadata": {},
   "outputs": [],
   "source": [
    "# If you don't have s3 credentials setup, \n",
    "# change `USE_LOCAL` to True\n",
    "USE_LOCAL = False"
   ]
  },
  {
   "cell_type": "code",
   "execution_count": 4,
   "id": "c92c2238",
   "metadata": {
    "id": "c92c2238"
   },
   "outputs": [],
   "source": [
    "if not USE_LOCAL:\n",
    "    uri = 's3://eto-public/datasets/oxford_pet/oxford_pet.lance'\n",
    "else:\n",
    "    uri  = \"/tmp/oxford_pet.lance\"\n",
    "    !curl https://eto-public.s3.us-west-2.amazonaws.com/datasets/oxford_pet/oxford_pet.lance.tar.gz -o /tmp/oxford_pet.lance.tar.gz\n",
    "    !tar -xvf /tmp/oxford_pet.lance.tar.gz -C /tmp/\n",
    "    \n",
    "oxford_pet = lance.dataset(uri)"
   ]
  },
  {
   "cell_type": "markdown",
   "id": "b195d959",
   "metadata": {
    "id": "b195d959"
   },
   "source": [
    "Lance is [Apache Arrow](https://arrow.apache.org/) compatible"
   ]
  },
  {
   "cell_type": "code",
   "execution_count": 5,
   "id": "4e3535c5",
   "metadata": {
    "colab": {
     "base_uri": "https://localhost:8080/"
    },
    "id": "4e3535c5",
    "outputId": "996e580b-1250-4d9d-e368-407b725a9a81"
   },
   "outputs": [
    {
     "data": {
      "text/plain": [
       "True"
      ]
     },
     "execution_count": 5,
     "metadata": {},
     "output_type": "execute_result"
    }
   ],
   "source": [
    "import pyarrow.dataset as ds\n",
    "isinstance(oxford_pet, ds.Dataset)"
   ]
  },
  {
   "cell_type": "markdown",
   "id": "26cbfda5",
   "metadata": {
    "id": "26cbfda5"
   },
   "source": [
    "And we can immediately query it with duckdb"
   ]
  },
  {
   "cell_type": "code",
   "execution_count": 6,
   "id": "7e3af7d0",
   "metadata": {
    "colab": {
     "base_uri": "https://localhost:8080/",
     "height": 206
    },
    "id": "7e3af7d0",
    "outputId": "0cf16992-4e86-48d7-d77c-eae588c9678e",
    "scrolled": true
   },
   "outputs": [
    {
     "data": {
      "text/html": [
       "<div>\n",
       "<style scoped>\n",
       "    .dataframe tbody tr th:only-of-type {\n",
       "        vertical-align: middle;\n",
       "    }\n",
       "\n",
       "    .dataframe tbody tr th {\n",
       "        vertical-align: top;\n",
       "    }\n",
       "\n",
       "    .dataframe thead th {\n",
       "        text-align: right;\n",
       "    }\n",
       "</style>\n",
       "<table border=\"1\" class=\"dataframe\">\n",
       "  <thead>\n",
       "    <tr style=\"text-align: right;\">\n",
       "      <th></th>\n",
       "      <th>class</th>\n",
       "      <th>cnt</th>\n",
       "    </tr>\n",
       "  </thead>\n",
       "  <tbody>\n",
       "    <tr>\n",
       "      <th>0</th>\n",
       "      <td>Abyssinian</td>\n",
       "      <td>198</td>\n",
       "    </tr>\n",
       "    <tr>\n",
       "      <th>1</th>\n",
       "      <td>american_bulldog</td>\n",
       "      <td>200</td>\n",
       "    </tr>\n",
       "    <tr>\n",
       "      <th>2</th>\n",
       "      <td>american_pit_bull_terrier</td>\n",
       "      <td>200</td>\n",
       "    </tr>\n",
       "    <tr>\n",
       "      <th>3</th>\n",
       "      <td>basset_hound</td>\n",
       "      <td>200</td>\n",
       "    </tr>\n",
       "    <tr>\n",
       "      <th>4</th>\n",
       "      <td>beagle</td>\n",
       "      <td>200</td>\n",
       "    </tr>\n",
       "  </tbody>\n",
       "</table>\n",
       "</div>"
      ],
      "text/plain": [
       "                       class  cnt\n",
       "0                 Abyssinian  198\n",
       "1           american_bulldog  200\n",
       "2  american_pit_bull_terrier  200\n",
       "3               basset_hound  200\n",
       "4                     beagle  200"
      ]
     },
     "execution_count": 6,
     "metadata": {},
     "output_type": "execute_result"
    }
   ],
   "source": [
    "import duckdb\n",
    "\n",
    "duckdb.query(\"\"\"\n",
    "SELECT class, count(1) as cnt \n",
    "FROM oxford_pet \n",
    "GROUP BY 1\n",
    "\"\"\").to_df().head()"
   ]
  },
  {
   "cell_type": "markdown",
   "id": "0fad7a6d",
   "metadata": {
    "id": "0fad7a6d"
   },
   "source": [
    "## Congrats\n",
    "\n",
    "Now you have Lance setup and you're ready to work with your computer vision data\n",
    "using familiar tools like pandas, numpy, SQL via duckdb!"
   ]
  }
 ],
 "metadata": {
  "colab": {
   "provenance": []
  },
  "kernelspec": {
   "display_name": "Python 3 (ipykernel)",
   "language": "python",
   "name": "python3"
  },
  "language_info": {
   "codemirror_mode": {
    "name": "ipython",
    "version": 3
   },
   "file_extension": ".py",
   "mimetype": "text/x-python",
   "name": "python",
   "nbconvert_exporter": "python",
   "pygments_lexer": "ipython3",
   "version": "3.10.8"
  }
 },
 "nbformat": 4,
 "nbformat_minor": 5
}
