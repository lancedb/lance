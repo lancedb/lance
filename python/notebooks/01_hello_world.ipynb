{
  "cells": [
    {
      "cell_type": "markdown",
      "id": "a31b981b",
      "metadata": {
        "id": "a31b981b"
      },
      "source": [
        "# Hi World! Hi Lance!\n",
        "\n",
        "<a target=\"_blank\" href=\"https://colab.research.google.com/github/eto-ai/lance/blob/main/python/notebooks/01_hello_world.ipynb\">\n",
        "  <img src=\"https://colab.research.google.com/assets/colab-badge.svg\" alt=\"Open In Colab\"/>\n",
        "</a>\n",
        "\n",
        "This tutorial will help you make sure you have Lance installed correctly <br>\n",
        "and you're ready to do some basic analytics"
      ]
    },
    {
      "cell_type": "markdown",
      "id": "cbe86176",
      "metadata": {
        "id": "cbe86176"
      },
      "source": [
        "## Installation\n",
        "\n",
        "Installing Lance is easy via pip"
      ]
    },
    {
      "cell_type": "code",
      "source": [
        "!pip install --quiet pylance duckdb"
      ],
      "metadata": {
        "id": "dQryaRG0ZM3w"
      },
      "id": "dQryaRG0ZM3w",
      "execution_count": null,
      "outputs": []
    },
    {
      "cell_type": "markdown",
      "id": "da452d2c",
      "metadata": {
        "id": "da452d2c"
      },
      "source": [
        "## Verify"
      ]
    },
    {
      "cell_type": "code",
      "execution_count": null,
      "id": "98cf7e4f",
      "metadata": {
        "id": "98cf7e4f",
        "outputId": "0ad7e00e-5bdd-4716-b9a2-d00c56cd3cb6",
        "colab": {
          "base_uri": "https://localhost:8080/",
          "height": 35
        }
      },
      "outputs": [
        {
          "output_type": "execute_result",
          "data": {
            "text/plain": [
              "'0.2.5'"
            ],
            "application/vnd.google.colaboratory.intrinsic+json": {
              "type": "string"
            }
          },
          "metadata": {},
          "execution_count": 2
        }
      ],
      "source": [
        "import lance\n",
        "lance.__version__"
      ]
    },
    {
      "cell_type": "markdown",
      "id": "e7d51e45",
      "metadata": {
        "id": "e7d51e45"
      },
      "source": [
        "## Working with Lance data"
      ]
    },
    {
      "cell_type": "code",
      "execution_count": null,
      "id": "c92c2238",
      "metadata": {
        "id": "c92c2238"
      },
      "outputs": [],
      "source": [
        "uri = 's3://eto-public/datasets/oxford_pet/oxford_pet.lance'\n",
        "oxford_pet = lance.dataset(uri)"
      ]
    },
    {
      "cell_type": "markdown",
      "id": "b195d959",
      "metadata": {
        "id": "b195d959"
      },
      "source": [
        "Lance is [Apache Arrow](https://arrow.apache.org/) compatible"
      ]
    },
    {
      "cell_type": "code",
      "execution_count": null,
      "id": "4e3535c5",
      "metadata": {
        "id": "4e3535c5",
        "outputId": "996e580b-1250-4d9d-e368-407b725a9a81",
        "colab": {
          "base_uri": "https://localhost:8080/"
        }
      },
      "outputs": [
        {
          "output_type": "execute_result",
          "data": {
            "text/plain": [
              "True"
            ]
          },
          "metadata": {},
          "execution_count": 4
        }
      ],
      "source": [
        "import pyarrow.dataset as ds\n",
        "isinstance(oxford_pet, ds.Dataset)"
      ]
    },
    {
      "cell_type": "markdown",
      "id": "26cbfda5",
      "metadata": {
        "id": "26cbfda5"
      },
      "source": [
        "And we can immediately query it with duckdb"
      ]
    },
    {
      "cell_type": "code",
      "execution_count": null,
      "id": "7e3af7d0",
      "metadata": {
        "scrolled": true,
        "id": "7e3af7d0",
        "outputId": "0cf16992-4e86-48d7-d77c-eae588c9678e",
        "colab": {
          "base_uri": "https://localhost:8080/",
          "height": 206
        }
      },
      "outputs": [
        {
          "output_type": "execute_result",
          "data": {
            "text/plain": [
              "           class  cnt\n",
              "0     pomeranian  200\n",
              "1            pug  200\n",
              "2        Ragdoll  200\n",
              "3   Russian_Blue  200\n",
              "4  saint_bernard  200"
            ],
            "text/html": [
              "\n",
              "  <div id=\"df-6d20dca7-d51a-4beb-a013-75798f3f15be\">\n",
              "    <div class=\"colab-df-container\">\n",
              "      <div>\n",
              "<style scoped>\n",
              "    .dataframe tbody tr th:only-of-type {\n",
              "        vertical-align: middle;\n",
              "    }\n",
              "\n",
              "    .dataframe tbody tr th {\n",
              "        vertical-align: top;\n",
              "    }\n",
              "\n",
              "    .dataframe thead th {\n",
              "        text-align: right;\n",
              "    }\n",
              "</style>\n",
              "<table border=\"1\" class=\"dataframe\">\n",
              "  <thead>\n",
              "    <tr style=\"text-align: right;\">\n",
              "      <th></th>\n",
              "      <th>class</th>\n",
              "      <th>cnt</th>\n",
              "    </tr>\n",
              "  </thead>\n",
              "  <tbody>\n",
              "    <tr>\n",
              "      <th>0</th>\n",
              "      <td>pomeranian</td>\n",
              "      <td>200</td>\n",
              "    </tr>\n",
              "    <tr>\n",
              "      <th>1</th>\n",
              "      <td>pug</td>\n",
              "      <td>200</td>\n",
              "    </tr>\n",
              "    <tr>\n",
              "      <th>2</th>\n",
              "      <td>Ragdoll</td>\n",
              "      <td>200</td>\n",
              "    </tr>\n",
              "    <tr>\n",
              "      <th>3</th>\n",
              "      <td>Russian_Blue</td>\n",
              "      <td>200</td>\n",
              "    </tr>\n",
              "    <tr>\n",
              "      <th>4</th>\n",
              "      <td>saint_bernard</td>\n",
              "      <td>200</td>\n",
              "    </tr>\n",
              "  </tbody>\n",
              "</table>\n",
              "</div>\n",
              "      <button class=\"colab-df-convert\" onclick=\"convertToInteractive('df-6d20dca7-d51a-4beb-a013-75798f3f15be')\"\n",
              "              title=\"Convert this dataframe to an interactive table.\"\n",
              "              style=\"display:none;\">\n",
              "        \n",
              "  <svg xmlns=\"http://www.w3.org/2000/svg\" height=\"24px\"viewBox=\"0 0 24 24\"\n",
              "       width=\"24px\">\n",
              "    <path d=\"M0 0h24v24H0V0z\" fill=\"none\"/>\n",
              "    <path d=\"M18.56 5.44l.94 2.06.94-2.06 2.06-.94-2.06-.94-.94-2.06-.94 2.06-2.06.94zm-11 1L8.5 8.5l.94-2.06 2.06-.94-2.06-.94L8.5 2.5l-.94 2.06-2.06.94zm10 10l.94 2.06.94-2.06 2.06-.94-2.06-.94-.94-2.06-.94 2.06-2.06.94z\"/><path d=\"M17.41 7.96l-1.37-1.37c-.4-.4-.92-.59-1.43-.59-.52 0-1.04.2-1.43.59L10.3 9.45l-7.72 7.72c-.78.78-.78 2.05 0 2.83L4 21.41c.39.39.9.59 1.41.59.51 0 1.02-.2 1.41-.59l7.78-7.78 2.81-2.81c.8-.78.8-2.07 0-2.86zM5.41 20L4 18.59l7.72-7.72 1.47 1.35L5.41 20z\"/>\n",
              "  </svg>\n",
              "      </button>\n",
              "      \n",
              "  <style>\n",
              "    .colab-df-container {\n",
              "      display:flex;\n",
              "      flex-wrap:wrap;\n",
              "      gap: 12px;\n",
              "    }\n",
              "\n",
              "    .colab-df-convert {\n",
              "      background-color: #E8F0FE;\n",
              "      border: none;\n",
              "      border-radius: 50%;\n",
              "      cursor: pointer;\n",
              "      display: none;\n",
              "      fill: #1967D2;\n",
              "      height: 32px;\n",
              "      padding: 0 0 0 0;\n",
              "      width: 32px;\n",
              "    }\n",
              "\n",
              "    .colab-df-convert:hover {\n",
              "      background-color: #E2EBFA;\n",
              "      box-shadow: 0px 1px 2px rgba(60, 64, 67, 0.3), 0px 1px 3px 1px rgba(60, 64, 67, 0.15);\n",
              "      fill: #174EA6;\n",
              "    }\n",
              "\n",
              "    [theme=dark] .colab-df-convert {\n",
              "      background-color: #3B4455;\n",
              "      fill: #D2E3FC;\n",
              "    }\n",
              "\n",
              "    [theme=dark] .colab-df-convert:hover {\n",
              "      background-color: #434B5C;\n",
              "      box-shadow: 0px 1px 3px 1px rgba(0, 0, 0, 0.15);\n",
              "      filter: drop-shadow(0px 1px 2px rgba(0, 0, 0, 0.3));\n",
              "      fill: #FFFFFF;\n",
              "    }\n",
              "  </style>\n",
              "\n",
              "      <script>\n",
              "        const buttonEl =\n",
              "          document.querySelector('#df-6d20dca7-d51a-4beb-a013-75798f3f15be button.colab-df-convert');\n",
              "        buttonEl.style.display =\n",
              "          google.colab.kernel.accessAllowed ? 'block' : 'none';\n",
              "\n",
              "        async function convertToInteractive(key) {\n",
              "          const element = document.querySelector('#df-6d20dca7-d51a-4beb-a013-75798f3f15be');\n",
              "          const dataTable =\n",
              "            await google.colab.kernel.invokeFunction('convertToInteractive',\n",
              "                                                     [key], {});\n",
              "          if (!dataTable) return;\n",
              "\n",
              "          const docLinkHtml = 'Like what you see? Visit the ' +\n",
              "            '<a target=\"_blank\" href=https://colab.research.google.com/notebooks/data_table.ipynb>data table notebook</a>'\n",
              "            + ' to learn more about interactive tables.';\n",
              "          element.innerHTML = '';\n",
              "          dataTable['output_type'] = 'display_data';\n",
              "          await google.colab.output.renderOutput(dataTable, element);\n",
              "          const docLink = document.createElement('div');\n",
              "          docLink.innerHTML = docLinkHtml;\n",
              "          element.appendChild(docLink);\n",
              "        }\n",
              "      </script>\n",
              "    </div>\n",
              "  </div>\n",
              "  "
            ]
          },
          "metadata": {},
          "execution_count": 5
        }
      ],
      "source": [
        "import duckdb\n",
        "\n",
        "duckdb.query(\"\"\"\n",
        "SELECT class, count(1) as cnt \n",
        "FROM oxford_pet \n",
        "GROUP BY 1\n",
        "\"\"\").to_df().head()"
      ]
    },
    {
      "cell_type": "markdown",
      "id": "0fad7a6d",
      "metadata": {
        "id": "0fad7a6d"
      },
      "source": [
        "## Congrats\n",
        "\n",
        "Now you have Lance setup and you're ready to work with your computer vision data\n",
        "using familiar tools like pandas, numpy, SQL via duckdb!"
      ]
    }
  ],
  "metadata": {
    "kernelspec": {
      "display_name": "Python 3 (ipykernel)",
      "language": "python",
      "name": "python3"
    },
    "language_info": {
      "codemirror_mode": {
        "name": "ipython",
        "version": 3
      },
      "file_extension": ".py",
      "mimetype": "text/x-python",
      "name": "python",
      "nbconvert_exporter": "python",
      "pygments_lexer": "ipython3",
      "version": "3.10.4"
    },
    "colab": {
      "provenance": []
    }
  },
  "nbformat": 4,
  "nbformat_minor": 5
}