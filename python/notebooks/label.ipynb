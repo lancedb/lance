{
 "cells": [
  {
   "cell_type": "markdown",
   "id": "59c1d12a-6b8f-471e-afb8-31a9f01af9d9",
   "metadata": {},
   "source": [
    "# Dataset Analysis\n",
    "\n",
    "Before training our models, we need to understand the quality of our dataset."
   ]
  },
  {
   "cell_type": "markdown",
   "id": "b2acb766-a85e-48a4-8e04-e4fa752af7a4",
   "metadata": {},
   "source": [
    "## Prerequisite\n",
    "\n",
    "```python\n",
    "python -m venv ~/.venv/lance\n",
    "source ~/.venv/lance/bin/activate\n",
    "pip install pylance duckdb\n",
    "```"
   ]
  },
  {
   "cell_type": "markdown",
   "id": "dc9df793",
   "metadata": {},
   "source": [
    "## Coco Dataset\n",
    "\n",
    "In this example, we analyze the [Coco dataset](https://cocodataset.org/#home), an object detection dataset."
   ]
  },
  {
   "cell_type": "code",
   "execution_count": 1,
   "id": "059a58cf-a4bf-42f5-9d28-ecf21638ddd8",
   "metadata": {},
   "outputs": [
    {
     "data": {
      "text/plain": [
       "license: int64\n",
       "file_name: string\n",
       "coco_url: extension<image[uri]<ImageUriType>>\n",
       "height: int64\n",
       "width: int64\n",
       "date_captured: timestamp[ns]\n",
       "flickr_url: extension<image[uri]<ImageUriType>>\n",
       "image_id: int64\n",
       "split: dictionary<values=string, indices=int8, ordered=0>\n",
       "image_uri: extension<image[uri]<ImageUriType>>\n",
       "annotations: struct<segmentation: list<item: struct<counts: list<item: int32>, polygon: list<item: list<item: float>>, size: list<item: int32>>>, area: list<item: double>, iscrowd: list<item: bool>, bbox: list<item: fixed_size_list<item: float>[4]>, category_id: list<item: int16>, id: list<item: int64>, supercategory: list<item: dictionary<values=string, indices=int8, ordered=0>>, name: list<item: dictionary<values=string, indices=int8, ordered=0>>>\n",
       "  child 0, segmentation: list<item: struct<counts: list<item: int32>, polygon: list<item: list<item: float>>, size: list<item: int32>>>\n",
       "      child 0, item: struct<counts: list<item: int32>, polygon: list<item: list<item: float>>, size: list<item: int32>>\n",
       "          child 0, counts: list<item: int32>\n",
       "              child 0, item: int32\n",
       "          child 1, polygon: list<item: list<item: float>>\n",
       "              child 0, item: list<item: float>\n",
       "                  child 0, item: float\n",
       "          child 2, size: list<item: int32>\n",
       "              child 0, item: int32\n",
       "  child 1, area: list<item: double>\n",
       "      child 0, item: double\n",
       "  child 2, iscrowd: list<item: bool>\n",
       "      child 0, item: bool\n",
       "  child 3, bbox: list<item: fixed_size_list<item: float>[4]>\n",
       "      child 0, item: fixed_size_list<item: float>[4]\n",
       "          child 0, item: float\n",
       "  child 4, category_id: list<item: int16>\n",
       "      child 0, item: int16\n",
       "  child 5, id: list<item: int64>\n",
       "      child 0, item: int64\n",
       "  child 6, supercategory: list<item: dictionary<values=string, indices=int8, ordered=0>>\n",
       "      child 0, item: dictionary<values=string, indices=int8, ordered=0>\n",
       "  child 7, name: list<item: dictionary<values=string, indices=int8, ordered=0>>\n",
       "      child 0, item: dictionary<values=string, indices=int8, ordered=0>\n",
       "image: extension<image[binary]<ImageBinaryType>>"
      ]
     },
     "execution_count": 1,
     "metadata": {},
     "output_type": "execute_result"
    }
   ],
   "source": [
    "import lance\n",
    "import duckdb\n",
    "import pyarrow as pa\n",
    "\n",
    "dataset = lance.dataset(\n",
    "    \"s3://eto-public/datasets/coco/coco.lance\",\n",
    ")\n",
    "dataset.schema\n"
   ]
  },
  {
   "cell_type": "markdown",
   "id": "9fee6d65",
   "metadata": {},
   "source": [
    "### Understand Label Distributions"
   ]
  },
  {
   "cell_type": "code",
   "execution_count": null,
   "id": "a6e4f1cc",
   "metadata": {},
   "outputs": [],
   "source": [
    "# Label distribution in training set\n",
    "\n",
    "duckdb.query(\"\"\"\n",
    "SELECT count(1) as cnt, name \n",
    "FROM (\n",
    "    SELECT UNNEST(annotations.name) AS name FROM dataset\n",
    "    WHERE split = 'train'\n",
    ") GROUP BY 2\n",
    "\"\"\").to_df()"
   ]
  },
  {
   "cell_type": "markdown",
   "id": "ca253089-db07-4b32-a1ca-0710df63e25a",
   "metadata": {},
   "source": [
    "However, currently `DuckDB` does not support project nested field pushdown, i.e., only reads `annotation.name` column.\n",
    "We can manually use lance / PyArrow scanner to selectively read `annotations.name` column."
   ]
  },
  {
   "cell_type": "code",
   "execution_count": 5,
   "id": "57d62516-6bb9-48a8-8b99-77a85a3134f6",
   "metadata": {},
   "outputs": [
    {
     "ename": "InvalidInputException",
     "evalue": "Invalid Input Error: arrow_scan: get_next failed(): Type error: struct fields don't match or are in the wrong order: Input fields: struct<name: list<item: dictionary<values=string, indices=int8, ordered=0>>> output fields: struct<segmentation: list<item: struct<counts: list<item: int32>, polygon: list<item: list<item: float>>, size: list<item: int32>>>, area: list<item: double>, iscrowd: list<item: bool>, bbox: list<item: fixed_size_list<item: float>[4]>, category_id: list<item: int16>, id: list<item: int64>, supercategory: list<item: dictionary<values=string, indices=int8, ordered=0>>, name: list<item: dictionary<values=string, indices=int8, ordered=0>>>",
     "output_type": "error",
     "traceback": [
      "\u001b[0;31m---------------------------------------------------------------------------\u001b[0m",
      "\u001b[0;31mInvalidInputException\u001b[0m                     Traceback (most recent call last)",
      "Cell \u001b[0;32mIn [5], line 10\u001b[0m\n\u001b[1;32m      1\u001b[0m \u001b[38;5;66;03m# Allow \u001b[39;00m\n\u001b[1;32m      2\u001b[0m scan \u001b[38;5;241m=\u001b[39m dataset\u001b[38;5;241m.\u001b[39mscanner(columns\u001b[38;5;241m=\u001b[39m[\u001b[38;5;124m\"\u001b[39m\u001b[38;5;124mannotations.name\u001b[39m\u001b[38;5;124m\"\u001b[39m, \u001b[38;5;124m\"\u001b[39m\u001b[38;5;124msplit\u001b[39m\u001b[38;5;124m\"\u001b[39m])\u001b[38;5;241m.\u001b[39mto_reader()\n\u001b[1;32m      4\u001b[0m \u001b[43mduckdb\u001b[49m\u001b[38;5;241;43m.\u001b[39;49m\u001b[43mquery\u001b[49m\u001b[43m(\u001b[49m\u001b[38;5;124;43m\"\"\"\u001b[39;49m\n\u001b[1;32m      5\u001b[0m \u001b[38;5;124;43mSELECT count(1) as cnt, name \u001b[39;49m\n\u001b[1;32m      6\u001b[0m \u001b[38;5;124;43mFROM (\u001b[39;49m\n\u001b[1;32m      7\u001b[0m \u001b[38;5;124;43m    SELECT UNNEST(annotations.name) AS name FROM scan\u001b[39;49m\n\u001b[1;32m      8\u001b[0m \u001b[38;5;124;43m    WHERE split = \u001b[39;49m\u001b[38;5;124;43m'\u001b[39;49m\u001b[38;5;124;43mtrain\u001b[39;49m\u001b[38;5;124;43m'\u001b[39;49m\n\u001b[1;32m      9\u001b[0m \u001b[38;5;124;43m) GROUP BY 2\u001b[39;49m\n\u001b[0;32m---> 10\u001b[0m \u001b[38;5;124;43m\"\"\"\u001b[39;49m\u001b[43m)\u001b[49m\u001b[38;5;241;43m.\u001b[39;49m\u001b[43mto_df\u001b[49m\u001b[43m(\u001b[49m\u001b[43m)\u001b[49m\n",
      "\u001b[0;31mInvalidInputException\u001b[0m: Invalid Input Error: arrow_scan: get_next failed(): Type error: struct fields don't match or are in the wrong order: Input fields: struct<name: list<item: dictionary<values=string, indices=int8, ordered=0>>> output fields: struct<segmentation: list<item: struct<counts: list<item: int32>, polygon: list<item: list<item: float>>, size: list<item: int32>>>, area: list<item: double>, iscrowd: list<item: bool>, bbox: list<item: fixed_size_list<item: float>[4]>, category_id: list<item: int16>, id: list<item: int64>, supercategory: list<item: dictionary<values=string, indices=int8, ordered=0>>, name: list<item: dictionary<values=string, indices=int8, ordered=0>>>"
     ]
    }
   ],
   "source": [
    "# Allow \n",
    "scan = dataset.scanner(columns=[\"annotations.name\", \"split\"]).to_reader()\n",
    "\n",
    "duckdb.query(\"\"\"\n",
    "SELECT count(1) as cnt, name \n",
    "FROM (\n",
    "    SELECT UNNEST(annotations.name) AS name FROM scan\n",
    "    WHERE split = 'train'\n",
    ") GROUP BY 2\n",
    "\"\"\").to_df()"
   ]
  },
  {
   "cell_type": "markdown",
   "id": "92c7a9a6-f79f-45c9-a34f-f8cbf3c5e314",
   "metadata": {},
   "source": [
    "### Calculate Label Distribution among splits\n",
    "\n"
   ]
  },
  {
   "cell_type": "code",
   "execution_count": null,
   "id": "6cd37852-40be-4003-8f05-019826b738df",
   "metadata": {},
   "outputs": [],
   "source": [
    "duckdb.query(\"\"\"\n",
    "SELECT\n",
    "    count(1) as cnt, class, split\n",
    "FROM scan\n",
    "GROUP BY 3, 2 ORDER BY class, split\n",
    "\"\"\").to_df()"
   ]
  }
 ],
 "metadata": {
  "kernelspec": {
   "display_name": "Python 3 (ipykernel)",
   "language": "python",
   "name": "python3"
  },
  "language_info": {
   "codemirror_mode": {
    "name": "ipython",
    "version": 3
   },
   "file_extension": ".py",
   "mimetype": "text/x-python",
   "name": "python",
   "nbconvert_exporter": "python",
   "pygments_lexer": "ipython3",
   "version": "3.10.6"
  },
  "vscode": {
   "interpreter": {
    "hash": "1f8f8461819b275ca48c57b22ec0f08a81e9e03fa3981ba7fa85217986c18237"
   }
  }
 },
 "nbformat": 4,
 "nbformat_minor": 5
}
