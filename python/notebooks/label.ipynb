{
 "cells": [
  {
   "cell_type": "markdown",
   "id": "59c1d12a-6b8f-471e-afb8-31a9f01af9d9",
   "metadata": {},
   "source": [
    "# Dataset Analysis\n",
    "\n",
    "Before training our models, we need to understand the quality of our dataset."
   ]
  },
  {
   "cell_type": "markdown",
   "id": "b2acb766-a85e-48a4-8e04-e4fa752af7a4",
   "metadata": {},
   "source": [
    "## Prerequisite\n",
    "\n",
    "```python\n",
    "python -m venv ~/.venv/lance\n",
    "source ~/.venv/lance/bin/activate\n",
    "pip install pylance duckdb\n",
    "```"
   ]
  },
  {
   "cell_type": "markdown",
   "id": "dc9df793",
   "metadata": {},
   "source": [
    "## Coco Dataset\n",
    "\n",
    "In this example, we analyze the [Coco dataset](https://cocodataset.org/#home), an object detection dataset."
   ]
  },
  {
   "cell_type": "code",
   "execution_count": 1,
   "id": "059a58cf-a4bf-42f5-9d28-ecf21638ddd8",
   "metadata": {},
   "outputs": [
    {
     "ename": "FileNotFoundError",
     "evalue": "eto-public/datasets/coco/coco.lance",
     "output_type": "error",
     "traceback": [
      "\u001b[0;31m---------------------------------------------------------------------------\u001b[0m",
      "\u001b[0;31mFileNotFoundError\u001b[0m                         Traceback (most recent call last)",
      "Cell \u001b[0;32mIn [1], line 5\u001b[0m\n\u001b[1;32m      2\u001b[0m \u001b[38;5;28;01mimport\u001b[39;00m \u001b[38;5;21;01mduckdb\u001b[39;00m\n\u001b[1;32m      3\u001b[0m \u001b[38;5;28;01mimport\u001b[39;00m \u001b[38;5;21;01mpyarrow\u001b[39;00m \u001b[38;5;28;01mas\u001b[39;00m \u001b[38;5;21;01mpa\u001b[39;00m\n\u001b[0;32m----> 5\u001b[0m dataset \u001b[38;5;241m=\u001b[39m \u001b[43mlance\u001b[49m\u001b[38;5;241;43m.\u001b[39;49m\u001b[43mdataset\u001b[49m\u001b[43m(\u001b[49m\n\u001b[1;32m      6\u001b[0m \u001b[43m    \u001b[49m\u001b[38;5;124;43m\"\u001b[39;49m\u001b[38;5;124;43ms3://eto-public/datasets/coco/coco.lance\u001b[39;49m\u001b[38;5;124;43m\"\u001b[39;49m\u001b[43m,\u001b[49m\n\u001b[1;32m      7\u001b[0m \u001b[43m)\u001b[49m\n\u001b[1;32m      8\u001b[0m dataset\u001b[38;5;241m.\u001b[39mschema\n",
      "File \u001b[0;32m~/work/lance/python/venv/lib/python3.10/site-packages/lance/__init__.py:44\u001b[0m, in \u001b[0;36mdataset\u001b[0;34m(uri, **kwargs)\u001b[0m\n\u001b[1;32m     35\u001b[0m \u001b[38;5;124;03m\"\"\"\u001b[39;00m\n\u001b[1;32m     36\u001b[0m \u001b[38;5;124;03mCreate an Arrow Dataset from the given lance uri.\u001b[39;00m\n\u001b[1;32m     37\u001b[0m \n\u001b[0;32m   (...)\u001b[0m\n\u001b[1;32m     41\u001b[0m \u001b[38;5;124;03m    The uri to the lance data\u001b[39;00m\n\u001b[1;32m     42\u001b[0m \u001b[38;5;124;03m\"\"\"\u001b[39;00m\n\u001b[1;32m     43\u001b[0m fmt \u001b[38;5;241m=\u001b[39m LanceFileFormat()\n\u001b[0;32m---> 44\u001b[0m dataset \u001b[38;5;241m=\u001b[39m \u001b[43mds\u001b[49m\u001b[38;5;241;43m.\u001b[39;49m\u001b[43mdataset\u001b[49m\u001b[43m(\u001b[49m\u001b[43muri\u001b[49m\u001b[43m,\u001b[49m\u001b[43m \u001b[49m\u001b[38;5;28;43mformat\u001b[39;49m\u001b[38;5;241;43m=\u001b[39;49m\u001b[43mfmt\u001b[49m\u001b[43m,\u001b[49m\u001b[43m \u001b[49m\u001b[38;5;241;43m*\u001b[39;49m\u001b[38;5;241;43m*\u001b[39;49m\u001b[43mkwargs\u001b[49m\u001b[43m)\u001b[49m\n\u001b[1;32m     45\u001b[0m \u001b[38;5;28;01mreturn\u001b[39;00m _wrap_dataset(dataset)\n",
      "File \u001b[0;32m~/work/lance/python/venv/lib/python3.10/site-packages/pyarrow/dataset.py:749\u001b[0m, in \u001b[0;36mdataset\u001b[0;34m(source, schema, format, filesystem, partitioning, partition_base_dir, exclude_invalid_files, ignore_prefixes)\u001b[0m\n\u001b[1;32m    738\u001b[0m kwargs \u001b[38;5;241m=\u001b[39m \u001b[38;5;28mdict\u001b[39m(\n\u001b[1;32m    739\u001b[0m     schema\u001b[38;5;241m=\u001b[39mschema,\n\u001b[1;32m    740\u001b[0m     filesystem\u001b[38;5;241m=\u001b[39mfilesystem,\n\u001b[0;32m   (...)\u001b[0m\n\u001b[1;32m    745\u001b[0m     selector_ignore_prefixes\u001b[38;5;241m=\u001b[39mignore_prefixes\n\u001b[1;32m    746\u001b[0m )\n\u001b[1;32m    748\u001b[0m \u001b[38;5;28;01mif\u001b[39;00m _is_path_like(source):\n\u001b[0;32m--> 749\u001b[0m     \u001b[38;5;28;01mreturn\u001b[39;00m \u001b[43m_filesystem_dataset\u001b[49m\u001b[43m(\u001b[49m\u001b[43msource\u001b[49m\u001b[43m,\u001b[49m\u001b[43m \u001b[49m\u001b[38;5;241;43m*\u001b[39;49m\u001b[38;5;241;43m*\u001b[39;49m\u001b[43mkwargs\u001b[49m\u001b[43m)\u001b[49m\n\u001b[1;32m    750\u001b[0m \u001b[38;5;28;01melif\u001b[39;00m \u001b[38;5;28misinstance\u001b[39m(source, (\u001b[38;5;28mtuple\u001b[39m, \u001b[38;5;28mlist\u001b[39m)):\n\u001b[1;32m    751\u001b[0m     \u001b[38;5;28;01mif\u001b[39;00m \u001b[38;5;28mall\u001b[39m(_is_path_like(elem) \u001b[38;5;28;01mfor\u001b[39;00m elem \u001b[38;5;129;01min\u001b[39;00m source):\n",
      "File \u001b[0;32m~/work/lance/python/venv/lib/python3.10/site-packages/pyarrow/dataset.py:441\u001b[0m, in \u001b[0;36m_filesystem_dataset\u001b[0;34m(source, schema, filesystem, partitioning, format, partition_base_dir, exclude_invalid_files, selector_ignore_prefixes)\u001b[0m\n\u001b[1;32m    439\u001b[0m     fs, paths_or_selector \u001b[38;5;241m=\u001b[39m _ensure_multiple_sources(source, filesystem)\n\u001b[1;32m    440\u001b[0m \u001b[38;5;28;01melse\u001b[39;00m:\n\u001b[0;32m--> 441\u001b[0m     fs, paths_or_selector \u001b[38;5;241m=\u001b[39m \u001b[43m_ensure_single_source\u001b[49m\u001b[43m(\u001b[49m\u001b[43msource\u001b[49m\u001b[43m,\u001b[49m\u001b[43m \u001b[49m\u001b[43mfilesystem\u001b[49m\u001b[43m)\u001b[49m\n\u001b[1;32m    443\u001b[0m options \u001b[38;5;241m=\u001b[39m FileSystemFactoryOptions(\n\u001b[1;32m    444\u001b[0m     partitioning\u001b[38;5;241m=\u001b[39mpartitioning,\n\u001b[1;32m    445\u001b[0m     partition_base_dir\u001b[38;5;241m=\u001b[39mpartition_base_dir,\n\u001b[1;32m    446\u001b[0m     exclude_invalid_files\u001b[38;5;241m=\u001b[39mexclude_invalid_files,\n\u001b[1;32m    447\u001b[0m     selector_ignore_prefixes\u001b[38;5;241m=\u001b[39mselector_ignore_prefixes\n\u001b[1;32m    448\u001b[0m )\n\u001b[1;32m    449\u001b[0m factory \u001b[38;5;241m=\u001b[39m FileSystemDatasetFactory(fs, paths_or_selector, \u001b[38;5;28mformat\u001b[39m, options)\n",
      "File \u001b[0;32m~/work/lance/python/venv/lib/python3.10/site-packages/pyarrow/dataset.py:417\u001b[0m, in \u001b[0;36m_ensure_single_source\u001b[0;34m(path, filesystem)\u001b[0m\n\u001b[1;32m    415\u001b[0m     paths_or_selector \u001b[38;5;241m=\u001b[39m [path]\n\u001b[1;32m    416\u001b[0m \u001b[38;5;28;01melse\u001b[39;00m:\n\u001b[0;32m--> 417\u001b[0m     \u001b[38;5;28;01mraise\u001b[39;00m \u001b[38;5;167;01mFileNotFoundError\u001b[39;00m(path)\n\u001b[1;32m    419\u001b[0m \u001b[38;5;28;01mreturn\u001b[39;00m filesystem, paths_or_selector\n",
      "\u001b[0;31mFileNotFoundError\u001b[0m: eto-public/datasets/coco/coco.lance"
     ]
    }
   ],
   "source": [
    "import lance\n",
    "import duckdb\n",
    "import pyarrow as pa\n",
    "\n",
    "dataset = lance.dataset(\n",
    "    \"s3://eto-public/datasets/coco/coco.lance\",\n",
    ")\n",
    "dataset.schema\n"
   ]
  },
  {
   "cell_type": "markdown",
   "id": "9fee6d65",
   "metadata": {},
   "source": [
    "### Understand Label Distributions"
   ]
  },
  {
   "cell_type": "code",
   "execution_count": null,
   "id": "a6e4f1cc",
   "metadata": {},
   "outputs": [],
   "source": [
    "# Label distribution in training set\n",
    "\n",
    "duckdb.query(\"\"\"\n",
    "SELECT count(1) as cnt, name \n",
    "FROM (\n",
    "    SELECT UNNEST(annotations.name) AS name FROM dataset\n",
    "    WHERE split = 'train'\n",
    ") GROUP BY 2\n",
    "\"\"\").to_df()"
   ]
  },
  {
   "cell_type": "markdown",
   "id": "ca253089-db07-4b32-a1ca-0710df63e25a",
   "metadata": {},
   "source": [
    "However, currently `DuckDB` does not support project nested field pushdown, i.e., only reads `annotation.name` column.\n",
    "We can manually use lance / PyArrow scanner to selectively read `annotations.name` column."
   ]
  },
  {
   "cell_type": "code",
   "execution_count": null,
   "id": "57d62516-6bb9-48a8-8b99-77a85a3134f6",
   "metadata": {},
   "outputs": [],
   "source": [
    "# scan = dataset.scanner(columns=[\"annotations.name\", \"split\"])\n",
    "\n",
    "# duckdb.query(\"\"\"\n",
    "# SELECT count(1) as cnt, name \n",
    "# FROM (\n",
    "#     SELECT UNNEST(annotations.name) AS name FROM scan\n",
    "#     WHERE split = 'train'\n",
    "# ) GROUP BY 2\n",
    "# \"\"\").to_df()"
   ]
  },
  {
   "cell_type": "markdown",
   "id": "92c7a9a6-f79f-45c9-a34f-f8cbf3c5e314",
   "metadata": {},
   "source": [
    "### Calculate Label Distribution among splits\n",
    "\n"
   ]
  },
  {
   "cell_type": "code",
   "execution_count": null,
   "id": "6cd37852-40be-4003-8f05-019826b738df",
   "metadata": {},
   "outputs": [],
   "source": [
    "duckdb.query(\"\"\"\n",
    "SELECT\n",
    "    count(1) as cnt, class, split\n",
    "FROM (SELECT UNNEST(annotations.name) AS class, split FROM dataset)\n",
    "GROUP BY 3, 2 ORDER BY class, split\n",
    "\"\"\").to_df()"
   ]
  },
  {
   "cell_type": "code",
   "execution_count": null,
   "id": "60b9662b-e7e5-40fc-a858-fdea0e58367c",
   "metadata": {},
   "outputs": [],
   "source": []
  }
 ],
 "metadata": {
  "kernelspec": {
   "display_name": "Python 3 (ipykernel)",
   "language": "python",
   "name": "python3"
  },
  "language_info": {
   "codemirror_mode": {
    "name": "ipython",
    "version": 3
   },
   "file_extension": ".py",
   "mimetype": "text/x-python",
   "name": "python",
   "nbconvert_exporter": "python",
   "pygments_lexer": "ipython3",
   "version": "3.10.6"
  },
  "vscode": {
   "interpreter": {
    "hash": "1f8f8461819b275ca48c57b22ec0f08a81e9e03fa3981ba7fa85217986c18237"
   }
  }
 },
 "nbformat": 4,
 "nbformat_minor": 5
}
