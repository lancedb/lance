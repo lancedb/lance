{
 "cells": [
  {
   "cell_type": "markdown",
   "id": "59c1d12a-6b8f-471e-afb8-31a9f01af9d9",
   "metadata": {},
   "source": [
    "# Dataset Analysis\n",
    "\n",
    "Before training our models, we need to understand the quality of our dataset."
   ]
  },
  {
   "cell_type": "markdown",
   "id": "b2acb766-a85e-48a4-8e04-e4fa752af7a4",
   "metadata": {},
   "source": [
    "## Prerequisite\n",
    "\n",
    "```python\n",
    "python -m venv ~/.venv/lance\n",
    "source ~/.venv/lance/bin/activate\n",
    "pip install pylance duckdb\n",
    "```"
   ]
  },
  {
   "cell_type": "markdown",
   "id": "dc9df793",
   "metadata": {},
   "source": [
    "## Coco Dataset\n",
    "\n",
    "In this example, we analyze the [Coco dataset](https://cocodataset.org/#home), an object detection dataset."
   ]
  },
  {
   "cell_type": "code",
   "execution_count": 1,
   "id": "059a58cf-a4bf-42f5-9d28-ecf21638ddd8",
   "metadata": {},
   "outputs": [
    {
     "data": {
      "text/plain": [
       "license: int64\n",
       "file_name: string\n",
       "coco_url: extension<image[uri]<ImageUriType>>\n",
       "height: int64\n",
       "width: int64\n",
       "date_captured: timestamp[ns]\n",
       "flickr_url: extension<image[uri]<ImageUriType>>\n",
       "image_id: int64\n",
       "split: dictionary<values=string, indices=int8, ordered=0>\n",
       "image_uri: extension<image[uri]<ImageUriType>>\n",
       "annotations: struct<segmentation: list<item: struct<counts: list<item: int32>, polygon: list<item: list<item: float>>, size: list<item: int32>>>, area: list<item: double>, iscrowd: list<item: bool>, bbox: list<item: fixed_size_list<item: float>[4]>, category_id: list<item: int16>, id: list<item: int64>, supercategory: list<item: string>, name: list<item: string>>\n",
       "  child 0, segmentation: list<item: struct<counts: list<item: int32>, polygon: list<item: list<item: float>>, size: list<item: int32>>>\n",
       "      child 0, item: struct<counts: list<item: int32>, polygon: list<item: list<item: float>>, size: list<item: int32>>\n",
       "          child 0, counts: list<item: int32>\n",
       "              child 0, item: int32\n",
       "          child 1, polygon: list<item: list<item: float>>\n",
       "              child 0, item: list<item: float>\n",
       "                  child 0, item: float\n",
       "          child 2, size: list<item: int32>\n",
       "              child 0, item: int32\n",
       "  child 1, area: list<item: double>\n",
       "      child 0, item: double\n",
       "  child 2, iscrowd: list<item: bool>\n",
       "      child 0, item: bool\n",
       "  child 3, bbox: list<item: fixed_size_list<item: float>[4]>\n",
       "      child 0, item: fixed_size_list<item: float>[4]\n",
       "          child 0, item: float\n",
       "  child 4, category_id: list<item: int16>\n",
       "      child 0, item: int16\n",
       "  child 5, id: list<item: int64>\n",
       "      child 0, item: int64\n",
       "  child 6, supercategory: list<item: string>\n",
       "      child 0, item: string\n",
       "  child 7, name: list<item: string>\n",
       "      child 0, item: string\n",
       "image: extension<image[binary]<ImageBinaryType>>"
      ]
     },
     "execution_count": 1,
     "metadata": {},
     "output_type": "execute_result"
    }
   ],
   "source": [
    "import lance\n",
    "import duckdb\n",
    "import pyarrow as pa\n",
    "\n",
    "dataset = lance.dataset(\n",
    "    \"s3://eto-public/datasets/coco/coco.lance\",\n",
    ")\n",
    "dataset.schema\n"
   ]
  },
  {
   "cell_type": "markdown",
   "id": "9fee6d65",
   "metadata": {},
   "source": [
    "### Understand Label Distributions"
   ]
  },
  {
   "cell_type": "code",
   "execution_count": 5,
   "id": "a6e4f1cc",
   "metadata": {},
   "outputs": [
    {
     "name": "stdout",
     "output_type": "stream",
     "text": [
      "CPU times: user 6.54 s, sys: 4.41 s, total: 11 s\n",
      "Wall time: 4min 29s\n"
     ]
    },
    {
     "data": {
      "text/html": [
       "<div>\n",
       "<style scoped>\n",
       "    .dataframe tbody tr th:only-of-type {\n",
       "        vertical-align: middle;\n",
       "    }\n",
       "\n",
       "    .dataframe tbody tr th {\n",
       "        vertical-align: top;\n",
       "    }\n",
       "\n",
       "    .dataframe thead th {\n",
       "        text-align: right;\n",
       "    }\n",
       "</style>\n",
       "<table border=\"1\" class=\"dataframe\">\n",
       "  <thead>\n",
       "    <tr style=\"text-align: right;\">\n",
       "      <th></th>\n",
       "      <th>cnt</th>\n",
       "      <th>name</th>\n",
       "    </tr>\n",
       "  </thead>\n",
       "  <tbody>\n",
       "    <tr>\n",
       "      <th>0</th>\n",
       "      <td>5508</td>\n",
       "      <td>dog</td>\n",
       "    </tr>\n",
       "    <tr>\n",
       "      <th>1</th>\n",
       "      <td>8652</td>\n",
       "      <td>potted plant</td>\n",
       "    </tr>\n",
       "    <tr>\n",
       "      <th>2</th>\n",
       "      <td>5805</td>\n",
       "      <td>tv</td>\n",
       "    </tr>\n",
       "    <tr>\n",
       "      <th>3</th>\n",
       "      <td>10806</td>\n",
       "      <td>bird</td>\n",
       "    </tr>\n",
       "    <tr>\n",
       "      <th>4</th>\n",
       "      <td>2918</td>\n",
       "      <td>hot dog</td>\n",
       "    </tr>\n",
       "    <tr>\n",
       "      <th>...</th>\n",
       "      <td>...</td>\n",
       "      <td>...</td>\n",
       "    </tr>\n",
       "    <tr>\n",
       "      <th>75</th>\n",
       "      <td>1481</td>\n",
       "      <td>scissors</td>\n",
       "    </tr>\n",
       "    <tr>\n",
       "      <th>76</th>\n",
       "      <td>1983</td>\n",
       "      <td>stop sign</td>\n",
       "    </tr>\n",
       "    <tr>\n",
       "      <th>77</th>\n",
       "      <td>2262</td>\n",
       "      <td>mouse</td>\n",
       "    </tr>\n",
       "    <tr>\n",
       "      <th>78</th>\n",
       "      <td>198</td>\n",
       "      <td>hair drier</td>\n",
       "    </tr>\n",
       "    <tr>\n",
       "      <th>79</th>\n",
       "      <td>3747</td>\n",
       "      <td>baseball glove</td>\n",
       "    </tr>\n",
       "  </tbody>\n",
       "</table>\n",
       "<p>80 rows × 2 columns</p>\n",
       "</div>"
      ],
      "text/plain": [
       "      cnt            name\n",
       "0    5508             dog\n",
       "1    8652    potted plant\n",
       "2    5805              tv\n",
       "3   10806            bird\n",
       "4    2918         hot dog\n",
       "..    ...             ...\n",
       "75   1481        scissors\n",
       "76   1983       stop sign\n",
       "77   2262           mouse\n",
       "78    198      hair drier\n",
       "79   3747  baseball glove\n",
       "\n",
       "[80 rows x 2 columns]"
      ]
     },
     "execution_count": 5,
     "metadata": {},
     "output_type": "execute_result"
    }
   ],
   "source": [
    "%%time\n",
    "# Label distribution in training set\n",
    "\n",
    "duckdb.query(\"\"\"\n",
    "SELECT count(1) as cnt, name \n",
    "FROM (\n",
    "    SELECT UNNEST(annotations.name) AS name FROM dataset\n",
    "    WHERE split = 'train'\n",
    ") GROUP BY 2\n",
    "\"\"\").to_df()"
   ]
  },
  {
   "cell_type": "markdown",
   "id": "ca253089-db07-4b32-a1ca-0710df63e25a",
   "metadata": {},
   "source": [
    "However, currently `DuckDB` does not support project nested field pushdown, i.e., only reading `annotation.name` column.\n",
    "We can manually use `Lance`'s PyArrow Scanner integration to selectively read `annotations.name` column."
   ]
  },
  {
   "cell_type": "code",
   "execution_count": 6,
   "id": "57d62516-6bb9-48a8-8b99-77a85a3134f6",
   "metadata": {},
   "outputs": [
    {
     "name": "stdout",
     "output_type": "stream",
     "text": [
      "CPU times: user 1.18 s, sys: 753 ms, total: 1.93 s\n",
      "Wall time: 50.6 s\n"
     ]
    },
    {
     "data": {
      "text/html": [
       "<div>\n",
       "<style scoped>\n",
       "    .dataframe tbody tr th:only-of-type {\n",
       "        vertical-align: middle;\n",
       "    }\n",
       "\n",
       "    .dataframe tbody tr th {\n",
       "        vertical-align: top;\n",
       "    }\n",
       "\n",
       "    .dataframe thead th {\n",
       "        text-align: right;\n",
       "    }\n",
       "</style>\n",
       "<table border=\"1\" class=\"dataframe\">\n",
       "  <thead>\n",
       "    <tr style=\"text-align: right;\">\n",
       "      <th></th>\n",
       "      <th>cnt</th>\n",
       "      <th>name</th>\n",
       "    </tr>\n",
       "  </thead>\n",
       "  <tbody>\n",
       "    <tr>\n",
       "      <th>0</th>\n",
       "      <td>7113</td>\n",
       "      <td>bicycle</td>\n",
       "    </tr>\n",
       "    <tr>\n",
       "      <th>1</th>\n",
       "      <td>43867</td>\n",
       "      <td>car</td>\n",
       "    </tr>\n",
       "    <tr>\n",
       "      <th>2</th>\n",
       "      <td>15714</td>\n",
       "      <td>dining table</td>\n",
       "    </tr>\n",
       "    <tr>\n",
       "      <th>3</th>\n",
       "      <td>262465</td>\n",
       "      <td>person</td>\n",
       "    </tr>\n",
       "    <tr>\n",
       "      <th>4</th>\n",
       "      <td>8725</td>\n",
       "      <td>motorcycle</td>\n",
       "    </tr>\n",
       "    <tr>\n",
       "      <th>...</th>\n",
       "      <td>...</td>\n",
       "      <td>...</td>\n",
       "    </tr>\n",
       "    <tr>\n",
       "      <th>75</th>\n",
       "      <td>4373</td>\n",
       "      <td>sandwich</td>\n",
       "    </tr>\n",
       "    <tr>\n",
       "      <th>76</th>\n",
       "      <td>225</td>\n",
       "      <td>toaster</td>\n",
       "    </tr>\n",
       "    <tr>\n",
       "      <th>77</th>\n",
       "      <td>2262</td>\n",
       "      <td>mouse</td>\n",
       "    </tr>\n",
       "    <tr>\n",
       "      <th>78</th>\n",
       "      <td>6126</td>\n",
       "      <td>surfboard</td>\n",
       "    </tr>\n",
       "    <tr>\n",
       "      <th>79</th>\n",
       "      <td>3747</td>\n",
       "      <td>baseball glove</td>\n",
       "    </tr>\n",
       "  </tbody>\n",
       "</table>\n",
       "<p>80 rows × 2 columns</p>\n",
       "</div>"
      ],
      "text/plain": [
       "       cnt            name\n",
       "0     7113         bicycle\n",
       "1    43867             car\n",
       "2    15714    dining table\n",
       "3   262465          person\n",
       "4     8725      motorcycle\n",
       "..     ...             ...\n",
       "75    4373        sandwich\n",
       "76     225         toaster\n",
       "77    2262           mouse\n",
       "78    6126       surfboard\n",
       "79    3747  baseball glove\n",
       "\n",
       "[80 rows x 2 columns]"
      ]
     },
     "execution_count": 6,
     "metadata": {},
     "output_type": "execute_result"
    }
   ],
   "source": [
    "%%time\n",
    "scan = dataset.scanner(columns=[\"annotations.name\", \"split\"])\n",
    "\n",
    "duckdb.query(\"\"\"\n",
    "SELECT count(1) as cnt, name \n",
    "FROM (\n",
    "    SELECT UNNEST(annotations.name) AS name FROM scan\n",
    "    WHERE split = 'train'\n",
    ") GROUP BY 2\n",
    "\"\"\").to_df()"
   ]
  },
  {
   "cell_type": "markdown",
   "id": "92c7a9a6-f79f-45c9-a34f-f8cbf3c5e314",
   "metadata": {},
   "source": [
    "### Calculate Label Distribution among splits\n",
    "\n"
   ]
  },
  {
   "cell_type": "code",
   "execution_count": 4,
   "id": "6cd37852-40be-4003-8f05-019826b738df",
   "metadata": {},
   "outputs": [
    {
     "ename": "InvalidInputException",
     "evalue": "Invalid Input Error: arrow_scan: get_next failed(): Invalid: OneShotFragment was already scanned",
     "output_type": "error",
     "traceback": [
      "\u001b[0;31m---------------------------------------------------------------------------\u001b[0m",
      "\u001b[0;31mInvalidInputException\u001b[0m                     Traceback (most recent call last)",
      "Cell \u001b[0;32mIn [4], line 6\u001b[0m\n\u001b[1;32m      1\u001b[0m \u001b[43mduckdb\u001b[49m\u001b[38;5;241;43m.\u001b[39;49m\u001b[43mquery\u001b[49m\u001b[43m(\u001b[49m\u001b[38;5;124;43m\"\"\"\u001b[39;49m\n\u001b[1;32m      2\u001b[0m \u001b[38;5;124;43mSELECT\u001b[39;49m\n\u001b[1;32m      3\u001b[0m \u001b[38;5;124;43m    count(1) as cnt, class, split\u001b[39;49m\n\u001b[1;32m      4\u001b[0m \u001b[38;5;124;43mFROM (SELECT UNNEST(annotations.name) AS class, split FROM scan)\u001b[39;49m\n\u001b[1;32m      5\u001b[0m \u001b[38;5;124;43mGROUP BY 3, 2 ORDER BY class, split\u001b[39;49m\n\u001b[0;32m----> 6\u001b[0m \u001b[38;5;124;43m\"\"\"\u001b[39;49m\u001b[43m)\u001b[49m\u001b[38;5;241;43m.\u001b[39;49m\u001b[43mto_df\u001b[49m\u001b[43m(\u001b[49m\u001b[43m)\u001b[49m\n",
      "\u001b[0;31mInvalidInputException\u001b[0m: Invalid Input Error: arrow_scan: get_next failed(): Invalid: OneShotFragment was already scanned"
     ]
    }
   ],
   "source": [
    "duckdb.query(\"\"\"\n",
    "SELECT\n",
    "    count(1) as cnt, class, split\n",
    "FROM (SELECT UNNEST(annotations.name) AS class, split FROM scan)\n",
    "GROUP BY 3, 2 ORDER BY class, split\n",
    "\"\"\").to_df()"
   ]
  },
  {
   "cell_type": "code",
   "execution_count": null,
   "id": "60b9662b-e7e5-40fc-a858-fdea0e58367c",
   "metadata": {},
   "outputs": [],
   "source": []
  }
 ],
 "metadata": {
  "kernelspec": {
   "display_name": "Python 3 (ipykernel)",
   "language": "python",
   "name": "python3"
  },
  "language_info": {
   "codemirror_mode": {
    "name": "ipython",
    "version": 3
   },
   "file_extension": ".py",
   "mimetype": "text/x-python",
   "name": "python",
   "nbconvert_exporter": "python",
   "pygments_lexer": "ipython3",
   "version": "3.10.7"
  },
  "vscode": {
   "interpreter": {
    "hash": "1f8f8461819b275ca48c57b22ec0f08a81e9e03fa3981ba7fa85217986c18237"
   }
  }
 },
 "nbformat": 4,
 "nbformat_minor": 5
}
