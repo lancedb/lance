{
 "cells": [
  {
   "cell_type": "markdown",
   "id": "59c1d12a-6b8f-471e-afb8-31a9f01af9d9",
   "metadata": {},
   "source": [
    "# Dataset Analysis\n",
    "\n",
    "Before training our models, we need to understand the quality of our dataset."
   ]
  },
  {
   "cell_type": "markdown",
   "id": "b2acb766-a85e-48a4-8e04-e4fa752af7a4",
   "metadata": {},
   "source": [
    "## Prerequisite\n",
    "\n",
    "```python\n",
    "python -m venv ~/.venv/lance\n",
    "source ~/.venv/lance/bin/activate\n",
    "pip install pylance duckdb\n",
    "```"
   ]
  },
  {
   "cell_type": "markdown",
   "id": "dc9df793",
   "metadata": {},
   "source": [
    "## Coco Dataset\n",
    "\n",
    "In this example, we analyze the [Coco dataset](https://cocodataset.org/#home), an object detection dataset."
   ]
  },
  {
   "cell_type": "code",
   "execution_count": 5,
   "id": "059a58cf-a4bf-42f5-9d28-ecf21638ddd8",
   "metadata": {},
   "outputs": [
    {
     "data": {
      "text/plain": [
       "license: int64\n",
       "file_name: string\n",
       "coco_url: extension<image[uri]<ImageUriType>>\n",
       "height: int64\n",
       "width: int64\n",
       "date_captured: timestamp[ns]\n",
       "flickr_url: extension<image[uri]<ImageUriType>>\n",
       "image_id: int64\n",
       "split: dictionary<values=string, indices=int8, ordered=0>\n",
       "image_uri: extension<image[uri]<ImageUriType>>\n",
       "annotations: struct<segmentation: list<item: struct<counts: list<item: int32>, polygon: list<item: list<item: float>>, size: list<item: int32>>>, area: list<item: double>, iscrowd: list<item: bool>, bbox: list<item: fixed_size_list<item: float>[4]>, category_id: list<item: int16>, id: list<item: int64>, supercategory: list<item: string>, name: list<item: string>>\n",
       "  child 0, segmentation: list<item: struct<counts: list<item: int32>, polygon: list<item: list<item: float>>, size: list<item: int32>>>\n",
       "      child 0, item: struct<counts: list<item: int32>, polygon: list<item: list<item: float>>, size: list<item: int32>>\n",
       "          child 0, counts: list<item: int32>\n",
       "              child 0, item: int32\n",
       "          child 1, polygon: list<item: list<item: float>>\n",
       "              child 0, item: list<item: float>\n",
       "                  child 0, item: float\n",
       "          child 2, size: list<item: int32>\n",
       "              child 0, item: int32\n",
       "  child 1, area: list<item: double>\n",
       "      child 0, item: double\n",
       "  child 2, iscrowd: list<item: bool>\n",
       "      child 0, item: bool\n",
       "  child 3, bbox: list<item: fixed_size_list<item: float>[4]>\n",
       "      child 0, item: fixed_size_list<item: float>[4]\n",
       "          child 0, item: float\n",
       "  child 4, category_id: list<item: int16>\n",
       "      child 0, item: int16\n",
       "  child 5, id: list<item: int64>\n",
       "      child 0, item: int64\n",
       "  child 6, supercategory: list<item: string>\n",
       "      child 0, item: string\n",
       "  child 7, name: list<item: string>\n",
       "      child 0, item: string\n",
       "image: extension<image[binary]<ImageBinaryType>>"
      ]
     },
     "execution_count": 5,
     "metadata": {},
     "output_type": "execute_result"
    }
   ],
   "source": [
    "import lance\n",
    "import duckdb\n",
    "import pyarrow as pa\n",
    "\n",
    "dataset = lance.dataset(\n",
    "    \"s3://eto-public/datasets/coco/coco.lance\",\n",
    ")\n",
    "dataset.schema\n"
   ]
  },
  {
   "cell_type": "markdown",
   "id": "9fee6d65",
   "metadata": {},
   "source": [
    "### Understand Label Distributions"
   ]
  },
  {
   "cell_type": "code",
   "execution_count": null,
   "id": "a6e4f1cc",
   "metadata": {},
   "outputs": [],
   "source": [
    "# Label distribution in training set\n",
    "\n",
    "duckdb.query(\"\"\"\n",
    "SELECT count(1) as cnt, name \n",
    "FROM (\n",
    "    SELECT UNNEST(annotations.name) AS name FROM dataset\n",
    "    WHERE split = 'train'\n",
    ") GROUP BY 2\n",
    "\"\"\").to_df()"
   ]
  },
  {
   "cell_type": "markdown",
   "id": "ca253089-db07-4b32-a1ca-0710df63e25a",
   "metadata": {},
   "source": [
    "However, currently `DuckDB` does not support project nested field pushdown, i.e., only reads `annotation.name` column.\n",
    "We can manually use lance / PyArrow scanner to selectively read `annotations.name` column."
   ]
  },
  {
   "cell_type": "code",
   "execution_count": null,
   "id": "57d62516-6bb9-48a8-8b99-77a85a3134f6",
   "metadata": {},
   "outputs": [],
   "source": [
    "# scan = dataset.scanner(columns=[\"annotations.name\", \"split\"])\n",
    "\n",
    "# duckdb.query(\"\"\"\n",
    "# SELECT count(1) as cnt, name \n",
    "# FROM (\n",
    "#     SELECT UNNEST(annotations.name) AS name FROM scan\n",
    "#     WHERE split = 'train'\n",
    "# ) GROUP BY 2\n",
    "# \"\"\").to_df()"
   ]
  },
  {
   "cell_type": "markdown",
   "id": "92c7a9a6-f79f-45c9-a34f-f8cbf3c5e314",
   "metadata": {},
   "source": [
    "### Calculate Label Distribution among splits\n",
    "\n"
   ]
  },
  {
   "cell_type": "code",
   "execution_count": 6,
   "id": "6cd37852-40be-4003-8f05-019826b738df",
   "metadata": {},
   "outputs": [
    {
     "data": {
      "text/html": [
       "<div>\n",
       "<style scoped>\n",
       "    .dataframe tbody tr th:only-of-type {\n",
       "        vertical-align: middle;\n",
       "    }\n",
       "\n",
       "    .dataframe tbody tr th {\n",
       "        vertical-align: top;\n",
       "    }\n",
       "\n",
       "    .dataframe thead th {\n",
       "        text-align: right;\n",
       "    }\n",
       "</style>\n",
       "<table border=\"1\" class=\"dataframe\">\n",
       "  <thead>\n",
       "    <tr style=\"text-align: right;\">\n",
       "      <th></th>\n",
       "      <th>cnt</th>\n",
       "      <th>class</th>\n",
       "      <th>split</th>\n",
       "    </tr>\n",
       "  </thead>\n",
       "  <tbody>\n",
       "    <tr>\n",
       "      <th>0</th>\n",
       "      <td>5135</td>\n",
       "      <td>airplane</td>\n",
       "      <td>train</td>\n",
       "    </tr>\n",
       "    <tr>\n",
       "      <th>1</th>\n",
       "      <td>143</td>\n",
       "      <td>airplane</td>\n",
       "      <td>val</td>\n",
       "    </tr>\n",
       "    <tr>\n",
       "      <th>2</th>\n",
       "      <td>5851</td>\n",
       "      <td>apple</td>\n",
       "      <td>train</td>\n",
       "    </tr>\n",
       "    <tr>\n",
       "      <th>3</th>\n",
       "      <td>239</td>\n",
       "      <td>apple</td>\n",
       "      <td>val</td>\n",
       "    </tr>\n",
       "    <tr>\n",
       "      <th>4</th>\n",
       "      <td>8720</td>\n",
       "      <td>backpack</td>\n",
       "      <td>train</td>\n",
       "    </tr>\n",
       "    <tr>\n",
       "      <th>...</th>\n",
       "      <td>...</td>\n",
       "      <td>...</td>\n",
       "      <td>...</td>\n",
       "    </tr>\n",
       "    <tr>\n",
       "      <th>155</th>\n",
       "      <td>277</td>\n",
       "      <td>vase</td>\n",
       "      <td>val</td>\n",
       "    </tr>\n",
       "    <tr>\n",
       "      <th>156</th>\n",
       "      <td>7913</td>\n",
       "      <td>wine glass</td>\n",
       "      <td>train</td>\n",
       "    </tr>\n",
       "    <tr>\n",
       "      <th>157</th>\n",
       "      <td>343</td>\n",
       "      <td>wine glass</td>\n",
       "      <td>val</td>\n",
       "    </tr>\n",
       "    <tr>\n",
       "      <th>158</th>\n",
       "      <td>5303</td>\n",
       "      <td>zebra</td>\n",
       "      <td>train</td>\n",
       "    </tr>\n",
       "    <tr>\n",
       "      <th>159</th>\n",
       "      <td>268</td>\n",
       "      <td>zebra</td>\n",
       "      <td>val</td>\n",
       "    </tr>\n",
       "  </tbody>\n",
       "</table>\n",
       "<p>160 rows × 3 columns</p>\n",
       "</div>"
      ],
      "text/plain": [
       "      cnt       class  split\n",
       "0    5135    airplane  train\n",
       "1     143    airplane    val\n",
       "2    5851       apple  train\n",
       "3     239       apple    val\n",
       "4    8720    backpack  train\n",
       "..    ...         ...    ...\n",
       "155   277        vase    val\n",
       "156  7913  wine glass  train\n",
       "157   343  wine glass    val\n",
       "158  5303       zebra  train\n",
       "159   268       zebra    val\n",
       "\n",
       "[160 rows x 3 columns]"
      ]
     },
     "execution_count": 6,
     "metadata": {},
     "output_type": "execute_result"
    }
   ],
   "source": [
    "duckdb.query(\"\"\"\n",
    "SELECT\n",
    "    count(1) as cnt, class, split\n",
    "FROM (SELECT UNNEST(annotations.name) AS class, split FROM dataset)\n",
    "GROUP BY 3, 2 ORDER BY class, split\n",
    "\"\"\").to_df()"
   ]
  },
  {
   "cell_type": "code",
   "execution_count": null,
   "id": "60b9662b-e7e5-40fc-a858-fdea0e58367c",
   "metadata": {},
   "outputs": [],
   "source": []
  }
 ],
 "metadata": {
  "kernelspec": {
   "display_name": "Python 3 (ipykernel)",
   "language": "python",
   "name": "python3"
  },
  "language_info": {
   "codemirror_mode": {
    "name": "ipython",
    "version": 3
   },
   "file_extension": ".py",
   "mimetype": "text/x-python",
   "name": "python",
   "nbconvert_exporter": "python",
   "pygments_lexer": "ipython3",
   "version": "3.10.6"
  },
  "vscode": {
   "interpreter": {
    "hash": "1f8f8461819b275ca48c57b22ec0f08a81e9e03fa3981ba7fa85217986c18237"
   }
  }
 },
 "nbformat": 4,
 "nbformat_minor": 5
}
