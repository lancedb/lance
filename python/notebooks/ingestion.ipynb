{
 "cells": [
  {
   "cell_type": "markdown",
   "id": "053c0371",
   "metadata": {},
   "source": [
    "# Reading and writing Lance data\n",
    "tl;dr - it's super easy with Apache Arrow"
   ]
  },
  {
   "cell_type": "code",
   "execution_count": 1,
   "id": "5d8b2cde",
   "metadata": {},
   "outputs": [],
   "source": [
    "import lance\n",
    "from lance import LanceFileFormat\n",
    "import numpy as np\n",
    "import pandas as pd\n",
    "import pyarrow as pa\n",
    "import pyarrow.dataset as ds\n",
    "import pyarrow.parquet as pq"
   ]
  },
  {
   "cell_type": "markdown",
   "id": "ebff93d1",
   "metadata": {},
   "source": [
    "## Writing a pandas DataFrame to Lance"
   ]
  },
  {
   "cell_type": "code",
   "execution_count": 2,
   "id": "1cba8dc7",
   "metadata": {},
   "outputs": [
    {
     "data": {
      "text/html": [
       "<div>\n",
       "<style scoped>\n",
       "    .dataframe tbody tr th:only-of-type {\n",
       "        vertical-align: middle;\n",
       "    }\n",
       "\n",
       "    .dataframe tbody tr th {\n",
       "        vertical-align: top;\n",
       "    }\n",
       "\n",
       "    .dataframe thead th {\n",
       "        text-align: right;\n",
       "    }\n",
       "</style>\n",
       "<table border=\"1\" class=\"dataframe\">\n",
       "  <thead>\n",
       "    <tr style=\"text-align: right;\">\n",
       "      <th></th>\n",
       "      <th>a</th>\n",
       "      <th>b</th>\n",
       "      <th>c</th>\n",
       "    </tr>\n",
       "  </thead>\n",
       "  <tbody>\n",
       "    <tr>\n",
       "      <th>0</th>\n",
       "      <td>0.599837</td>\n",
       "      <td>cat</td>\n",
       "      <td>2022-01-01</td>\n",
       "    </tr>\n",
       "    <tr>\n",
       "      <th>1</th>\n",
       "      <td>0.838694</td>\n",
       "      <td>cat</td>\n",
       "      <td>2022-01-02</td>\n",
       "    </tr>\n",
       "    <tr>\n",
       "      <th>2</th>\n",
       "      <td>-1.367581</td>\n",
       "      <td>dog</td>\n",
       "      <td>2022-01-03</td>\n",
       "    </tr>\n",
       "    <tr>\n",
       "      <th>3</th>\n",
       "      <td>-1.038326</td>\n",
       "      <td>cat</td>\n",
       "      <td>2022-01-04</td>\n",
       "    </tr>\n",
       "    <tr>\n",
       "      <th>4</th>\n",
       "      <td>-0.610443</td>\n",
       "      <td>person</td>\n",
       "      <td>2022-01-05</td>\n",
       "    </tr>\n",
       "  </tbody>\n",
       "</table>\n",
       "</div>"
      ],
      "text/plain": [
       "          a       b          c\n",
       "0  0.599837     cat 2022-01-01\n",
       "1  0.838694     cat 2022-01-02\n",
       "2 -1.367581     dog 2022-01-03\n",
       "3 -1.038326     cat 2022-01-04\n",
       "4 -0.610443  person 2022-01-05"
      ]
     },
     "execution_count": 2,
     "metadata": {},
     "output_type": "execute_result"
    }
   ],
   "source": [
    "df = pd.DataFrame({\n",
    "    'a': np.random.randn(5),\n",
    "    'b': pd.Categorical.from_codes(np.random.randint(0, 5, 5),\n",
    "                                   ['cat', 'dog', 'person', 'car', 'duck']),\n",
    "    'c': pd.date_range('2022-01-01', freq='D', periods=5)\n",
    "})\n",
    "df"
   ]
  },
  {
   "cell_type": "markdown",
   "id": "559eb775",
   "metadata": {},
   "source": [
    "### Write it to lance with 1 line of code"
   ]
  },
  {
   "cell_type": "code",
   "execution_count": 3,
   "id": "6da4e641",
   "metadata": {},
   "outputs": [],
   "source": [
    "ds.write_dataset(pa.Table.from_pandas(df), \n",
    "                 '/tmp/pandas_to_lance', \n",
    "                 format=LanceFileFormat())"
   ]
  },
  {
   "cell_type": "markdown",
   "id": "c8f839fe",
   "metadata": {},
   "source": [
    "read it back out and it should be the same"
   ]
  },
  {
   "cell_type": "code",
   "execution_count": 4,
   "id": "e8c76f73",
   "metadata": {},
   "outputs": [
    {
     "data": {
      "text/html": [
       "<div>\n",
       "<style scoped>\n",
       "    .dataframe tbody tr th:only-of-type {\n",
       "        vertical-align: middle;\n",
       "    }\n",
       "\n",
       "    .dataframe tbody tr th {\n",
       "        vertical-align: top;\n",
       "    }\n",
       "\n",
       "    .dataframe thead th {\n",
       "        text-align: right;\n",
       "    }\n",
       "</style>\n",
       "<table border=\"1\" class=\"dataframe\">\n",
       "  <thead>\n",
       "    <tr style=\"text-align: right;\">\n",
       "      <th></th>\n",
       "      <th>a</th>\n",
       "      <th>b</th>\n",
       "      <th>c</th>\n",
       "    </tr>\n",
       "  </thead>\n",
       "  <tbody>\n",
       "    <tr>\n",
       "      <th>0</th>\n",
       "      <td>0.599837</td>\n",
       "      <td>cat</td>\n",
       "      <td>2022-01-01</td>\n",
       "    </tr>\n",
       "    <tr>\n",
       "      <th>1</th>\n",
       "      <td>0.838694</td>\n",
       "      <td>cat</td>\n",
       "      <td>2022-01-02</td>\n",
       "    </tr>\n",
       "    <tr>\n",
       "      <th>2</th>\n",
       "      <td>-1.367581</td>\n",
       "      <td>dog</td>\n",
       "      <td>2022-01-03</td>\n",
       "    </tr>\n",
       "    <tr>\n",
       "      <th>3</th>\n",
       "      <td>-1.038326</td>\n",
       "      <td>cat</td>\n",
       "      <td>2022-01-04</td>\n",
       "    </tr>\n",
       "    <tr>\n",
       "      <th>4</th>\n",
       "      <td>-0.610443</td>\n",
       "      <td>person</td>\n",
       "      <td>2022-01-05</td>\n",
       "    </tr>\n",
       "  </tbody>\n",
       "</table>\n",
       "</div>"
      ],
      "text/plain": [
       "          a       b          c\n",
       "0  0.599837     cat 2022-01-01\n",
       "1  0.838694     cat 2022-01-02\n",
       "2 -1.367581     dog 2022-01-03\n",
       "3 -1.038326     cat 2022-01-04\n",
       "4 -0.610443  person 2022-01-05"
      ]
     },
     "execution_count": 4,
     "metadata": {},
     "output_type": "execute_result"
    }
   ],
   "source": [
    "read_df = ds.dataset('/tmp/pandas_to_lance', format=LanceFileFormat()).to_table().to_pandas()\n",
    "read_df"
   ]
  },
  {
   "cell_type": "markdown",
   "id": "1b05945b",
   "metadata": {},
   "source": [
    "# Converting from parquet"
   ]
  },
  {
   "cell_type": "markdown",
   "id": "3c67e11e",
   "metadata": {},
   "source": [
    "First let's generate a parquet dataset"
   ]
  },
  {
   "cell_type": "code",
   "execution_count": 5,
   "id": "7fac0a7a",
   "metadata": {},
   "outputs": [
    {
     "data": {
      "text/html": [
       "<div>\n",
       "<style scoped>\n",
       "    .dataframe tbody tr th:only-of-type {\n",
       "        vertical-align: middle;\n",
       "    }\n",
       "\n",
       "    .dataframe tbody tr th {\n",
       "        vertical-align: top;\n",
       "    }\n",
       "\n",
       "    .dataframe thead th {\n",
       "        text-align: right;\n",
       "    }\n",
       "</style>\n",
       "<table border=\"1\" class=\"dataframe\">\n",
       "  <thead>\n",
       "    <tr style=\"text-align: right;\">\n",
       "      <th></th>\n",
       "      <th>a</th>\n",
       "      <th>b</th>\n",
       "      <th>c</th>\n",
       "    </tr>\n",
       "  </thead>\n",
       "  <tbody>\n",
       "    <tr>\n",
       "      <th>0</th>\n",
       "      <td>0.599837</td>\n",
       "      <td>cat</td>\n",
       "      <td>2022-01-01</td>\n",
       "    </tr>\n",
       "    <tr>\n",
       "      <th>1</th>\n",
       "      <td>0.838694</td>\n",
       "      <td>cat</td>\n",
       "      <td>2022-01-02</td>\n",
       "    </tr>\n",
       "    <tr>\n",
       "      <th>2</th>\n",
       "      <td>-1.367581</td>\n",
       "      <td>dog</td>\n",
       "      <td>2022-01-03</td>\n",
       "    </tr>\n",
       "    <tr>\n",
       "      <th>3</th>\n",
       "      <td>-1.038326</td>\n",
       "      <td>cat</td>\n",
       "      <td>2022-01-04</td>\n",
       "    </tr>\n",
       "    <tr>\n",
       "      <th>4</th>\n",
       "      <td>-0.610443</td>\n",
       "      <td>person</td>\n",
       "      <td>2022-01-05</td>\n",
       "    </tr>\n",
       "  </tbody>\n",
       "</table>\n",
       "</div>"
      ],
      "text/plain": [
       "          a       b          c\n",
       "0  0.599837     cat 2022-01-01\n",
       "1  0.838694     cat 2022-01-02\n",
       "2 -1.367581     dog 2022-01-03\n",
       "3 -1.038326     cat 2022-01-04\n",
       "4 -0.610443  person 2022-01-05"
      ]
     },
     "execution_count": 5,
     "metadata": {},
     "output_type": "execute_result"
    }
   ],
   "source": [
    "ds.write_dataset(pa.Table.from_pandas(df), '/tmp/parquet', format=ds.ParquetFileFormat())\n",
    "parquet_dataset = ds.dataset('/tmp/parquet')\n",
    "parquet_dataset.to_table().to_pandas()"
   ]
  },
  {
   "cell_type": "markdown",
   "id": "98520bdf",
   "metadata": {},
   "source": [
    "### Converting parquet to lance is also just 1 line of code"
   ]
  },
  {
   "cell_type": "code",
   "execution_count": 6,
   "id": "dc5a015e",
   "metadata": {},
   "outputs": [],
   "source": [
    "ds.write_dataset(parquet_dataset, '/tmp/lance', format=LanceFileFormat())"
   ]
  },
  {
   "cell_type": "markdown",
   "id": "20b7a95a",
   "metadata": {},
   "source": [
    "Again we can read it back out and see that it's the same"
   ]
  },
  {
   "cell_type": "code",
   "execution_count": 7,
   "id": "2971aa9a",
   "metadata": {},
   "outputs": [
    {
     "data": {
      "text/html": [
       "<div>\n",
       "<style scoped>\n",
       "    .dataframe tbody tr th:only-of-type {\n",
       "        vertical-align: middle;\n",
       "    }\n",
       "\n",
       "    .dataframe tbody tr th {\n",
       "        vertical-align: top;\n",
       "    }\n",
       "\n",
       "    .dataframe thead th {\n",
       "        text-align: right;\n",
       "    }\n",
       "</style>\n",
       "<table border=\"1\" class=\"dataframe\">\n",
       "  <thead>\n",
       "    <tr style=\"text-align: right;\">\n",
       "      <th></th>\n",
       "      <th>a</th>\n",
       "      <th>b</th>\n",
       "      <th>c</th>\n",
       "    </tr>\n",
       "  </thead>\n",
       "  <tbody>\n",
       "    <tr>\n",
       "      <th>0</th>\n",
       "      <td>0.599837</td>\n",
       "      <td>cat</td>\n",
       "      <td>2022-01-01</td>\n",
       "    </tr>\n",
       "    <tr>\n",
       "      <th>1</th>\n",
       "      <td>0.838694</td>\n",
       "      <td>cat</td>\n",
       "      <td>2022-01-02</td>\n",
       "    </tr>\n",
       "    <tr>\n",
       "      <th>2</th>\n",
       "      <td>-1.367581</td>\n",
       "      <td>dog</td>\n",
       "      <td>2022-01-03</td>\n",
       "    </tr>\n",
       "    <tr>\n",
       "      <th>3</th>\n",
       "      <td>-1.038326</td>\n",
       "      <td>cat</td>\n",
       "      <td>2022-01-04</td>\n",
       "    </tr>\n",
       "    <tr>\n",
       "      <th>4</th>\n",
       "      <td>-0.610443</td>\n",
       "      <td>person</td>\n",
       "      <td>2022-01-05</td>\n",
       "    </tr>\n",
       "  </tbody>\n",
       "</table>\n",
       "</div>"
      ],
      "text/plain": [
       "          a       b          c\n",
       "0  0.599837     cat 2022-01-01\n",
       "1  0.838694     cat 2022-01-02\n",
       "2 -1.367581     dog 2022-01-03\n",
       "3 -1.038326     cat 2022-01-04\n",
       "4 -0.610443  person 2022-01-05"
      ]
     },
     "execution_count": 7,
     "metadata": {},
     "output_type": "execute_result"
    }
   ],
   "source": [
    "lance_dataset = ds.dataset('/tmp/lance', format=LanceFileFormat())\n",
    "lance_dataset.to_table().to_pandas()"
   ]
  },
  {
   "cell_type": "code",
   "execution_count": null,
   "id": "6da8a48a",
   "metadata": {},
   "outputs": [],
   "source": []
  }
 ],
 "metadata": {
  "kernelspec": {
   "display_name": "Python 3 (ipykernel)",
   "language": "python",
   "name": "python3"
  },
  "language_info": {
   "codemirror_mode": {
    "name": "ipython",
    "version": 3
   },
   "file_extension": ".py",
   "mimetype": "text/x-python",
   "name": "python",
   "nbconvert_exporter": "python",
   "pygments_lexer": "ipython3",
   "version": "3.10.6"
  }
 },
 "nbformat": 4,
 "nbformat_minor": 5
}
