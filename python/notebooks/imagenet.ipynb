{
 "cells": [
  {
   "cell_type": "markdown",
   "id": "3e6fdcc6-01e1-4abc-9b6a-baa42bdc7aec",
   "metadata": {},
   "source": [
    "# ImageNet 1K data quality analyze\n"
   ]
  },
  {
   "cell_type": "code",
   "execution_count": 1,
   "id": "5a10997a-1786-4349-a290-61a10df983c5",
   "metadata": {},
   "outputs": [],
   "source": [
    "import lance\n",
    "import duckdb\n",
    "import torchvision\n",
    "import torch\n",
    "import pandas as pd"
   ]
  },
  {
   "cell_type": "code",
   "execution_count": 2,
   "id": "fc4f6c53-4700-4a66-937c-c7181ce8fea3",
   "metadata": {},
   "outputs": [
    {
     "data": {
      "application/javascript": [
       "\n",
       "            debugger;\n",
       "            let codeCell = (window.Jupyter ?? window.IPython)?.CodeCell;\n",
       "            if (codeCell) {\n",
       "                let highlightModes = (codeCell.options_default ?? codeCell.config_defaults).highlight_modes;\n",
       "                if (!highlightModes['magic_sql'])\n",
       "                    highlightModes['magic_sql'] = {'reg': []};\n",
       "                highlightModes['magic_sql']['reg'].push(/^%%sql/);\n",
       "            }\n",
       "        "
      ]
     },
     "metadata": {},
     "output_type": "display_data"
    },
    {
     "name": "stdout",
     "output_type": "stream",
     "text": [
      "{}\n"
     ]
    }
   ],
   "source": [
    "%load_ext sql\n",
    "%sql duckdb:///:memory:"
   ]
  },
  {
   "cell_type": "code",
   "execution_count": 3,
   "id": "269b8739-0396-4e61-8a1b-63b3570dee0f",
   "metadata": {},
   "outputs": [],
   "source": [
    "uri = \"imagenet.lance\"\n",
    "\n",
    "ds = lance.dataset(uri)"
   ]
  },
  {
   "cell_type": "code",
   "execution_count": 4,
   "id": "f0e17dd1-3669-4ced-acb8-9334f4dbacd4",
   "metadata": {},
   "outputs": [
    {
     "data": {
      "text/plain": [
       "id: int32\n",
       "image: extension<image[binary]<ImageBinaryType>>\n",
       "label: int16\n",
       "name: dictionary<values=string, indices=int16, ordered=0>\n",
       "split: dictionary<values=string, indices=int8, ordered=0>"
      ]
     },
     "execution_count": 4,
     "metadata": {},
     "output_type": "execute_result"
    }
   ],
   "source": [
    "ds.schema"
   ]
  },
  {
   "cell_type": "code",
   "execution_count": 5,
   "id": "b56566ba-e195-46fe-b558-c2fd8da131b2",
   "metadata": {},
   "outputs": [
    {
     "data": {
      "text/plain": [
       "<lance.lib.FileSystemDataset at 0x7f24ff2a54b0>"
      ]
     },
     "execution_count": 5,
     "metadata": {},
     "output_type": "execute_result"
    }
   ],
   "source": [
    "ds"
   ]
  },
  {
   "cell_type": "code",
   "execution_count": 6,
   "id": "ba965539-57ba-4684-80db-050fc723e5db",
   "metadata": {},
   "outputs": [],
   "source": [
    "# %%sql --lance\n",
    "\n",
    "# SELECT image, label FROM ds LIMIT 5"
   ]
  },
  {
   "cell_type": "code",
   "execution_count": 7,
   "id": "9f82b63c-3d48-43e0-92cd-bca457184770",
   "metadata": {},
   "outputs": [
    {
     "name": "stdout",
     "output_type": "stream",
     "text": [
      "Took 0.005731344223022461\n"
     ]
    },
    {
     "data": {
      "text/html": [
       "<div>\n",
       "<style scoped>\n",
       "    .dataframe tbody tr th:only-of-type {\n",
       "        vertical-align: middle;\n",
       "    }\n",
       "\n",
       "    .dataframe tbody tr th {\n",
       "        vertical-align: top;\n",
       "    }\n",
       "\n",
       "    .dataframe thead th {\n",
       "        text-align: right;\n",
       "    }\n",
       "</style>\n",
       "<table border=\"1\" class=\"dataframe\">\n",
       "  <thead>\n",
       "    <tr style=\"text-align: right;\">\n",
       "      <th></th>\n",
       "      <th>split</th>\n",
       "      <th>count(split)</th>\n",
       "    </tr>\n",
       "  </thead>\n",
       "  <tbody>\n",
       "    <tr>\n",
       "      <th>0</th>\n",
       "      <td>train</td>\n",
       "      <td>10000</td>\n",
       "    </tr>\n",
       "    <tr>\n",
       "      <th>1</th>\n",
       "      <td>test</td>\n",
       "      <td>10000</td>\n",
       "    </tr>\n",
       "    <tr>\n",
       "      <th>2</th>\n",
       "      <td>validation</td>\n",
       "      <td>10000</td>\n",
       "    </tr>\n",
       "  </tbody>\n",
       "</table>\n",
       "</div>"
      ],
      "text/plain": [
       "        split  count(split)\n",
       "0       train         10000\n",
       "1        test         10000\n",
       "2  validation         10000"
      ]
     },
     "execution_count": 7,
     "metadata": {},
     "output_type": "execute_result"
    }
   ],
   "source": [
    "%%sql\n",
    "\n",
    "SELECT split, count(split) FROM ds GROUP BY split"
   ]
  },
  {
   "cell_type": "code",
   "execution_count": 8,
   "id": "1e4c6619-0505-4e4a-8f57-59cf6740ebdc",
   "metadata": {},
   "outputs": [],
   "source": [
    "from torchvision.models import resnet50, vit_b_16\n",
    "\n",
    "resnet = resnet50(weights=\"DEFAULT\").cuda()\n",
    "vit = vit_b_16(weights=\"DEFAULT\").cuda()"
   ]
  },
  {
   "cell_type": "code",
   "execution_count": 9,
   "id": "c5c2460e-6c20-4fe8-8f29-cc09b1dda0cb",
   "metadata": {},
   "outputs": [
    {
     "name": "stdout",
     "output_type": "stream",
     "text": [
      "id: int32\n",
      "image: extension<image[binary]<ImageBinaryType>>\n",
      "label: int16\n",
      "name: dictionary<values=string, indices=int16, ordered=0>\n",
      "split: dictionary<values=string, indices=int8, ordered=0>\n"
     ]
    }
   ],
   "source": [
    "# TODO: make easy conversion between lance.Dataset and pytorch.Dataset\n",
    "\n",
    "from lance.pytorch import Dataset\n",
    "dataset = Dataset(uri, columns=[\"id\", \"image\"], mode=\"batch\")\n",
    "print(dataset.schema)"
   ]
  },
  {
   "cell_type": "code",
   "execution_count": 10,
   "id": "8f10acce-0334-4468-9835-29fdb1e2a317",
   "metadata": {},
   "outputs": [
    {
     "data": {
      "text/html": [
       "<div>\n",
       "<style scoped>\n",
       "    .dataframe tbody tr th:only-of-type {\n",
       "        vertical-align: middle;\n",
       "    }\n",
       "\n",
       "    .dataframe tbody tr th {\n",
       "        vertical-align: top;\n",
       "    }\n",
       "\n",
       "    .dataframe thead th {\n",
       "        text-align: right;\n",
       "    }\n",
       "</style>\n",
       "<table border=\"1\" class=\"dataframe\">\n",
       "  <thead>\n",
       "    <tr style=\"text-align: right;\">\n",
       "      <th></th>\n",
       "      <th>id</th>\n",
       "      <th>resnet</th>\n",
       "    </tr>\n",
       "  </thead>\n",
       "  <tbody>\n",
       "    <tr>\n",
       "      <th>0</th>\n",
       "      <td>1</td>\n",
       "      <td>{'label': 726, 'score': 0.694125771522522, 'se...</td>\n",
       "    </tr>\n",
       "    <tr>\n",
       "      <th>1</th>\n",
       "      <td>2</td>\n",
       "      <td>{'label': 917, 'score': 0.8421049118041992, 's...</td>\n",
       "    </tr>\n",
       "    <tr>\n",
       "      <th>2</th>\n",
       "      <td>3</td>\n",
       "      <td>{'label': 13, 'score': 0.8555712103843689, 'se...</td>\n",
       "    </tr>\n",
       "    <tr>\n",
       "      <th>3</th>\n",
       "      <td>4</td>\n",
       "      <td>{'label': 939, 'score': 0.9331550002098083, 's...</td>\n",
       "    </tr>\n",
       "    <tr>\n",
       "      <th>4</th>\n",
       "      <td>5</td>\n",
       "      <td>{'label': 6, 'score': 0.9336700439453125, 'sec...</td>\n",
       "    </tr>\n",
       "    <tr>\n",
       "      <th>...</th>\n",
       "      <td>...</td>\n",
       "      <td>...</td>\n",
       "    </tr>\n",
       "    <tr>\n",
       "      <th>29995</th>\n",
       "      <td>29996</td>\n",
       "      <td>{'label': 658, 'score': 0.9771027565002441, 's...</td>\n",
       "    </tr>\n",
       "    <tr>\n",
       "      <th>29996</th>\n",
       "      <td>29997</td>\n",
       "      <td>{'label': 433, 'score': 0.9925998449325562, 's...</td>\n",
       "    </tr>\n",
       "    <tr>\n",
       "      <th>29997</th>\n",
       "      <td>29998</td>\n",
       "      <td>{'label': 47, 'score': 0.9799998998641968, 'se...</td>\n",
       "    </tr>\n",
       "    <tr>\n",
       "      <th>29998</th>\n",
       "      <td>29999</td>\n",
       "      <td>{'label': 801, 'score': 0.9724040627479553, 's...</td>\n",
       "    </tr>\n",
       "    <tr>\n",
       "      <th>29999</th>\n",
       "      <td>30000</td>\n",
       "      <td>{'label': 444, 'score': 0.9923617839813232, 's...</td>\n",
       "    </tr>\n",
       "  </tbody>\n",
       "</table>\n",
       "<p>30000 rows × 2 columns</p>\n",
       "</div>"
      ],
      "text/plain": [
       "          id                                             resnet\n",
       "0          1  {'label': 726, 'score': 0.694125771522522, 'se...\n",
       "1          2  {'label': 917, 'score': 0.8421049118041992, 's...\n",
       "2          3  {'label': 13, 'score': 0.8555712103843689, 'se...\n",
       "3          4  {'label': 939, 'score': 0.9331550002098083, 's...\n",
       "4          5  {'label': 6, 'score': 0.9336700439453125, 'sec...\n",
       "...      ...                                                ...\n",
       "29995  29996  {'label': 658, 'score': 0.9771027565002441, 's...\n",
       "29996  29997  {'label': 433, 'score': 0.9925998449325562, 's...\n",
       "29997  29998  {'label': 47, 'score': 0.9799998998641968, 'se...\n",
       "29998  29999  {'label': 801, 'score': 0.9724040627479553, 's...\n",
       "29999  30000  {'label': 444, 'score': 0.9923617839813232, 's...\n",
       "\n",
       "[30000 rows x 2 columns]"
      ]
     },
     "execution_count": 10,
     "metadata": {},
     "output_type": "execute_result"
    }
   ],
   "source": [
    "transform = torchvision.models.ResNet50_Weights.DEFAULT.transforms()\n",
    "dataset = Dataset(\n",
    "    uri, \n",
    "    columns=[\"id\", \"image\"],\n",
    "    mode=\"batch\",\n",
    "    batch_size=128\n",
    ")\n",
    "results = []\n",
    "with torch.no_grad():\n",
    "    resnet.eval()\n",
    "    for batch in dataset:\n",
    "        imgs = [transform(img).cuda() for img in batch[1]]\n",
    "        prediction = resnet(torch.stack(imgs)).squeeze(0).softmax(0)\n",
    "        topk = torch.topk(prediction, 2)\n",
    "        for pk, scores, indices in zip(\n",
    "            batch[0], topk.values.tolist(), topk.indices.tolist()\n",
    "        ):\n",
    "            results.append({\n",
    "                \"id\": pk.item(),\n",
    "                \"resnet\": {\n",
    "                    \"label\": indices[0], \n",
    "                    \"score\": scores[0], \n",
    "                    \"second_label\": indices[1],  # Secondary guess\n",
    "                    \"second_score\": scores[1],  # Confidence of the secondary guess.\n",
    "                }\n",
    "            })\n",
    "            \n",
    "df = pd.DataFrame(data=results)\n",
    "df.astype({\"id\": \"int32\"})\n",
    "df"
   ]
  },
  {
   "cell_type": "code",
   "execution_count": 19,
   "id": "73430d0f-116b-4a01-9164-6c5f1ce96a3f",
   "metadata": {},
   "outputs": [],
   "source": [
    "import pyarrow as pa\n",
    "df = df.astype({\"id\": \"int32\"})\n",
    "tab = pa.Table.from_pandas(df)\n"
   ]
  },
  {
   "cell_type": "code",
   "execution_count": 12,
   "id": "33626633-2817-4574-b688-96b93acfb25f",
   "metadata": {},
   "outputs": [],
   "source": [
    "ds = ds.merge(tab, left_on=\"id\", right_on=\"id\")"
   ]
  },
  {
   "cell_type": "code",
   "execution_count": 13,
   "id": "58a8930f-8669-41df-aa88-66699d177eba",
   "metadata": {},
   "outputs": [
    {
     "data": {
      "text/plain": [
       "id: int32\n",
       "image: extension<image[binary]<ImageBinaryType>>\n",
       "label: int16\n",
       "name: dictionary<values=string, indices=int16, ordered=0>\n",
       "split: dictionary<values=string, indices=int8, ordered=0>\n",
       "resnet: struct<label: int64, score: double, second_label: int64, second_score: double>\n",
       "  child 0, label: int64\n",
       "  child 1, score: double\n",
       "  child 2, second_label: int64\n",
       "  child 3, second_score: double"
      ]
     },
     "execution_count": 13,
     "metadata": {},
     "output_type": "execute_result"
    }
   ],
   "source": [
    "ds.schema"
   ]
  },
  {
   "cell_type": "code",
   "execution_count": 14,
   "id": "2d8d24f4-c487-420d-8022-dee97220a787",
   "metadata": {},
   "outputs": [],
   "source": [
    "ds = lance.dataset(uri)"
   ]
  },
  {
   "cell_type": "code",
   "execution_count": 15,
   "id": "3e6b8c96-9277-4d88-9286-427eb4df2694",
   "metadata": {},
   "outputs": [
    {
     "data": {
      "text/plain": [
       "id: int32\n",
       "image: extension<image[binary]<ImageBinaryType>>\n",
       "label: int16\n",
       "name: dictionary<values=string, indices=int16, ordered=0>\n",
       "split: dictionary<values=string, indices=int8, ordered=0>\n",
       "resnet: struct<label: int64, score: double, second_label: int64, second_score: double>\n",
       "  child 0, label: int64\n",
       "  child 1, score: double\n",
       "  child 2, second_label: int64\n",
       "  child 3, second_score: double"
      ]
     },
     "execution_count": 15,
     "metadata": {},
     "output_type": "execute_result"
    }
   ],
   "source": [
    "ds.schema"
   ]
  },
  {
   "cell_type": "code",
   "execution_count": 18,
   "id": "829efba0-0887-47e2-babe-4552e600f545",
   "metadata": {},
   "outputs": [
    {
     "name": "stdout",
     "output_type": "stream",
     "text": [
      "(duckdb.InvalidInputException) Invalid Input Error: arrow_scan: get_next failed(): IOError: Failed to open local file 'imagenet.lance/data/imagenet.lance/data/5293ea0f-7291-4632-b77c-63d65f2fbe0f.lance'. Detail: [errno 2] No such file or directory\n",
      "[SQL: SELECT * EXCLUDE(image) FROM ds WHERE label != resnet.label LIMIT 10]\n",
      "(Background on this error at: https://sqlalche.me/e/14/f405)\n"
     ]
    }
   ],
   "source": [
    "%%sql\n",
    "\n",
    "SELECT * EXCLUDE(image) FROM ds WHERE label != resnet.label LIMIT 10\n"
   ]
  },
  {
   "cell_type": "code",
   "execution_count": 17,
   "id": "10054526-3359-46e2-975b-4ec2215174d3",
   "metadata": {},
   "outputs": [
    {
     "data": {
      "text/plain": [
       "pyarrow.Table\n",
       "id: int32\n",
       "label: int16\n",
       "----\n",
       "id: [[1,2,3,4,5]]\n",
       "label: [[726,917,13,939,6]]"
      ]
     },
     "execution_count": 17,
     "metadata": {},
     "output_type": "execute_result"
    }
   ],
   "source": [
    "duckdb.query(\"SELECT id, label from ds LIMIT 5\").arrow()"
   ]
  },
  {
   "cell_type": "code",
   "execution_count": null,
   "id": "3f76e437-42e3-439d-8c94-c2086add608f",
   "metadata": {},
   "outputs": [],
   "source": []
  }
 ],
 "metadata": {
  "kernelspec": {
   "display_name": "Python 3 (ipykernel)",
   "language": "python",
   "name": "python3"
  },
  "language_info": {
   "codemirror_mode": {
    "name": "ipython",
    "version": 3
   },
   "file_extension": ".py",
   "mimetype": "text/x-python",
   "name": "python",
   "nbconvert_exporter": "python",
   "pygments_lexer": "ipython3",
   "version": "3.10.6"
  }
 },
 "nbformat": 4,
 "nbformat_minor": 5
}
