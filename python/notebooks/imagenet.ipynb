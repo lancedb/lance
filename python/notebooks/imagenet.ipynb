{
 "cells": [
  {
   "cell_type": "markdown",
   "id": "3e6fdcc6-01e1-4abc-9b6a-baa42bdc7aec",
   "metadata": {},
   "source": [
    "# ImageNet 1K Data Quality\n"
   ]
  },
  {
   "cell_type": "code",
   "execution_count": 1,
   "id": "5a10997a-1786-4349-a290-61a10df983c5",
   "metadata": {},
   "outputs": [],
   "source": [
    "import lance\n",
    "import duckdb\n",
    "import torchvision\n",
    "import torch\n",
    "import pandas as pd"
   ]
  },
  {
   "cell_type": "code",
   "execution_count": 2,
   "id": "fc4f6c53-4700-4a66-937c-c7181ce8fea3",
   "metadata": {},
   "outputs": [
    {
     "data": {
      "application/javascript": [
       "\n",
       "            debugger;\n",
       "            let codeCell = (window.Jupyter ?? window.IPython)?.CodeCell;\n",
       "            if (codeCell) {\n",
       "                let highlightModes = (codeCell.options_default ?? codeCell.config_defaults).highlight_modes;\n",
       "                if (!highlightModes['magic_sql'])\n",
       "                    highlightModes['magic_sql'] = {'reg': []};\n",
       "                highlightModes['magic_sql']['reg'].push(/^%%sql/);\n",
       "            }\n",
       "        "
      ]
     },
     "metadata": {},
     "output_type": "display_data"
    },
    {
     "name": "stdout",
     "output_type": "stream",
     "text": [
      "{}\n"
     ]
    }
   ],
   "source": [
    "%load_ext sql\n",
    "%sql duckdb:///:memory:"
   ]
  },
  {
   "cell_type": "code",
   "execution_count": 3,
   "id": "269b8739-0396-4e61-8a1b-63b3570dee0f",
   "metadata": {},
   "outputs": [],
   "source": [
    "uri = \"imagenet.lance\"\n",
    "\n",
    "ds = lance.dataset(uri)"
   ]
  },
  {
   "cell_type": "code",
   "execution_count": 4,
   "id": "f0e17dd1-3669-4ced-acb8-9334f4dbacd4",
   "metadata": {},
   "outputs": [
    {
     "data": {
      "text/plain": [
       "id: int32\n",
       "image: extension<image[binary]<ImageBinaryType>>\n",
       "label: int16\n",
       "name: dictionary<values=string, indices=int16, ordered=0>\n",
       "split: dictionary<values=string, indices=int8, ordered=0>"
      ]
     },
     "execution_count": 4,
     "metadata": {},
     "output_type": "execute_result"
    }
   ],
   "source": [
    "ds.schema"
   ]
  },
  {
   "cell_type": "code",
   "execution_count": 5,
   "id": "b56566ba-e195-46fe-b558-c2fd8da131b2",
   "metadata": {},
   "outputs": [
    {
     "data": {
      "text/plain": [
       "<lance.lib.FileSystemDataset at 0x7fd76a5b9430>"
      ]
     },
     "execution_count": 5,
     "metadata": {},
     "output_type": "execute_result"
    }
   ],
   "source": [
    "ds"
   ]
  },
  {
   "cell_type": "code",
   "execution_count": 6,
   "id": "ba965539-57ba-4684-80db-050fc723e5db",
   "metadata": {},
   "outputs": [],
   "source": [
    "# %%sql --lance\n",
    "\n",
    "# SELECT image, label FROM ds LIMIT 5"
   ]
  },
  {
   "cell_type": "code",
   "execution_count": 7,
   "id": "9f82b63c-3d48-43e0-92cd-bca457184770",
   "metadata": {},
   "outputs": [
    {
     "name": "stdout",
     "output_type": "stream",
     "text": [
      "Took 0.006806373596191406\n"
     ]
    },
    {
     "data": {
      "text/html": [
       "<div>\n",
       "<style scoped>\n",
       "    .dataframe tbody tr th:only-of-type {\n",
       "        vertical-align: middle;\n",
       "    }\n",
       "\n",
       "    .dataframe tbody tr th {\n",
       "        vertical-align: top;\n",
       "    }\n",
       "\n",
       "    .dataframe thead th {\n",
       "        text-align: right;\n",
       "    }\n",
       "</style>\n",
       "<table border=\"1\" class=\"dataframe\">\n",
       "  <thead>\n",
       "    <tr style=\"text-align: right;\">\n",
       "      <th></th>\n",
       "      <th>split</th>\n",
       "      <th>count(split)</th>\n",
       "    </tr>\n",
       "  </thead>\n",
       "  <tbody>\n",
       "    <tr>\n",
       "      <th>0</th>\n",
       "      <td>train</td>\n",
       "      <td>10000</td>\n",
       "    </tr>\n",
       "    <tr>\n",
       "      <th>1</th>\n",
       "      <td>test</td>\n",
       "      <td>10000</td>\n",
       "    </tr>\n",
       "    <tr>\n",
       "      <th>2</th>\n",
       "      <td>validation</td>\n",
       "      <td>10000</td>\n",
       "    </tr>\n",
       "  </tbody>\n",
       "</table>\n",
       "</div>"
      ],
      "text/plain": [
       "        split  count(split)\n",
       "0       train         10000\n",
       "1        test         10000\n",
       "2  validation         10000"
      ]
     },
     "execution_count": 7,
     "metadata": {},
     "output_type": "execute_result"
    }
   ],
   "source": [
    "%%sql\n",
    "\n",
    "SELECT split, count(split) FROM ds GROUP BY split"
   ]
  },
  {
   "cell_type": "code",
   "execution_count": 8,
   "id": "1e4c6619-0505-4e4a-8f57-59cf6740ebdc",
   "metadata": {},
   "outputs": [],
   "source": [
    "from torchvision.models import resnet50, vit_b_16\n",
    "\n",
    "resnet = resnet50(weights=\"DEFAULT\").cuda()\n",
    "vit = vit_b_16(weights=\"DEFAULT\").cuda()"
   ]
  },
  {
   "cell_type": "code",
   "execution_count": 9,
   "id": "c5c2460e-6c20-4fe8-8f29-cc09b1dda0cb",
   "metadata": {},
   "outputs": [
    {
     "name": "stdout",
     "output_type": "stream",
     "text": [
      "id: int32\n",
      "image: extension<image[binary]<ImageBinaryType>>\n",
      "label: int16\n",
      "name: dictionary<values=string, indices=int16, ordered=0>\n",
      "split: dictionary<values=string, indices=int8, ordered=0>\n"
     ]
    }
   ],
   "source": [
    "# TODO: make easy conversion between lance.Dataset and pytorch.Dataset\n",
    "\n",
    "from lance.pytorch import Dataset\n",
    "dataset = Dataset(uri, columns=[\"id\", \"image\"], mode=\"batch\")\n",
    "print(dataset.schema)"
   ]
  },
  {
   "cell_type": "code",
   "execution_count": 10,
   "id": "8f10acce-0334-4468-9835-29fdb1e2a317",
   "metadata": {},
   "outputs": [
    {
     "data": {
      "text/html": [
       "<div>\n",
       "<style scoped>\n",
       "    .dataframe tbody tr th:only-of-type {\n",
       "        vertical-align: middle;\n",
       "    }\n",
       "\n",
       "    .dataframe tbody tr th {\n",
       "        vertical-align: top;\n",
       "    }\n",
       "\n",
       "    .dataframe thead th {\n",
       "        text-align: right;\n",
       "    }\n",
       "</style>\n",
       "<table border=\"1\" class=\"dataframe\">\n",
       "  <thead>\n",
       "    <tr style=\"text-align: right;\">\n",
       "      <th></th>\n",
       "      <th>id</th>\n",
       "      <th>resnet</th>\n",
       "    </tr>\n",
       "  </thead>\n",
       "  <tbody>\n",
       "    <tr>\n",
       "      <th>0</th>\n",
       "      <td>1</td>\n",
       "      <td>{'label': 726, 'score': 0.694125771522522, 'se...</td>\n",
       "    </tr>\n",
       "    <tr>\n",
       "      <th>1</th>\n",
       "      <td>2</td>\n",
       "      <td>{'label': 917, 'score': 0.8421049118041992, 's...</td>\n",
       "    </tr>\n",
       "    <tr>\n",
       "      <th>2</th>\n",
       "      <td>3</td>\n",
       "      <td>{'label': 13, 'score': 0.8555712103843689, 'se...</td>\n",
       "    </tr>\n",
       "    <tr>\n",
       "      <th>3</th>\n",
       "      <td>4</td>\n",
       "      <td>{'label': 939, 'score': 0.9331550002098083, 's...</td>\n",
       "    </tr>\n",
       "    <tr>\n",
       "      <th>4</th>\n",
       "      <td>5</td>\n",
       "      <td>{'label': 6, 'score': 0.9336700439453125, 'sec...</td>\n",
       "    </tr>\n",
       "    <tr>\n",
       "      <th>...</th>\n",
       "      <td>...</td>\n",
       "      <td>...</td>\n",
       "    </tr>\n",
       "    <tr>\n",
       "      <th>29995</th>\n",
       "      <td>29996</td>\n",
       "      <td>{'label': 658, 'score': 0.9771027565002441, 's...</td>\n",
       "    </tr>\n",
       "    <tr>\n",
       "      <th>29996</th>\n",
       "      <td>29997</td>\n",
       "      <td>{'label': 433, 'score': 0.9925998449325562, 's...</td>\n",
       "    </tr>\n",
       "    <tr>\n",
       "      <th>29997</th>\n",
       "      <td>29998</td>\n",
       "      <td>{'label': 47, 'score': 0.9799998998641968, 'se...</td>\n",
       "    </tr>\n",
       "    <tr>\n",
       "      <th>29998</th>\n",
       "      <td>29999</td>\n",
       "      <td>{'label': 801, 'score': 0.9724040627479553, 's...</td>\n",
       "    </tr>\n",
       "    <tr>\n",
       "      <th>29999</th>\n",
       "      <td>30000</td>\n",
       "      <td>{'label': 444, 'score': 0.9923617839813232, 's...</td>\n",
       "    </tr>\n",
       "  </tbody>\n",
       "</table>\n",
       "<p>30000 rows × 2 columns</p>\n",
       "</div>"
      ],
      "text/plain": [
       "          id                                             resnet\n",
       "0          1  {'label': 726, 'score': 0.694125771522522, 'se...\n",
       "1          2  {'label': 917, 'score': 0.8421049118041992, 's...\n",
       "2          3  {'label': 13, 'score': 0.8555712103843689, 'se...\n",
       "3          4  {'label': 939, 'score': 0.9331550002098083, 's...\n",
       "4          5  {'label': 6, 'score': 0.9336700439453125, 'sec...\n",
       "...      ...                                                ...\n",
       "29995  29996  {'label': 658, 'score': 0.9771027565002441, 's...\n",
       "29996  29997  {'label': 433, 'score': 0.9925998449325562, 's...\n",
       "29997  29998  {'label': 47, 'score': 0.9799998998641968, 'se...\n",
       "29998  29999  {'label': 801, 'score': 0.9724040627479553, 's...\n",
       "29999  30000  {'label': 444, 'score': 0.9923617839813232, 's...\n",
       "\n",
       "[30000 rows x 2 columns]"
      ]
     },
     "execution_count": 10,
     "metadata": {},
     "output_type": "execute_result"
    }
   ],
   "source": [
    "transform = torchvision.models.ResNet50_Weights.DEFAULT.transforms()\n",
    "dataset = Dataset(\n",
    "    uri, \n",
    "    columns=[\"id\", \"image\"],\n",
    "    mode=\"batch\",\n",
    "    batch_size=128\n",
    ")\n",
    "results = []\n",
    "with torch.no_grad():\n",
    "    resnet.eval()\n",
    "    for batch in dataset:\n",
    "        imgs = [transform(img).cuda() for img in batch[1]]\n",
    "        prediction = resnet(torch.stack(imgs)).squeeze(0).softmax(0)\n",
    "        topk = torch.topk(prediction, 2)\n",
    "        for pk, scores, indices in zip(\n",
    "            batch[0], topk.values.tolist(), topk.indices.tolist()\n",
    "        ):\n",
    "            results.append({\n",
    "                \"id\": pk.item(),\n",
    "                \"resnet\": {\n",
    "                    \"label\": indices[0], \n",
    "                    \"score\": scores[0], \n",
    "                    \"second_label\": indices[1],  # Secondary guess\n",
    "                    \"second_score\": scores[1],  # Confidence of the secondary guess.\n",
    "                }\n",
    "            })\n",
    "            \n",
    "df = pd.DataFrame(data=results)\n",
    "df.astype({\"id\": \"int32\"})\n",
    "df"
   ]
  },
  {
   "cell_type": "code",
   "execution_count": 11,
   "id": "73430d0f-116b-4a01-9164-6c5f1ce96a3f",
   "metadata": {},
   "outputs": [],
   "source": [
    "import pyarrow as pa\n",
    "df = df.astype({\"id\": \"int32\"})\n",
    "tab = pa.Table.from_pandas(df)\n"
   ]
  },
  {
   "cell_type": "code",
   "execution_count": 12,
   "id": "33626633-2817-4574-b688-96b93acfb25f",
   "metadata": {},
   "outputs": [],
   "source": [
    "ds = ds.merge(tab, left_on=\"id\", right_on=\"id\")"
   ]
  },
  {
   "cell_type": "code",
   "execution_count": 13,
   "id": "58a8930f-8669-41df-aa88-66699d177eba",
   "metadata": {},
   "outputs": [
    {
     "data": {
      "text/plain": [
       "id: int32\n",
       "image: extension<image[binary]<ImageBinaryType>>\n",
       "label: int16\n",
       "name: dictionary<values=string, indices=int16, ordered=0>\n",
       "split: dictionary<values=string, indices=int8, ordered=0>\n",
       "resnet: struct<label: int64, score: double, second_label: int64, second_score: double>\n",
       "  child 0, label: int64\n",
       "  child 1, score: double\n",
       "  child 2, second_label: int64\n",
       "  child 3, second_score: double"
      ]
     },
     "execution_count": 13,
     "metadata": {},
     "output_type": "execute_result"
    }
   ],
   "source": [
    "ds.schema"
   ]
  },
  {
   "cell_type": "code",
   "execution_count": 14,
   "id": "2d8d24f4-c487-420d-8022-dee97220a787",
   "metadata": {},
   "outputs": [],
   "source": [
    "ds = lance.dataset(uri)"
   ]
  },
  {
   "cell_type": "code",
   "execution_count": 15,
   "id": "3e6b8c96-9277-4d88-9286-427eb4df2694",
   "metadata": {},
   "outputs": [
    {
     "data": {
      "text/plain": [
       "id: int32\n",
       "image: extension<image[binary]<ImageBinaryType>>\n",
       "label: int16\n",
       "name: dictionary<values=string, indices=int16, ordered=0>\n",
       "split: dictionary<values=string, indices=int8, ordered=0>\n",
       "resnet: struct<label: int64, score: double, second_label: int64, second_score: double>\n",
       "  child 0, label: int64\n",
       "  child 1, score: double\n",
       "  child 2, second_label: int64\n",
       "  child 3, second_score: double"
      ]
     },
     "execution_count": 15,
     "metadata": {},
     "output_type": "execute_result"
    }
   ],
   "source": [
    "ds.schema"
   ]
  },
  {
   "cell_type": "code",
   "execution_count": 18,
   "id": "829efba0-0887-47e2-babe-4552e600f545",
   "metadata": {},
   "outputs": [
    {
     "name": "stdout",
     "output_type": "stream",
     "text": [
      "Took 0.010018348693847656\n"
     ]
    },
    {
     "data": {
      "text/html": [
       "<div>\n",
       "<style scoped>\n",
       "    .dataframe tbody tr th:only-of-type {\n",
       "        vertical-align: middle;\n",
       "    }\n",
       "\n",
       "    .dataframe tbody tr th {\n",
       "        vertical-align: top;\n",
       "    }\n",
       "\n",
       "    .dataframe thead th {\n",
       "        text-align: right;\n",
       "    }\n",
       "</style>\n",
       "<table border=\"1\" class=\"dataframe\">\n",
       "  <thead>\n",
       "    <tr style=\"text-align: right;\">\n",
       "      <th></th>\n",
       "      <th>id</th>\n",
       "      <th>label</th>\n",
       "      <th>name</th>\n",
       "      <th>split</th>\n",
       "      <th>resnet</th>\n",
       "    </tr>\n",
       "  </thead>\n",
       "  <tbody>\n",
       "    <tr>\n",
       "      <th>0</th>\n",
       "      <td>13</td>\n",
       "      <td>575</td>\n",
       "      <td>golfcart, golf cart</td>\n",
       "      <td>train</td>\n",
       "      <td>{'label': 785, 'score': 0.3907656967639923, 's...</td>\n",
       "    </tr>\n",
       "    <tr>\n",
       "      <th>1</th>\n",
       "      <td>16</td>\n",
       "      <td>219</td>\n",
       "      <td>cocker spaniel, English cocker spaniel, cocker</td>\n",
       "      <td>train</td>\n",
       "      <td>{'label': 213, 'score': 0.8196388483047485, 's...</td>\n",
       "    </tr>\n",
       "    <tr>\n",
       "      <th>2</th>\n",
       "      <td>45</td>\n",
       "      <td>968</td>\n",
       "      <td>cup</td>\n",
       "      <td>train</td>\n",
       "      <td>{'label': 899, 'score': 0.4809149503707886, 's...</td>\n",
       "    </tr>\n",
       "    <tr>\n",
       "      <th>3</th>\n",
       "      <td>52</td>\n",
       "      <td>304</td>\n",
       "      <td>leaf beetle, chrysomelid</td>\n",
       "      <td>train</td>\n",
       "      <td>{'label': 305, 'score': 0.8165855407714844, 's...</td>\n",
       "    </tr>\n",
       "    <tr>\n",
       "      <th>4</th>\n",
       "      <td>54</td>\n",
       "      <td>940</td>\n",
       "      <td>spaghetti squash</td>\n",
       "      <td>train</td>\n",
       "      <td>{'label': 936, 'score': 0.70237797498703, 'sec...</td>\n",
       "    </tr>\n",
       "    <tr>\n",
       "      <th>5</th>\n",
       "      <td>60</td>\n",
       "      <td>67</td>\n",
       "      <td>diamondback, diamondback rattlesnake, Crotalus...</td>\n",
       "      <td>train</td>\n",
       "      <td>{'label': 68, 'score': 0.8087248802185059, 'se...</td>\n",
       "    </tr>\n",
       "    <tr>\n",
       "      <th>6</th>\n",
       "      <td>71</td>\n",
       "      <td>459</td>\n",
       "      <td>brassiere, bra, bandeau</td>\n",
       "      <td>train</td>\n",
       "      <td>{'label': 824, 'score': 0.8276260495185852, 's...</td>\n",
       "    </tr>\n",
       "    <tr>\n",
       "      <th>7</th>\n",
       "      <td>79</td>\n",
       "      <td>782</td>\n",
       "      <td>screen, CRT screen</td>\n",
       "      <td>train</td>\n",
       "      <td>{'label': 664, 'score': 0.8757317066192627, 's...</td>\n",
       "    </tr>\n",
       "    <tr>\n",
       "      <th>8</th>\n",
       "      <td>86</td>\n",
       "      <td>256</td>\n",
       "      <td>Newfoundland, Newfoundland dog</td>\n",
       "      <td>train</td>\n",
       "      <td>{'label': 205, 'score': 0.6166163086891174, 's...</td>\n",
       "    </tr>\n",
       "    <tr>\n",
       "      <th>9</th>\n",
       "      <td>105</td>\n",
       "      <td>371</td>\n",
       "      <td>patas, hussar monkey, Erythrocebus patas</td>\n",
       "      <td>train</td>\n",
       "      <td>{'label': 370, 'score': 0.8230134844779968, 's...</td>\n",
       "    </tr>\n",
       "  </tbody>\n",
       "</table>\n",
       "</div>"
      ],
      "text/plain": [
       "    id  label                                               name  split  \\\n",
       "0   13    575                                golfcart, golf cart  train   \n",
       "1   16    219     cocker spaniel, English cocker spaniel, cocker  train   \n",
       "2   45    968                                                cup  train   \n",
       "3   52    304                           leaf beetle, chrysomelid  train   \n",
       "4   54    940                                   spaghetti squash  train   \n",
       "5   60     67  diamondback, diamondback rattlesnake, Crotalus...  train   \n",
       "6   71    459                            brassiere, bra, bandeau  train   \n",
       "7   79    782                                 screen, CRT screen  train   \n",
       "8   86    256                     Newfoundland, Newfoundland dog  train   \n",
       "9  105    371           patas, hussar monkey, Erythrocebus patas  train   \n",
       "\n",
       "                                              resnet  \n",
       "0  {'label': 785, 'score': 0.3907656967639923, 's...  \n",
       "1  {'label': 213, 'score': 0.8196388483047485, 's...  \n",
       "2  {'label': 899, 'score': 0.4809149503707886, 's...  \n",
       "3  {'label': 305, 'score': 0.8165855407714844, 's...  \n",
       "4  {'label': 936, 'score': 0.70237797498703, 'sec...  \n",
       "5  {'label': 68, 'score': 0.8087248802185059, 'se...  \n",
       "6  {'label': 824, 'score': 0.8276260495185852, 's...  \n",
       "7  {'label': 664, 'score': 0.8757317066192627, 's...  \n",
       "8  {'label': 205, 'score': 0.6166163086891174, 's...  \n",
       "9  {'label': 370, 'score': 0.8230134844779968, 's...  "
      ]
     },
     "execution_count": 18,
     "metadata": {},
     "output_type": "execute_result"
    }
   ],
   "source": [
    "%%sql\n",
    "\n",
    "SELECT * EXCLUDE(image) FROM ds WHERE label != resnet.label AND split != 'test' LIMIT 10\n"
   ]
  },
  {
   "cell_type": "code",
   "execution_count": 17,
   "id": "10054526-3359-46e2-975b-4ec2215174d3",
   "metadata": {},
   "outputs": [
    {
     "data": {
      "text/plain": [
       "pyarrow.Table\n",
       "id: int32\n",
       "label: int16\n",
       "----\n",
       "id: [[1,2,3,4,5]]\n",
       "label: [[726,917,13,939,6]]"
      ]
     },
     "execution_count": 17,
     "metadata": {},
     "output_type": "execute_result"
    }
   ],
   "source": [
    "duckdb.query(\"SELECT id, label from ds LIMIT 5\").arrow()"
   ]
  },
  {
   "cell_type": "code",
   "execution_count": null,
   "id": "3f76e437-42e3-439d-8c94-c2086add608f",
   "metadata": {},
   "outputs": [],
   "source": []
  }
 ],
 "metadata": {
  "kernelspec": {
   "display_name": "Python 3 (ipykernel)",
   "language": "python",
   "name": "python3"
  },
  "language_info": {
   "codemirror_mode": {
    "name": "ipython",
    "version": 3
   },
   "file_extension": ".py",
   "mimetype": "text/x-python",
   "name": "python",
   "nbconvert_exporter": "python",
   "pygments_lexer": "ipython3",
   "version": "3.10.6"
  }
 },
 "nbformat": 4,
 "nbformat_minor": 5
}
