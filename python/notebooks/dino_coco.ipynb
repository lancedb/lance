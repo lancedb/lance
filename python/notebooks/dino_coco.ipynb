{
 "cells": [
  {
   "cell_type": "markdown",
   "metadata": {
    "id": "XB-jitxQsQuj"
   },
   "source": [
    "# DINO: DETR with Improved DeNoising Anchor Boxes for End-to-End Object Detection\n",
    "\n",
    "https://github.com/IDEA-Research/DINO\n",
    "\n",
    "[Papers With Code Link](https://paperswithcode.com/paper/focal-modulation-networks)"
   ]
  },
  {
   "cell_type": "code",
   "execution_count": 1,
   "metadata": {
    "id": "RgFU4gGiroou"
   },
   "outputs": [],
   "source": [
    "!pip install --quiet pylance duckdb torch torchvision transforms"
   ]
  },
  {
   "cell_type": "markdown",
   "metadata": {
    "id": "bj2GEDTCvW1D"
   },
   "source": [
    "## Build and install [DINO]() Model"
   ]
  },
  {
   "cell_type": "code",
   "execution_count": 2,
   "metadata": {
    "colab": {
     "base_uri": "https://localhost:8080/"
    },
    "id": "eCFwh-_AtGqR",
    "outputId": "da37e6ce-540e-4c6e-d50f-c7f0b7524cb4"
   },
   "outputs": [
    {
     "name": "stdout",
     "output_type": "stream",
     "text": [
      "Already up to date.\n",
      "/home/lei/work/lance/python/notebooks/DINO\n",
      "/home/lei/work/lance/python/venv/lib/python3.10/site-packages/torch/utils/cpp_extension.py:476: UserWarning: Attempted to use ninja as the BuildExtension backend but we could not find ninja.. Falling back to using the slow distutils backend.\n",
      "  warnings.warn(msg.format('we could not find ninja.'))\n",
      "/home/lei/work/lance/python/venv/lib/python3.10/site-packages/torch/utils/cpp_extension.py:387: UserWarning: The detected CUDA version (11.8) has a minor version mismatch with the version that was used to compile PyTorch (11.7). Most likely this shouldn't be a problem.\n",
      "  warnings.warn(CUDA_MISMATCH_WARN.format(cuda_str_version, torch.version.cuda))\n",
      "/home/lei/work/lance/python/venv/lib/python3.10/site-packages/torch/utils/cpp_extension.py:397: UserWarning: There are no x86_64-linux-gnu-g++ version bounds defined for CUDA version 11.8\n",
      "  warnings.warn(f'There are no {compiler_name} version bounds defined for CUDA version {cuda_str_version}')\n",
      "/home/lei/work/lance/python/venv/lib/python3.10/site-packages/setuptools/command/install.py:34: SetuptoolsDeprecationWarning: setup.py install is deprecated. Use build and pip and other standards-based tools.\n",
      "  warnings.warn(\n",
      "/home/lei/work/lance/python/venv/lib/python3.10/site-packages/setuptools/command/easy_install.py:144: EasyInstallDeprecationWarning: easy_install command is deprecated. Use build and pip and other standards-based tools.\n",
      "  warnings.warn(\n",
      "zip_safe flag not set; analyzing archive contents...\n",
      "__pycache__.MultiScaleDeformableAttention.cpython-310: module references __file__\n"
     ]
    }
   ],
   "source": [
    "!git -C DINO pull || git clone https://github.com/IDEACVR/DINO\n",
    "%cd DINO\n",
    "\n",
    "!pip install --quiet -r requirements.txt \\\n",
    "  && cd models/dino/ops \\\n",
    "  && python setup.py -q build install"
   ]
  },
  {
   "cell_type": "code",
   "execution_count": 3,
   "metadata": {
    "colab": {
     "base_uri": "https://localhost:8080/"
    },
    "id": "zL2g1T-lveXO",
    "outputId": "6eeec42b-75b9-4081-a906-e252d186144f"
   },
   "outputs": [
    {
     "name": "stderr",
     "output_type": "stream",
     "text": [
      "/home/lei/work/lance/python/venv/lib/python3.10/site-packages/torchvision/models/_utils.py:208: UserWarning: The parameter 'pretrained' is deprecated since 0.13 and may be removed in the future, please use 'weights' instead.\n",
      "  warnings.warn(\n",
      "/home/lei/work/lance/python/venv/lib/python3.10/site-packages/torchvision/models/_utils.py:223: UserWarning: Arguments other than a weight enum or `None` for 'weights' are deprecated since 0.13 and may be removed in the future. The current behavior is equivalent to passing `weights=ResNet50_Weights.IMAGENET1K_V1`. You can also use `weights=ResNet50_Weights.DEFAULT` to get the most up-to-date weights.\n",
      "  warnings.warn(msg)\n"
     ]
    }
   ],
   "source": [
    "# See https://github.com/IDEA-Research/DINO/blob/main/inference_and_visualization.ipynb\n",
    "# for instruction to load model\n",
    "from util.slconfig import SLConfig\n",
    "from main import build_model_main\n",
    "model_config_path = \"config/DINO/DINO_4scale.py\"\n",
    "\n",
    "args = SLConfig.fromfile(model_config_path) \n",
    "args.device = 'cuda' \n",
    "model, criterion, postprocessors = build_model_main(args)"
   ]
  },
  {
   "cell_type": "code",
   "execution_count": 4,
   "metadata": {
    "id": "27ah_AGcxHS5"
   },
   "outputs": [],
   "source": [
    "# Downloads weights\n",
    "\n",
    "# Download DINO-4scale weights\n",
    "! [[ -f /tmp/model.pt ]] || gsutil cp gs://eto-public/models/dino/checkpoint0033_4scale.pth /tmp/model.pt\n",
    "import torch\n",
    "model_checkpoint_path = \"/tmp/model.pt\"\n",
    "checkpoint = torch.load(model_checkpoint_path)\n",
    "model.load_state_dict(checkpoint['model'])\n",
    "_ = model.cuda().eval()"
   ]
  },
  {
   "cell_type": "markdown",
   "metadata": {
    "id": "xxfGl-V6xeqS"
   },
   "source": [
    "## Prepare COCO validation dataset to [Lance](https://github.com/eto-ai/lance) format."
   ]
  },
  {
   "cell_type": "code",
   "execution_count": 7,
   "metadata": {
    "colab": {
     "base_uri": "https://localhost:8080/",
     "height": 1000
    },
    "id": "LUEmksJKIP4b",
    "outputId": "1a2e3983-653f-4c15-beab-cd466b3278a7"
   },
   "outputs": [
    {
     "name": "stdout",
     "output_type": "stream",
     "text": [
      "dict_keys(['info', 'licenses', 'images', 'annotations', 'categories'])\n"
     ]
    }
   ],
   "source": [
    "! [[ -f annotations/instances_val2017.json ]] || ( \\\n",
    "  wget -O /tmp/annotations.zip http://images.cocodataset.org/annotations/annotations_trainval2017.zip && \\\n",
    "  unzip -o -qq /tmp/annotations.zip && rm annotations.zip \\\n",
    ")\n",
    "! [[ -d val2017/ ]] || ( \\\n",
    "  wget -O /tmp/val2017.zip http://images.cocodataset.org/zips/val2017.zip && \\\n",
    "  unzip -o -qq /tmp/val2017.zip && \\\n",
    "  rm val2017.zip )\n",
    "\n",
    "import pandas as pd\n",
    "import json\n",
    "from lance.data.convert.coco import load_detection\n",
    "\n",
    "val_data = load_detection(\"val2017\", \"annotations/instances_val2017.json\")\n",
    "val_data\n"
   ]
  },
  {
   "cell_type": "code",
   "execution_count": null,
   "metadata": {
    "colab": {
     "base_uri": "https://localhost:8080/",
     "height": 570
    },
    "id": "p66vbzcW5uhO",
    "outputId": "2dc99199-6200-4083-c362-f9a32846d40e"
   },
   "outputs": [],
   "source": [
    "from lance.pytorch import Dataset\n",
    "import torchvision.transforms as T\n",
    "import pandas as pd\n",
    "\n",
    "transform = T.Compose([\n",
    "    T.Resize(400),\n",
    "    T.ToTensor(),\n",
    "    T.Normalize([0.485, 0.456, 0.406], [0.229, 0.224, 0.225])\n",
    "])\n",
    "\n",
    "threshold = 0.5\n",
    "\n",
    "dataset = Dataset(\n",
    "    \"s3://eto-public/datasets/coco/coco.lance\",\n",
    "    columns=[\"image\", \"split\", \"image_id\"],\n",
    "    # mode=\"batch\",\n",
    "    batch_size=8)\n",
    "results = []\n",
    "with torch.no_grad():\n",
    "  for batch in dataset:\n",
    "    image_id = batch[2].cpu().item()\n",
    "    imgs = [transform(batch[0]).cuda()]\n",
    "    # print(batch, batch.shape)\n",
    "    output = model(imgs)\n",
    "    output = postprocessors['bbox'](output, torch.Tensor([[1.0, 1.0]]).cuda())[0]\n",
    "    mask = output[\"scores\"] > threshold\n",
    "    pred = {\n",
    "        \"image_id\": image_id,\n",
    "        \"boxes\": output[\"boxes\"][mask].cpu().numpy(),\n",
    "        \"labels\": output[\"labels\"][mask].cpu().numpy(),\n",
    "        \"scores\": output[\"scores\"][mask].cpu().numpy(),\n",
    "    }\n",
    "    del output\n",
    "    results.append(pred)\n",
    "\n",
    "df = pd.DataFrame(data=results)\n",
    "df"
   ]
  }
 ],
 "metadata": {
  "accelerator": "GPU",
  "colab": {
   "authorship_tag": "ABX9TyMvmDFMzPhOs4C3bt8kjhCr",
   "collapsed_sections": [
    "bj2GEDTCvW1D"
   ],
   "provenance": []
  },
  "gpuClass": "standard",
  "kernelspec": {
   "display_name": "Python 3 (ipykernel)",
   "language": "python",
   "name": "python3"
  },
  "language_info": {
   "codemirror_mode": {
    "name": "ipython",
    "version": 3
   },
   "file_extension": ".py",
   "mimetype": "text/x-python",
   "name": "python",
   "nbconvert_exporter": "python",
   "pygments_lexer": "ipython3",
   "version": "3.10.6"
  }
 },
 "nbformat": 4,
 "nbformat_minor": 4
}
