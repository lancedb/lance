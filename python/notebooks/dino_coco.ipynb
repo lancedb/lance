{
  "cells": [
    {
      "cell_type": "markdown",
      "metadata": {
        "id": "XB-jitxQsQuj"
      },
      "source": [
        "# DINO: DETR with Improved DeNoising Anchor Boxes for End-to-End Object Detection\n",
        "\n",
        "https://github.com/IDEA-Research/DINO\n",
        "\n",
        "[Papers With Code Link](https://paperswithcode.com/paper/focal-modulation-networks)"
      ]
    },
    {
      "cell_type": "markdown",
      "metadata": {
        "id": "bj2GEDTCvW1D"
      },
      "source": [
        "## Build and install [DINO](https://github.com/IDEA-Research/DINO) Model.\n",
        "\n",
        "DINO model requires building CUDA ops. After this step, we need to ***restart the runtime***."
      ]
    },
    {
      "cell_type": "code",
      "execution_count": 1,
      "metadata": {
        "colab": {
          "base_uri": "https://localhost:8080/"
        },
        "id": "eCFwh-_AtGqR",
        "outputId": "23e9ee8d-8b6b-400a-918a-df54a404715f"
      },
      "outputs": [
        {
          "output_type": "stream",
          "name": "stdout",
          "text": [
            "Already up to date.\n",
            "/content/DINO\n",
            "\u001b[31mERROR: pip's dependency resolver does not currently take into account all the packages that are installed. This behaviour is the source of the following dependency conflicts.\n",
            "pandas-gbq 0.17.9 requires pyarrow<10.0dev,>=3.0.0, but you have pyarrow 10.0.1 which is incompatible.\n",
            "db-dtypes 1.0.4 requires pyarrow<10.0dev,>=3.0.0, but you have pyarrow 10.0.1 which is incompatible.\u001b[0m\n",
            "/usr/local/lib/python3.8/dist-packages/torch/utils/cpp_extension.py:476: UserWarning: Attempted to use ninja as the BuildExtension backend but we could not find ninja.. Falling back to using the slow distutils backend.\n",
            "  warnings.warn(msg.format('we could not find ninja.'))\n",
            "/usr/local/lib/python3.8/dist-packages/torch/utils/cpp_extension.py:387: UserWarning: The detected CUDA version (11.2) has a minor version mismatch with the version that was used to compile PyTorch (11.6). Most likely this shouldn't be a problem.\n",
            "  warnings.warn(CUDA_MISMATCH_WARN.format(cuda_str_version, torch.version.cuda))\n",
            "zip_safe flag not set; analyzing archive contents...\n",
            "__pycache__.MultiScaleDeformableAttention.cpython-38: module references __file__\n"
          ]
        }
      ],
      "source": [
        "!git -C DINO pull || git clone https://github.com/IDEACVR/DINO\n",
        "%cd DINO\n",
        "!pip install --quiet -r requirements.txt \\\n",
        "  && cd models/dino/ops \\\n",
        "  && python setup.py -q build install\n"
      ]
    },
    {
      "cell_type": "code",
      "execution_count": 2,
      "metadata": {
        "id": "RgFU4gGiroou",
        "colab": {
          "base_uri": "https://localhost:8080/"
        },
        "outputId": "c4367f64-aa53-42f2-a55a-e979b469c398"
      },
      "outputs": [
        {
          "output_type": "stream",
          "name": "stdout",
          "text": [
            "\u001b[31mERROR: pip's dependency resolver does not currently take into account all the packages that are installed. This behaviour is the source of the following dependency conflicts.\n",
            "scipy 1.7.3 requires numpy<1.23.0,>=1.16.5, but you have numpy 1.23.5 which is incompatible.\n",
            "pandas-gbq 0.17.9 requires pyarrow<10.0dev,>=3.0.0, but you have pyarrow 10.0.1 which is incompatible.\n",
            "db-dtypes 1.0.4 requires pyarrow<10.0dev,>=3.0.0, but you have pyarrow 10.0.1 which is incompatible.\u001b[0m\n"
          ]
        }
      ],
      "source": [
        "!pip install --quiet -U pylance duckdb torch torchvision transforms numpy pyarrow pandas"
      ]
    },
    {
      "cell_type": "code",
      "execution_count": 15,
      "metadata": {
        "id": "zL2g1T-lveXO"
      },
      "outputs": [],
      "source": [
        "# See https://github.com/IDEA-Research/DINO/blob/main/inference_and_visualization.ipynb\n",
        "# for instruction to load model\n",
        "from util.slconfig import SLConfig\n",
        "from main import build_model_main\n",
        "import torch\n",
        "\n",
        "model_config_path = \"config/DINO/DINO_4scale.py\"\n",
        "\n",
        "args = SLConfig.fromfile(model_config_path) \n",
        "args.device = 'cuda' \n",
        "model, criterion, postprocessors = build_model_main(args)\n",
        "\n",
        "# Download model weights.\n",
        "#\n",
        "! [[ -f /tmp/model.pt ]] || gsutil cp gs://eto-public/models/dino/checkpoint0033_4scale.pth /tmp/model.pt\n",
        "\n",
        "model_checkpoint_path = \"/tmp/model.pt\"\n",
        "checkpoint = torch.load(model_checkpoint_path)\n",
        "model.load_state_dict(checkpoint['model'])\n",
        "_ = model.cuda().eval()\n"
      ]
    },
    {
      "cell_type": "markdown",
      "metadata": {
        "id": "xxfGl-V6xeqS"
      },
      "source": [
        "## Prepare COCO validation dataset"
      ]
    },
    {
      "cell_type": "code",
      "execution_count": 5,
      "metadata": {
        "colab": {
          "base_uri": "https://localhost:8080/"
        },
        "id": "LUEmksJKIP4b",
        "outputId": "7d36f781-f98f-4be7-b1b9-f12873178984"
      },
      "outputs": [
        {
          "output_type": "stream",
          "name": "stdout",
          "text": [
            "Copying gs://eto-public/datasets/coco/coco_val.lance.tar.gz...\n",
            "\\ [1 files][771.6 MiB/771.6 MiB]   65.2 MiB/s                                   \n",
            "Operation completed over 1 objects/771.6 MiB.                                    \n"
          ]
        }
      ],
      "source": [
        "! gsutil cp gs://eto-public/datasets/coco/coco_val.lance.tar.gz /tmp/\n",
        "! tar -C /tmp -xzf /tmp/coco_val.lance.tar.gz && rm /tmp/coco_val.lance.tar.gz"
      ]
    },
    {
      "cell_type": "code",
      "execution_count": 18,
      "metadata": {
        "colab": {
          "base_uri": "https://localhost:8080/",
          "height": 2622
        },
        "id": "p66vbzcW5uhO",
        "outputId": "837c64b9-b132-46e3-ee37-d82cfa87a5f6"
      },
      "outputs": [
        {
          "output_type": "execute_result",
          "data": {
            "text/plain": [
              "     image_id                                               dino\n",
              "0      397133  {'boxes': [[0.049877457320690155, 0.8039787411...\n",
              "1       37777  {'boxes': [[0.8468257784843445, 0.278243213891...\n",
              "2      252219  {'boxes': [[0.790980875492096, 0.4010539650917...\n",
              "3       87038  {'boxes': [[0.39683473110198975, 0.46433973312...\n",
              "4      174482  {'boxes': [[0.3026779592037201, 0.028677880764...\n",
              "..        ...                                                ...\n",
              "99     544519  {'boxes': [[0.2790755033493042, 0.584424138069...\n",
              "100     96493  {'boxes': [[0.2622336447238922, 0.001933038234...\n",
              "101     23899  {'boxes': [[0.0013131499290466309, 0.073289811...\n",
              "102    340175  {'boxes': [[0.6675552129745483, 0.446382582187...\n",
              "103    578500  {'boxes': [[0.49821174144744873, 0.51897251605...\n",
              "\n",
              "[104 rows x 2 columns]"
            ],
            "text/html": [
              "\n",
              "  <div id=\"df-2b50d034-3196-40df-9a50-5977f03483ac\">\n",
              "    <div class=\"colab-df-container\">\n",
              "      <div>\n",
              "<style scoped>\n",
              "    .dataframe tbody tr th:only-of-type {\n",
              "        vertical-align: middle;\n",
              "    }\n",
              "\n",
              "    .dataframe tbody tr th {\n",
              "        vertical-align: top;\n",
              "    }\n",
              "\n",
              "    .dataframe thead th {\n",
              "        text-align: right;\n",
              "    }\n",
              "</style>\n",
              "<table border=\"1\" class=\"dataframe\">\n",
              "  <thead>\n",
              "    <tr style=\"text-align: right;\">\n",
              "      <th></th>\n",
              "      <th>image_id</th>\n",
              "      <th>dino</th>\n",
              "    </tr>\n",
              "  </thead>\n",
              "  <tbody>\n",
              "    <tr>\n",
              "      <th>0</th>\n",
              "      <td>397133</td>\n",
              "      <td>{'boxes': [[0.049877457320690155, 0.8039787411...</td>\n",
              "    </tr>\n",
              "    <tr>\n",
              "      <th>1</th>\n",
              "      <td>37777</td>\n",
              "      <td>{'boxes': [[0.8468257784843445, 0.278243213891...</td>\n",
              "    </tr>\n",
              "    <tr>\n",
              "      <th>2</th>\n",
              "      <td>252219</td>\n",
              "      <td>{'boxes': [[0.790980875492096, 0.4010539650917...</td>\n",
              "    </tr>\n",
              "    <tr>\n",
              "      <th>3</th>\n",
              "      <td>87038</td>\n",
              "      <td>{'boxes': [[0.39683473110198975, 0.46433973312...</td>\n",
              "    </tr>\n",
              "    <tr>\n",
              "      <th>4</th>\n",
              "      <td>174482</td>\n",
              "      <td>{'boxes': [[0.3026779592037201, 0.028677880764...</td>\n",
              "    </tr>\n",
              "    <tr>\n",
              "      <th>...</th>\n",
              "      <td>...</td>\n",
              "      <td>...</td>\n",
              "    </tr>\n",
              "    <tr>\n",
              "      <th>99</th>\n",
              "      <td>544519</td>\n",
              "      <td>{'boxes': [[0.2790755033493042, 0.584424138069...</td>\n",
              "    </tr>\n",
              "    <tr>\n",
              "      <th>100</th>\n",
              "      <td>96493</td>\n",
              "      <td>{'boxes': [[0.2622336447238922, 0.001933038234...</td>\n",
              "    </tr>\n",
              "    <tr>\n",
              "      <th>101</th>\n",
              "      <td>23899</td>\n",
              "      <td>{'boxes': [[0.0013131499290466309, 0.073289811...</td>\n",
              "    </tr>\n",
              "    <tr>\n",
              "      <th>102</th>\n",
              "      <td>340175</td>\n",
              "      <td>{'boxes': [[0.6675552129745483, 0.446382582187...</td>\n",
              "    </tr>\n",
              "    <tr>\n",
              "      <th>103</th>\n",
              "      <td>578500</td>\n",
              "      <td>{'boxes': [[0.49821174144744873, 0.51897251605...</td>\n",
              "    </tr>\n",
              "  </tbody>\n",
              "</table>\n",
              "<p>104 rows × 2 columns</p>\n",
              "</div>\n",
              "      <button class=\"colab-df-convert\" onclick=\"convertToInteractive('df-2b50d034-3196-40df-9a50-5977f03483ac')\"\n",
              "              title=\"Convert this dataframe to an interactive table.\"\n",
              "              style=\"display:none;\">\n",
              "        \n",
              "  <svg xmlns=\"http://www.w3.org/2000/svg\" height=\"24px\"viewBox=\"0 0 24 24\"\n",
              "       width=\"24px\">\n",
              "    <path d=\"M0 0h24v24H0V0z\" fill=\"none\"/>\n",
              "    <path d=\"M18.56 5.44l.94 2.06.94-2.06 2.06-.94-2.06-.94-.94-2.06-.94 2.06-2.06.94zm-11 1L8.5 8.5l.94-2.06 2.06-.94-2.06-.94L8.5 2.5l-.94 2.06-2.06.94zm10 10l.94 2.06.94-2.06 2.06-.94-2.06-.94-.94-2.06-.94 2.06-2.06.94z\"/><path d=\"M17.41 7.96l-1.37-1.37c-.4-.4-.92-.59-1.43-.59-.52 0-1.04.2-1.43.59L10.3 9.45l-7.72 7.72c-.78.78-.78 2.05 0 2.83L4 21.41c.39.39.9.59 1.41.59.51 0 1.02-.2 1.41-.59l7.78-7.78 2.81-2.81c.8-.78.8-2.07 0-2.86zM5.41 20L4 18.59l7.72-7.72 1.47 1.35L5.41 20z\"/>\n",
              "  </svg>\n",
              "      </button>\n",
              "      \n",
              "  <style>\n",
              "    .colab-df-container {\n",
              "      display:flex;\n",
              "      flex-wrap:wrap;\n",
              "      gap: 12px;\n",
              "    }\n",
              "\n",
              "    .colab-df-convert {\n",
              "      background-color: #E8F0FE;\n",
              "      border: none;\n",
              "      border-radius: 50%;\n",
              "      cursor: pointer;\n",
              "      display: none;\n",
              "      fill: #1967D2;\n",
              "      height: 32px;\n",
              "      padding: 0 0 0 0;\n",
              "      width: 32px;\n",
              "    }\n",
              "\n",
              "    .colab-df-convert:hover {\n",
              "      background-color: #E2EBFA;\n",
              "      box-shadow: 0px 1px 2px rgba(60, 64, 67, 0.3), 0px 1px 3px 1px rgba(60, 64, 67, 0.15);\n",
              "      fill: #174EA6;\n",
              "    }\n",
              "\n",
              "    [theme=dark] .colab-df-convert {\n",
              "      background-color: #3B4455;\n",
              "      fill: #D2E3FC;\n",
              "    }\n",
              "\n",
              "    [theme=dark] .colab-df-convert:hover {\n",
              "      background-color: #434B5C;\n",
              "      box-shadow: 0px 1px 3px 1px rgba(0, 0, 0, 0.15);\n",
              "      filter: drop-shadow(0px 1px 2px rgba(0, 0, 0, 0.3));\n",
              "      fill: #FFFFFF;\n",
              "    }\n",
              "  </style>\n",
              "\n",
              "      <script>\n",
              "        const buttonEl =\n",
              "          document.querySelector('#df-2b50d034-3196-40df-9a50-5977f03483ac button.colab-df-convert');\n",
              "        buttonEl.style.display =\n",
              "          google.colab.kernel.accessAllowed ? 'block' : 'none';\n",
              "\n",
              "        async function convertToInteractive(key) {\n",
              "          const element = document.querySelector('#df-2b50d034-3196-40df-9a50-5977f03483ac');\n",
              "          const dataTable =\n",
              "            await google.colab.kernel.invokeFunction('convertToInteractive',\n",
              "                                                     [key], {});\n",
              "          if (!dataTable) return;\n",
              "\n",
              "          const docLinkHtml = 'Like what you see? Visit the ' +\n",
              "            '<a target=\"_blank\" href=https://colab.research.google.com/notebooks/data_table.ipynb>data table notebook</a>'\n",
              "            + ' to learn more about interactive tables.';\n",
              "          element.innerHTML = '';\n",
              "          dataTable['output_type'] = 'display_data';\n",
              "          await google.colab.output.renderOutput(dataTable, element);\n",
              "          const docLink = document.createElement('div');\n",
              "          docLink.innerHTML = docLinkHtml;\n",
              "          element.appendChild(docLink);\n",
              "        }\n",
              "      </script>\n",
              "    </div>\n",
              "  </div>\n",
              "  "
            ]
          },
          "metadata": {},
          "execution_count": 18
        }
      ],
      "source": [
        "from lance.pytorch import Dataset\n",
        "import torchvision.transforms as T\n",
        "import pandas as pd\n",
        "\n",
        "transform = T.Compose([\n",
        "    T.Resize(400),\n",
        "    T.ToTensor(),\n",
        "    T.Normalize([0.485, 0.456, 0.406], [0.229, 0.224, 0.225])\n",
        "])\n",
        "\n",
        "THRESHOLD = 0.5\n",
        "\n",
        "dataset = Dataset(\n",
        "  \"/tmp/coco_val.lance\",\n",
        "  columns=[\"image\", \"image_id\"],\n",
        "  mode=\"batch\",\n",
        "  batch_size=8\n",
        ")\n",
        "results = []\n",
        "with torch.no_grad():\n",
        "  for batch in dataset:\n",
        "    image_ids = batch[1].cpu()\n",
        "    imgs = [transform(img).cuda() for img in batch[0]]\n",
        "    # print(batch, batch.shape)\n",
        "    output = model(imgs)\n",
        "    output = postprocessors['bbox'](\n",
        "        output, torch.Tensor([[1.0, 1.0]] * len(imgs)).cuda())\n",
        "    for image_id, out in zip(image_ids, output):\n",
        "      mask = out[\"scores\"] > THRESHOLD\n",
        "      pred = {\n",
        "          \"image_id\": image_id.item(),\n",
        "          \"dino\": {\n",
        "            \"boxes\": out[\"boxes\"][mask].cpu().tolist(),\n",
        "            \"labels\": out[\"labels\"][mask].cpu().tolist(),\n",
        "            \"scores\": out[\"scores\"][mask].cpu().tolist(),\n",
        "          }\n",
        "      }\n",
        "      results.append(pred)\n",
        "    del imgs, output\n",
        "    if len(results) > 100:\n",
        "      break\n",
        "\n",
        "df = pd.DataFrame(data=results)\n",
        "df"
      ]
    },
    {
      "cell_type": "markdown",
      "source": [
        "# We can now add the dino inferene results into the dataset for later reference"
      ],
      "metadata": {
        "id": "t9Vsy-KQBaFf"
      }
    },
    {
      "cell_type": "code",
      "source": [
        "# We can now add the dino inferene results into the dataset for later reference\n",
        "\n",
        "import pyarrow as pa\n",
        "\n",
        "table = pa.Table.from_pandas(\n",
        "    df, \n",
        "    schema=pa.schema([\n",
        "        pa.field(\"image_id\", pa.int64()), \n",
        "        pa.field(\"dino\", pa.struct([\n",
        "            pa.field(\"boxes\", pa.list_(pa.list_(pa.float32(), 4))),\n",
        "            pa.field(\"labels\", pa.list_(pa.int8())),\n",
        "            pa.field(\"scores\", pa.list_(pa.float32())),\n",
        "        ])),\n",
        "    ]),\n",
        ")\n",
        "\n",
        "# TODO: expose merge via PyTorch dataset?\n",
        "dataset._dataset.merge(table, left_on=\"image_id\", right_on=\"image_id\")"
      ],
      "metadata": {
        "colab": {
          "base_uri": "https://localhost:8080/"
        },
        "id": "Pa4he6ckBQCh",
        "outputId": "dca0d014-af74-45e5-d139-838a8bfa0e9b"
      },
      "execution_count": 24,
      "outputs": [
        {
          "output_type": "execute_result",
          "data": {
            "text/plain": [
              "<lance.lib.FileSystemDataset at 0x7efd6256ce70>"
            ]
          },
          "metadata": {},
          "execution_count": 24
        }
      ]
    },
    {
      "cell_type": "code",
      "source": [
        "import lance, duckdb\n",
        "\n",
        "dataset = lance.dataset(\"/tmp/coco_val.lance\")\n",
        "print(\"Dataset version: \", dataset.version)\n",
        "\n",
        "dataset.schema"
      ],
      "metadata": {
        "id": "qOUaCqA3Fyif",
        "outputId": "f69ac9b0-36f0-4a88-858a-c62a7dfc1be8",
        "colab": {
          "base_uri": "https://localhost:8080/"
        }
      },
      "execution_count": 29,
      "outputs": [
        {
          "output_type": "stream",
          "name": "stdout",
          "text": [
            "Dataset version:  {'version': 2, 'timestamp': datetime.datetime(2022, 12, 7, 19, 36, 25)}\n"
          ]
        },
        {
          "output_type": "execute_result",
          "data": {
            "text/plain": [
              "license: int64\n",
              "file_name: string\n",
              "coco_url: extension<image[uri]<ImageUriType>>\n",
              "height: int16\n",
              "width: int16\n",
              "date_captured: timestamp[ns]\n",
              "flickr_url: extension<image[uri]<ImageUriType>>\n",
              "image_id: int64\n",
              "split: dictionary<values=string, indices=int8, ordered=0>\n",
              "image_uri: extension<image[uri]<ImageUriType>>\n",
              "annotations: struct<segmentation: list<item: struct<counts: list<item: int32>, polygon: list<item: list<item: float>>, size: list<item: int32>>>, area: list<item: double>, iscrowd: list<item: bool>, bbox: list<item: fixed_size_list<item: float>[4]>, category_id: list<item: int16>, id: list<item: int64>, supercategory: list<item: string>, name: list<item: string>>\n",
              "  child 0, segmentation: list<item: struct<counts: list<item: int32>, polygon: list<item: list<item: float>>, size: list<item: int32>>>\n",
              "      child 0, item: struct<counts: list<item: int32>, polygon: list<item: list<item: float>>, size: list<item: int32>>\n",
              "          child 0, counts: list<item: int32>\n",
              "              child 0, item: int32\n",
              "          child 1, polygon: list<item: list<item: float>>\n",
              "              child 0, item: list<item: float>\n",
              "                  child 0, item: float\n",
              "          child 2, size: list<item: int32>\n",
              "              child 0, item: int32\n",
              "  child 1, area: list<item: double>\n",
              "      child 0, item: double\n",
              "  child 2, iscrowd: list<item: bool>\n",
              "      child 0, item: bool\n",
              "  child 3, bbox: list<item: fixed_size_list<item: float>[4]>\n",
              "      child 0, item: fixed_size_list<item: float>[4]\n",
              "          child 0, item: float\n",
              "  child 4, category_id: list<item: int16>\n",
              "      child 0, item: int16\n",
              "  child 5, id: list<item: int64>\n",
              "      child 0, item: int64\n",
              "  child 6, supercategory: list<item: string>\n",
              "      child 0, item: string\n",
              "  child 7, name: list<item: string>\n",
              "      child 0, item: string\n",
              "image: extension<image[binary]<ImageBinaryType>>\n",
              "dino: struct<boxes: list<item: fixed_size_list<item: float>[4]>, labels: list<item: int8>, scores: list<item: float>>\n",
              "  child 0, boxes: list<item: fixed_size_list<item: float>[4]>\n",
              "      child 0, item: fixed_size_list<item: float>[4]\n",
              "          child 0, item: float\n",
              "  child 1, labels: list<item: int8>\n",
              "      child 0, item: int8\n",
              "  child 2, scores: list<item: float>\n",
              "      child 0, item: float"
            ]
          },
          "metadata": {},
          "execution_count": 29
        }
      ]
    }
  ],
  "metadata": {
    "accelerator": "GPU",
    "colab": {
      "collapsed_sections": [
        "bj2GEDTCvW1D"
      ],
      "provenance": []
    },
    "gpuClass": "standard",
    "kernelspec": {
      "display_name": "Python 3 (ipykernel)",
      "language": "python",
      "name": "python3"
    },
    "language_info": {
      "codemirror_mode": {
        "name": "ipython",
        "version": 3
      },
      "file_extension": ".py",
      "mimetype": "text/x-python",
      "name": "python",
      "nbconvert_exporter": "python",
      "pygments_lexer": "ipython3",
      "version": "3.10.6"
    }
  },
  "nbformat": 4,
  "nbformat_minor": 0
}