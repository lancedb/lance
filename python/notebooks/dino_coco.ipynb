{
  "cells": [
    {
      "cell_type": "markdown",
      "metadata": {
        "id": "XB-jitxQsQuj"
      },
      "source": [
        "# DINO: DETR with Improved DeNoising Anchor Boxes for End-to-End Object Detection\n",
        "\n",
        "https://github.com/IDEA-Research/DINO\n",
        "\n",
        "[Papers With Code Link](https://paperswithcode.com/paper/focal-modulation-networks)"
      ]
    },
    {
      "cell_type": "markdown",
      "metadata": {
        "id": "bj2GEDTCvW1D"
      },
      "source": [
        "## Build and install [DINO](https://github.com/IDEA-Research/DINO) Model.\n",
        "\n",
        "DINO model requires building CUDA ops. After this step, we need to ***restart the runtime***."
      ]
    },
    {
      "cell_type": "code",
      "execution_count": null,
      "metadata": {
        "colab": {
          "base_uri": "https://localhost:8080/"
        },
        "id": "eCFwh-_AtGqR",
        "outputId": "aff0514a-4b14-49e9-9711-75b77e1e17ad"
      },
      "outputs": [
        {
          "output_type": "stream",
          "name": "stdout",
          "text": [
            "Already up to date.\n"
          ]
        }
      ],
      "source": [
        "!git -C DINO pull || git clone https://github.com/IDEACVR/DINO\n",
        "!cd DINO \\\n",
        "  && pip install --quiet -r requirements.txt \\\n",
        "  && cd models/dino/ops \\\n",
        "  && python setup.py -q build install\n"
      ]
    },
    {
      "cell_type": "code",
      "execution_count": null,
      "metadata": {
        "id": "RgFU4gGiroou"
      },
      "outputs": [],
      "source": [
        "!pip install --quiet -U pylance duckdb torch torchvision transforms numpy pyarrow"
      ]
    },
    {
      "cell_type": "code",
      "execution_count": null,
      "metadata": {
        "id": "zL2g1T-lveXO"
      },
      "outputs": [],
      "source": [
        "# See https://github.com/IDEA-Research/DINO/blob/main/inference_and_visualization.ipynb\n",
        "# for instruction to load model\n",
        "from util.slconfig import SLConfig\n",
        "from main import build_model_main\n",
        "model_config_path = \"DINO/config/DINO/DINO_4scale.py\"\n",
        "\n",
        "args = SLConfig.fromfile(model_config_path) \n",
        "args.device = 'cuda' \n",
        "model, criterion, postprocessors = build_model_main(args)"
      ]
    },
    {
      "cell_type": "code",
      "execution_count": null,
      "metadata": {
        "id": "27ah_AGcxHS5"
      },
      "outputs": [],
      "source": [
        "# Downloads weights\n",
        "\n",
        "# Download DINO-4scale weights\n",
        "! [[ -f /tmp/model.pt ]] || gsutil cp gs://eto-public/models/dino/checkpoint0033_4scale.pth /tmp/model.pt\n",
        "import torch\n",
        "model_checkpoint_path = \"/tmp/model.pt\"\n",
        "checkpoint = torch.load(model_checkpoint_path)\n",
        "model.load_state_dict(checkpoint['model'])\n",
        "_ = model.cuda().eval()"
      ]
    },
    {
      "cell_type": "markdown",
      "metadata": {
        "id": "xxfGl-V6xeqS"
      },
      "source": [
        "## Prepare COCO validation dataset"
      ]
    },
    {
      "cell_type": "code",
      "execution_count": null,
      "metadata": {
        "id": "LUEmksJKIP4b"
      },
      "outputs": [],
      "source": [
        "! gsutil cp gs://eto-public/datasets/coco/coco_val.lance.tar.gz /tmp/\n",
        "! tar -C /tmp -xzf /tmp/coco_val.lance.tar.gz && rm /tmp/coco_val.lance.tar.gz"
      ]
    },
    {
      "cell_type": "code",
      "execution_count": null,
      "metadata": {
        "id": "p66vbzcW5uhO"
      },
      "outputs": [],
      "source": [
        "from lance.pytorch import Dataset\n",
        "import torchvision.transforms as T\n",
        "import pandas as pd\n",
        "\n",
        "transform = T.Compose([\n",
        "    T.Resize(400),\n",
        "    T.ToTensor(),\n",
        "    T.Normalize([0.485, 0.456, 0.406], [0.229, 0.224, 0.225])\n",
        "])\n",
        "\n",
        "THRESHOLD = 0.5\n",
        "\n",
        "dataset = Dataset(\n",
        "  \"/tmp/coco_val.lance\",\n",
        "  columns=[\"image\", \"image_id\"],\n",
        "  mode=\"batch\",\n",
        "  batch_size=8\n",
        ")\n",
        "results = []\n",
        "with torch.no_grad():\n",
        "  for batch in dataset:\n",
        "    image_ids = batch[1].cpu()\n",
        "    imgs = [transform(img).cuda() for img in batch[0]]\n",
        "    # print(batch, batch.shape)\n",
        "    output = model(imgs)\n",
        "    output = postprocessors['bbox'](\n",
        "        output, torch.Tensor([[1.0, 1.0]] * len(imgs)).cuda())\n",
        "    for image_id, out in zip(image_ids, output):\n",
        "      mask = out[\"scores\"] > THRESHOLD\n",
        "      pred = {\n",
        "          \"image_id\": image_id.item(),\n",
        "          \"dino\": {\n",
        "            \"boxes\": out[\"boxes\"][mask].cpu().numpy(),\n",
        "            \"labels\": out[\"labels\"][mask].cpu().numpy(),\n",
        "            \"scores\": out[\"scores\"][mask].cpu().numpy(),\n",
        "          }\n",
        "      }\n",
        "      del imgs, output\n",
        "      results.append(pred)\n",
        "del model\n",
        "\n",
        "df = pd.DataFrame(data=results)\n",
        "df"
      ]
    },
    {
      "cell_type": "markdown",
      "source": [
        "# We can now add the dino inferene results into the dataset for later reference"
      ],
      "metadata": {
        "id": "t9Vsy-KQBaFf"
      }
    },
    {
      "cell_type": "code",
      "source": [
        "!pip install -U numpy pyarrow"
      ],
      "metadata": {
        "id": "CAKfy0GWCn_s"
      },
      "execution_count": null,
      "outputs": []
    },
    {
      "cell_type": "code",
      "source": [
        "# We can now add the dino inferene results into the dataset for later reference\n",
        "\n",
        "import pyarrow as pa\n",
        "table = pa.Table.from_pandas(\n",
        "    df, \n",
        "    schema=pa.schema([\n",
        "        pa.field(\"image_id\", pa.int64()), \n",
        "        pa.field(\"dino\", pa.struct([\n",
        "            pa.field(\"boxes\", pa.list_(pa.list_(pa.float32(), 4))),\n",
        "            pa.field(\"labels\", pa.list_(pa.utf8())),\n",
        "        ])),\n",
        "    ]),\n",
        ")\n",
        "table"
      ],
      "metadata": {
        "id": "Pa4he6ckBQCh"
      },
      "execution_count": null,
      "outputs": []
    }
  ],
  "metadata": {
    "accelerator": "GPU",
    "colab": {
      "collapsed_sections": [
        "bj2GEDTCvW1D"
      ],
      "provenance": []
    },
    "gpuClass": "standard",
    "kernelspec": {
      "display_name": "Python 3 (ipykernel)",
      "language": "python",
      "name": "python3"
    },
    "language_info": {
      "codemirror_mode": {
        "name": "ipython",
        "version": 3
      },
      "file_extension": ".py",
      "mimetype": "text/x-python",
      "name": "python",
      "nbconvert_exporter": "python",
      "pygments_lexer": "ipython3",
      "version": "3.10.6"
    }
  },
  "nbformat": 4,
  "nbformat_minor": 0
}