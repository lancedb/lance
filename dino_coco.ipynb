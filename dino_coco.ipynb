{
  "nbformat": 4,
  "nbformat_minor": 0,
  "metadata": {
    "colab": {
      "provenance": [],
      "authorship_tag": "ABX9TyPotr23ohCBl5/cDCOK+jPF",
      "include_colab_link": true
    },
    "kernelspec": {
      "name": "python3",
      "display_name": "Python 3"
    },
    "language_info": {
      "name": "python"
    },
    "accelerator": "GPU",
    "gpuClass": "standard"
  },
  "cells": [
    {
      "cell_type": "markdown",
      "metadata": {
        "id": "view-in-github",
        "colab_type": "text"
      },
      "source": [
        "<a href=\"https://colab.research.google.com/github/eto-ai/lance/blob/lei%2Fdino_coco/dino_coco.ipynb\" target=\"_parent\"><img src=\"https://colab.research.google.com/assets/colab-badge.svg\" alt=\"Open In Colab\"/></a>"
      ]
    },
    {
      "cell_type": "markdown",
      "source": [
        "# DINO: DETR with Improved DeNoising Anchor Boxes for End-to-End Object Detection\n",
        "\n",
        "https://github.com/IDEA-Research/DINO\n",
        "\n",
        "[Papers With Code Link](https://paperswithcode.com/paper/focal-modulation-networks)"
      ],
      "metadata": {
        "id": "XB-jitxQsQuj"
      }
    },
    {
      "cell_type": "code",
      "execution_count": 21,
      "metadata": {
        "id": "RgFU4gGiroou"
      },
      "outputs": [],
      "source": [
        "!pip install --quiet pylance duckdb torch torchvision transforms"
      ]
    },
    {
      "cell_type": "markdown",
      "source": [
        "## Build and install [DINO]() Model"
      ],
      "metadata": {
        "id": "bj2GEDTCvW1D"
      }
    },
    {
      "cell_type": "code",
      "source": [
        "!git -C DINO pull || git clone https://github.com/IDEACVR/DINO\n",
        "%cd DINO\n",
        "\n",
        "!pip install --quiet -r requirements.txt \\\n",
        "  && cd models/dino/ops \\\n",
        "  && python setup.py -q build install"
      ],
      "metadata": {
        "colab": {
          "base_uri": "https://localhost:8080/"
        },
        "id": "eCFwh-_AtGqR",
        "outputId": "494fd141-17f1-4b20-c75a-b95fcb9e26ee"
      },
      "execution_count": null,
      "outputs": [
        {
          "output_type": "stream",
          "name": "stdout",
          "text": [
            "Already up to date.\n",
            "/content/DINO\n",
            "/usr/local/lib/python3.8/dist-packages/torch/utils/cpp_extension.py:411: UserWarning: Attempted to use ninja as the BuildExtension backend but we could not find ninja.. Falling back to using the slow distutils backend.\n",
            "  warnings.warn(msg.format('we could not find ninja.'))\n",
            "/usr/local/lib/python3.8/dist-packages/torch/utils/cpp_extension.py:813: UserWarning: The detected CUDA version (11.2) has a minor version mismatch with the version that was used to compile PyTorch (11.3). Most likely this shouldn't be a problem.\n",
            "  warnings.warn(CUDA_MISMATCH_WARN.format(cuda_str_version, torch.version.cuda))\n",
            "zip_safe flag not set; analyzing archive contents...\n",
            "__pycache__.MultiScaleDeformableAttention.cpython-38: module references __file__\n"
          ]
        }
      ]
    },
    {
      "cell_type": "code",
      "source": [
        "# See https://github.com/IDEA-Research/DINO/blob/main/inference_and_visualization.ipynb\n",
        "# for instruction to load model\n",
        "from util.slconfig import SLConfig\n",
        "from main import build_model_main\n",
        "model_config_path = \"config/DINO/DINO_4scale.py\"\n",
        "\n",
        "args = SLConfig.fromfile(model_config_path) \n",
        "args.device = 'cuda' \n",
        "model, criterion, postprocessors = build_model_main(args)"
      ],
      "metadata": {
        "colab": {
          "base_uri": "https://localhost:8080/"
        },
        "id": "zL2g1T-lveXO",
        "outputId": "08d51393-d5e1-49ab-9693-1f8eed9189f0"
      },
      "execution_count": null,
      "outputs": [
        {
          "output_type": "stream",
          "name": "stderr",
          "text": [
            "/usr/local/lib/python3.8/dist-packages/torchvision/models/_utils.py:208: UserWarning: The parameter 'pretrained' is deprecated since 0.13 and will be removed in 0.15, please use 'weights' instead.\n",
            "  warnings.warn(\n",
            "/usr/local/lib/python3.8/dist-packages/torchvision/models/_utils.py:223: UserWarning: Arguments other than a weight enum or `None` for 'weights' are deprecated since 0.13 and will be removed in 0.15. The current behavior is equivalent to passing `weights=ResNet50_Weights.IMAGENET1K_V1`. You can also use `weights=ResNet50_Weights.DEFAULT` to get the most up-to-date weights.\n",
            "  warnings.warn(msg)\n"
          ]
        }
      ]
    },
    {
      "cell_type": "code",
      "source": [],
      "metadata": {
        "id": "5VQxToPC4tfN"
      },
      "execution_count": null,
      "outputs": []
    },
    {
      "cell_type": "code",
      "source": [
        "# Downloads weights\n",
        "\n",
        "# Download DINO-4scale weights\n",
        "! [[ -f /tmp/model.pt ]] || gsutil cp gs://eto-public/models/dino/checkpoint0033_4scale.pth /tmp/model.pt\n",
        "import torch\n",
        "model_checkpoint_path = \"/tmp/model.pt\"\n",
        "checkpoint = torch.load(model_checkpoint_path)\n",
        "model.load_state_dict(checkpoint['model'])\n",
        "_ = model.cuda().eval()"
      ],
      "metadata": {
        "id": "27ah_AGcxHS5"
      },
      "execution_count": null,
      "outputs": []
    },
    {
      "cell_type": "markdown",
      "source": [],
      "metadata": {
        "id": "xxfGl-V6xeqS"
      }
    },
    {
      "cell_type": "code",
      "source": [
        "!df -h"
      ],
      "metadata": {
        "colab": {
          "base_uri": "https://localhost:8080/"
        },
        "id": "e1kIOvcR2RxT",
        "outputId": "16c73222-c73e-4af2-bbf9-f08273b3317d"
      },
      "execution_count": 19,
      "outputs": [
        {
          "output_type": "stream",
          "name": "stdout",
          "text": [
            "Filesystem      Size  Used Avail Use% Mounted on\n",
            "overlay          79G   24G   55G  31% /\n",
            "tmpfs            64M     0   64M   0% /dev\n",
            "shm             5.7G     0  5.7G   0% /dev/shm\n",
            "/dev/root       2.0G  1.1G  910M  54% /sbin/docker-init\n",
            "tmpfs           6.4G   52K  6.4G   1% /var/colab\n",
            "/dev/sda1        75G   41G   35G  55% /opt/bin/.nvidia\n",
            "tmpfs           6.4G     0  6.4G   0% /proc/acpi\n",
            "tmpfs           6.4G     0  6.4G   0% /proc/scsi\n",
            "tmpfs           6.4G     0  6.4G   0% /sys/firmware\n"
          ]
        }
      ]
    },
    {
      "cell_type": "code",
      "source": [
        "from lance.pytorch import Dataset\n",
        "import torchvision.transforms as T\n",
        "\n",
        "transform = T.Compose([\n",
        "    T.Resize(800),\n",
        "    T.ToTensor(),\n",
        "    T.Normalize([0.485, 0.456, 0.406], [0.229, 0.224, 0.225])\n",
        "])\n",
        "dataset = Dataset(\n",
        "    \"s3://eto-public/datasets/coco/coco.lance\",\n",
        "    columns=[\"image\", \"split\"])\n",
        "for batch in dataset:\n",
        "  batch = transform(batch[0]).cuda()\n",
        "  print(batch, batch.shape)\n",
        "  output = model([batch])\n",
        "  output = postprocessors['bbox'](output, torch.Tensor([[1.0, 1.0]]).cuda())[0]\n",
        "\n",
        "  print(output)\n",
        "  break"
      ],
      "metadata": {
        "colab": {
          "base_uri": "https://localhost:8080/"
        },
        "id": "p66vbzcW5uhO",
        "outputId": "df009480-c1b3-4406-e240-793612c0273c"
      },
      "execution_count": 30,
      "outputs": [
        {
          "output_type": "stream",
          "name": "stdout",
          "text": [
            "tensor([[[ 2.2489,  2.2489,  2.2489,  ...,  2.2489,  2.2489,  2.2489],\n",
            "         [ 2.2489,  2.2489,  2.2489,  ...,  2.2489,  2.2489,  2.2489],\n",
            "         [ 2.2489,  2.2489,  2.2489,  ...,  2.2489,  2.2489,  2.2489],\n",
            "         ...,\n",
            "         [ 1.1700,  1.0844,  0.8789,  ..., -1.0048, -1.0219, -1.0219],\n",
            "         [ 0.9646,  0.9988,  1.0844,  ..., -1.1075, -1.0904, -1.0733],\n",
            "         [ 0.8961,  0.9646,  1.1700,  ..., -1.1418, -1.1075, -1.0904]],\n",
            "\n",
            "        [[ 2.4286,  2.4286,  2.4286,  ...,  2.4286,  2.4286,  2.4286],\n",
            "         [ 2.4286,  2.4286,  2.4286,  ...,  2.4286,  2.4286,  2.4286],\n",
            "         [ 2.4286,  2.4286,  2.4286,  ...,  2.4286,  2.4286,  2.4286],\n",
            "         ...,\n",
            "         [ 0.7829,  0.7129,  0.5028,  ..., -0.5476, -0.4426, -0.4251],\n",
            "         [ 0.7304,  0.7654,  0.8354,  ..., -0.6702, -0.6176, -0.5826],\n",
            "         [ 0.7129,  0.7829,  0.9755,  ..., -0.7227, -0.6702, -0.6527]],\n",
            "\n",
            "        [[ 2.6400,  2.6400,  2.6400,  ...,  2.6400,  2.6400,  2.6400],\n",
            "         [ 2.6400,  2.6400,  2.6400,  ...,  2.6400,  2.6400,  2.6400],\n",
            "         [ 2.6400,  2.6400,  2.6400,  ...,  2.6400,  2.6400,  2.6400],\n",
            "         ...,\n",
            "         [ 0.5136,  0.4091,  0.1302,  ..., -1.3513, -1.4559, -1.5081],\n",
            "         [ 0.4091,  0.3916,  0.3219,  ..., -1.3513, -1.3861, -1.4210],\n",
            "         [ 0.3742,  0.3916,  0.4091,  ..., -1.3513, -1.3687, -1.3861]]],\n",
            "       device='cuda:0') torch.Size([3, 800, 1422])\n",
            "{'scores': tensor([0.8676, 0.8174, 0.7199, 0.3008, 0.2656, 0.2081, 0.2018, 0.1944, 0.1865,\n",
            "        0.1754, 0.1691, 0.1640, 0.1450, 0.1416, 0.1397, 0.1360, 0.1296, 0.1254,\n",
            "        0.1223, 0.1212, 0.1189, 0.1082, 0.1059, 0.1020, 0.1014, 0.1002, 0.0974,\n",
            "        0.0939, 0.0906, 0.0895, 0.0892, 0.0886, 0.0852, 0.0848, 0.0820, 0.0800,\n",
            "        0.0791, 0.0790, 0.0783, 0.0768, 0.0765, 0.0747, 0.0744, 0.0694, 0.0674,\n",
            "        0.0653, 0.0643, 0.0639, 0.0629, 0.0614, 0.0612, 0.0608, 0.0607, 0.0601,\n",
            "        0.0601, 0.0596, 0.0594, 0.0590, 0.0574, 0.0569, 0.0564, 0.0563, 0.0557,\n",
            "        0.0556, 0.0554, 0.0553, 0.0538, 0.0533, 0.0532, 0.0529, 0.0526, 0.0526,\n",
            "        0.0524, 0.0521, 0.0521, 0.0519, 0.0518, 0.0511, 0.0494, 0.0488, 0.0485,\n",
            "        0.0481, 0.0468, 0.0468, 0.0467, 0.0461, 0.0456, 0.0453, 0.0452, 0.0449,\n",
            "        0.0447, 0.0447, 0.0443, 0.0439, 0.0438, 0.0435, 0.0431, 0.0431, 0.0430,\n",
            "        0.0430, 0.0428, 0.0426, 0.0425, 0.0422, 0.0412, 0.0412, 0.0405, 0.0403,\n",
            "        0.0394, 0.0394, 0.0393, 0.0391, 0.0388, 0.0388, 0.0388, 0.0388, 0.0382,\n",
            "        0.0378, 0.0376, 0.0374, 0.0374, 0.0373, 0.0372, 0.0372, 0.0372, 0.0370,\n",
            "        0.0370, 0.0368, 0.0366, 0.0364, 0.0364, 0.0359, 0.0358, 0.0358, 0.0358,\n",
            "        0.0358, 0.0354, 0.0352, 0.0351, 0.0351, 0.0348, 0.0346, 0.0344, 0.0344,\n",
            "        0.0343, 0.0334, 0.0330, 0.0326, 0.0326, 0.0324, 0.0321, 0.0319, 0.0317,\n",
            "        0.0316, 0.0314, 0.0313, 0.0312, 0.0312, 0.0311, 0.0310, 0.0309, 0.0307,\n",
            "        0.0307, 0.0305, 0.0301, 0.0300, 0.0298, 0.0298, 0.0297, 0.0297, 0.0297,\n",
            "        0.0297, 0.0296, 0.0294, 0.0291, 0.0290, 0.0290, 0.0290, 0.0290, 0.0290,\n",
            "        0.0290, 0.0289, 0.0289, 0.0288, 0.0287, 0.0287, 0.0286, 0.0284, 0.0284,\n",
            "        0.0282, 0.0282, 0.0280, 0.0280, 0.0279, 0.0277, 0.0276, 0.0275, 0.0275,\n",
            "        0.0274, 0.0274, 0.0273, 0.0273, 0.0271, 0.0270, 0.0268, 0.0267, 0.0265,\n",
            "        0.0265, 0.0264, 0.0263, 0.0262, 0.0262, 0.0262, 0.0262, 0.0262, 0.0261,\n",
            "        0.0261, 0.0260, 0.0259, 0.0258, 0.0258, 0.0257, 0.0256, 0.0254, 0.0254,\n",
            "        0.0254, 0.0254, 0.0252, 0.0252, 0.0252, 0.0251, 0.0251, 0.0251, 0.0250,\n",
            "        0.0249, 0.0248, 0.0247, 0.0247, 0.0247, 0.0247, 0.0245, 0.0244, 0.0244,\n",
            "        0.0244, 0.0243, 0.0243, 0.0241, 0.0241, 0.0240, 0.0240, 0.0240, 0.0239,\n",
            "        0.0239, 0.0239, 0.0238, 0.0237, 0.0236, 0.0235, 0.0235, 0.0234, 0.0234,\n",
            "        0.0234, 0.0234, 0.0234, 0.0234, 0.0233, 0.0233, 0.0232, 0.0232, 0.0232,\n",
            "        0.0232, 0.0232, 0.0231, 0.0230, 0.0230, 0.0230, 0.0230, 0.0228, 0.0228,\n",
            "        0.0227, 0.0227, 0.0227, 0.0227, 0.0226, 0.0225, 0.0225, 0.0224, 0.0224,\n",
            "        0.0224, 0.0223, 0.0223, 0.0223, 0.0223, 0.0222, 0.0222, 0.0221, 0.0221,\n",
            "        0.0219, 0.0217, 0.0217], device='cuda:0'), 'labels': tensor([ 1,  4,  1, 33,  4,  2,  1,  1, 62,  1,  3, 31, 27,  4, 33, 77, 31,  1,\n",
            "         1,  4,  1,  1,  1,  2,  3, 77,  1, 27, 27,  1, 15,  2, 31,  1,  1,  4,\n",
            "        15, 33, 64, 31,  3,  1, 31,  1,  1, 33, 33, 62,  2,  1,  3, 15,  4,  1,\n",
            "         4, 31,  1, 27,  1,  1,  1,  2,  1, 33,  1,  1,  1, 77,  1,  1, 31, 64,\n",
            "         4,  1,  1, 27, 27,  3, 27, 27,  1, 33, 62,  1,  1,  1,  1,  1,  2,  4,\n",
            "         1, 77,  2, 64, 15,  1,  1, 47, 27, 27,  1,  1, 19,  1,  1,  1,  1,  1,\n",
            "         4,  3, 31,  1,  3,  1, 31, 31, 27, 62,  3, 62, 33,  1,  1,  1,  1, 67,\n",
            "         3,  3, 10, 10,  1,  1,  1,  1, 31,  4, 33,  3, 62, 35,  1, 27,  4,  1,\n",
            "        19, 77,  1,  1,  2, 67,  2,  1,  1,  3, 31,  2,  2,  3,  3,  1,  3,  4,\n",
            "         1,  1,  4, 31,  2, 31,  1, 10,  4, 27,  3,  1,  3,  1,  1,  1,  1,  1,\n",
            "        62,  2,  2,  1,  4, 49,  3,  4,  3, 33,  4,  1,  4,  1,  2,  1,  1, 15,\n",
            "        62,  1,  1,  1,  1,  1,  3,  1, 27,  3, 15,  3,  1, 10,  1,  1,  4,  1,\n",
            "         1,  8, 77, 15,  1, 33,  1, 36,  1, 15,  1, 27,  3,  1,  1, 31,  1,  2,\n",
            "         3, 62,  1,  1,  3,  1,  3,  1, 31,  4,  4, 27, 15,  3,  1,  8, 47,  1,\n",
            "         1,  1,  1,  7, 31,  2,  2,  2, 31,  2, 77,  4,  1,  1, 31,  4,  1,  4,\n",
            "        15, 31, 62,  1, 77, 77, 72,  1,  1,  3,  1,  1,  3, 19,  1,  1,  1,  1,\n",
            "        31,  1,  1, 77,  1,  1,  1,  1,  4,  1,  2,  1], device='cuda:0'), 'boxes': tensor([[0.5400, 0.0623, 0.7734, 0.8992],\n",
            "        [0.5476, 0.3354, 0.7518, 0.9919],\n",
            "        [0.7377, 0.4806, 0.8070, 0.6141],\n",
            "        ...,\n",
            "        [0.1786, 0.4229, 0.1860, 0.4331],\n",
            "        [0.7293, 0.5633, 0.7426, 0.6188],\n",
            "        [0.0060, 0.3920, 0.0162, 0.4069]], device='cuda:0')}\n"
          ]
        },
        {
          "output_type": "stream",
          "name": "stderr",
          "text": [
            "/content/DINO/models/dino/dino.py:680: UserWarning: __floordiv__ is deprecated, and its behavior will change in a future version of pytorch. It currently rounds toward 0 (like the 'trunc' function NOT 'floor'). This results in incorrect rounding for negative values. To keep the current behavior, use torch.div(a, b, rounding_mode='trunc'), or for actual floor division, use torch.div(a, b, rounding_mode='floor').\n",
            "  topk_boxes = topk_indexes // out_logits.shape[2]\n"
          ]
        }
      ]
    }
  ]
}